{
 "cells": [
  {
   "cell_type": "markdown",
   "id": "de2228c2-1bbd-482a-bae8-aabc01356288",
   "metadata": {},
   "source": [
    "In this exercise, we will perform some basic text analytics on some given text data, including searching for a particular word, finding the index of a word, and finding a word at a given position."
   ]
  },
  {
   "cell_type": "code",
   "execution_count": 1,
   "id": "cd7bdd57-4f7e-4f94-a651-1d6a2b6c6c25",
   "metadata": {},
   "outputs": [
    {
     "data": {
      "text/plain": [
       "'The quick brown fox jumps over the lazy dog'"
      ]
     },
     "execution_count": 1,
     "metadata": {},
     "output_type": "execute_result"
    }
   ],
   "source": [
    "sentence = 'The quick brown fox jumps over the lazy dog'\n",
    "sentence"
   ]
  },
  {
   "cell_type": "code",
   "execution_count": 3,
   "id": "0542a6b0-4462-43c2-8ddb-ea09be2aca16",
   "metadata": {},
   "outputs": [
    {
     "data": {
      "text/plain": [
       "True"
      ]
     },
     "execution_count": 3,
     "metadata": {},
     "output_type": "execute_result"
    }
   ],
   "source": [
    "# Function to search for a word\n",
    "def find_word(word, sentence):\n",
    "    return word in sentence\n",
    "find_word('quick', sentence)"
   ]
  },
  {
   "cell_type": "code",
   "execution_count": 4,
   "id": "f0d02eac-fe53-4598-a71c-d7033dafb4a2",
   "metadata": {},
   "outputs": [
    {
     "data": {
      "text/plain": [
       "16"
      ]
     },
     "execution_count": 4,
     "metadata": {},
     "output_type": "execute_result"
    }
   ],
   "source": [
    "# Find index of word\n",
    "def get_index(word, text):\n",
    "    return text.index(word)\n",
    "get_index('fox', sentence)"
   ]
  },
  {
   "cell_type": "code",
   "execution_count": 7,
   "id": "2aa7a259-8735-4fa0-bb67-6ca4758d6edc",
   "metadata": {},
   "outputs": [
    {
     "data": {
      "text/plain": [
       "'brown'"
      ]
     },
     "execution_count": 7,
     "metadata": {},
     "output_type": "execute_result"
    }
   ],
   "source": [
    "# Find rank of word (rank is index after the split)\n",
    "def get_word(text, rank):\n",
    "    return text.split()[rank]\n",
    "get_word(sentence, 2)"
   ]
  },
  {
   "cell_type": "code",
   "execution_count": 8,
   "id": "542398a4-2980-433a-8804-b655e5d4a27e",
   "metadata": {},
   "outputs": [
    {
     "data": {
      "text/plain": [
       "'nworb'"
      ]
     },
     "execution_count": 8,
     "metadata": {},
     "output_type": "execute_result"
    }
   ],
   "source": [
    "# Print word of sentence in reverse order\n",
    "get_word(sentence, 2)[::-1]"
   ]
  },
  {
   "cell_type": "code",
   "execution_count": 9,
   "id": "22a36d1a-b1a9-49ee-9442-a56af66eeab6",
   "metadata": {},
   "outputs": [
    {
     "data": {
      "text/plain": [
       "'Thedog'"
      ]
     },
     "execution_count": 9,
     "metadata": {},
     "output_type": "execute_result"
    }
   ],
   "source": [
    "# Concatenate the first and last words of the given sentence\n",
    "def concat_words(text):\n",
    "    words = text.split()\n",
    "    first_word = words[0] # first index\n",
    "    last_word = words[len(words)-1] # last index\n",
    "    return first_word + last_word\n",
    "concat_words(sentence)"
   ]
  },
  {
   "cell_type": "code",
   "execution_count": 10,
   "id": "ad45d607-2074-4070-84bc-0019ac7d383e",
   "metadata": {},
   "outputs": [
    {
     "data": {
      "text/plain": [
       "['The', 'brown', 'jumps', 'the', 'dog']"
      ]
     },
     "execution_count": 10,
     "metadata": {},
     "output_type": "execute_result"
    }
   ],
   "source": [
    "# Print words at even points\n",
    "def get_even_position_words(text):\n",
    "    words = text.split()\n",
    "    return [words[i] for i in range(len(words)) if i%2 == 0]\n",
    "get_even_position_words(sentence)"
   ]
  },
  {
   "cell_type": "code",
   "execution_count": 13,
   "id": "7c570c38-ab0a-474e-b765-e5ece5c6cdf2",
   "metadata": {},
   "outputs": [
    {
     "data": {
      "text/plain": [
       "'dog'"
      ]
     },
     "execution_count": 13,
     "metadata": {},
     "output_type": "execute_result"
    }
   ],
   "source": [
    "# Print the last three letters of the text\n",
    "def get_last_n_letters(text, n):\n",
    "    return text[-n:]\n",
    "get_last_n_letters(sentence, 3)"
   ]
  },
  {
   "cell_type": "code",
   "execution_count": 14,
   "id": "bc7f71a6-a113-44af-9325-ceb501c1c189",
   "metadata": {},
   "outputs": [
    {
     "data": {
      "text/plain": [
       "'god yzal eht revo spmuj xof nworb kciuq ehT'"
      ]
     },
     "execution_count": 14,
     "metadata": {},
     "output_type": "execute_result"
    }
   ],
   "source": [
    "# Print the text in reverse order\n",
    "def get_reverse(text):\n",
    "    return text[::-1]\n",
    "get_reverse(sentence)"
   ]
  },
  {
   "cell_type": "code",
   "execution_count": 15,
   "id": "4e35d5d7-8836-4a41-9265-efd660f11225",
   "metadata": {},
   "outputs": [
    {
     "data": {
      "text/plain": [
       "'ehT kciuq nworb xof spmuj revo eht yzal god'"
      ]
     },
     "execution_count": 15,
     "metadata": {},
     "output_type": "execute_result"
    }
   ],
   "source": [
    "# Print each word in reverse order, mantaining sequence\n",
    "def get_word_reverse(text):\n",
    "    words = text.split()\n",
    "    return ' '.join([word[::-1] for word in words])\n",
    "get_word_reverse(sentence)"
   ]
  },
  {
   "cell_type": "code",
   "execution_count": null,
   "id": "962e3651-1eef-4657-9e70-f6d31dc110e0",
   "metadata": {},
   "outputs": [],
   "source": []
  }
 ],
 "metadata": {
  "kernelspec": {
   "display_name": "Python 3 (ipykernel)",
   "language": "python",
   "name": "python3"
  },
  "language_info": {
   "codemirror_mode": {
    "name": "ipython",
    "version": 3
   },
   "file_extension": ".py",
   "mimetype": "text/x-python",
   "name": "python",
   "nbconvert_exporter": "python",
   "pygments_lexer": "ipython3",
   "version": "3.9.5"
  }
 },
 "nbformat": 4,
 "nbformat_minor": 5
}

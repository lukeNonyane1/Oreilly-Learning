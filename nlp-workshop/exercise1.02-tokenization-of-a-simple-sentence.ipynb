{
 "cells": [
  {
   "cell_type": "markdown",
   "id": "d008035b-3f14-4422-bb23-5de3860ccf37",
   "metadata": {},
   "source": [
    "Exercise 1.02: Tokenization of a Simple Sentence\n",
    "In this exercise, we will tokenize the words in a given sentence with the help of the NLTK library. Follow these steps to implement this exercise using the sentence, \"I am reading NLP Fundamentals.\""
   ]
  },
  {
   "cell_type": "code",
   "execution_count": null,
   "id": "ad10ba90-dfe2-4c93-b8b2-60216e32a075",
   "metadata": {},
   "outputs": [],
   "source": []
  }
 ],
 "metadata": {
  "kernelspec": {
   "display_name": "Python 3 (ipykernel)",
   "language": "python",
   "name": "python3"
  },
  "language_info": {
   "codemirror_mode": {
    "name": "ipython",
    "version": 3
   },
   "file_extension": ".py",
   "mimetype": "text/x-python",
   "name": "python",
   "nbconvert_exporter": "python",
   "pygments_lexer": "ipython3",
   "version": "3.9.5"
  }
 },
 "nbformat": 4,
 "nbformat_minor": 5
}

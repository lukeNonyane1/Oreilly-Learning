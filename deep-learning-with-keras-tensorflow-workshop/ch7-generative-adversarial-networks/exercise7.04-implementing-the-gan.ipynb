{
 "cells": [
  {
   "cell_type": "markdown",
   "id": "cb95a33b-2a98-4754-946f-67a774518bc4",
   "metadata": {},
   "source": [
    "### Exercise 7.04: Implementing the GAN"
   ]
  },
  {
   "cell_type": "code",
   "execution_count": 1,
   "id": "5018d891-3d1c-4dc7-8649-df47826fbeb0",
   "metadata": {},
   "outputs": [],
   "source": [
    "import tensorflow as tf\n",
    "import numpy as np\n",
    "from numpy.random import randn\n",
    "from tensorflow.keras.models import Sequential\n",
    "from tensorflow.keras.layers import Dense\n",
    "import matplotlib.pyplot as plt"
   ]
  },
  {
   "cell_type": "code",
   "execution_count": null,
   "id": "46db24bd-5cc8-46c6-88fc-0ec992c0a239",
   "metadata": {},
   "outputs": [],
   "source": []
  },
  {
   "cell_type": "markdown",
   "id": "72550639-435b-4435-8424-d1dd29f540c3",
   "metadata": {
    "tags": []
   },
   "source": [
    "#### realData function"
   ]
  },
  {
   "cell_type": "code",
   "execution_count": 6,
   "id": "3f3434b3-1bc3-4f78-bafa-e4152088e043",
   "metadata": {},
   "outputs": [],
   "source": [
    "# Function to generate real samples\n",
    "def realData(loc,batch):\n",
    "    # loc is the random location or mean around which samples are centered\n",
    "    # Numbers to the right of loc\n",
    "    xr = np.arange(loc,loc+(0.1*batch/2),0.1)\n",
    "    xr = xr[0:int(batch/2)]\n",
    "    # Numbers to the left of loc\n",
    "    xl = np.arange(loc-(0.1*batch/2),loc,0.1)\n",
    "    # Concatenate both series\n",
    "    X1 = np.concatenate((xl,xr))\n",
    "    # Second dependent variable\n",
    "    X2 = np.sin(X1)\n",
    "    # Reshaping both variables and concatenating them into array of independent variables\n",
    "    X1 = X1.reshape(batch,1)\n",
    "    X2 = X2.reshape(batch,1)\n",
    "    X = np.concatenate((X1,X2),axis=1)\n",
    "    # Generating the labels for real data set which is 'ones'\n",
    "    y = np.ones((batch,1))\n",
    "    return X,y"
   ]
  },
  {
   "cell_type": "code",
   "execution_count": null,
   "id": "d238af6e-7622-4844-8f6a-ea01092662a3",
   "metadata": {},
   "outputs": [],
   "source": []
  },
  {
   "cell_type": "markdown",
   "id": "b9bb2f10-d77a-4f97-a012-7e980940730d",
   "metadata": {
    "tags": []
   },
   "source": [
    "#### Functions to generate fake samples"
   ]
  },
  {
   "cell_type": "markdown",
   "id": "15506007-0855-40df-a07a-8bb9e717e9aa",
   "metadata": {},
   "source": [
    "##### fakeInputs function"
   ]
  },
  {
   "cell_type": "code",
   "execution_count": 7,
   "id": "98c1e6d6-94f4-4fd4-99c8-bdb76523415b",
   "metadata": {},
   "outputs": [],
   "source": [
    "# Function to generate inputs for generator function\n",
    "def fakeInputs(batch,infeats):\n",
    "    # Sample data points equal to (batch * input feature size)\n",
    "    genInput = randn(infeats * batch)\n",
    "    # Reshape the input\n",
    "    X = genInput.reshape(batch,infeats)\n",
    "    return X"
   ]
  },
  {
   "cell_type": "code",
   "execution_count": null,
   "id": "fec03481-c524-49af-9b84-842c88f9a75b",
   "metadata": {},
   "outputs": [],
   "source": []
  },
  {
   "cell_type": "markdown",
   "id": "6155a661-02bf-4994-9380-835310785d10",
   "metadata": {},
   "source": [
    "##### genModel function"
   ]
  },
  {
   "cell_type": "code",
   "execution_count": 8,
   "id": "fb4c776f-e106-4b1d-8fb8-d3b08ea1dff8",
   "metadata": {},
   "outputs": [],
   "source": [
    "# Function for the generator model\n",
    "def genModel(infeats,outfeats):\n",
    "    # Defining the Generator model\n",
    "    # layer 1\n",
    "    Genmodel = Sequential()\n",
    "    Genmodel.add(Dense(\n",
    "        32,\n",
    "        activation='linear',\n",
    "        kernel_initializer='he_uniform',\n",
    "        input_dim=infeats\n",
    "    ))\n",
    "    \n",
    "    # layer 2\n",
    "    Genmodel.add(Dense(\n",
    "        32,\n",
    "        activation='relu',\n",
    "        kernel_initializer='he_uniform'\n",
    "    ))\n",
    "    \n",
    "      # layer 3\n",
    "    Genmodel.add(Dense(\n",
    "        64,\n",
    "        activation='elu',\n",
    "        kernel_initializer='he_uniform'\n",
    "    ))\n",
    "    \n",
    "      # layer 4\n",
    "    Genmodel.add(Dense(\n",
    "        32,\n",
    "        activation='elu',\n",
    "        kernel_initializer='he_uniform'\n",
    "    ))\n",
    "    \n",
    "      # layer 5\n",
    "    Genmodel.add(Dense(\n",
    "        32,\n",
    "        activation='selu',\n",
    "        kernel_initializer='he_uniform'\n",
    "    ))\n",
    "    \n",
    "      # layer 6\n",
    "    Genmodel.add(Dense(\n",
    "        outfeats,\n",
    "        activation='selu'\n",
    "    ))\n",
    "    return Genmodel\n"
   ]
  },
  {
   "cell_type": "code",
   "execution_count": null,
   "id": "14d4ead4-d93a-431f-9787-3138df8935b5",
   "metadata": {},
   "outputs": [],
   "source": []
  },
  {
   "cell_type": "markdown",
   "id": "1f9c8b8b-e21b-45c9-a9a4-893dce70f137",
   "metadata": {
    "tags": []
   },
   "source": [
    "##### fakedataGenerator function"
   ]
  },
  {
   "cell_type": "code",
   "execution_count": 9,
   "id": "03b6872a-3d4c-4940-91a7-35bb09fd970a",
   "metadata": {},
   "outputs": [],
   "source": [
    "# Function to create fake samples using the generator model\n",
    "def fakedataGenerator(Genmodel,batch,infeats):\n",
    "    # Generate inputs to the model\n",
    "    genInputs = fakeInputs(batch,infeats)\n",
    "    # Use inputs inside generator model to generate fake distribution\n",
    "    X_fake = Genmodel.predict(genInputs)\n",
    "    # Generate the labels of the fake data set\n",
    "    y_fake = np.zeros((batch,1))\n",
    "    return X_fake, y_fake"
   ]
  },
  {
   "cell_type": "markdown",
   "id": "119b70a5-63c1-4b15-b094-8487bb2c2537",
   "metadata": {
    "tags": []
   },
   "source": [
    "##### End of function definitions"
   ]
  },
  {
   "cell_type": "code",
   "execution_count": null,
   "id": "be388331-b47f-478c-9c66-378567539b59",
   "metadata": {},
   "outputs": [],
   "source": []
  },
  {
   "cell_type": "code",
   "execution_count": 10,
   "id": "0a20fe35-fa73-4003-a0fb-2f2746cb51e3",
   "metadata": {},
   "outputs": [],
   "source": [
    "# Parameters to be used in the functions above\n",
    "batch,infeats,outfeats = 128, 10, 2"
   ]
  },
  {
   "cell_type": "code",
   "execution_count": 11,
   "id": "2b63b96d-f641-4430-b20d-5934b7119774",
   "metadata": {},
   "outputs": [
    {
     "name": "stderr",
     "output_type": "stream",
     "text": [
      "2022-07-19 07:10:29.259972: I tensorflow/core/platform/cpu_feature_guard.cc:151] This TensorFlow binary is optimized with oneAPI Deep Neural Network Library (oneDNN) to use the following CPU instructions in performance-critical operations:  AVX2 FMA\n",
      "To enable them in other operations, rebuild TensorFlow with the appropriate compiler flags.\n"
     ]
    }
   ],
   "source": [
    "# Build discriminator model\n",
    "Discmodel = Sequential()\n",
    "\n",
    "# layer 1\n",
    "Discmodel.add(Dense(\n",
    "    16,\n",
    "    activation='relu',\n",
    "    kernel_initializer='he_uniform',\n",
    "    input_dim=outfeats\n",
    "))\n",
    "\n",
    "# layer 2\n",
    "Discmodel.add(Dense(\n",
    "    16,\n",
    "    activation='relu',\n",
    "    kernel_initializer='he_uniform'\n",
    "))\n",
    "\n",
    "# layer 3\n",
    "Discmodel.add(Dense(\n",
    "    16,\n",
    "    activation='relu',\n",
    "    kernel_initializer='he_uniform'\n",
    "))\n",
    "\n",
    "# layer 4\n",
    "Discmodel.add(Dense(\n",
    "    1,\n",
    "    activation='sigmoid'\n",
    "))\n",
    "\n",
    "# Compiling model\n",
    "Discmodel.compile(\n",
    "    loss='binary_crossentropy',\n",
    "    optimizer='adam',\n",
    "    metrics=['accuracy']\n",
    ")"
   ]
  },
  {
   "cell_type": "code",
   "execution_count": 12,
   "id": "c81d7733-7eff-4605-9c89-5a0225164db4",
   "metadata": {},
   "outputs": [
    {
     "name": "stdout",
     "output_type": "stream",
     "text": [
      "Model: \"sequential\"\n",
      "_________________________________________________________________\n",
      " Layer (type)                Output Shape              Param #   \n",
      "=================================================================\n",
      " dense (Dense)               (None, 16)                48        \n",
      "                                                                 \n",
      " dense_1 (Dense)             (None, 16)                272       \n",
      "                                                                 \n",
      " dense_2 (Dense)             (None, 16)                272       \n",
      "                                                                 \n",
      " dense_3 (Dense)             (None, 1)                 17        \n",
      "                                                                 \n",
      "=================================================================\n",
      "Total params: 609\n",
      "Trainable params: 609\n",
      "Non-trainable params: 0\n",
      "_________________________________________________________________\n"
     ]
    }
   ],
   "source": [
    "Discmodel.summary()"
   ]
  },
  {
   "cell_type": "code",
   "execution_count": 13,
   "id": "cd76b814-20c0-4e57-b88c-524cf01af887",
   "metadata": {},
   "outputs": [
    {
     "name": "stdout",
     "output_type": "stream",
     "text": [
      "Model: \"sequential_1\"\n",
      "_________________________________________________________________\n",
      " Layer (type)                Output Shape              Param #   \n",
      "=================================================================\n",
      " dense_4 (Dense)             (None, 32)                352       \n",
      "                                                                 \n",
      " dense_5 (Dense)             (None, 32)                1056      \n",
      "                                                                 \n",
      " dense_6 (Dense)             (None, 64)                2112      \n",
      "                                                                 \n",
      " dense_7 (Dense)             (None, 32)                2080      \n",
      "                                                                 \n",
      " dense_8 (Dense)             (None, 32)                1056      \n",
      "                                                                 \n",
      " dense_9 (Dense)             (None, 2)                 66        \n",
      "                                                                 \n",
      "=================================================================\n",
      "Total params: 6,722\n",
      "Trainable params: 6,722\n",
      "Non-trainable params: 0\n",
      "_________________________________________________________________\n"
     ]
    }
   ],
   "source": [
    "# Calling Generator model function\n",
    "Genmodel = genModel(infeats, outfeats)\n",
    "Genmodel.summary()"
   ]
  },
  {
   "cell_type": "code",
   "execution_count": 14,
   "id": "a97969f3-49f0-47e2-a483-9e1b1a2b5c1b",
   "metadata": {},
   "outputs": [
    {
     "data": {
      "image/png": "[encoded data removed]",
      "text/plain": [
       "<Figure size 432x288 with 1 Axes>"
      ]
     },
     "metadata": {
      "needs_background": "light"
     },
     "output_type": "display_data"
    }
   ],
   "source": [
    "# visualize initial fake data\n",
    "x_fake, _ = fakedataGenerator(Genmodel, batch, infeats)\n",
    "# Plotting fake data using pyplot\n",
    "plt.scatter(x_fake[:,0], x_fake[:,1], color='blue')\n",
    "# Adding x and y labels\n",
    "plt.xlabel('Feature 1 of the distribution')\n",
    "plt.ylabel('Feature 2 of the distribution')\n",
    "plt.show()"
   ]
  },
  {
   "cell_type": "markdown",
   "id": "81afa4a7-6e58-450c-8ee3-cd1ae7e5d750",
   "metadata": {},
   "source": [
    "##### ganModel\n",
    "Combined generator and discriminator model, for updating the generator"
   ]
  },
  {
   "cell_type": "code",
   "execution_count": 15,
   "id": "eb9eea48-f5a8-441f-a77a-57b1f6e71090",
   "metadata": {},
   "outputs": [],
   "source": [
    "def ganModel(Genmodel, Discmodel):\n",
    "    # Discmodel not trainable\n",
    "    Discmodel.trainable = False\n",
    "    Ganmodel = Sequential()\n",
    "    # Adding generator model\n",
    "    Ganmodel.add(Genmodel)\n",
    "    # Adding Discmodel without parameters\n",
    "    Ganmodel.add(Discmodel)\n",
    "    # Compile the model for loss to optimise the Generator model\n",
    "    Ganmodel.compile(loss='binary_crossentropy', optimizer='adam')\n",
    "    return Ganmodel"
   ]
  },
  {
   "cell_type": "code",
   "execution_count": 16,
   "id": "5ecaa018-3fcb-43f8-91aa-5c49e928da56",
   "metadata": {},
   "outputs": [],
   "source": [
    "# Initialise the gan model\n",
    "gan_model = ganModel(Genmodel, Discmodel)"
   ]
  },
  {
   "cell_type": "code",
   "execution_count": 17,
   "id": "504ae66a-5eb0-47b0-a9a8-9093cc96f339",
   "metadata": {},
   "outputs": [
    {
     "name": "stdout",
     "output_type": "stream",
     "text": [
      "Model: \"sequential_2\"\n",
      "_________________________________________________________________\n",
      " Layer (type)                Output Shape              Param #   \n",
      "=================================================================\n",
      " sequential_1 (Sequential)   (None, 2)                 6722      \n",
      "                                                                 \n",
      " sequential (Sequential)     (None, 1)                 609       \n",
      "                                                                 \n",
      "=================================================================\n",
      "Total params: 7,331\n",
      "Trainable params: 6,722\n",
      "Non-trainable params: 609\n",
      "_________________________________________________________________\n"
     ]
    }
   ],
   "source": [
    "# Print summary of gan_model\n",
    "gan_model.summary()"
   ]
  },
  {
   "cell_type": "markdown",
   "id": "b4bfe822-b79d-43c1-b4e7-a34492a19917",
   "metadata": {},
   "source": [
    "Notice that gan_model is just a wrapper of the generator and discriminator models."
   ]
  },
  {
   "cell_type": "code",
   "execution_count": 18,
   "id": "ca313980-cc96-408c-8b43-ab580b697209",
   "metadata": {},
   "outputs": [],
   "source": [
    "# Define number of epochs\n",
    "nEpochs = 20000"
   ]
  },
  {
   "cell_type": "code",
   "execution_count": 19,
   "id": "94c0cd18-496b-4394-aa6b-286d03bceb21",
   "metadata": {},
   "outputs": [
    {
     "name": "stdout",
     "output_type": "stream",
     "text": [
      "Real accuracy:1.0, Fake accuracy:0.0078125\n",
      "Real accuracy:0.34375, Fake accuracy:1.0\n",
      "Real accuracy:0.4765625, Fake accuracy:1.0\n",
      "Real accuracy:0.6015625, Fake accuracy:1.0\n",
      "Real accuracy:0.4765625, Fake accuracy:0.984375\n",
      "Real accuracy:0.359375, Fake accuracy:0.9765625\n",
      "Real accuracy:0.203125, Fake accuracy:1.0\n",
      "Real accuracy:0.21875, Fake accuracy:0.9921875\n",
      "Real accuracy:0.296875, Fake accuracy:1.0\n",
      "Real accuracy:0.046875, Fake accuracy:0.9765625\n"
     ]
    }
   ],
   "source": [
    "# Train the GAN network\n",
    "for i in range(nEpochs):\n",
    "    # Generate the random number for generating real samples\n",
    "    loc = np.random.normal(3,1,1)\n",
    "    # Generate samples equal to the batch size from the real distribution\n",
    "    x_real, y_real = realData(loc, batch)\n",
    "    # Generate fake samples using the fake data generator function\n",
    "    x_fake, y_fake = fakedataGenerator(Genmodel, batch, infeats)\n",
    "    # Train the discriminator on the real samples\n",
    "    Discmodel.train_on_batch(x_real, y_real)\n",
    "    # Train the discriminator on the fake samples\n",
    "    Discmodel.train_on_batch(x_fake, y_fake)\n",
    "    # Generate new fake inputs for training the GAN network\n",
    "    x_gan = fakeInputs(batch, infeats)\n",
    "    # Create labels of the fake examples as 1 to fool the discriminator\n",
    "    y_gan = np.ones((batch, 1))\n",
    "    # Update the generator model through the discriminator model\n",
    "    gan_model.train_on_batch(x_gan, y_gan)\n",
    "    # Print the accuracy measures on the real and fake data for every 2000 epochs\n",
    "    if (i) % 2000 == 0:\n",
    "        # Generate samples equal to the batch size of the real distribution\n",
    "        x_real, y_real = realData(loc, batch)\n",
    "        # Evaluate Real distribution accuracy\n",
    "        _, realAccuracy = Discmodel.evaluate(x_real, y_real, verbose=0)\n",
    "        # Generate fake samples using the fake data generator function\n",
    "        x_fake, y_fake = fakedataGenerator(Genmodel, batch, infeats)\n",
    "        # Evaluate fake distribution accuracy levels\n",
    "        _, fakeAccuracy = Discmodel.evaluate(x_fake, y_fake, verbose=0)\n",
    "        print('Real accuracy:{R}, Fake accuracy:{F}'.format(R=realAccuracy, F=fakeAccuracy))\n",
    "        # Scatter plot for real and fake data points\n",
    "        plt.scatter(x_real[:, 0], x_real[:, 1], color='red')\n",
    "        plt.scatter(x_fake[:, 0], x_fake[:, 1], color='blue')\n",
    "        plt.xlabel('Feature 1 of the distribution')\n",
    "        plt.ylabel('Feature 2 of the distribution')\n",
    "        # Save plot to file\n",
    "        filename = 'GAN_training_plot%03d.png' % (i)\n",
    "        plt.savefig(filename)\n",
    "        plt.close()"
   ]
  },
  {
   "cell_type": "code",
   "execution_count": null,
   "id": "4844b611-9707-4998-afb7-c01ef2649c37",
   "metadata": {},
   "outputs": [],
   "source": []
  }
 ],
 "metadata": {
  "kernelspec": {
   "display_name": "Python 3 (ipykernel)",
   "language": "python",
   "name": "python3"
  },
  "language_info": {
   "codemirror_mode": {
    "name": "ipython",
    "version": 3
   },
   "file_extension": ".py",
   "mimetype": "text/x-python",
   "name": "python",
   "nbconvert_exporter": "python",
   "pygments_lexer": "ipython3",
   "version": "3.9.7"
  }
 },
 "nbformat": 4,
 "nbformat_minor": 5
}

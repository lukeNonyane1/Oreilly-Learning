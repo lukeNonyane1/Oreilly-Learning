{
 "cells": [
  {
   "cell_type": "raw",
   "id": "60ddc961-1156-44c9-b8cf-bccf9fca3041",
   "metadata": {},
   "source": [
    "In this exercise, we will use TensorFlow to implement a convolution operation on two matrices: [[1,2,3],[4,5,6],[7,8,9]] and [[1,0,-1],[1,0,-1],[1,0,-1]]."
   ]
  },
  {
   "cell_type": "code",
   "execution_count": 1,
   "id": "0b61a68b-2c8f-4023-8ec9-19b187b091c8",
   "metadata": {},
   "outputs": [],
   "source": [
    "import tensorflow as tf"
   ]
  },
  {
   "cell_type": "code",
   "execution_count": 2,
   "id": "f5ae502e-a5f4-4457-9775-bb4ee47a3bdc",
   "metadata": {},
   "outputs": [
    {
     "name": "stderr",
     "output_type": "stream",
     "text": [
      "2022-05-18 07:12:20.377369: I tensorflow/core/platform/cpu_feature_guard.cc:151] This TensorFlow binary is optimized with oneAPI Deep Neural Network Library (oneDNN) to use the following CPU instructions in performance-critical operations:  AVX2 FMA\n",
      "To enable them in other operations, rebuild TensorFlow with the appropriate compiler flags.\n"
     ]
    },
    {
     "data": {
      "text/plain": [
       "<tf.Variable 'Variable:0' shape=(3, 3) dtype=int32, numpy=\n",
       "array([[1, 2, 3],\n",
       "       [4, 5, 6],\n",
       "       [7, 8, 9]], dtype=int32)>"
      ]
     },
     "execution_count": 2,
     "metadata": {},
     "output_type": "execute_result"
    }
   ],
   "source": [
    "# create a tensor called A from the first matrix\n",
    "A = tf.Variable([[1, 2, 3], [4, 5, 6], [7, 8, 9]])\n",
    "A"
   ]
  },
  {
   "cell_type": "code",
   "execution_count": 3,
   "id": "6e0fe44f-174c-46e7-a56b-0ee9cec4a81c",
   "metadata": {},
   "outputs": [
    {
     "data": {
      "text/plain": [
       "<tf.Variable 'Variable:0' shape=(3, 3) dtype=int32, numpy=\n",
       "array([[ 1,  0, -1],\n",
       "       [ 1,  0, -1],\n",
       "       [ 1,  0, -1]], dtype=int32)>"
      ]
     },
     "execution_count": 3,
     "metadata": {},
     "output_type": "execute_result"
    }
   ],
   "source": [
    "# create a tensor called B from the second martix\n",
    "B = tf.Variable([[1, 0, -1], [1, 0, -1], [1, 0, -1]])\n",
    "B"
   ]
  },
  {
   "cell_type": "code",
   "execution_count": 4,
   "id": "6ae6e455-7d3b-434e-ae0f-08425a22d1f2",
   "metadata": {},
   "outputs": [
    {
     "data": {
      "text/plain": [
       "<tf.Tensor: shape=(3, 3), dtype=int32, numpy=\n",
       "array([[ 1,  0, -3],\n",
       "       [ 4,  0, -6],\n",
       "       [ 7,  0, -9]], dtype=int32)>"
      ]
     },
     "execution_count": 4,
     "metadata": {},
     "output_type": "execute_result"
    }
   ],
   "source": [
    "# perform element-wise multiplication on A & B using tf.math.multiply(A, B)\n",
    "mult_out = tf.math.multiply(A, B)\n",
    "mult_out"
   ]
  },
  {
   "cell_type": "code",
   "execution_count": 5,
   "id": "ac1227e1-9efd-4ecb-816a-171bc7f9ae52",
   "metadata": {},
   "outputs": [
    {
     "data": {
      "text/plain": [
       "<tf.Tensor: shape=(), dtype=int32, numpy=-6>"
      ]
     },
     "execution_count": 5,
     "metadata": {},
     "output_type": "execute_result"
    }
   ],
   "source": [
    "# perform element-wise sum on mult_out using tf.math.reduce_sum()\n",
    "conv_out = tf.math.reduce_sum(mult_out)\n",
    "conv_out"
   ]
  },
  {
   "cell_type": "raw",
   "id": "1f56e225-6184-44e0-95a4-4195ab3d4b26",
   "metadata": {},
   "source": [
    "The result of the convolution operation on the two matrices, [[1,2,3],[4,5,6],[7,8,9]] and [[1,0,-1],[1,0,-1],[1,0,-1]], is -6."
   ]
  },
  {
   "cell_type": "code",
   "execution_count": null,
   "id": "b6d859b0-764a-4e6d-a264-71c2a0e48e73",
   "metadata": {},
   "outputs": [],
   "source": []
  }
 ],
 "metadata": {
  "kernelspec": {
   "display_name": "Python 3 (ipykernel)",
   "language": "python",
   "name": "python3"
  },
  "language_info": {
   "codemirror_mode": {
    "name": "ipython",
    "version": 3
   },
   "file_extension": ".py",
   "mimetype": "text/x-python",
   "name": "python",
   "nbconvert_exporter": "python",
   "pygments_lexer": "ipython3",
   "version": "3.9.7"
  }
 },
 "nbformat": 4,
 "nbformat_minor": 5
}

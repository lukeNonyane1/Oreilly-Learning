{
 "cells": [
  {
   "cell_type": "markdown",
   "id": "2fb1b6b1-d04a-410e-a987-90513d539c94",
   "metadata": {
    "tags": []
   },
   "source": [
    "### Project Description and Scope: \n",
    "\n",
    "You are provided with a collection of images of pets, that is, cats and dogs. These images are of different sizes with varied lighting conditions and they should be used as inputs for your model.\n",
    "You are expected to write the code for CNN image classification model using TensorFlow that trains on the data and calculates the accuracy score on the test data. "
   ]
  },
  {
   "cell_type": "raw",
   "id": "38863501-76e3-4dbe-81a2-4d31227fbb48",
   "metadata": {},
   "source": [
    "Begin by creating the ipynb file in the same parent folder where the downloaded data set is kept. The CNN model should have the following layers: \n",
    "● Input layer \n",
    "● Convolutional layer 1 with 32 filters of kernel size[5,5] \n",
    "● Pooling layer 1 with pool size[2,2] and stride 2 \n",
    "● Convolutional layer 2 with 64 filters of kernel size[5,5] \n",
    "● Pooling layer 2 with pool size[2,2] and stride 2 \n",
    "● Dense layer whose output size is fixed in the hyper parameter: fc_size=32 \n",
    "● Dropout layer with dropout probability 0.4 \n",
    "Predict the class by doing a softmax on the output of the dropout layers. \n",
    "This should be followed by training and evaluation: \n",
    "● For the training step, define the loss function and minimize it \n",
    "● For the evaluation step, calculate the accuracy \n",
    "Run the program for 100, 200, and 300 iterations, respectively. Follow this by a report on the final accuracy and loss on the evaluation data. \n",
    "\n",
    "Prerequisites:\n",
    "\n",
    "To execute this project, please ensure you have the latest version of TensorFlow installed on your system.\n",
    "To download the datasets: https://lms.simplilearn.com/user/project/download-attachment?file=1577957291_deeplearningwithkerasandtensorflow.zip"
   ]
  },
  {
   "cell_type": "code",
   "execution_count": 1,
   "id": "17ca0593-782b-4f21-b9b5-d6c033318d12",
   "metadata": {},
   "outputs": [],
   "source": [
    "import tensorflow as tf"
   ]
  },
  {
   "cell_type": "raw",
   "id": "6d5a991d-e420-4e19-a907-0afcc432b309",
   "metadata": {},
   "source": [
    "Create a variable called file_url containing the link to the dataset"
   ]
  },
  {
   "cell_type": "code",
   "execution_count": null,
   "id": "fd5e2651-48e4-4a39-bc6b-4fbf3baf1bff",
   "metadata": {},
   "outputs": [],
   "source": []
  }
 ],
 "metadata": {
  "kernelspec": {
   "display_name": "Python 3 (ipykernel)",
   "language": "python",
   "name": "python3"
  },
  "language_info": {
   "codemirror_mode": {
    "name": "ipython",
    "version": 3
   },
   "file_extension": ".py",
   "mimetype": "text/x-python",
   "name": "python",
   "nbconvert_exporter": "python",
   "pygments_lexer": "ipython3",
   "version": "3.9.7"
  }
 },
 "nbformat": 4,
 "nbformat_minor": 5
}

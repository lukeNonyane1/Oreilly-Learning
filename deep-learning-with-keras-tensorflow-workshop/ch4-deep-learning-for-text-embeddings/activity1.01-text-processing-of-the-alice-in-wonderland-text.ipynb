{
 "cells": [
  {
   "cell_type": "markdown",
   "id": "e93e10be-c5f4-48ec-82cd-8c3f45507668",
   "metadata": {},
   "source": [
    "In this activity, you will apply all the preprocessing steps you've learned about so far to a much larger, real text. We'll work with the text for Alice in Wonderland that we stored in the alice_raw variable"
   ]
  },
  {
   "cell_type": "code",
   "execution_count": 1,
   "id": "5502470a-c7fc-4df2-804f-0ec8a235e86d",
   "metadata": {},
   "outputs": [],
   "source": [
    "import nltk"
   ]
  },
  {
   "cell_type": "code",
   "execution_count": 3,
   "id": "8e40c6e3-b65d-45ba-b937-2e2bce0cb5be",
   "metadata": {},
   "outputs": [
    {
     "name": "stdout",
     "output_type": "stream",
     "text": [
      "showing info https://raw.githubusercontent.com/nltk/nltk_data/gh-pages/index.xml\n"
     ]
    },
    {
     "data": {
      "text/plain": [
       "True"
      ]
     },
     "execution_count": 3,
     "metadata": {},
     "output_type": "execute_result"
    }
   ],
   "source": [
    "nltk.download()"
   ]
  },
  {
   "cell_type": "code",
   "execution_count": 4,
   "id": "3ee9917f-8548-40dd-b58f-12e6b89ee33f",
   "metadata": {},
   "outputs": [],
   "source": [
    "alice_raw = nltk.corpus.gutenberg.raw('carroll-alice.txt')"
   ]
  },
  {
   "cell_type": "code",
   "execution_count": 6,
   "id": "a21b2afc-48e0-4e4e-bcbd-226052b681e0",
   "metadata": {},
   "outputs": [
    {
     "data": {
      "text/plain": [
       "\"[Alice's Adventures in Wonderland by Lewis Carroll 1865]\\n\\nCHAPTER I. Down the Rabbit-Hole\\n\\nAlice was beginning to get very tired of sitting by her sister on the\\nbank, and of having nothing to do: once or twice she had peeped into the\\nbook her sister was reading, but it had no pictures or conversations in\\nit, 'and what is the use of a book,' thought Alice 'without pictures or\\nconversation?'\\n\\nSo she was considering in her own mind (as well as she could, for the\\nhot day made her feel very sleepy and stupid), whether the pleasure\\nof making a daisy-chain would be worth the trouble of getting up and\\npicking the daisies, when suddenly a White Rabbit with pink eyes ran\\nclose by her.\\n\\nThere was nothing so VERY remarkable in that; nor did Alice think it so\\nVERY much out of the way to hear the Rabbit\""
      ]
     },
     "execution_count": 6,
     "metadata": {},
     "output_type": "execute_result"
    }
   ],
   "source": [
    "# first few characters of alice_raw\n",
    "alice_raw[:800]"
   ]
  },
  {
   "cell_type": "code",
   "execution_count": 7,
   "id": "36713b17-5a64-44dc-bf2c-f8f6c7629330",
   "metadata": {},
   "outputs": [],
   "source": [
    "# Change the raw text to lowercase\n",
    "alice_raw = alice_raw.lower()"
   ]
  },
  {
   "cell_type": "code",
   "execution_count": 8,
   "id": "500b2d7a-27bb-4959-8823-f68fc474ede5",
   "metadata": {},
   "outputs": [],
   "source": [
    "from nltk import tokenize"
   ]
  },
  {
   "cell_type": "code",
   "execution_count": 9,
   "id": "6e97fbfa-7aa6-4280-a045-57935436cf16",
   "metadata": {},
   "outputs": [],
   "source": [
    "# tokenize sentences\n",
    "alice_sents = tokenize.sent_tokenize(alice_raw)"
   ]
  },
  {
   "cell_type": "code",
   "execution_count": 10,
   "id": "9377f945-8fc9-43fd-9bde-092227e873d9",
   "metadata": {},
   "outputs": [
    {
     "name": "stderr",
     "output_type": "stream",
     "text": [
      "[nltk_data] Downloading package stopwords to\n",
      "[nltk_data]     /Users/LNonyane/nltk_data...\n",
      "[nltk_data]   Package stopwords is already up-to-date!\n"
     ]
    }
   ],
   "source": [
    "# Import punctuation from the string module and the stop words from NLTK.\n",
    "from string import punctuation\n",
    "nltk.download('stopwords')\n",
    "from nltk.corpus import stopwords"
   ]
  },
  {
   "cell_type": "code",
   "execution_count": 11,
   "id": "9826ad31-d249-4c5e-a88b-3b7d4a603c1d",
   "metadata": {},
   "outputs": [],
   "source": [
    "# Create a variable holding the contextual stop words\n",
    "stop_nltk = stopwords.words('english')"
   ]
  },
  {
   "cell_type": "code",
   "execution_count": null,
   "id": "c300663b-e9db-4d01-b7e8-1252b0fa046b",
   "metadata": {},
   "outputs": [],
   "source": []
  },
  {
   "cell_type": "code",
   "execution_count": null,
   "id": "065ec0ed-5ffd-4f90-b7ee-e56baaa95c8b",
   "metadata": {},
   "outputs": [],
   "source": []
  },
  {
   "cell_type": "code",
   "execution_count": null,
   "id": "6121c827-1ddb-419d-9807-9e372ada43f7",
   "metadata": {},
   "outputs": [],
   "source": [
    "\n",
    "alice_words = [tokenize.word_tokenize(sent) for sent in alice_sents]"
   ]
  }
 ],
 "metadata": {
  "kernelspec": {
   "display_name": "Python 3 (ipykernel)",
   "language": "python",
   "name": "python3"
  },
  "language_info": {
   "codemirror_mode": {
    "name": "ipython",
    "version": 3
   },
   "file_extension": ".py",
   "mimetype": "text/x-python",
   "name": "python",
   "nbconvert_exporter": "python",
   "pygments_lexer": "ipython3",
   "version": "3.9.7"
  }
 },
 "nbformat": 4,
 "nbformat_minor": 5
}

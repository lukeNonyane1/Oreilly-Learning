{
 "cells": [
  {
   "cell_type": "markdown",
   "id": "67ab1b87-951a-47a1-8188-511c50294032",
   "metadata": {},
   "source": [
    "In this exercise, we will remove stop words from the data, and also apply everything we have learned so far. We'll start by performing tokenization (sentences and words); then, we'll perform case normalization, followed by punctuation and stop word removal."
   ]
  },
  {
   "cell_type": "code",
   "execution_count": 2,
   "id": "f4e77fb9-df8a-44db-b6f0-e88ef661b793",
   "metadata": {},
   "outputs": [
    {
     "name": "stderr",
     "output_type": "stream",
     "text": [
      "[nltk_data] Downloading package punkt to /Users/LNonyane/nltk_data...\n",
      "[nltk_data]   Package punkt is already up-to-date!\n",
      "[nltk_data] Downloading package stopwords to\n",
      "[nltk_data]     /Users/LNonyane/nltk_data...\n",
      "[nltk_data]   Package stopwords is already up-to-date!\n"
     ]
    }
   ],
   "source": [
    "# punkt and stopwords\n",
    "import nltk\n",
    "nltk.download('punkt')\n",
    "nltk.download('stopwords')\n",
    "from nltk.corpus import stopwords\n",
    "from string import punctuation\n",
    "from nltk import tokenize"
   ]
  },
  {
   "cell_type": "markdown",
   "id": "eda6ed2b-e28a-4e45-bef6-8b1d1b7fe661",
   "metadata": {},
   "source": [
    "We'll keep the code concise this time. We'll be defining and manipulating the raw_txt variable. Let's get started:"
   ]
  },
  {
   "cell_type": "markdown",
   "id": "8448e019-d03f-45e7-b941-a7d5835d39b8",
   "metadata": {},
   "source": [
    "Define the raw_txt variable so that it contains the text \"Welcome to the world of deep learning for NLP! We're in this together, and we'll learn together. NLP is amazing, and deep learning makes it even more fun. Let's learn!\":"
   ]
  },
  {
   "cell_type": "code",
   "execution_count": 3,
   "id": "beef080d-22e3-419c-b5d8-3efa704d2738",
   "metadata": {},
   "outputs": [],
   "source": [
    "raw_txt = \"\"\"\n",
    "Welcome to the world of deep learning for NLP! We're in this together, and we'll learn together. NLP is amazing, and deep learning makes it even more fun. Let's learn!\n",
    "\"\"\""
   ]
  },
  {
   "cell_type": "markdown",
   "id": "1a37307c-0c40-4e6c-84a6-d58c78d1765d",
   "metadata": {},
   "source": [
    "Use the sent_tokenize() method to separate the raw text into individual sentences and store the result in a variable. Use the lower() method to convert the string into lowercase before tokenizing:"
   ]
  },
  {
   "cell_type": "code",
   "execution_count": 5,
   "id": "0c6d5141-5c3e-4b29-ad32-8aa3f201466b",
   "metadata": {},
   "outputs": [],
   "source": [
    "txt_sents = tokenize.sent_tokenize(raw_txt.lower()) # calling sentence tokenizer on normalized raw_txt"
   ]
  },
  {
   "cell_type": "markdown",
   "id": "7566eaed-635f-4e57-843a-c4ac82e9cf4a",
   "metadata": {},
   "source": [
    "Using list comprehension, apply the word_tokenize() method to separate each sentence into its constituent words:"
   ]
  },
  {
   "cell_type": "code",
   "execution_count": 6,
   "id": "e5890d5a-a541-4a3d-8880-72fe441b0c3e",
   "metadata": {},
   "outputs": [],
   "source": [
    "txt_words = [tokenize.word_tokenize(sent) for sent in txt_sents] # separate words to constituent parts for each sentence in txt_sents."
   ]
  },
  {
   "cell_type": "markdown",
   "id": "b0552bef-4918-4a77-b7ec-a53c25d975ee",
   "metadata": {},
   "source": [
    "Import punctuation from the string module and convert it into a list"
   ]
  },
  {
   "cell_type": "code",
   "execution_count": 7,
   "id": "f4686686-82ca-4d2d-9c72-3fcb7de2458f",
   "metadata": {},
   "outputs": [],
   "source": [
    "stop_punct = list(punctuation) # ! . ? [and many more]"
   ]
  },
  {
   "cell_type": "markdown",
   "id": "e072f480-42cd-40e5-8698-eb43a9eacb33",
   "metadata": {},
   "source": [
    "Import the built-in stop words for English from NLTK and save them in a variable."
   ]
  },
  {
   "cell_type": "code",
   "execution_count": 8,
   "id": "2f451f7b-b7a2-49f3-bb32-2fe0cb71730f",
   "metadata": {},
   "outputs": [],
   "source": [
    "stop_nltk = stopwords.words('english') # they, my, mine, etc"
   ]
  },
  {
   "cell_type": "markdown",
   "id": "45e620de-dee5-42bd-8488-aac5670bee28",
   "metadata": {},
   "source": [
    "Create a combined list that contains the punctuations as well as the NLTK stop words. Note that we can remove them together in one go"
   ]
  },
  {
   "cell_type": "code",
   "execution_count": 9,
   "id": "7531c8f1-8e7a-4e1e-8bf6-20724caf7be9",
   "metadata": {},
   "outputs": [],
   "source": [
    "stop_final = stop_punct + stop_nltk"
   ]
  },
  {
   "cell_type": "markdown",
   "id": "90028aea-20af-4284-a38f-7cb7487e577b",
   "metadata": {},
   "source": [
    "Define a function that will remove stop words and punctuation from the input sentence, provided as a collection of tokens"
   ]
  },
  {
   "cell_type": "code",
   "execution_count": 10,
   "id": "ae1d5951-a75d-42bf-bbeb-2a53865e5291",
   "metadata": {},
   "outputs": [],
   "source": [
    "def drop_stop(input_tokens):\n",
    "    return [token for token in input_tokens if token not in stop_final]"
   ]
  },
  {
   "cell_type": "markdown",
   "id": "ca5e5299-e48a-429f-b130-cb566d999041",
   "metadata": {},
   "source": [
    "Remove redundant tokens by applying the function to the tokenized sentences and store the result in a variable"
   ]
  },
  {
   "cell_type": "code",
   "execution_count": 11,
   "id": "3902063f-e9fd-4c00-b57d-3f7ef9346713",
   "metadata": {},
   "outputs": [],
   "source": [
    "txt_words_nostop = [drop_stop(sent) for sent in txt_words] # run drop_stop function on each sentence in txt_words"
   ]
  },
  {
   "cell_type": "markdown",
   "id": "e52f48b3-6c21-4472-a21b-7bca8219057a",
   "metadata": {},
   "source": [
    "Print the first cleaned-up sentence from the data"
   ]
  },
  {
   "cell_type": "code",
   "execution_count": 12,
   "id": "480938aa-08cc-438f-baf8-1d3e6b26da68",
   "metadata": {},
   "outputs": [
    {
     "name": "stdout",
     "output_type": "stream",
     "text": [
      "['welcome', 'world', 'deep', 'learning', 'nlp']\n"
     ]
    }
   ],
   "source": [
    "print(txt_words_nostop[0])"
   ]
  },
  {
   "cell_type": "markdown",
   "id": "dc587493-e2c4-47cc-bb39-45d4fd0396d6",
   "metadata": {},
   "source": [
    "In this exercise, we performed all the cleanup steps we've learned about so far. This time around, we combined certain steps and made the code more concise. These are some very common steps that we should apply when dealing with text data. You could try to further optimize and modularize by defining a function that returns the result after all the processing steps. We encourage you to try it out."
   ]
  },
  {
   "cell_type": "code",
   "execution_count": 22,
   "id": "91c2bda7-43cc-4515-9fba-21af5f592459",
   "metadata": {},
   "outputs": [],
   "source": [
    "def drop_with_results_per_step(input_tokens):\n",
    "    print([token for token in input_tokens if token not in stop_final])\n",
    "    return [token for token in input_tokens if token not in stop_final]"
   ]
  },
  {
   "cell_type": "code",
   "execution_count": 23,
   "id": "443b3c0e-6cb4-4890-8fe0-987a27c8cdd6",
   "metadata": {},
   "outputs": [
    {
     "name": "stdout",
     "output_type": "stream",
     "text": [
      "['welcome', 'world', 'deep', 'learning', 'nlp']\n",
      "[\"'re\", 'together', \"'ll\", 'learn', 'together']\n",
      "['nlp', 'amazing', 'deep', 'learning', 'makes', 'even', 'fun']\n",
      "['let', \"'s\", 'learn']\n"
     ]
    },
    {
     "data": {
      "text/plain": [
       "[['welcome', 'world', 'deep', 'learning', 'nlp'],\n",
       " [\"'re\", 'together', \"'ll\", 'learn', 'together'],\n",
       " ['nlp', 'amazing', 'deep', 'learning', 'makes', 'even', 'fun'],\n",
       " ['let', \"'s\", 'learn']]"
      ]
     },
     "execution_count": 23,
     "metadata": {},
     "output_type": "execute_result"
    }
   ],
   "source": [
    "[drop_with_results_per_step(sent) for sent in txt_words]"
   ]
  },
  {
   "cell_type": "markdown",
   "id": "521259f6-6d34-48a9-9403-ec8b17de2f6f",
   "metadata": {},
   "source": [
    "So far, the steps in the cleanup process were steps that got rid of tokens that weren't very useful in our assessment. But there are a few more things we could do to make our data even better – we can try using our understanding of the language to combine tokens, identify tokens that have practically the same meaning, and remove further redundancy. A couple of popular approaches are stemming and lemmatization."
   ]
  },
  {
   "cell_type": "markdown",
   "id": "c3726d83-0048-413d-8b63-1c80cb52279c",
   "metadata": {
    "tags": []
   },
   "source": [
    "#### exercise 4.02"
   ]
  },
  {
   "cell_type": "markdown",
   "id": "2a67ccda-5ec1-43ee-9267-81796e50d32d",
   "metadata": {},
   "source": [
    "In this exercise, we will continue with data preprocessing. We removed the stop words and punctuation in the previous exercise. Now, we will use the Porter stemming algorithm to stem the tokens. Since we'll be using the txt_words_nostop variable we created previously, let's continue with the same Jupyter Notebook we created in Exercise 4.01, Tokenizing, Case Normalization, Punctuation, and Stop Word Removal."
   ]
  },
  {
   "cell_type": "code",
   "execution_count": 25,
   "id": "a7e3b78b-b29a-49e2-b3bc-82cfe6da50fc",
   "metadata": {},
   "outputs": [],
   "source": [
    " # Import PorterStemmer from NLTK\n",
    "from nltk.stem import PorterStemmer"
   ]
  },
  {
   "cell_type": "code",
   "execution_count": 26,
   "id": "f60f7907-53f8-4a41-8000-9aede65c3b92",
   "metadata": {},
   "outputs": [],
   "source": [
    "# Instantiate the stemmer\n",
    "stemmer_p = PorterStemmer()"
   ]
  },
  {
   "cell_type": "code",
   "execution_count": 28,
   "id": "777cc377-2036-4cd6-948f-56385f8e2f8c",
   "metadata": {},
   "outputs": [
    {
     "name": "stdout",
     "output_type": "stream",
     "text": [
      "['welcom', 'world', 'deep', 'learn', 'nlp']\n"
     ]
    }
   ],
   "source": [
    "# Apply the stemmer to the first sentence in txt_words_nostop\n",
    "print([stemmer_p.stem(token) for token in txt_words_nostop[0]])"
   ]
  },
  {
   "cell_type": "code",
   "execution_count": 30,
   "id": "fce2b6ba-baf8-44b0-8b61-bfccfb0ec019",
   "metadata": {},
   "outputs": [],
   "source": [
    "# Apply the stemmer to all the sentences in the data using nested list comprehension\n",
    "txt_words_stem = [[stemmer_p.stem(token) for token in sent] for sent in txt_words_nostop]\n",
    "# run porter stem for each word in the sentences in txt_words_nostop"
   ]
  },
  {
   "cell_type": "code",
   "execution_count": 31,
   "id": "5f664873-ae43-4e9d-b00d-374eebceda08",
   "metadata": {},
   "outputs": [
    {
     "data": {
      "text/plain": [
       "[['welcom', 'world', 'deep', 'learn', 'nlp'],\n",
       " [\"'re\", 'togeth', \"'ll\", 'learn', 'togeth'],\n",
       " ['nlp', 'amaz', 'deep', 'learn', 'make', 'even', 'fun'],\n",
       " ['let', \"'s\", 'learn']]"
      ]
     },
     "execution_count": 31,
     "metadata": {},
     "output_type": "execute_result"
    }
   ],
   "source": [
    "# print the output\n",
    "txt_words_stem"
   ]
  },
  {
   "cell_type": "markdown",
   "id": "d2f2dcda-de4b-4e47-bac6-984ba8589470",
   "metadata": {},
   "source": [
    "It looks like plenty of modifications have been made by the stemmer. Many of the words aren't valid anymore but are still recognizable, and that's okay."
   ]
  },
  {
   "cell_type": "markdown",
   "id": "b6b5409c-370a-4b67-9803-c5c3641f3312",
   "metadata": {},
   "source": [
    "In this exercise, we used the Porter stemming algorithm to stem the terms of our tokenized data. Stemming works on individual terms, so it needs to be applied after tokenizing into terms. Stemming reduced some terms to their base form, which weren't necessarily valid English words."
   ]
  },
  {
   "cell_type": "code",
   "execution_count": null,
   "id": "1391ace8-8a15-4785-8dbc-184ce55af897",
   "metadata": {},
   "outputs": [],
   "source": []
  }
 ],
 "metadata": {
  "kernelspec": {
   "display_name": "Python 3 (ipykernel)",
   "language": "python",
   "name": "python3"
  },
  "language_info": {
   "codemirror_mode": {
    "name": "ipython",
    "version": 3
   },
   "file_extension": ".py",
   "mimetype": "text/x-python",
   "name": "python",
   "nbconvert_exporter": "python",
   "pygments_lexer": "ipython3",
   "version": "3.9.7"
  }
 },
 "nbformat": 4,
 "nbformat_minor": 5
}

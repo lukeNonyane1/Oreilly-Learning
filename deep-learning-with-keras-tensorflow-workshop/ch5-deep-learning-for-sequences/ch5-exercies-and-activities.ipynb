{
 "cells": [
  {
   "cell_type": "markdown",
   "id": "45a5b864-5ad9-4faf-99bf-9b3983b5721c",
   "metadata": {
    "tags": []
   },
   "source": [
    "### Time Series Data – Stock Price Prediction"
   ]
  },
  {
   "cell_type": "code",
   "execution_count": 1,
   "id": "9b18c6c5-e529-426c-831b-54712c96a1be",
   "metadata": {},
   "outputs": [],
   "source": [
    "import pandas as pd, numpy as np, matplotlib.pyplot as plt\n",
    "%matplotlib inline"
   ]
  },
  {
   "cell_type": "markdown",
   "id": "0362a59b-a554-4f1a-bb0d-ccf782c20ae3",
   "metadata": {},
   "source": [
    "Next, we'll load the .csv file, using the read_csv() method from Pandas, into a DataFrame (inp0) and have a look at a few records using the head method of the pandas DataFrame"
   ]
  },
  {
   "cell_type": "code",
   "execution_count": 2,
   "id": "dc696f12-15d3-46fe-b578-be4f0040150a",
   "metadata": {},
   "outputs": [
    {
     "data": {
      "text/html": [
       "<div>\n",
       "<style scoped>\n",
       "    .dataframe tbody tr th:only-of-type {\n",
       "        vertical-align: middle;\n",
       "    }\n",
       "\n",
       "    .dataframe tbody tr th {\n",
       "        vertical-align: top;\n",
       "    }\n",
       "\n",
       "    .dataframe thead th {\n",
       "        text-align: right;\n",
       "    }\n",
       "</style>\n",
       "<table border=\"1\" class=\"dataframe\">\n",
       "  <thead>\n",
       "    <tr style=\"text-align: right;\">\n",
       "      <th></th>\n",
       "      <th>Date</th>\n",
       "      <th>Close</th>\n",
       "      <th>Open</th>\n",
       "      <th>High</th>\n",
       "      <th>Low</th>\n",
       "      <th>Volume</th>\n",
       "    </tr>\n",
       "  </thead>\n",
       "  <tbody>\n",
       "    <tr>\n",
       "      <th>0</th>\n",
       "      <td>1/17/2020</td>\n",
       "      <td>138.31</td>\n",
       "      <td>136.54</td>\n",
       "      <td>138.330</td>\n",
       "      <td>136.16</td>\n",
       "      <td>5623336</td>\n",
       "    </tr>\n",
       "    <tr>\n",
       "      <th>1</th>\n",
       "      <td>1/16/2020</td>\n",
       "      <td>137.98</td>\n",
       "      <td>137.32</td>\n",
       "      <td>138.190</td>\n",
       "      <td>137.01</td>\n",
       "      <td>4320911</td>\n",
       "    </tr>\n",
       "    <tr>\n",
       "      <th>2</th>\n",
       "      <td>1/15/2020</td>\n",
       "      <td>136.62</td>\n",
       "      <td>136.00</td>\n",
       "      <td>138.055</td>\n",
       "      <td>135.71</td>\n",
       "      <td>4045952</td>\n",
       "    </tr>\n",
       "    <tr>\n",
       "      <th>3</th>\n",
       "      <td>1/14/2020</td>\n",
       "      <td>135.82</td>\n",
       "      <td>136.28</td>\n",
       "      <td>137.139</td>\n",
       "      <td>135.55</td>\n",
       "      <td>3683458</td>\n",
       "    </tr>\n",
       "    <tr>\n",
       "      <th>4</th>\n",
       "      <td>1/13/2020</td>\n",
       "      <td>136.60</td>\n",
       "      <td>135.48</td>\n",
       "      <td>136.640</td>\n",
       "      <td>135.07</td>\n",
       "      <td>3531572</td>\n",
       "    </tr>\n",
       "  </tbody>\n",
       "</table>\n",
       "</div>"
      ],
      "text/plain": [
       "        Date   Close    Open     High     Low   Volume\n",
       "0  1/17/2020  138.31  136.54  138.330  136.16  5623336\n",
       "1  1/16/2020  137.98  137.32  138.190  137.01  4320911\n",
       "2  1/15/2020  136.62  136.00  138.055  135.71  4045952\n",
       "3  1/14/2020  135.82  136.28  137.139  135.55  3683458\n",
       "4  1/13/2020  136.60  135.48  136.640  135.07  3531572"
      ]
     },
     "execution_count": 2,
     "metadata": {},
     "output_type": "execute_result"
    }
   ],
   "source": [
    "inp0 = pd.read_csv('AAPL.csv')\n",
    "inp0.head()"
   ]
  },
  {
   "cell_type": "markdown",
   "id": "12d916bd-3c27-4a0d-8e37-f37e29ede1c1",
   "metadata": {
    "tags": []
   },
   "source": [
    "#### Exercise 5.01: Visualizing Our Time-Series Data\n",
    "In this exercise, we will extract the closing price from the data, perform the necessary formatting, and plot the time series to gain a better understanding of the data. Make sure that you have read through the preceding section and loaded the data, as well as imported the relevant libraries. Perform the following steps to complete this exercise:"
   ]
  },
  {
   "cell_type": "markdown",
   "id": "1c1f88d3-1455-491d-9e97-93e63ac2ff93",
   "metadata": {},
   "source": [
    "Plot the Close column as a line plot to see the pattern using the plot method of the DataFrame, specifying the Date column as the X-axis"
   ]
  },
  {
   "cell_type": "code",
   "execution_count": 3,
   "id": "fc8e34d4-23de-4ff6-af2c-b0b10b250266",
   "metadata": {},
   "outputs": [
    {
     "data": {
      "text/plain": [
       "<AxesSubplot:xlabel='Date'>"
      ]
     },
     "execution_count": 3,
     "metadata": {},
     "output_type": "execute_result"
    },
    {
     "data": {
      "image/png": "[encoded data removed]",
      "text/plain": [
       "<Figure size 432x288 with 1 Axes>"
      ]
     },
     "metadata": {
      "needs_background": "light"
     },
     "output_type": "display_data"
    }
   ],
   "source": [
    "inp0.plot('Date', 'Close')\n",
    "#plt.show()"
   ]
  },
  {
   "cell_type": "markdown",
   "id": "fb3bb97a-7523-4b23-a23b-25fe006653fb",
   "metadata": {},
   "source": [
    "From the plot, we can see that the latest values are getting plotted first (on the left). We'll reverse the data for convenience of plotting and handling. We'll achieve this by sorting the DataFrame by the index (remember that the index was 0 for the latest record) in descending order.\n",
    "\n",
    "Reverse the data by sorting the DataFrame on the index. Plot the closing price again and supply Date as the X-axis"
   ]
  },
  {
   "cell_type": "code",
   "execution_count": 4,
   "id": "fe09eff0-32b9-47aa-9064-bc7829aafd87",
   "metadata": {},
   "outputs": [
    {
     "data": {
      "image/png": "[encoded data removed]",
      "text/plain": [
       "<Figure size 432x288 with 1 Axes>"
      ]
     },
     "metadata": {
      "needs_background": "light"
     },
     "output_type": "display_data"
    }
   ],
   "source": [
    "inp0 = inp0.sort_index(ascending=False)\n",
    "inp0.plot('Date', 'Close')\n",
    "plt.show()"
   ]
  },
  {
   "cell_type": "markdown",
   "id": "a1731fd0-48e1-4df5-bd8c-0233d3706010",
   "metadata": {},
   "source": [
    "Extract the values for Close from the DataFrame as a numpy array, reshaped to specify one column using array.reshape(-1,1)"
   ]
  },
  {
   "cell_type": "code",
   "execution_count": 5,
   "id": "b48c4d73-76a8-4cc3-b5b5-04d74d62808d",
   "metadata": {},
   "outputs": [],
   "source": [
    "ts_data = inp0.Close.values.reshape(-1,1)"
   ]
  },
  {
   "cell_type": "markdown",
   "id": "c560efd1-cc5d-49d5-9861-83fb9f7d2893",
   "metadata": {},
   "source": [
    "Plot the values as a line plot using matplotlib. Don't worry about marking the dates; the order of the data is clear (matplotlib will use an index instead, beginning with 0 for the first point)"
   ]
  },
  {
   "cell_type": "code",
   "execution_count": 6,
   "id": "5aee857c-4761-4640-bfba-25cd08a5fba8",
   "metadata": {},
   "outputs": [
    {
     "data": {
      "image/png": "[encoded data removed]",
      "text/plain": [
       "<Figure size 1008x360 with 1 Axes>"
      ]
     },
     "metadata": {
      "needs_background": "light"
     },
     "output_type": "display_data"
    }
   ],
   "source": [
    "plt.figure(figsize=[14, 5])\n",
    "plt.plot(ts_data)\n",
    "plt.show()"
   ]
  },
  {
   "cell_type": "markdown",
   "id": "d76f0b26-d205-42f4-a758-b10d9f31c2b3",
   "metadata": {},
   "source": [
    "That's what our sequence data looks like. There is no continuous clear trend; the prices rose for a period, after which the stock waxed and waned. The pattern isn't straightforward. We can see that there is some seasonality at a small duration (maybe monthly). Overall, the pattern is rather complex and there are no obvious and easy-to-identify cyclicities in the data that we can exploit. This complex sequence is what we will work with – predicting the stock price for a day using historical values."
   ]
  },
  {
   "cell_type": "code",
   "execution_count": 7,
   "id": "37d32edc-212c-44d2-ba87-74a37ba8ced3",
   "metadata": {},
   "outputs": [],
   "source": [
    "# create train-test split of data allocating first 75% and last 25% to train, test respectively\n",
    "train_recs = int(len(ts_data) * 0.75)"
   ]
  },
  {
   "cell_type": "markdown",
   "id": "1ce2c45a-13a4-4fea-96c2-fe51aa47b030",
   "metadata": {},
   "source": [
    "This is the number of records we'll have in the train set. We can separate the sets as follows:"
   ]
  },
  {
   "cell_type": "code",
   "execution_count": 8,
   "id": "f6f701da-ba40-4ef0-a9f9-3ef1f68975e6",
   "metadata": {},
   "outputs": [
    {
     "data": {
      "text/plain": [
       "(1885, 629)"
      ]
     },
     "execution_count": 8,
     "metadata": {},
     "output_type": "execute_result"
    }
   ],
   "source": [
    "train_data = ts_data[:train_recs] # all the records from the first 75% of data (index 0-1884)\n",
    "test_data = ts_data[train_recs:] # index 1885-2513\n",
    "len(train_data), len(test_data)"
   ]
  },
  {
   "cell_type": "markdown",
   "id": "c1df4f7f-d2a8-4cad-a6d8-614596cd1689",
   "metadata": {},
   "source": [
    "Next, we need to scale the stock data. For that, we can employ the min-max scaler from sklearn. The MinMaxScaler scales the data so that it's in a range between 0 and 1 (inclusive) – the highest value in the data being mapped to 1. We'll fit and transform the scaler on the train data and only transform the test data:"
   ]
  },
  {
   "cell_type": "code",
   "execution_count": 9,
   "id": "c8c5a095-a676-49fc-ace6-f470889af00e",
   "metadata": {},
   "outputs": [],
   "source": [
    "from sklearn.preprocessing import MinMaxScaler\n",
    "scaler = MinMaxScaler()\n",
    "train_scaled = scaler.fit_transform(train_data)\n",
    "test_scaled = scaler.transform(test_data)"
   ]
  },
  {
   "cell_type": "markdown",
   "id": "eb94ebf1-cf33-4964-84c1-8bffe78a2c4b",
   "metadata": {},
   "source": [
    "The next important step is to format the data to get the \"features\" for each instance. We need to define a \"lookback period\" – the number of days from the history that we want to use to predict the next value. The following code will help us define a function that returns the target value of y (stock price for a day) and X (values for each day in the lookback period):"
   ]
  },
  {
   "cell_type": "code",
   "execution_count": 10,
   "id": "9d336882-4e3b-4d30-8549-122299a2606c",
   "metadata": {},
   "outputs": [],
   "source": [
    "def get_lookback(inp, look_back):\n",
    "    y = pd.DataFrame(inp)\n",
    "    dataX = [y.shift(i) for i in range(1, look_back+1)] # Shift index by desired number of periods\n",
    "    dataX = pd.concat(dataX, axis=1)\n",
    "    dataX.fillna(0, inplace=True)\n",
    "    return dataX.values, y.values"
   ]
  },
  {
   "cell_type": "markdown",
   "id": "d28d453d-fc0e-4d02-93a2-8f590c8a3226",
   "metadata": {},
   "source": [
    "The function takes in a dataset (a series of numbers, rather) and, for the provided lookback, adds as many values from the history. It does so by shifting the series, each time concatenating it to the result. The function returns the stock price for the day as y and the values in lookback period (shifted values) as our features. Now, we can define a lookback period and see the result of applying the function to our data:"
   ]
  },
  {
   "cell_type": "code",
   "execution_count": 11,
   "id": "a644945c-1a3c-4f3e-b187-bfb7439bfdaf",
   "metadata": {},
   "outputs": [],
   "source": [
    "look_back = 10"
   ]
  },
  {
   "cell_type": "code",
   "execution_count": 12,
   "id": "1ad23e86-464b-4fb8-bcb1-0b2ecfe00c33",
   "metadata": {},
   "outputs": [],
   "source": [
    "trainX, trainY = get_lookback(train_scaled, look_back=look_back)\n",
    "testX, testY = get_lookback(test_scaled, look_back=look_back)"
   ]
  },
  {
   "cell_type": "code",
   "execution_count": 13,
   "id": "8435d369-6c50-4e09-b705-d7ad6be537ce",
   "metadata": {},
   "outputs": [
    {
     "data": {
      "text/plain": [
       "((1885, 10), (629, 10))"
      ]
     },
     "execution_count": 13,
     "metadata": {},
     "output_type": "execute_result"
    }
   ],
   "source": [
    "trainX.shape, testX.shape"
   ]
  },
  {
   "cell_type": "markdown",
   "id": "5185660d-1a8d-4239-b236-a9cdf6bdbdad",
   "metadata": {},
   "source": [
    "As expected, there are 10 features for each example, corresponding to the past 10 days. We have this history for the train data as well as the test data. With that, data preparation is complete. Before we move on to building our first RNN on this data, let's understand RNNs a little more."
   ]
  },
  {
   "cell_type": "markdown",
   "id": "56f031ad-eb4c-4238-80c8-8bcaf48139bf",
   "metadata": {},
   "source": [
    "#### Training RNNs"
   ]
  },
  {
   "cell_type": "markdown",
   "id": "30d549f3-37e2-489b-9874-a9ee4606e9ed",
   "metadata": {},
   "source": [
    "Building first RNN model using Keras."
   ]
  },
  {
   "cell_type": "code",
   "execution_count": 14,
   "id": "519a4d44-141d-4bcb-a464-f1bf47068f17",
   "metadata": {},
   "outputs": [],
   "source": [
    "from tensorflow.keras.models import Sequential\n",
    "from tensorflow.keras.layers import SimpleRNN, Activation, Dropout, Dense, Reshape"
   ]
  },
  {
   "cell_type": "raw",
   "id": "d1d197a0-2de6-4717-86af-dd4ca84ea439",
   "metadata": {},
   "source": [
    "The SimpleRNN layer is the simplest plain vanilla RNN layer. It takes in a sequence, and the output of the neuron is fed back as input. Additionally, if we want to follow this RNN layer with another RNN layer, we have the option of returning sequences as output."
   ]
  },
  {
   "cell_type": "markdown",
   "id": "236f7008-0510-4b89-b3e2-acf41caaf7f3",
   "metadata": {},
   "source": [
    "#### Exercise 5.03: Building Our First Plain RNN Model\n",
    "In this exercise, we will build our first plain RNN model. We will have a reshape layer, followed by a SimpleRNN layer, followed by a dense layer for the prediction. We will use the formatted data for trainX and trainY that we created earlier, along with the initialized layers from Keras."
   ]
  },
  {
   "cell_type": "code",
   "execution_count": 15,
   "id": "852f78a0-a950-4f46-9577-f3b8c7f2ae71",
   "metadata": {},
   "outputs": [
    {
     "name": "stderr",
     "output_type": "stream",
     "text": [
      "2022-06-28 06:09:52.708570: I tensorflow/core/platform/cpu_feature_guard.cc:151] This TensorFlow binary is optimized with oneAPI Deep Neural Network Library (oneDNN) to use the following CPU instructions in performance-critical operations:  AVX2 FMA\n",
      "To enable them in other operations, rebuild TensorFlow with the appropriate compiler flags.\n"
     ]
    }
   ],
   "source": [
    "# Instantiate the Sequential model\n",
    "model = Sequential()"
   ]
  },
  {
   "cell_type": "code",
   "execution_count": 16,
   "id": "802ccd3a-a9d6-4297-be84-2dc0edb96a1b",
   "metadata": {},
   "outputs": [],
   "source": [
    "# Add a Reshape layer to get the data in the format (look_back, 1)\n",
    "model.add(Reshape((look_back, 1),input_shape = (look_back,)))"
   ]
  },
  {
   "cell_type": "raw",
   "id": "a4ca2f91-ecee-4842-8fd0-8f9d12f2b699",
   "metadata": {},
   "source": [
    "Note the arguments to the Reshape layer. The target shape is (lookback, 1),"
   ]
  },
  {
   "cell_type": "markdown",
   "id": "0e6fc9c4-c8f9-4892-bf97-fb8d5a3e2104",
   "metadata": {},
   "source": [
    "Add a SimpleRNN layer with 32 neurons and specify the input shape. Note that we took an arbitrary number of neurons, so you're welcome to experiment with this number"
   ]
  },
  {
   "cell_type": "code",
   "execution_count": 17,
   "id": "bc5e3f21-b788-4d91-aae1-d3fce7dd0475",
   "metadata": {},
   "outputs": [],
   "source": [
    "model.add(SimpleRNN(32, input_shape=(look_back, 1)))"
   ]
  },
  {
   "cell_type": "code",
   "execution_count": 18,
   "id": "0842534d-eceb-4659-9531-71ea2e69ab72",
   "metadata": {},
   "outputs": [],
   "source": [
    "# Add a Dense layer of size 1\n",
    "model.add(Dense(1))"
   ]
  },
  {
   "cell_type": "code",
   "execution_count": 19,
   "id": "5f5e1012-cb6b-416f-a55b-69d5c3ca4ab3",
   "metadata": {},
   "outputs": [],
   "source": [
    "# Add an Activation layer with a linear activation\n",
    "model.add(Activation('linear'))"
   ]
  },
  {
   "cell_type": "code",
   "execution_count": 20,
   "id": "6b65f7c6-8ee1-4fc3-a9bf-952766e9ba1f",
   "metadata": {},
   "outputs": [],
   "source": [
    "# Compile the model with the adam optimizer and mean_squared_error (since we're predicting a real-values quantity)\n",
    "model.compile(\n",
    "    loss='mean_squared_error',\n",
    "    optimizer='adam'\n",
    ")"
   ]
  },
  {
   "cell_type": "code",
   "execution_count": 21,
   "id": "36e5cdaa-d1d4-48d1-a6ea-8a7946dfaecf",
   "metadata": {},
   "outputs": [
    {
     "name": "stdout",
     "output_type": "stream",
     "text": [
      "Model: \"sequential\"\n",
      "_________________________________________________________________\n",
      " Layer (type)                Output Shape              Param #   \n",
      "=================================================================\n",
      " reshape (Reshape)           (None, 10, 1)             0         \n",
      "                                                                 \n",
      " simple_rnn (SimpleRNN)      (None, 32)                1088      \n",
      "                                                                 \n",
      " dense (Dense)               (None, 1)                 33        \n",
      "                                                                 \n",
      " activation (Activation)     (None, 1)                 0         \n",
      "                                                                 \n",
      "=================================================================\n",
      "Total params: 1,121\n",
      "Trainable params: 1,121\n",
      "Non-trainable params: 0\n",
      "_________________________________________________________________\n"
     ]
    }
   ],
   "source": [
    "# print summary of model\n",
    "model.summary()"
   ]
  },
  {
   "cell_type": "markdown",
   "id": "dc83d5da-d567-4b01-8338-cb1ad1218c96",
   "metadata": {},
   "source": [
    "#### Model Training and Performance Evaluation\n",
    "We can do this by using a batch size of 1 and a validation split of 10%, and by training for only three epochs."
   ]
  },
  {
   "cell_type": "code",
   "execution_count": 22,
   "id": "8e9e4647-5e09-40f9-a89d-b1c6f870f89b",
   "metadata": {},
   "outputs": [
    {
     "name": "stdout",
     "output_type": "stream",
     "text": [
      "Epoch 1/3\n",
      "1696/1696 - 3s - loss: 0.0026 - val_loss: 8.8805e-04 - 3s/epoch - 2ms/step\n",
      "Epoch 2/3\n",
      "1696/1696 - 2s - loss: 0.0010 - val_loss: 0.0011 - 2s/epoch - 1ms/step\n",
      "Epoch 3/3\n",
      "1696/1696 - 2s - loss: 9.3357e-04 - val_loss: 3.5552e-04 - 2s/epoch - 1ms/step\n"
     ]
    },
    {
     "data": {
      "text/plain": [
       "<keras.callbacks.History at 0x7f997b720df0>"
      ]
     },
     "execution_count": 22,
     "metadata": {},
     "output_type": "execute_result"
    }
   ],
   "source": [
    "model.fit(trainX, trainY, epochs=3, batch_size=1, verbose=2, validation_split=0.1)"
   ]
  },
  {
   "cell_type": "markdown",
   "id": "cfa2ff72-94da-4315-8c76-7c131e451d88",
   "metadata": {},
   "source": [
    "Let's begin by defining our first function, using the sqrt function from math to get the root of the mean_squared_error provided to us by the model's evaluate method."
   ]
  },
  {
   "cell_type": "code",
   "execution_count": 23,
   "id": "6685fbde-3af2-43f3-87c0-9a1efe5c712f",
   "metadata": {},
   "outputs": [],
   "source": [
    "import math\n",
    "def get_model_perf(model_obj):\n",
    "    score_train = model_obj.evaluate(trainX, trainY, verbose=0)\n",
    "    print('Train RMSE: %.2f RMSE' %(math.sqrt(score_train)))\n",
    "    score_test = model_obj.evaluate(testX, testY, verbose=0)\n",
    "    print('Test RMSE: %.2f RMSE' %(math.sqrt(score_test)))"
   ]
  },
  {
   "cell_type": "code",
   "execution_count": 24,
   "id": "e0fb0536-3d1f-4500-89a2-9186237067f8",
   "metadata": {},
   "outputs": [
    {
     "name": "stdout",
     "output_type": "stream",
     "text": [
      "Train RMSE: 0.02 RMSE\n",
      "Test RMSE: 0.03 RMSE\n"
     ]
    }
   ],
   "source": [
    "get_model_perf(model)"
   ]
  },
  {
   "cell_type": "markdown",
   "id": "ed6b7492-905f-46ff-9a09-5b317badc464",
   "metadata": {},
   "source": [
    "The following code will help us define a function that plots the predictions for a given model object"
   ]
  },
  {
   "cell_type": "code",
   "execution_count": 25,
   "id": "6c1b1780-3f4b-4c3c-a293-f279d661946c",
   "metadata": {},
   "outputs": [],
   "source": [
    "def plot_pred(model_obj):\n",
    "    testPredict = scaler.inverse_transform(model_obj.predict(testX))\n",
    "    pred_test_plot = ts_data.copy()\n",
    "    pred_test_plot[:train_recs+look_back,:] = np.nan\n",
    "    pred_test_plot[train_recs+look_back:,:] = testPredict[look_back:]\n",
    "    plt.plot(ts_data)\n",
    "    plt.plot(pred_test_plot, '--')"
   ]
  },
  {
   "cell_type": "code",
   "execution_count": 26,
   "id": "d0132369-ed87-4be2-9e80-dafdca78e625",
   "metadata": {},
   "outputs": [
    {
     "data": {
      "text/plain": [
       "numpy.ndarray"
      ]
     },
     "execution_count": 26,
     "metadata": {},
     "output_type": "execute_result"
    }
   ],
   "source": [
    "type(ts_data)"
   ]
  },
  {
   "cell_type": "markdown",
   "id": "6e86532c-05b8-4ef0-bb83-35bd57ba7510",
   "metadata": {},
   "source": [
    "First, the function makes predictions on the test data. Since this data is scaled, we apply the inverse transform to get the data back to its original scale before plotting it. The function plots the actual values as a solid line and the predicted values as dotted lines. "
   ]
  },
  {
   "cell_type": "code",
   "execution_count": 27,
   "id": "5593eb5f-51ca-4860-bd1d-c325dad18006",
   "metadata": {},
   "outputs": [
    {
     "data": {
      "image/png": "[encoded data removed]",
      "text/plain": [
       "<Figure size 720x360 with 1 Axes>"
      ]
     },
     "metadata": {
      "needs_background": "light"
     },
     "output_type": "display_data"
    }
   ],
   "source": [
    "%matplotlib inline\n",
    "plt.figure(figsize=[10,5])\n",
    "plot_pred(model)"
   ]
  },
  {
   "cell_type": "code",
   "execution_count": 28,
   "id": "b44e8940-49d2-4e1e-abed-40ed4cbe8bc2",
   "metadata": {},
   "outputs": [
    {
     "data": {
      "application/javascript": [
       "/* Put everything inside the global mpl namespace */\n",
       "/* global mpl */\n",
       "window.mpl = {};\n",
       "\n",
       "mpl.get_websocket_type = function () {\n",
       "    if (typeof WebSocket !== 'undefined') {\n",
       "        return WebSocket;\n",
       "    } else if (typeof MozWebSocket !== 'undefined') {\n",
       "        return MozWebSocket;\n",
       "    } else {\n",
       "        alert(\n",
       "            'Your browser does not have WebSocket support. ' +\n",
       "                'Please try Chrome, Safari or Firefox ≥ 6. ' +\n",
       "                'Firefox 4 and 5 are also supported but you ' +\n",
       "                'have to enable WebSockets in about:config.'\n",
       "        );\n",
       "    }\n",
       "};\n",
       "\n",
       "mpl.figure = function (figure_id, websocket, ondownload, parent_element) {\n",
       "    this.id = figure_id;\n",
       "\n",
       "    this.ws = websocket;\n",
       "\n",
       "    this.supports_binary = this.ws.binaryType !== undefined;\n",
       "\n",
       "    if (!this.supports_binary) {\n",
       "        var warnings = document.getElementById('mpl-warnings');\n",
       "        if (warnings) {\n",
       "            warnings.style.display = 'block';\n",
       "            warnings.textContent =\n",
       "                'This browser does not support binary websocket messages. ' +\n",
       "                'Performance may be slow.';\n",
       "        }\n",
       "    }\n",
       "\n",
       "    this.imageObj = new Image();\n",
       "\n",
       "    this.context = undefined;\n",
       "    this.message = undefined;\n",
       "    this.canvas = undefined;\n",
       "    this.rubberband_canvas = undefined;\n",
       "    this.rubberband_context = undefined;\n",
       "    this.format_dropdown = undefined;\n",
       "\n",
       "    this.image_mode = 'full';\n",
       "\n",
       "    this.root = document.createElement('div');\n",
       "    this.root.setAttribute('style', 'display: inline-block');\n",
       "    this._root_extra_style(this.root);\n",
       "\n",
       "    parent_element.appendChild(this.root);\n",
       "\n",
       "    this._init_header(this);\n",
       "    this._init_canvas(this);\n",
       "    this._init_toolbar(this);\n",
       "\n",
       "    var fig = this;\n",
       "\n",
       "    this.waiting = false;\n",
       "\n",
       "    this.ws.onopen = function () {\n",
       "        fig.send_message('supports_binary', { value: fig.supports_binary });\n",
       "        fig.send_message('send_image_mode', {});\n",
       "        if (fig.ratio !== 1) {\n",
       "            fig.send_message('set_dpi_ratio', { dpi_ratio: fig.ratio });\n",
       "        }\n",
       "        fig.send_message('refresh', {});\n",
       "    };\n",
       "\n",
       "    this.imageObj.onload = function () {\n",
       "        if (fig.image_mode === 'full') {\n",
       "            // Full images could contain transparency (where diff images\n",
       "            // almost always do), so we need to clear the canvas so that\n",
       "            // there is no ghosting.\n",
       "            fig.context.clearRect(0, 0, fig.canvas.width, fig.canvas.height);\n",
       "        }\n",
       "        fig.context.drawImage(fig.imageObj, 0, 0);\n",
       "    };\n",
       "\n",
       "    this.imageObj.onunload = function () {\n",
       "        fig.ws.close();\n",
       "    };\n",
       "\n",
       "    this.ws.onmessage = this._make_on_message_function(this);\n",
       "\n",
       "    this.ondownload = ondownload;\n",
       "};\n",
       "\n",
       "mpl.figure.prototype._init_header = function () {\n",
       "    var titlebar = document.createElement('div');\n",
       "    titlebar.classList =\n",
       "        'ui-dialog-titlebar ui-widget-header ui-corner-all ui-helper-clearfix';\n",
       "    var titletext = document.createElement('div');\n",
       "    titletext.classList = 'ui-dialog-title';\n",
       "    titletext.setAttribute(\n",
       "        'style',\n",
       "        'width: 100%; text-align: center; padding: 3px;'\n",
       "    );\n",
       "    titlebar.appendChild(titletext);\n",
       "    this.root.appendChild(titlebar);\n",
       "    this.header = titletext;\n",
       "};\n",
       "\n",
       "mpl.figure.prototype._canvas_extra_style = function (_canvas_div) {};\n",
       "\n",
       "mpl.figure.prototype._root_extra_style = function (_canvas_div) {};\n",
       "\n",
       "mpl.figure.prototype._init_canvas = function () {\n",
       "    var fig = this;\n",
       "\n",
       "    var canvas_div = (this.canvas_div = document.createElement('div'));\n",
       "    canvas_div.setAttribute(\n",
       "        'style',\n",
       "        'border: 1px solid #ddd;' +\n",
       "            'box-sizing: content-box;' +\n",
       "            'clear: both;' +\n",
       "            'min-height: 1px;' +\n",
       "            'min-width: 1px;' +\n",
       "            'outline: 0;' +\n",
       "            'overflow: hidden;' +\n",
       "            'position: relative;' +\n",
       "            'resize: both;'\n",
       "    );\n",
       "\n",
       "    function on_keyboard_event_closure(name) {\n",
       "        return function (event) {\n",
       "            return fig.key_event(event, name);\n",
       "        };\n",
       "    }\n",
       "\n",
       "    canvas_div.addEventListener(\n",
       "        'keydown',\n",
       "        on_keyboard_event_closure('key_press')\n",
       "    );\n",
       "    canvas_div.addEventListener(\n",
       "        'keyup',\n",
       "        on_keyboard_event_closure('key_release')\n",
       "    );\n",
       "\n",
       "    this._canvas_extra_style(canvas_div);\n",
       "    this.root.appendChild(canvas_div);\n",
       "\n",
       "    var canvas = (this.canvas = document.createElement('canvas'));\n",
       "    canvas.classList.add('mpl-canvas');\n",
       "    canvas.setAttribute('style', 'box-sizing: content-box;');\n",
       "\n",
       "    this.context = canvas.getContext('2d');\n",
       "\n",
       "    var backingStore =\n",
       "        this.context.backingStorePixelRatio ||\n",
       "        this.context.webkitBackingStorePixelRatio ||\n",
       "        this.context.mozBackingStorePixelRatio ||\n",
       "        this.context.msBackingStorePixelRatio ||\n",
       "        this.context.oBackingStorePixelRatio ||\n",
       "        this.context.backingStorePixelRatio ||\n",
       "        1;\n",
       "\n",
       "    this.ratio = (window.devicePixelRatio || 1) / backingStore;\n",
       "\n",
       "    var rubberband_canvas = (this.rubberband_canvas = document.createElement(\n",
       "        'canvas'\n",
       "    ));\n",
       "    rubberband_canvas.setAttribute(\n",
       "        'style',\n",
       "        'box-sizing: content-box; position: absolute; left: 0; top: 0; z-index: 1;'\n",
       "    );\n",
       "\n",
       "    // Apply a ponyfill if ResizeObserver is not implemented by browser.\n",
       "    if (this.ResizeObserver === undefined) {\n",
       "        if (window.ResizeObserver !== undefined) {\n",
       "            this.ResizeObserver = window.ResizeObserver;\n",
       "        } else {\n",
       "            var obs = _JSXTOOLS_RESIZE_OBSERVER({});\n",
       "            this.ResizeObserver = obs.ResizeObserver;\n",
       "        }\n",
       "    }\n",
       "\n",
       "    this.resizeObserverInstance = new this.ResizeObserver(function (entries) {\n",
       "        var nentries = entries.length;\n",
       "        for (var i = 0; i < nentries; i++) {\n",
       "            var entry = entries[i];\n",
       "            var width, height;\n",
       "            if (entry.contentBoxSize) {\n",
       "                if (entry.contentBoxSize instanceof Array) {\n",
       "                    // Chrome 84 implements new version of spec.\n",
       "                    width = entry.contentBoxSize[0].inlineSize;\n",
       "                    height = entry.contentBoxSize[0].blockSize;\n",
       "                } else {\n",
       "                    // Firefox implements old version of spec.\n",
       "                    width = entry.contentBoxSize.inlineSize;\n",
       "                    height = entry.contentBoxSize.blockSize;\n",
       "                }\n",
       "            } else {\n",
       "                // Chrome <84 implements even older version of spec.\n",
       "                width = entry.contentRect.width;\n",
       "                height = entry.contentRect.height;\n",
       "            }\n",
       "\n",
       "            // Keep the size of the canvas and rubber band canvas in sync with\n",
       "            // the canvas container.\n",
       "            if (entry.devicePixelContentBoxSize) {\n",
       "                // Chrome 84 implements new version of spec.\n",
       "                canvas.setAttribute(\n",
       "                    'width',\n",
       "                    entry.devicePixelContentBoxSize[0].inlineSize\n",
       "                );\n",
       "                canvas.setAttribute(\n",
       "                    'height',\n",
       "                    entry.devicePixelContentBoxSize[0].blockSize\n",
       "                );\n",
       "            } else {\n",
       "                canvas.setAttribute('width', width * fig.ratio);\n",
       "                canvas.setAttribute('height', height * fig.ratio);\n",
       "            }\n",
       "            canvas.setAttribute(\n",
       "                'style',\n",
       "                'width: ' + width + 'px; height: ' + height + 'px;'\n",
       "            );\n",
       "\n",
       "            rubberband_canvas.setAttribute('width', width);\n",
       "            rubberband_canvas.setAttribute('height', height);\n",
       "\n",
       "            // And update the size in Python. We ignore the initial 0/0 size\n",
       "            // that occurs as the element is placed into the DOM, which should\n",
       "            // otherwise not happen due to the minimum size styling.\n",
       "            if (fig.ws.readyState == 1 && width != 0 && height != 0) {\n",
       "                fig.request_resize(width, height);\n",
       "            }\n",
       "        }\n",
       "    });\n",
       "    this.resizeObserverInstance.observe(canvas_div);\n",
       "\n",
       "    function on_mouse_event_closure(name) {\n",
       "        return function (event) {\n",
       "            return fig.mouse_event(event, name);\n",
       "        };\n",
       "    }\n",
       "\n",
       "    rubberband_canvas.addEventListener(\n",
       "        'mousedown',\n",
       "        on_mouse_event_closure('button_press')\n",
       "    );\n",
       "    rubberband_canvas.addEventListener(\n",
       "        'mouseup',\n",
       "        on_mouse_event_closure('button_release')\n",
       "    );\n",
       "    rubberband_canvas.addEventListener(\n",
       "        'dblclick',\n",
       "        on_mouse_event_closure('dblclick')\n",
       "    );\n",
       "    // Throttle sequential mouse events to 1 every 20ms.\n",
       "    rubberband_canvas.addEventListener(\n",
       "        'mousemove',\n",
       "        on_mouse_event_closure('motion_notify')\n",
       "    );\n",
       "\n",
       "    rubberband_canvas.addEventListener(\n",
       "        'mouseenter',\n",
       "        on_mouse_event_closure('figure_enter')\n",
       "    );\n",
       "    rubberband_canvas.addEventListener(\n",
       "        'mouseleave',\n",
       "        on_mouse_event_closure('figure_leave')\n",
       "    );\n",
       "\n",
       "    canvas_div.addEventListener('wheel', function (event) {\n",
       "        if (event.deltaY < 0) {\n",
       "            event.step = 1;\n",
       "        } else {\n",
       "            event.step = -1;\n",
       "        }\n",
       "        on_mouse_event_closure('scroll')(event);\n",
       "    });\n",
       "\n",
       "    canvas_div.appendChild(canvas);\n",
       "    canvas_div.appendChild(rubberband_canvas);\n",
       "\n",
       "    this.rubberband_context = rubberband_canvas.getContext('2d');\n",
       "    this.rubberband_context.strokeStyle = '#000000';\n",
       "\n",
       "    this._resize_canvas = function (width, height, forward) {\n",
       "        if (forward) {\n",
       "            canvas_div.style.width = width + 'px';\n",
       "            canvas_div.style.height = height + 'px';\n",
       "        }\n",
       "    };\n",
       "\n",
       "    // Disable right mouse context menu.\n",
       "    this.rubberband_canvas.addEventListener('contextmenu', function (_e) {\n",
       "        event.preventDefault();\n",
       "        return false;\n",
       "    });\n",
       "\n",
       "    function set_focus() {\n",
       "        canvas.focus();\n",
       "        canvas_div.focus();\n",
       "    }\n",
       "\n",
       "    window.setTimeout(set_focus, 100);\n",
       "};\n",
       "\n",
       "mpl.figure.prototype._init_toolbar = function () {\n",
       "    var fig = this;\n",
       "\n",
       "    var toolbar = document.createElement('div');\n",
       "    toolbar.classList = 'mpl-toolbar';\n",
       "    this.root.appendChild(toolbar);\n",
       "\n",
       "    function on_click_closure(name) {\n",
       "        return function (_event) {\n",
       "            return fig.toolbar_button_onclick(name);\n",
       "        };\n",
       "    }\n",
       "\n",
       "    function on_mouseover_closure(tooltip) {\n",
       "        return function (event) {\n",
       "            if (!event.currentTarget.disabled) {\n",
       "                return fig.toolbar_button_onmouseover(tooltip);\n",
       "            }\n",
       "        };\n",
       "    }\n",
       "\n",
       "    fig.buttons = {};\n",
       "    var buttonGroup = document.createElement('div');\n",
       "    buttonGroup.classList = 'mpl-button-group';\n",
       "    for (var toolbar_ind in mpl.toolbar_items) {\n",
       "        var name = mpl.toolbar_items[toolbar_ind][0];\n",
       "        var tooltip = mpl.toolbar_items[toolbar_ind][1];\n",
       "        var image = mpl.toolbar_items[toolbar_ind][2];\n",
       "        var method_name = mpl.toolbar_items[toolbar_ind][3];\n",
       "\n",
       "        if (!name) {\n",
       "            /* Instead of a spacer, we start a new button group. */\n",
       "            if (buttonGroup.hasChildNodes()) {\n",
       "                toolbar.appendChild(buttonGroup);\n",
       "            }\n",
       "            buttonGroup = document.createElement('div');\n",
       "            buttonGroup.classList = 'mpl-button-group';\n",
       "            continue;\n",
       "        }\n",
       "\n",
       "        var button = (fig.buttons[name] = document.createElement('button'));\n",
       "        button.classList = 'mpl-widget';\n",
       "        button.setAttribute('role', 'button');\n",
       "        button.setAttribute('aria-disabled', 'false');\n",
       "        button.addEventListener('click', on_click_closure(method_name));\n",
       "        button.addEventListener('mouseover', on_mouseover_closure(tooltip));\n",
       "\n",
       "        var icon_img = document.createElement('img');\n",
       "        icon_img.src = '_images/' + image + '.png';\n",
       "        icon_img.srcset = '_images/' + image + '_large.png 2x';\n",
       "        icon_img.alt = tooltip;\n",
       "        button.appendChild(icon_img);\n",
       "\n",
       "        buttonGroup.appendChild(button);\n",
       "    }\n",
       "\n",
       "    if (buttonGroup.hasChildNodes()) {\n",
       "        toolbar.appendChild(buttonGroup);\n",
       "    }\n",
       "\n",
       "    var fmt_picker = document.createElement('select');\n",
       "    fmt_picker.classList = 'mpl-widget';\n",
       "    toolbar.appendChild(fmt_picker);\n",
       "    this.format_dropdown = fmt_picker;\n",
       "\n",
       "    for (var ind in mpl.extensions) {\n",
       "        var fmt = mpl.extensions[ind];\n",
       "        var option = document.createElement('option');\n",
       "        option.selected = fmt === mpl.default_extension;\n",
       "        option.innerHTML = fmt;\n",
       "        fmt_picker.appendChild(option);\n",
       "    }\n",
       "\n",
       "    var status_bar = document.createElement('span');\n",
       "    status_bar.classList = 'mpl-message';\n",
       "    toolbar.appendChild(status_bar);\n",
       "    this.message = status_bar;\n",
       "};\n",
       "\n",
       "mpl.figure.prototype.request_resize = function (x_pixels, y_pixels) {\n",
       "    // Request matplotlib to resize the figure. Matplotlib will then trigger a resize in the client,\n",
       "    // which will in turn request a refresh of the image.\n",
       "    this.send_message('resize', { width: x_pixels, height: y_pixels });\n",
       "};\n",
       "\n",
       "mpl.figure.prototype.send_message = function (type, properties) {\n",
       "    properties['type'] = type;\n",
       "    properties['figure_id'] = this.id;\n",
       "    this.ws.send(JSON.stringify(properties));\n",
       "};\n",
       "\n",
       "mpl.figure.prototype.send_draw_message = function () {\n",
       "    if (!this.waiting) {\n",
       "        this.waiting = true;\n",
       "        this.ws.send(JSON.stringify({ type: 'draw', figure_id: this.id }));\n",
       "    }\n",
       "};\n",
       "\n",
       "mpl.figure.prototype.handle_save = function (fig, _msg) {\n",
       "    var format_dropdown = fig.format_dropdown;\n",
       "    var format = format_dropdown.options[format_dropdown.selectedIndex].value;\n",
       "    fig.ondownload(fig, format);\n",
       "};\n",
       "\n",
       "mpl.figure.prototype.handle_resize = function (fig, msg) {\n",
       "    var size = msg['size'];\n",
       "    if (size[0] !== fig.canvas.width || size[1] !== fig.canvas.height) {\n",
       "        fig._resize_canvas(size[0], size[1], msg['forward']);\n",
       "        fig.send_message('refresh', {});\n",
       "    }\n",
       "};\n",
       "\n",
       "mpl.figure.prototype.handle_rubberband = function (fig, msg) {\n",
       "    var x0 = msg['x0'] / fig.ratio;\n",
       "    var y0 = (fig.canvas.height - msg['y0']) / fig.ratio;\n",
       "    var x1 = msg['x1'] / fig.ratio;\n",
       "    var y1 = (fig.canvas.height - msg['y1']) / fig.ratio;\n",
       "    x0 = Math.floor(x0) + 0.5;\n",
       "    y0 = Math.floor(y0) + 0.5;\n",
       "    x1 = Math.floor(x1) + 0.5;\n",
       "    y1 = Math.floor(y1) + 0.5;\n",
       "    var min_x = Math.min(x0, x1);\n",
       "    var min_y = Math.min(y0, y1);\n",
       "    var width = Math.abs(x1 - x0);\n",
       "    var height = Math.abs(y1 - y0);\n",
       "\n",
       "    fig.rubberband_context.clearRect(\n",
       "        0,\n",
       "        0,\n",
       "        fig.canvas.width / fig.ratio,\n",
       "        fig.canvas.height / fig.ratio\n",
       "    );\n",
       "\n",
       "    fig.rubberband_context.strokeRect(min_x, min_y, width, height);\n",
       "};\n",
       "\n",
       "mpl.figure.prototype.handle_figure_label = function (fig, msg) {\n",
       "    // Updates the figure title.\n",
       "    fig.header.textContent = msg['label'];\n",
       "};\n",
       "\n",
       "mpl.figure.prototype.handle_cursor = function (fig, msg) {\n",
       "    var cursor = msg['cursor'];\n",
       "    switch (cursor) {\n",
       "        case 0:\n",
       "            cursor = 'pointer';\n",
       "            break;\n",
       "        case 1:\n",
       "            cursor = 'default';\n",
       "            break;\n",
       "        case 2:\n",
       "            cursor = 'crosshair';\n",
       "            break;\n",
       "        case 3:\n",
       "            cursor = 'move';\n",
       "            break;\n",
       "    }\n",
       "    fig.rubberband_canvas.style.cursor = cursor;\n",
       "};\n",
       "\n",
       "mpl.figure.prototype.handle_message = function (fig, msg) {\n",
       "    fig.message.textContent = msg['message'];\n",
       "};\n",
       "\n",
       "mpl.figure.prototype.handle_draw = function (fig, _msg) {\n",
       "    // Request the server to send over a new figure.\n",
       "    fig.send_draw_message();\n",
       "};\n",
       "\n",
       "mpl.figure.prototype.handle_image_mode = function (fig, msg) {\n",
       "    fig.image_mode = msg['mode'];\n",
       "};\n",
       "\n",
       "mpl.figure.prototype.handle_history_buttons = function (fig, msg) {\n",
       "    for (var key in msg) {\n",
       "        if (!(key in fig.buttons)) {\n",
       "            continue;\n",
       "        }\n",
       "        fig.buttons[key].disabled = !msg[key];\n",
       "        fig.buttons[key].setAttribute('aria-disabled', !msg[key]);\n",
       "    }\n",
       "};\n",
       "\n",
       "mpl.figure.prototype.handle_navigate_mode = function (fig, msg) {\n",
       "    if (msg['mode'] === 'PAN') {\n",
       "        fig.buttons['Pan'].classList.add('active');\n",
       "        fig.buttons['Zoom'].classList.remove('active');\n",
       "    } else if (msg['mode'] === 'ZOOM') {\n",
       "        fig.buttons['Pan'].classList.remove('active');\n",
       "        fig.buttons['Zoom'].classList.add('active');\n",
       "    } else {\n",
       "        fig.buttons['Pan'].classList.remove('active');\n",
       "        fig.buttons['Zoom'].classList.remove('active');\n",
       "    }\n",
       "};\n",
       "\n",
       "mpl.figure.prototype.updated_canvas_event = function () {\n",
       "    // Called whenever the canvas gets updated.\n",
       "    this.send_message('ack', {});\n",
       "};\n",
       "\n",
       "// A function to construct a web socket function for onmessage handling.\n",
       "// Called in the figure constructor.\n",
       "mpl.figure.prototype._make_on_message_function = function (fig) {\n",
       "    return function socket_on_message(evt) {\n",
       "        if (evt.data instanceof Blob) {\n",
       "            var img = evt.data;\n",
       "            if (img.type !== 'image/png') {\n",
       "                /* FIXME: We get \"Resource interpreted as Image but\n",
       "                 * transferred with MIME type text/plain:\" errors on\n",
       "                 * Chrome.  But how to set the MIME type?  It doesn't seem\n",
       "                 * to be part of the websocket stream */\n",
       "                img.type = 'image/png';\n",
       "            }\n",
       "\n",
       "            /* Free the memory for the previous frames */\n",
       "            if (fig.imageObj.src) {\n",
       "                (window.URL || window.webkitURL).revokeObjectURL(\n",
       "                    fig.imageObj.src\n",
       "                );\n",
       "            }\n",
       "\n",
       "            fig.imageObj.src = (window.URL || window.webkitURL).createObjectURL(\n",
       "                img\n",
       "            );\n",
       "            fig.updated_canvas_event();\n",
       "            fig.waiting = false;\n",
       "            return;\n",
       "        } else if (\n",
       "            typeof evt.data === 'string' &&\n",
       "            evt.data.slice(0, 21) === 'data:image/png;base64'\n",
       "        ) {\n",
       "            fig.imageObj.src = evt.data;\n",
       "            fig.updated_canvas_event();\n",
       "            fig.waiting = false;\n",
       "            return;\n",
       "        }\n",
       "\n",
       "        var msg = JSON.parse(evt.data);\n",
       "        var msg_type = msg['type'];\n",
       "\n",
       "        // Call the  \"handle_{type}\" callback, which takes\n",
       "        // the figure and JSON message as its only arguments.\n",
       "        try {\n",
       "            var callback = fig['handle_' + msg_type];\n",
       "        } catch (e) {\n",
       "            console.log(\n",
       "                \"No handler for the '\" + msg_type + \"' message type: \",\n",
       "                msg\n",
       "            );\n",
       "            return;\n",
       "        }\n",
       "\n",
       "        if (callback) {\n",
       "            try {\n",
       "                // console.log(\"Handling '\" + msg_type + \"' message: \", msg);\n",
       "                callback(fig, msg);\n",
       "            } catch (e) {\n",
       "                console.log(\n",
       "                    \"Exception inside the 'handler_\" + msg_type + \"' callback:\",\n",
       "                    e,\n",
       "                    e.stack,\n",
       "                    msg\n",
       "                );\n",
       "            }\n",
       "        }\n",
       "    };\n",
       "};\n",
       "\n",
       "// from http://stackoverflow.com/questions/1114465/getting-mouse-location-in-canvas\n",
       "mpl.findpos = function (e) {\n",
       "    //this section is from http://www.quirksmode.org/js/events_properties.html\n",
       "    var targ;\n",
       "    if (!e) {\n",
       "        e = window.event;\n",
       "    }\n",
       "    if (e.target) {\n",
       "        targ = e.target;\n",
       "    } else if (e.srcElement) {\n",
       "        targ = e.srcElement;\n",
       "    }\n",
       "    if (targ.nodeType === 3) {\n",
       "        // defeat Safari bug\n",
       "        targ = targ.parentNode;\n",
       "    }\n",
       "\n",
       "    // pageX,Y are the mouse positions relative to the document\n",
       "    var boundingRect = targ.getBoundingClientRect();\n",
       "    var x = e.pageX - (boundingRect.left + document.body.scrollLeft);\n",
       "    var y = e.pageY - (boundingRect.top + document.body.scrollTop);\n",
       "\n",
       "    return { x: x, y: y };\n",
       "};\n",
       "\n",
       "/*\n",
       " * return a copy of an object with only non-object keys\n",
       " * we need this to avoid circular references\n",
       " * http://stackoverflow.com/a/24161582/3208463\n",
       " */\n",
       "function simpleKeys(original) {\n",
       "    return Object.keys(original).reduce(function (obj, key) {\n",
       "        if (typeof original[key] !== 'object') {\n",
       "            obj[key] = original[key];\n",
       "        }\n",
       "        return obj;\n",
       "    }, {});\n",
       "}\n",
       "\n",
       "mpl.figure.prototype.mouse_event = function (event, name) {\n",
       "    var canvas_pos = mpl.findpos(event);\n",
       "\n",
       "    if (name === 'button_press') {\n",
       "        this.canvas.focus();\n",
       "        this.canvas_div.focus();\n",
       "    }\n",
       "\n",
       "    var x = canvas_pos.x * this.ratio;\n",
       "    var y = canvas_pos.y * this.ratio;\n",
       "\n",
       "    this.send_message(name, {\n",
       "        x: x,\n",
       "        y: y,\n",
       "        button: event.button,\n",
       "        step: event.step,\n",
       "        guiEvent: simpleKeys(event),\n",
       "    });\n",
       "\n",
       "    /* This prevents the web browser from automatically changing to\n",
       "     * the text insertion cursor when the button is pressed.  We want\n",
       "     * to control all of the cursor setting manually through the\n",
       "     * 'cursor' event from matplotlib */\n",
       "    event.preventDefault();\n",
       "    return false;\n",
       "};\n",
       "\n",
       "mpl.figure.prototype._key_event_extra = function (_event, _name) {\n",
       "    // Handle any extra behaviour associated with a key event\n",
       "};\n",
       "\n",
       "mpl.figure.prototype.key_event = function (event, name) {\n",
       "    // Prevent repeat events\n",
       "    if (name === 'key_press') {\n",
       "        if (event.key === this._key) {\n",
       "            return;\n",
       "        } else {\n",
       "            this._key = event.key;\n",
       "        }\n",
       "    }\n",
       "    if (name === 'key_release') {\n",
       "        this._key = null;\n",
       "    }\n",
       "\n",
       "    var value = '';\n",
       "    if (event.ctrlKey && event.key !== 'Control') {\n",
       "        value += 'ctrl+';\n",
       "    }\n",
       "    else if (event.altKey && event.key !== 'Alt') {\n",
       "        value += 'alt+';\n",
       "    }\n",
       "    else if (event.shiftKey && event.key !== 'Shift') {\n",
       "        value += 'shift+';\n",
       "    }\n",
       "\n",
       "    value += 'k' + event.key;\n",
       "\n",
       "    this._key_event_extra(event, name);\n",
       "\n",
       "    this.send_message(name, { key: value, guiEvent: simpleKeys(event) });\n",
       "    return false;\n",
       "};\n",
       "\n",
       "mpl.figure.prototype.toolbar_button_onclick = function (name) {\n",
       "    if (name === 'download') {\n",
       "        this.handle_save(this, null);\n",
       "    } else {\n",
       "        this.send_message('toolbar_button', { name: name });\n",
       "    }\n",
       "};\n",
       "\n",
       "mpl.figure.prototype.toolbar_button_onmouseover = function (tooltip) {\n",
       "    this.message.textContent = tooltip;\n",
       "};\n",
       "\n",
       "///////////////// REMAINING CONTENT GENERATED BY embed_js.py /////////////////\n",
       "// prettier-ignore\n",
       "var _JSXTOOLS_RESIZE_OBSERVER=function(A){var t,i=new WeakMap,n=new WeakMap,a=new WeakMap,r=new WeakMap,o=new Set;function s(e){if(!(this instanceof s))throw new TypeError(\"Constructor requires 'new' operator\");i.set(this,e)}function h(){throw new TypeError(\"Function is not a constructor\")}function c(e,t,i,n){e=0 in arguments?Number(arguments[0]):0,t=1 in arguments?Number(arguments[1]):0,i=2 in arguments?Number(arguments[2]):0,n=3 in arguments?Number(arguments[3]):0,this.right=(this.x=this.left=e)+(this.width=i),this.bottom=(this.y=this.top=t)+(this.height=n),Object.freeze(this)}function d(){t=requestAnimationFrame(d);var s=new WeakMap,p=new Set;o.forEach((function(t){r.get(t).forEach((function(i){var r=t instanceof window.SVGElement,o=a.get(t),d=r?0:parseFloat(o.paddingTop),f=r?0:parseFloat(o.paddingRight),l=r?0:parseFloat(o.paddingBottom),u=r?0:parseFloat(o.paddingLeft),g=r?0:parseFloat(o.borderTopWidth),m=r?0:parseFloat(o.borderRightWidth),w=r?0:parseFloat(o.borderBottomWidth),b=u+f,F=d+l,v=(r?0:parseFloat(o.borderLeftWidth))+m,W=g+w,y=r?0:t.offsetHeight-W-t.clientHeight,E=r?0:t.offsetWidth-v-t.clientWidth,R=b+v,z=F+W,M=r?t.width:parseFloat(o.width)-R-E,O=r?t.height:parseFloat(o.height)-z-y;if(n.has(t)){var k=n.get(t);if(k[0]===M&&k[1]===O)return}n.set(t,[M,O]);var S=Object.create(h.prototype);S.target=t,S.contentRect=new c(u,d,M,O),s.has(i)||(s.set(i,[]),p.add(i)),s.get(i).push(S)}))})),p.forEach((function(e){i.get(e).call(e,s.get(e),e)}))}return s.prototype.observe=function(i){if(i instanceof window.Element){r.has(i)||(r.set(i,new Set),o.add(i),a.set(i,window.getComputedStyle(i)));var n=r.get(i);n.has(this)||n.add(this),cancelAnimationFrame(t),t=requestAnimationFrame(d)}},s.prototype.unobserve=function(i){if(i instanceof window.Element&&r.has(i)){var n=r.get(i);n.has(this)&&(n.delete(this),n.size||(r.delete(i),o.delete(i))),n.size||r.delete(i),o.size||cancelAnimationFrame(t)}},A.DOMRectReadOnly=c,A.ResizeObserver=s,A.ResizeObserverEntry=h,A}; // eslint-disable-line\n",
       "mpl.toolbar_items = [[\"Home\", \"Reset original view\", \"fa fa-home icon-home\", \"home\"], [\"Back\", \"Back to previous view\", \"fa fa-arrow-left icon-arrow-left\", \"back\"], [\"Forward\", \"Forward to next view\", \"fa fa-arrow-right icon-arrow-right\", \"forward\"], [\"\", \"\", \"\", \"\"], [\"Pan\", \"Left button pans, Right button zooms\\nx/y fixes axis, CTRL fixes aspect\", \"fa fa-arrows icon-move\", \"pan\"], [\"Zoom\", \"Zoom to rectangle\\nx/y fixes axis, CTRL fixes aspect\", \"fa fa-square-o icon-check-empty\", \"zoom\"], [\"\", \"\", \"\", \"\"], [\"Download\", \"Download plot\", \"fa fa-floppy-o icon-save\", \"download\"]];\n",
       "\n",
       "mpl.extensions = [\"eps\", \"jpeg\", \"pgf\", \"pdf\", \"png\", \"ps\", \"raw\", \"svg\", \"tif\"];\n",
       "\n",
       "mpl.default_extension = \"png\";/* global mpl */\n",
       "\n",
       "var comm_websocket_adapter = function (comm) {\n",
       "    // Create a \"websocket\"-like object which calls the given IPython comm\n",
       "    // object with the appropriate methods. Currently this is a non binary\n",
       "    // socket, so there is still some room for performance tuning.\n",
       "    var ws = {};\n",
       "\n",
       "    ws.binaryType = comm.kernel.ws.binaryType;\n",
       "    ws.readyState = comm.kernel.ws.readyState;\n",
       "    function updateReadyState(_event) {\n",
       "        if (comm.kernel.ws) {\n",
       "            ws.readyState = comm.kernel.ws.readyState;\n",
       "        } else {\n",
       "            ws.readyState = 3; // Closed state.\n",
       "        }\n",
       "    }\n",
       "    comm.kernel.ws.addEventListener('open', updateReadyState);\n",
       "    comm.kernel.ws.addEventListener('close', updateReadyState);\n",
       "    comm.kernel.ws.addEventListener('error', updateReadyState);\n",
       "\n",
       "    ws.close = function () {\n",
       "        comm.close();\n",
       "    };\n",
       "    ws.send = function (m) {\n",
       "        //console.log('sending', m);\n",
       "        comm.send(m);\n",
       "    };\n",
       "    // Register the callback with on_msg.\n",
       "    comm.on_msg(function (msg) {\n",
       "        //console.log('receiving', msg['content']['data'], msg);\n",
       "        var data = msg['content']['data'];\n",
       "        if (data['blob'] !== undefined) {\n",
       "            data = {\n",
       "                data: new Blob(msg['buffers'], { type: data['blob'] }),\n",
       "            };\n",
       "        }\n",
       "        // Pass the mpl event to the overridden (by mpl) onmessage function.\n",
       "        ws.onmessage(data);\n",
       "    });\n",
       "    return ws;\n",
       "};\n",
       "\n",
       "mpl.mpl_figure_comm = function (comm, msg) {\n",
       "    // This is the function which gets called when the mpl process\n",
       "    // starts-up an IPython Comm through the \"matplotlib\" channel.\n",
       "\n",
       "    var id = msg.content.data.id;\n",
       "    // Get hold of the div created by the display call when the Comm\n",
       "    // socket was opened in Python.\n",
       "    var element = document.getElementById(id);\n",
       "    var ws_proxy = comm_websocket_adapter(comm);\n",
       "\n",
       "    function ondownload(figure, _format) {\n",
       "        window.open(figure.canvas.toDataURL());\n",
       "    }\n",
       "\n",
       "    var fig = new mpl.figure(id, ws_proxy, ondownload, element);\n",
       "\n",
       "    // Call onopen now - mpl needs it, as it is assuming we've passed it a real\n",
       "    // web socket which is closed, not our websocket->open comm proxy.\n",
       "    ws_proxy.onopen();\n",
       "\n",
       "    fig.parent_element = element;\n",
       "    fig.cell_info = mpl.find_output_cell(\"<div id='\" + id + \"'></div>\");\n",
       "    if (!fig.cell_info) {\n",
       "        console.error('Failed to find cell for figure', id, fig);\n",
       "        return;\n",
       "    }\n",
       "    fig.cell_info[0].output_area.element.on(\n",
       "        'cleared',\n",
       "        { fig: fig },\n",
       "        fig._remove_fig_handler\n",
       "    );\n",
       "};\n",
       "\n",
       "mpl.figure.prototype.handle_close = function (fig, msg) {\n",
       "    var width = fig.canvas.width / fig.ratio;\n",
       "    fig.cell_info[0].output_area.element.off(\n",
       "        'cleared',\n",
       "        fig._remove_fig_handler\n",
       "    );\n",
       "    fig.resizeObserverInstance.unobserve(fig.canvas_div);\n",
       "\n",
       "    // Update the output cell to use the data from the current canvas.\n",
       "    fig.push_to_output();\n",
       "    var dataURL = fig.canvas.toDataURL();\n",
       "    // Re-enable the keyboard manager in IPython - without this line, in FF,\n",
       "    // the notebook keyboard shortcuts fail.\n",
       "    IPython.keyboard_manager.enable();\n",
       "    fig.parent_element.innerHTML =\n",
       "        '<img src=\"' + dataURL + '\" width=\"' + width + '\">';\n",
       "    fig.close_ws(fig, msg);\n",
       "};\n",
       "\n",
       "mpl.figure.prototype.close_ws = function (fig, msg) {\n",
       "    fig.send_message('closing', msg);\n",
       "    // fig.ws.close()\n",
       "};\n",
       "\n",
       "mpl.figure.prototype.push_to_output = function (_remove_interactive) {\n",
       "    // Turn the data on the canvas into data in the output cell.\n",
       "    var width = this.canvas.width / this.ratio;\n",
       "    var dataURL = this.canvas.toDataURL();\n",
       "    this.cell_info[1]['text/html'] =\n",
       "        '<img src=\"' + dataURL + '\" width=\"' + width + '\">';\n",
       "};\n",
       "\n",
       "mpl.figure.prototype.updated_canvas_event = function () {\n",
       "    // Tell IPython that the notebook contents must change.\n",
       "    IPython.notebook.set_dirty(true);\n",
       "    this.send_message('ack', {});\n",
       "    var fig = this;\n",
       "    // Wait a second, then push the new image to the DOM so\n",
       "    // that it is saved nicely (might be nice to debounce this).\n",
       "    setTimeout(function () {\n",
       "        fig.push_to_output();\n",
       "    }, 1000);\n",
       "};\n",
       "\n",
       "mpl.figure.prototype._init_toolbar = function () {\n",
       "    var fig = this;\n",
       "\n",
       "    var toolbar = document.createElement('div');\n",
       "    toolbar.classList = 'btn-toolbar';\n",
       "    this.root.appendChild(toolbar);\n",
       "\n",
       "    function on_click_closure(name) {\n",
       "        return function (_event) {\n",
       "            return fig.toolbar_button_onclick(name);\n",
       "        };\n",
       "    }\n",
       "\n",
       "    function on_mouseover_closure(tooltip) {\n",
       "        return function (event) {\n",
       "            if (!event.currentTarget.disabled) {\n",
       "                return fig.toolbar_button_onmouseover(tooltip);\n",
       "            }\n",
       "        };\n",
       "    }\n",
       "\n",
       "    fig.buttons = {};\n",
       "    var buttonGroup = document.createElement('div');\n",
       "    buttonGroup.classList = 'btn-group';\n",
       "    var button;\n",
       "    for (var toolbar_ind in mpl.toolbar_items) {\n",
       "        var name = mpl.toolbar_items[toolbar_ind][0];\n",
       "        var tooltip = mpl.toolbar_items[toolbar_ind][1];\n",
       "        var image = mpl.toolbar_items[toolbar_ind][2];\n",
       "        var method_name = mpl.toolbar_items[toolbar_ind][3];\n",
       "\n",
       "        if (!name) {\n",
       "            /* Instead of a spacer, we start a new button group. */\n",
       "            if (buttonGroup.hasChildNodes()) {\n",
       "                toolbar.appendChild(buttonGroup);\n",
       "            }\n",
       "            buttonGroup = document.createElement('div');\n",
       "            buttonGroup.classList = 'btn-group';\n",
       "            continue;\n",
       "        }\n",
       "\n",
       "        button = fig.buttons[name] = document.createElement('button');\n",
       "        button.classList = 'btn btn-default';\n",
       "        button.href = '#';\n",
       "        button.title = name;\n",
       "        button.innerHTML = '<i class=\"fa ' + image + ' fa-lg\"></i>';\n",
       "        button.addEventListener('click', on_click_closure(method_name));\n",
       "        button.addEventListener('mouseover', on_mouseover_closure(tooltip));\n",
       "        buttonGroup.appendChild(button);\n",
       "    }\n",
       "\n",
       "    if (buttonGroup.hasChildNodes()) {\n",
       "        toolbar.appendChild(buttonGroup);\n",
       "    }\n",
       "\n",
       "    // Add the status bar.\n",
       "    var status_bar = document.createElement('span');\n",
       "    status_bar.classList = 'mpl-message pull-right';\n",
       "    toolbar.appendChild(status_bar);\n",
       "    this.message = status_bar;\n",
       "\n",
       "    // Add the close button to the window.\n",
       "    var buttongrp = document.createElement('div');\n",
       "    buttongrp.classList = 'btn-group inline pull-right';\n",
       "    button = document.createElement('button');\n",
       "    button.classList = 'btn btn-mini btn-primary';\n",
       "    button.href = '#';\n",
       "    button.title = 'Stop Interaction';\n",
       "    button.innerHTML = '<i class=\"fa fa-power-off icon-remove icon-large\"></i>';\n",
       "    button.addEventListener('click', function (_evt) {\n",
       "        fig.handle_close(fig, {});\n",
       "    });\n",
       "    button.addEventListener(\n",
       "        'mouseover',\n",
       "        on_mouseover_closure('Stop Interaction')\n",
       "    );\n",
       "    buttongrp.appendChild(button);\n",
       "    var titlebar = this.root.querySelector('.ui-dialog-titlebar');\n",
       "    titlebar.insertBefore(buttongrp, titlebar.firstChild);\n",
       "};\n",
       "\n",
       "mpl.figure.prototype._remove_fig_handler = function (event) {\n",
       "    var fig = event.data.fig;\n",
       "    if (event.target !== this) {\n",
       "        // Ignore bubbled events from children.\n",
       "        return;\n",
       "    }\n",
       "    fig.close_ws(fig, {});\n",
       "};\n",
       "\n",
       "mpl.figure.prototype._root_extra_style = function (el) {\n",
       "    el.style.boxSizing = 'content-box'; // override notebook setting of border-box.\n",
       "};\n",
       "\n",
       "mpl.figure.prototype._canvas_extra_style = function (el) {\n",
       "    // this is important to make the div 'focusable\n",
       "    el.setAttribute('tabindex', 0);\n",
       "    // reach out to IPython and tell the keyboard manager to turn it's self\n",
       "    // off when our div gets focus\n",
       "\n",
       "    // location in version 3\n",
       "    if (IPython.notebook.keyboard_manager) {\n",
       "        IPython.notebook.keyboard_manager.register_events(el);\n",
       "    } else {\n",
       "        // location in version 2\n",
       "        IPython.keyboard_manager.register_events(el);\n",
       "    }\n",
       "};\n",
       "\n",
       "mpl.figure.prototype._key_event_extra = function (event, _name) {\n",
       "    var manager = IPython.notebook.keyboard_manager;\n",
       "    if (!manager) {\n",
       "        manager = IPython.keyboard_manager;\n",
       "    }\n",
       "\n",
       "    // Check for shift+enter\n",
       "    if (event.shiftKey && event.which === 13) {\n",
       "        this.canvas_div.blur();\n",
       "        // select the cell after this one\n",
       "        var index = IPython.notebook.find_cell_index(this.cell_info[0]);\n",
       "        IPython.notebook.select(index + 1);\n",
       "    }\n",
       "};\n",
       "\n",
       "mpl.figure.prototype.handle_save = function (fig, _msg) {\n",
       "    fig.ondownload(fig, null);\n",
       "};\n",
       "\n",
       "mpl.find_output_cell = function (html_output) {\n",
       "    // Return the cell and output element which can be found *uniquely* in the notebook.\n",
       "    // Note - this is a bit hacky, but it is done because the \"notebook_saving.Notebook\"\n",
       "    // IPython event is triggered only after the cells have been serialised, which for\n",
       "    // our purposes (turning an active figure into a static one), is too late.\n",
       "    var cells = IPython.notebook.get_cells();\n",
       "    var ncells = cells.length;\n",
       "    for (var i = 0; i < ncells; i++) {\n",
       "        var cell = cells[i];\n",
       "        if (cell.cell_type === 'code') {\n",
       "            for (var j = 0; j < cell.output_area.outputs.length; j++) {\n",
       "                var data = cell.output_area.outputs[j];\n",
       "                if (data.data) {\n",
       "                    // IPython >= 3 moved mimebundle to data attribute of output\n",
       "                    data = data.data;\n",
       "                }\n",
       "                if (data['text/html'] === html_output) {\n",
       "                    return [cell, data, j];\n",
       "                }\n",
       "            }\n",
       "        }\n",
       "    }\n",
       "};\n",
       "\n",
       "// Register the function which deals with the matplotlib target/channel.\n",
       "// The kernel may be null if the page has been refreshed.\n",
       "if (IPython.notebook.kernel !== null) {\n",
       "    IPython.notebook.kernel.comm_manager.register_target(\n",
       "        'matplotlib',\n",
       "        mpl.mpl_figure_comm\n",
       "    );\n",
       "}\n"
      ],
      "text/plain": [
       "<IPython.core.display.Javascript object>"
      ]
     },
     "metadata": {},
     "output_type": "display_data"
    },
    {
     "data": {
      "text/html": [
       "<div id='a16474ae-c6a4-415b-b90e-e535e7927d5d'></div>"
      ],
      "text/plain": [
       "<IPython.core.display.HTML object>"
      ]
     },
     "metadata": {},
     "output_type": "display_data"
    }
   ],
   "source": [
    "%matplotlib notebook\n",
    "plot_pred(model)"
   ]
  },
  {
   "cell_type": "markdown",
   "id": "93923fe6-b21c-4230-aa83-02440718db73",
   "metadata": {},
   "source": [
    "#### Exercise 5.04: Building a 1D Convolution-Based Model\n",
    "In this exercise, we will build our first model using 1D convnets and evaluate its performance. We'll employ a single Conv1D layer, followed by MaxPooling1D"
   ]
  },
  {
   "cell_type": "code",
   "execution_count": 29,
   "id": "e64fab37-96c3-4d3d-b3cb-58927194770e",
   "metadata": {},
   "outputs": [],
   "source": [
    "from tensorflow.keras.layers import Conv1D, MaxPool1D, Flatten"
   ]
  },
  {
   "cell_type": "code",
   "execution_count": 30,
   "id": "163e57b0-0fee-4bfe-ac55-0555def7d445",
   "metadata": {},
   "outputs": [],
   "source": [
    "# Initialize a Sequential model and add a Reshape layer to reshape each instance as a vector (look_back, 1)\n",
    "model_conv = Sequential( )\n",
    "model_conv.add(Reshape((look_back, 1), input_shape=(look_back,)))"
   ]
  },
  {
   "cell_type": "code",
   "execution_count": 31,
   "id": "ad1f6a81-15ee-495d-900d-e642fe6522b1",
   "metadata": {},
   "outputs": [],
   "source": [
    "# Add a Conv1D layer with five filters of size 5 and relu as the activation function\n",
    "model_conv.add(Conv1D(5, 5, activation='relu'))"
   ]
  },
  {
   "cell_type": "raw",
   "id": "76aac74e-2f6a-470b-9d12-f673b25248ef",
   "metadata": {},
   "source": [
    "Note that we're using fewer filters than the sequence length. In many other applications, the sequence can be much longer than in our example. The filters are generally much lower in number than the input sequence."
   ]
  },
  {
   "cell_type": "code",
   "execution_count": 32,
   "id": "f05cdae9-27fe-4aad-bb47-3defe0318cc6",
   "metadata": {},
   "outputs": [],
   "source": [
    "# Add a Maxpooling1D layer with a pool size of 5:\n",
    "model_conv.add(MaxPool1D(5))"
   ]
  },
  {
   "cell_type": "code",
   "execution_count": 33,
   "id": "06957883-c585-49c0-8e70-13fb43ca8a5f",
   "metadata": {},
   "outputs": [],
   "source": [
    "# Flatten the output with a Flatten layer:\n",
    "model_conv.add(Flatten())"
   ]
  },
  {
   "cell_type": "code",
   "execution_count": 34,
   "id": "42ca6ae8-49a9-4c7c-9c58-e4f38efd165b",
   "metadata": {},
   "outputs": [],
   "source": [
    "# Add a Dense layer with a single neuron and add a linear activation layer:\n",
    "model_conv.add(Dense(1))\n",
    "model_conv.add(Activation('linear'))"
   ]
  },
  {
   "cell_type": "code",
   "execution_count": 35,
   "id": "32290452-74f0-4e12-83a3-ca0a661267da",
   "metadata": {},
   "outputs": [
    {
     "name": "stdout",
     "output_type": "stream",
     "text": [
      "Model: \"sequential_1\"\n",
      "_________________________________________________________________\n",
      " Layer (type)                Output Shape              Param #   \n",
      "=================================================================\n",
      " reshape_1 (Reshape)         (None, 10, 1)             0         \n",
      "                                                                 \n",
      " conv1d (Conv1D)             (None, 6, 5)              30        \n",
      "                                                                 \n",
      " max_pooling1d (MaxPooling1D  (None, 1, 5)             0         \n",
      " )                                                               \n",
      "                                                                 \n",
      " flatten (Flatten)           (None, 5)                 0         \n",
      "                                                                 \n",
      " dense_1 (Dense)             (None, 1)                 6         \n",
      "                                                                 \n",
      " activation_1 (Activation)   (None, 1)                 0         \n",
      "                                                                 \n",
      "=================================================================\n",
      "Total params: 36\n",
      "Trainable params: 36\n",
      "Non-trainable params: 0\n",
      "_________________________________________________________________\n"
     ]
    }
   ],
   "source": [
    "# Print out the summary of the model:\n",
    "model_conv.summary()"
   ]
  },
  {
   "cell_type": "markdown",
   "id": "eb29bd99-5410-4ffa-ba06-52ae63c8dfeb",
   "metadata": {},
   "source": [
    "Notice the dimensions of the output from the Conv1D layer – 6 x 5. This is expected – for a filter size of 5, we get 6 features. Also, take a look at the overall number of parameters. It's just 36, which is indeed a very small number."
   ]
  },
  {
   "cell_type": "code",
   "execution_count": 36,
   "id": "474b9c3b-91e6-42cd-8544-aa5199cd85db",
   "metadata": {},
   "outputs": [
    {
     "name": "stdout",
     "output_type": "stream",
     "text": [
      "Epoch 1/5\n",
      "1696/1696 - 1s - loss: 0.0913 - val_loss: 0.0014 - 1s/epoch - 694us/step\n",
      "Epoch 2/5\n",
      "1696/1696 - 1s - loss: 0.0040 - val_loss: 8.3635e-04 - 886ms/epoch - 522us/step\n",
      "Epoch 3/5\n",
      "1696/1696 - 1s - loss: 0.0018 - val_loss: 8.7155e-04 - 918ms/epoch - 542us/step\n",
      "Epoch 4/5\n",
      "1696/1696 - 1s - loss: 0.0016 - val_loss: 9.2257e-04 - 892ms/epoch - 526us/step\n",
      "Epoch 5/5\n",
      "1696/1696 - 1s - loss: 0.0016 - val_loss: 7.9402e-04 - 893ms/epoch - 527us/step\n"
     ]
    },
    {
     "data": {
      "text/plain": [
       "<keras.callbacks.History at 0x7f997c3c6d00>"
      ]
     },
     "execution_count": 36,
     "metadata": {},
     "output_type": "execute_result"
    }
   ],
   "source": [
    "# Compile the model with the loss as mean_squared_error and adam as the optimizer, and then fit it on the train data for 5 epochs\n",
    "model_conv.compile(\n",
    "    loss='mean_squared_error',\n",
    "    optimizer='adam'\n",
    ")\n",
    "model_conv.fit(\n",
    "    trainX, \n",
    "    trainY, \n",
    "    epochs=5,\n",
    "    batch_size=1,\n",
    "    verbose=2,\n",
    "    validation_split=0.1\n",
    ")"
   ]
  },
  {
   "cell_type": "code",
   "execution_count": 37,
   "id": "7f2012de-5842-4b75-9ac0-9e4c64b8e232",
   "metadata": {},
   "outputs": [
    {
     "name": "stdout",
     "output_type": "stream",
     "text": [
      "Train RMSE: 0.04 RMSE\n",
      "Test RMSE: 0.04 RMSE\n"
     ]
    }
   ],
   "source": [
    "# Use the get_model_perf function to get the RMSE for the train and test sets:\n",
    "get_model_perf(model_conv)"
   ]
  },
  {
   "cell_type": "code",
   "execution_count": 38,
   "id": "b5590093-a01b-4096-b470-210dfc8302e0",
   "metadata": {},
   "outputs": [
    {
     "data": {
      "image/png": "[encoded data removed]",
      "text/plain": [
       "<Figure size 720x360 with 1 Axes>"
      ]
     },
     "metadata": {
      "needs_background": "light"
     },
     "output_type": "display_data"
    }
   ],
   "source": [
    "# Using the plot_pred function, plot the predictions and the actual values:\n",
    "%matplotlib inline\n",
    "plt.figure(figsize=[10,5])\n",
    "plot_pred(model_conv)"
   ]
  },
  {
   "cell_type": "markdown",
   "id": "ea9d9120-1263-4885-a978-724afadceaef",
   "metadata": {},
   "source": [
    "In this exercise, we built and trained our 1D convolution-based model for stock price prediction. We saw that the number of parameters is very low, and that the training time was much lower."
   ]
  },
  {
   "cell_type": "markdown",
   "id": "0fc54494-76e2-4ec6-9184-eac110e6be71",
   "metadata": {},
   "source": [
    "#### Performance of 1D Convnets"
   ]
  },
  {
   "cell_type": "markdown",
   "id": "bee516c6-660e-4c11-8fd7-3b32d970ca87",
   "metadata": {},
   "source": [
    "#### Exercise 5.05: Building a Hybrid (1D Convolution and RNN) Model\n",
    "In this exercise, we will build a model that will employ both 1D convolutions and RNNs and assess the change in performance. Making a hybrid model is straightforward – we'll begin with the convolution layer, the output of which is features in a sequence. The sequence can be fed straight into the RNN layer. Therefore, combining the 1D convolutions with RNNs is as simple as following the Conv1D layer with an RNN layer."
   ]
  },
  {
   "cell_type": "markdown",
   "id": "5535aff5-87cf-4293-99b8-ea4e0d28866c",
   "metadata": {},
   "source": [
    "Initialize a sequential model, add a Reshape layer (as in the preceding exercise), and add a Conv1D layer with five filters and a filter size 3:"
   ]
  },
  {
   "cell_type": "code",
   "execution_count": 39,
   "id": "1b857c8a-64e6-4787-80b8-9e0612929e00",
   "metadata": {},
   "outputs": [],
   "source": [
    "model_comb = Sequential()\n",
    "model_comb.add(Reshape((look_back,1), input_shape=(look_back,)))\n",
    "model_comb.add(Conv1D(5,3,activation='relu'))"
   ]
  },
  {
   "cell_type": "code",
   "execution_count": 40,
   "id": "b455427a-b584-48ae-9833-2d41632d6938",
   "metadata": {},
   "outputs": [],
   "source": [
    "# Next, add a SimpleRNN layer with 32 neurons, followed by a Dense layer and an Activation layer:\n",
    "model_comb.add(SimpleRNN(32))\n",
    "model_comb.add(Dense(1))\n",
    "model_comb.add(Activation('linear'))"
   ]
  },
  {
   "cell_type": "code",
   "execution_count": 41,
   "id": "61d29320-2c5f-47a5-ad0c-b85058392087",
   "metadata": {},
   "outputs": [
    {
     "name": "stdout",
     "output_type": "stream",
     "text": [
      "Model: \"sequential_2\"\n",
      "_________________________________________________________________\n",
      " Layer (type)                Output Shape              Param #   \n",
      "=================================================================\n",
      " reshape_2 (Reshape)         (None, 10, 1)             0         \n",
      "                                                                 \n",
      " conv1d_1 (Conv1D)           (None, 8, 5)              20        \n",
      "                                                                 \n",
      " simple_rnn_1 (SimpleRNN)    (None, 32)                1216      \n",
      "                                                                 \n",
      " dense_2 (Dense)             (None, 1)                 33        \n",
      "                                                                 \n",
      " activation_2 (Activation)   (None, 1)                 0         \n",
      "                                                                 \n",
      "=================================================================\n",
      "Total params: 1,269\n",
      "Trainable params: 1,269\n",
      "Non-trainable params: 0\n",
      "_________________________________________________________________\n"
     ]
    }
   ],
   "source": [
    "# Print out the model summary\n",
    "model_comb.summary()"
   ]
  },
  {
   "cell_type": "code",
   "execution_count": 42,
   "id": "e6498def-3fc8-49f4-b9c2-0edc63afebd1",
   "metadata": {},
   "outputs": [
    {
     "name": "stdout",
     "output_type": "stream",
     "text": [
      "Epoch 1/3\n",
      "1696/1696 - 3s - loss: 0.0038 - val_loss: 0.0013 - 3s/epoch - 2ms/step\n",
      "Epoch 2/3\n",
      "1696/1696 - 2s - loss: 0.0011 - val_loss: 0.0011 - 2s/epoch - 1ms/step\n",
      "Epoch 3/3\n",
      "1696/1696 - 2s - loss: 0.0011 - val_loss: 4.0608e-04 - 2s/epoch - 1ms/step\n"
     ]
    },
    {
     "data": {
      "text/plain": [
       "<keras.callbacks.History at 0x7f997c510bb0>"
      ]
     },
     "execution_count": 42,
     "metadata": {},
     "output_type": "execute_result"
    }
   ],
   "source": [
    "# Compile and fit the model on the training data for three epochs:\n",
    "model_comb.compile(loss='mean_squared_error', optimizer='adam')\n",
    "model_comb.fit(\n",
    "    trainX,\n",
    "    trainY,\n",
    "    epochs=3,\n",
    "    batch_size=1,\n",
    "    verbose=2,\n",
    "    validation_split=0.1\n",
    ")"
   ]
  },
  {
   "cell_type": "markdown",
   "id": "66ebc232-abfc-4ee6-95db-b15cdbd7253c",
   "metadata": {},
   "source": [
    "Let's assess the performance first by looking at RMSE. We don't expect this to be very useful for our example, but let's print it out as good practice."
   ]
  },
  {
   "cell_type": "code",
   "execution_count": 43,
   "id": "2123afba-e7e5-4477-9f13-af8a4a1952b2",
   "metadata": {},
   "outputs": [
    {
     "name": "stdout",
     "output_type": "stream",
     "text": [
      "Train RMSE: 0.03 RMSE\n",
      "Test RMSE: 0.04 RMSE\n"
     ]
    }
   ],
   "source": [
    "get_model_perf(model_comb)"
   ]
  },
  {
   "cell_type": "markdown",
   "id": "8ca58b4b-97e5-4514-a178-75a0291126a6",
   "metadata": {},
   "source": [
    "The values seem lower, but only a very close look will help us assess the performance of the model."
   ]
  },
  {
   "cell_type": "code",
   "execution_count": 44,
   "id": "c30188e6-55d3-4e28-be2b-fe014096f1e5",
   "metadata": {},
   "outputs": [
    {
     "data": {
      "image/png": "[encoded data removed]",
      "text/plain": [
       "<Figure size 720x360 with 1 Axes>"
      ]
     },
     "metadata": {
      "needs_background": "light"
     },
     "output_type": "display_data"
    }
   ],
   "source": [
    "%matplotlib inline\n",
    "plt.figure(figsize=[10,5])\n",
    "plot_pred(model_comb)"
   ]
  },
  {
   "cell_type": "markdown",
   "id": "31313a05-983f-4a6d-adfd-76bdf7bf7753",
   "metadata": {},
   "source": [
    "In this exercise, we saw how we can combine 1D convnets and RNNs to form a hybrid model that can provide high performance. We acknowledge that there is merit in trying this combination for sequence processing tasks."
   ]
  },
  {
   "cell_type": "markdown",
   "id": "a49401bd-c1c5-4743-89a0-18486d1131b5",
   "metadata": {},
   "source": [
    "#### Activity 5.01: Using a Plain RNN Model to Predict IBM Stock Prices\n",
    "We have seen RNNs in action and can now appreciate the kind of power they bring in sequence prediction tasks. We also saw that RNNs in conjunction with 1D convnets provide great results. Now, let's employ these ideas in another stock price prediction task, this time predicting the stock price for IBM. The dataset can be downloaded from https://packt.live/3fgmqIL. You will visualize the data and understand the patterns. From your understanding of the data, choose a lookback period and build an RNN-based model for prediction. The model will have a 1D convnet as well as a plain RNN layer. You will also employ dropout to prevent overfitting. "
   ]
  },
  {
   "cell_type": "code",
   "execution_count": 45,
   "id": "580fa0da-5c23-4a53-97d2-779395d463fe",
   "metadata": {},
   "outputs": [
    {
     "data": {
      "text/html": [
       "<div>\n",
       "<style scoped>\n",
       "    .dataframe tbody tr th:only-of-type {\n",
       "        vertical-align: middle;\n",
       "    }\n",
       "\n",
       "    .dataframe tbody tr th {\n",
       "        vertical-align: top;\n",
       "    }\n",
       "\n",
       "    .dataframe thead th {\n",
       "        text-align: right;\n",
       "    }\n",
       "</style>\n",
       "<table border=\"1\" class=\"dataframe\">\n",
       "  <thead>\n",
       "    <tr style=\"text-align: right;\">\n",
       "      <th></th>\n",
       "      <th>Date</th>\n",
       "      <th>Close</th>\n",
       "      <th>Volume</th>\n",
       "      <th>Open</th>\n",
       "      <th>High</th>\n",
       "      <th>Low</th>\n",
       "    </tr>\n",
       "  </thead>\n",
       "  <tbody>\n",
       "    <tr>\n",
       "      <th>0</th>\n",
       "      <td>1/24/2020</td>\n",
       "      <td>140.56</td>\n",
       "      <td>5580189</td>\n",
       "      <td>143.39</td>\n",
       "      <td>143.9200</td>\n",
       "      <td>140.46</td>\n",
       "    </tr>\n",
       "    <tr>\n",
       "      <th>1</th>\n",
       "      <td>1/23/2020</td>\n",
       "      <td>142.87</td>\n",
       "      <td>5657790</td>\n",
       "      <td>144.20</td>\n",
       "      <td>144.4097</td>\n",
       "      <td>142.15</td>\n",
       "    </tr>\n",
       "    <tr>\n",
       "      <th>2</th>\n",
       "      <td>1/22/2020</td>\n",
       "      <td>143.89</td>\n",
       "      <td>16470430</td>\n",
       "      <td>143.32</td>\n",
       "      <td>145.7900</td>\n",
       "      <td>142.55</td>\n",
       "    </tr>\n",
       "    <tr>\n",
       "      <th>3</th>\n",
       "      <td>1/21/2020</td>\n",
       "      <td>139.17</td>\n",
       "      <td>7244079</td>\n",
       "      <td>137.81</td>\n",
       "      <td>139.3500</td>\n",
       "      <td>137.60</td>\n",
       "    </tr>\n",
       "    <tr>\n",
       "      <th>4</th>\n",
       "      <td>1/17/2020</td>\n",
       "      <td>138.31</td>\n",
       "      <td>5623336</td>\n",
       "      <td>136.54</td>\n",
       "      <td>138.3300</td>\n",
       "      <td>136.16</td>\n",
       "    </tr>\n",
       "  </tbody>\n",
       "</table>\n",
       "</div>"
      ],
      "text/plain": [
       "        Date   Close    Volume    Open      High     Low\n",
       "0  1/24/2020  140.56   5580189  143.39  143.9200  140.46\n",
       "1  1/23/2020  142.87   5657790  144.20  144.4097  142.15\n",
       "2  1/22/2020  143.89  16470430  143.32  145.7900  142.55\n",
       "3  1/21/2020  139.17   7244079  137.81  139.3500  137.60\n",
       "4  1/17/2020  138.31   5623336  136.54  138.3300  136.16"
      ]
     },
     "execution_count": 45,
     "metadata": {},
     "output_type": "execute_result"
    }
   ],
   "source": [
    "# Load the IBM.csv file, reverse the index, and plot the time series (the Close column) for visual inspection.\n",
    "ibm = pd.read_csv('IBM.csv')\n",
    "ibm.head()"
   ]
  },
  {
   "cell_type": "code",
   "execution_count": 46,
   "id": "97d2a69c-de47-498f-9123-0d0ccfc67029",
   "metadata": {},
   "outputs": [
    {
     "data": {
      "text/plain": [
       "<AxesSubplot:xlabel='Date'>"
      ]
     },
     "execution_count": 46,
     "metadata": {},
     "output_type": "execute_result"
    },
    {
     "data": {
      "image/png": "[encoded data removed]",
      "text/plain": [
       "<Figure size 432x288 with 1 Axes>"
      ]
     },
     "metadata": {
      "needs_background": "light"
     },
     "output_type": "display_data"
    }
   ],
   "source": [
    "ibm.plot('Date', 'Close')"
   ]
  },
  {
   "cell_type": "code",
   "execution_count": 47,
   "id": "db9ae975-7f23-46d3-9abd-114689fc0467",
   "metadata": {},
   "outputs": [
    {
     "data": {
      "image/png": "[encoded data removed]",
      "text/plain": [
       "<Figure size 432x288 with 1 Axes>"
      ]
     },
     "metadata": {
      "needs_background": "light"
     },
     "output_type": "display_data"
    },
    {
     "data": {
      "text/plain": [
       "<Figure size 720x360 with 0 Axes>"
      ]
     },
     "metadata": {},
     "output_type": "display_data"
    }
   ],
   "source": [
    "# reverse the index by sorting dataframe on the index. \n",
    "# Plot closing price and supply Date the X-axis.\n",
    "ibm = ibm.sort_index(ascending=False)\n",
    "ibm.plot('Date', 'Close')\n",
    "plt.figure(figsize=[10,5])\n",
    "plt.show()"
   ]
  },
  {
   "cell_type": "code",
   "execution_count": 48,
   "id": "b7c26889-9bb7-4ea6-bf66-3c474041fe3c",
   "metadata": {},
   "outputs": [
    {
     "data": {
      "image/png": "[encoded data removed]",
      "text/plain": [
       "<Figure size 1008x360 with 1 Axes>"
      ]
     },
     "metadata": {
      "needs_background": "light"
     },
     "output_type": "display_data"
    }
   ],
   "source": [
    "# Extract the values for Close from the DataFrame as a numpy array and plot them using matplotlib.\n",
    "ibm_ts = ibm.Close.values.reshape(-1,1)\n",
    "plt.figure(figsize=[14,5])\n",
    "plt.plot(ibm_ts)\n",
    "plt.show()"
   ]
  },
  {
   "cell_type": "markdown",
   "id": "998f3e53-f488-43ea-b3e7-b5f21fdcff62",
   "metadata": {},
   "source": [
    "That's what our sequence data looks like. There is no continuous clear trend; the prices rose for a period, after which the stock waxed and waned. The pattern isn't straightforward. We can see that there is some seasonality at a small duration (maybe monthly). Overall, the pattern is rather complex and there are no obvious and easy-to-identify cyclicities in the data that we can exploit. This complex sequence is what we will work with – predicting the stock price for a day using historical values."
   ]
  },
  {
   "cell_type": "code",
   "execution_count": 49,
   "id": "6bea135a-233c-4971-8610-e6901db6f310",
   "metadata": {},
   "outputs": [],
   "source": [
    "# Assign the final 25% data as test data and the first 75% as train data.\n",
    "train_records = int(len(ibm_ts) * 0.75)\n",
    "# This is the number of records we'll have in the train set."
   ]
  },
  {
   "cell_type": "code",
   "execution_count": 50,
   "id": "ab7e5ff0-f68a-4810-a809-eb0fa67fccc0",
   "metadata": {},
   "outputs": [
    {
     "data": {
      "text/plain": [
       "(1885, 629)"
      ]
     },
     "execution_count": 50,
     "metadata": {},
     "output_type": "execute_result"
    }
   ],
   "source": [
    "ibm_train_data = ibm_ts[:train_records] # from index 0 to train_records value. Index range for train data.\n",
    "ibm_test_data = ibm_ts[train_records:] # start at index value equal to train_records until the end.\n",
    "len(train_data), len(test_data)"
   ]
  },
  {
   "cell_type": "code",
   "execution_count": 51,
   "id": "69fcc1b5-559e-4e53-b09a-254ad03823b3",
   "metadata": {},
   "outputs": [],
   "source": [
    "# Using MinMaxScaler from sklearn, scale the train and test data.\n",
    "# MinMaxScaler already loaded and instantiated\n",
    "ibm_train_scaled = scaler.fit_transform(ibm_train_data)\n",
    "ibm_test_scaled = scaler.transform(ibm_test_data)"
   ]
  },
  {
   "cell_type": "code",
   "execution_count": 52,
   "id": "6c7e2eaa-4589-421c-a0e5-64d04e0a03d5",
   "metadata": {},
   "outputs": [],
   "source": [
    "# Using the get_lookback function we defined in this chapter, get lookback data for the train and test data using a lookback period of 15.\n",
    "ibm_look_back = 10\n",
    "ibm_trainX, ibm_trainY = get_lookback(ibm_train_scaled, look_back=ibm_look_back)\n",
    "ibm_testX, ibm_testY = get_lookback(ibm_test_scaled, look_back=ibm_look_back)"
   ]
  },
  {
   "cell_type": "code",
   "execution_count": 53,
   "id": "b4e54391-cc56-4661-b813-b094b60a7452",
   "metadata": {},
   "outputs": [
    {
     "data": {
      "text/plain": [
       "((1888, 10), (630, 10))"
      ]
     },
     "execution_count": 53,
     "metadata": {},
     "output_type": "execute_result"
    }
   ],
   "source": [
    "ibm_trainX.shape, ibm_testX.shape"
   ]
  },
  {
   "cell_type": "markdown",
   "id": "f3c7c71c-3e88-4b64-b2e3-741e32017f64",
   "metadata": {},
   "source": [
    "As expected, there are 10 features for each example, corresponding to the past 10 days. We have this history for the train data as well as the test data. With that, data preparation is complete. Before we move on to building our first RNN on this data, let's understand RNNs a little more.\n"
   ]
  },
  {
   "cell_type": "markdown",
   "id": "cfe67ad0-d16d-45b1-850b-c420689b8a8f",
   "metadata": {},
   "source": [
    "From Keras, import all the necessary layers for employing plain RNNs (SimpleRNN, Activation, Dropout, Dense, and Reshape) and 1D convolutions (Conv1D). Also, import mean_squared_error."
   ]
  },
  {
   "cell_type": "code",
   "execution_count": 54,
   "id": "7b154092-492d-43ed-8529-970235eb1ede",
   "metadata": {},
   "outputs": [],
   "source": [
    "# All the other libraries already present\n",
    "# import mean_squared_error\n",
    "from sklearn.metrics import mean_squared_error"
   ]
  },
  {
   "cell_type": "code",
   "execution_count": 55,
   "id": "982a7b8d-4ad5-4f50-bd8b-72157aac13bd",
   "metadata": {},
   "outputs": [],
   "source": [
    "# Build a model with a 1D convolution layer (5 filters of size 3) and an RNN layer with 32 neurons. Add 25% dropout after the RNN layer. Print the model's summary.\n",
    "# Initialize a Sequential model and add a Reshape layer to reshape each instance as a vector (look_back, 1)\n",
    "ibm_model = Sequential()"
   ]
  },
  {
   "cell_type": "code",
   "execution_count": 56,
   "id": "7b099fe4-f38a-4a31-82cf-3e250f47085a",
   "metadata": {},
   "outputs": [],
   "source": [
    "ibm_model.add(Reshape((ibm_look_back, 1), input_shape=(ibm_look_back,)))\n",
    "ibm_model.add(Conv1D(5, 3, activation='relu'))"
   ]
  },
  {
   "cell_type": "code",
   "execution_count": 57,
   "id": "37d7beab-0e52-45d8-9a3b-4d6d8daac096",
   "metadata": {},
   "outputs": [],
   "source": [
    "# SimpleRNN\n",
    "ibm_model.add(SimpleRNN(32))\n",
    "ibm_model.add(Dropout(0.25))\n",
    "ibm_model.add(Dense(1))\n",
    "ibm_model.add(Activation('linear'))"
   ]
  },
  {
   "cell_type": "code",
   "execution_count": 58,
   "id": "e4dd38e9-acd6-4b71-aefc-17ddbea92626",
   "metadata": {},
   "outputs": [
    {
     "name": "stdout",
     "output_type": "stream",
     "text": [
      "Model: \"sequential_3\"\n",
      "_________________________________________________________________\n",
      " Layer (type)                Output Shape              Param #   \n",
      "=================================================================\n",
      " reshape_3 (Reshape)         (None, 10, 1)             0         \n",
      "                                                                 \n",
      " conv1d_2 (Conv1D)           (None, 8, 5)              20        \n",
      "                                                                 \n",
      " simple_rnn_2 (SimpleRNN)    (None, 32)                1216      \n",
      "                                                                 \n",
      " dropout (Dropout)           (None, 32)                0         \n",
      "                                                                 \n",
      " dense_3 (Dense)             (None, 1)                 33        \n",
      "                                                                 \n",
      " activation_3 (Activation)   (None, 1)                 0         \n",
      "                                                                 \n",
      "=================================================================\n",
      "Total params: 1,269\n",
      "Trainable params: 1,269\n",
      "Non-trainable params: 0\n",
      "_________________________________________________________________\n"
     ]
    }
   ],
   "source": [
    "# print out the model summary\n",
    "ibm_model.summary()"
   ]
  },
  {
   "cell_type": "code",
   "execution_count": 59,
   "id": "b9582b93-1f66-43d8-a4f7-b86918c1dbd0",
   "metadata": {},
   "outputs": [
    {
     "name": "stdout",
     "output_type": "stream",
     "text": [
      "Epoch 1/5\n",
      "1699/1699 - 3s - loss: 0.0091 - val_loss: 0.0010 - 3s/epoch - 2ms/step\n",
      "Epoch 2/5\n",
      "1699/1699 - 2s - loss: 0.0042 - val_loss: 4.5593e-04 - 2s/epoch - 1ms/step\n",
      "Epoch 3/5\n",
      "1699/1699 - 2s - loss: 0.0030 - val_loss: 6.9254e-04 - 2s/epoch - 1ms/step\n",
      "Epoch 4/5\n",
      "1699/1699 - 2s - loss: 0.0023 - val_loss: 4.2549e-04 - 2s/epoch - 1ms/step\n",
      "Epoch 5/5\n",
      "1699/1699 - 2s - loss: 0.0021 - val_loss: 3.1966e-04 - 2s/epoch - 1ms/step\n"
     ]
    },
    {
     "data": {
      "text/plain": [
       "<keras.callbacks.History at 0x7f997cb5e100>"
      ]
     },
     "execution_count": 59,
     "metadata": {},
     "output_type": "execute_result"
    }
   ],
   "source": [
    "# Compile the model with the mean_squared_error loss and the adam optimizer. Fit this on the train data in five epochs with a validation split of 10% and a batch size of 1.\n",
    "ibm_model.compile(\n",
    "    loss='mean_squared_error',\n",
    "    optimizer='adam'\n",
    ")\n",
    "\n",
    "ibm_model.fit(\n",
    "    ibm_trainX,\n",
    "    ibm_trainY,\n",
    "    epochs=5,\n",
    "    batch_size=1,\n",
    "    verbose=2,\n",
    "    validation_split=0.1\n",
    ")"
   ]
  },
  {
   "cell_type": "code",
   "execution_count": 60,
   "id": "d86acb9f-f353-49ae-a7c5-2888a202d046",
   "metadata": {},
   "outputs": [
    {
     "name": "stdout",
     "output_type": "stream",
     "text": [
      "Train RMSE: 0.03 RMSE\n",
      "Test RMSE: 0.04 RMSE\n"
     ]
    }
   ],
   "source": [
    "# Using the get_model_perf method, print the RMSE of the model.\n",
    "get_model_perf(ibm_model)"
   ]
  },
  {
   "cell_type": "code",
   "execution_count": 62,
   "id": "c633552b-46bb-4d5f-b094-5bda828128d7",
   "metadata": {},
   "outputs": [
    {
     "data": {
      "image/png": "[encoded data removed]",
      "text/plain": [
       "<Figure size 720x360 with 1 Axes>"
      ]
     },
     "metadata": {
      "needs_background": "light"
     },
     "output_type": "display_data"
    }
   ],
   "source": [
    "# Plot the predictions – the entire view, as well as a zoomed-in one for a close assessment of the performance.\n",
    "%matplotlib inline\n",
    "plt.figure(figsize=[10,5])\n",
    "plot_pred(ibm_model)"
   ]
  },
  {
   "cell_type": "code",
   "execution_count": null,
   "id": "ed589f25-5a7f-4add-9c8a-62327aa07908",
   "metadata": {},
   "outputs": [],
   "source": [
    "%matplotlib notebook\n",
    "plt.figure(figsize=)"
   ]
  }
 ],
 "metadata": {
  "kernelspec": {
   "display_name": "Python 3 (ipykernel)",
   "language": "python",
   "name": "python3"
  },
  "language_info": {
   "codemirror_mode": {
    "name": "ipython",
    "version": 3
   },
   "file_extension": ".py",
   "mimetype": "text/x-python",
   "name": "python",
   "nbconvert_exporter": "python",
   "pygments_lexer": "ipython3",
   "version": "3.9.7"
  }
 },
 "nbformat": 4,
 "nbformat_minor": 5
}

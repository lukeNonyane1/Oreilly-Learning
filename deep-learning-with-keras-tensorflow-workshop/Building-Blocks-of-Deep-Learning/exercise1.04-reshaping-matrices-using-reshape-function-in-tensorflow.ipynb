{
 "cells": [
  {
   "cell_type": "code",
   "execution_count": 1,
   "id": "e139fee0-d801-41a3-a981-919946d4249d",
   "metadata": {},
   "outputs": [
    {
     "data": {
      "text/plain": [
       "'\\n In this exercse we will reshape a [5,4] matrix into the shape of [5,4,1]\\n using the reshape() function.\\n'"
      ]
     },
     "execution_count": 1,
     "metadata": {},
     "output_type": "execute_result"
    }
   ],
   "source": [
    "\"\"\"\n",
    " In this exercse we will reshape a [5,4] matrix into the shape of [5,4,1]\n",
    " using the reshape() function.\n",
    "\"\"\""
   ]
  },
  {
   "cell_type": "code",
   "execution_count": 2,
   "id": "846a56c2-af49-4eaa-8dff-7830054689a6",
   "metadata": {},
   "outputs": [],
   "source": [
    "import tensorflow as tf"
   ]
  },
  {
   "cell_type": "code",
   "execution_count": 3,
   "id": "570eb6bd-b021-4007-a5e7-59a6bea192b4",
   "metadata": {},
   "outputs": [
    {
     "name": "stderr",
     "output_type": "stream",
     "text": [
      "2022-05-13 07:01:49.719162: I tensorflow/core/platform/cpu_feature_guard.cc:151] This TensorFlow binary is optimized with oneAPI Deep Neural Network Library (oneDNN) to use the following CPU instructions in performance-critical operations:  AVX2 FMA\n",
      "To enable them in other operations, rebuild TensorFlow with the appropriate compiler flags.\n"
     ]
    }
   ],
   "source": [
    "A = tf.Variable([[1,2,3,4],\n",
    "                [5,6,7,8],\n",
    "                [9,10,11,12],\n",
    "                [13,14,15,16],\n",
    "                [17,18,19,20]])"
   ]
  },
  {
   "cell_type": "code",
   "execution_count": 4,
   "id": "6a68e111-cdd7-4e46-9a71-812b004e158f",
   "metadata": {},
   "outputs": [
    {
     "name": "stdout",
     "output_type": "stream",
     "text": [
      "[[1 2 3 4]\n",
      " [5 6 7 8]\n",
      " [9 10 11 12]\n",
      " [13 14 15 16]\n",
      " [17 18 19 20]]\n"
     ]
    }
   ],
   "source": [
    "# print variable A\n",
    "tf.print(A)"
   ]
  },
  {
   "cell_type": "code",
   "execution_count": 5,
   "id": "71778b53-bf5a-47d7-9019-8fb1890b1bd0",
   "metadata": {},
   "outputs": [
    {
     "data": {
      "text/plain": [
       "TensorShape([5, 4])"
      ]
     },
     "execution_count": 5,
     "metadata": {},
     "output_type": "execute_result"
    }
   ],
   "source": [
    "# print shape of A\n",
    "A.shape"
   ]
  },
  {
   "cell_type": "code",
   "execution_count": 6,
   "id": "ca81a08a-4da9-478a-802f-649c88b18965",
   "metadata": {},
   "outputs": [
    {
     "name": "stdout",
     "output_type": "stream",
     "text": [
      "[[[1]\n",
      "  [2]\n",
      "  [3]\n",
      "  [4]]\n",
      "\n",
      " [[5]\n",
      "  [6]\n",
      "  [7]\n",
      "  [8]]\n",
      "\n",
      " [[9]\n",
      "  [10]\n",
      "  [11]\n",
      "  [12]]\n",
      "\n",
      " [[13]\n",
      "  [14]\n",
      "  [15]\n",
      "  [16]]\n",
      "\n",
      " [[17]\n",
      "  [18]\n",
      "  [19]\n",
      "  [20]]]\n"
     ]
    }
   ],
   "source": [
    "# Currently A has a rank of 2. We will be using reshape() to change it's rank to 3\n",
    "tf.print(tf.reshape(A,[5,4,1]))"
   ]
  },
  {
   "cell_type": "code",
   "execution_count": 7,
   "id": "213e5a87-1e1d-49f8-a0e5-5b662a0ef30f",
   "metadata": {},
   "outputs": [
    {
     "data": {
      "text/plain": [
       "TensorShape([5, 4, 1])"
      ]
     },
     "execution_count": 7,
     "metadata": {},
     "output_type": "execute_result"
    }
   ],
   "source": [
    "# assign new shape to A\n",
    "A = tf.reshape(A,[5,4,1])\n",
    "A.shape"
   ]
  },
  {
   "cell_type": "code",
   "execution_count": null,
   "id": "2164caa2-2028-4839-8b7a-172f59205b5b",
   "metadata": {},
   "outputs": [],
   "source": []
  }
 ],
 "metadata": {
  "kernelspec": {
   "display_name": "Python 3 (ipykernel)",
   "language": "python",
   "name": "python3"
  },
  "language_info": {
   "codemirror_mode": {
    "name": "ipython",
    "version": 3
   },
   "file_extension": ".py",
   "mimetype": "text/x-python",
   "name": "python",
   "nbconvert_exporter": "python",
   "pygments_lexer": "ipython3",
   "version": "3.9.7"
  }
 },
 "nbformat": 4,
 "nbformat_minor": 5
}

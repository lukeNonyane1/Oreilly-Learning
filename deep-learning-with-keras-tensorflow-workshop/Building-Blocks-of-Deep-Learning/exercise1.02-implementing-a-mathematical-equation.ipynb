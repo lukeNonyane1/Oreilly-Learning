{
 "cells": [
  {
   "cell_type": "markdown",
   "id": "d25c03d6-da4e-4377-b3b6-82605cd32914",
   "metadata": {},
   "source": [
    "### In this exercise, we will solve the following mathematical equation using TensorFlow:\n",
    "- Z = X<sup>2</sup>Y+Y+2"
   ]
  },
  {
   "cell_type": "code",
   "execution_count": 1,
   "id": "c844bba4-a3d5-4414-8632-81db1d693d23",
   "metadata": {},
   "outputs": [],
   "source": [
    "# import TensorFlow library\n",
    "import tensorflow as tf"
   ]
  },
  {
   "cell_type": "code",
   "execution_count": 2,
   "id": "53f190f3-636a-48c7-bc4d-b17379fbffa9",
   "metadata": {},
   "outputs": [
    {
     "name": "stderr",
     "output_type": "stream",
     "text": [
      "2022-05-12 20:27:57.718284: I tensorflow/core/platform/cpu_feature_guard.cc:151] This TensorFlow binary is optimized with oneAPI Deep Neural Network Library (oneDNN) to use the following CPU instructions in performance-critical operations:  AVX2 FMA\n",
      "To enable them in other operations, rebuild TensorFlow with the appropriate compiler flags.\n"
     ]
    }
   ],
   "source": [
    "# create two variables, X & Y, and initialize them to the given values of 3 & 4 respectively\n",
    "X = tf.Variable(3)\n",
    "Y = tf.Variable(4)"
   ]
  },
  {
   "cell_type": "code",
   "execution_count": 3,
   "id": "a2d9671c-c3a7-4fe3-adad-f3966b0ffbed",
   "metadata": {},
   "outputs": [],
   "source": [
    "# in our equation the value of 2 isn't changing so we'll store it as a constant\n",
    "C = tf.constant(2)"
   ]
  },
  {
   "cell_type": "code",
   "execution_count": 4,
   "id": "62bfd500-4ad6-479d-ba68-8827b4a8ca4c",
   "metadata": {},
   "outputs": [],
   "source": [
    "# define the function that will solve our equation\n",
    "def myfunc(x,y,c):\n",
    "    Z=x*x*y+y+c\n",
    "    return Z"
   ]
  },
  {
   "cell_type": "code",
   "execution_count": 6,
   "id": "208a0278-c41b-4174-8ef6-3c4df3c3328e",
   "metadata": {},
   "outputs": [],
   "source": [
    "# call the function passing X, Y, C as parameters\n",
    "result = myfunc(X,Y,C)"
   ]
  },
  {
   "cell_type": "code",
   "execution_count": 7,
   "id": "5c3b4c2e-ebf9-498e-9f26-41782c004d46",
   "metadata": {},
   "outputs": [
    {
     "name": "stdout",
     "output_type": "stream",
     "text": [
      "42\n"
     ]
    }
   ],
   "source": [
    "# print the result\n",
    "tf.print(result)"
   ]
  },
  {
   "cell_type": "code",
   "execution_count": null,
   "id": "4f31e474-11ab-47b6-857b-b4d68e00a50c",
   "metadata": {},
   "outputs": [],
   "source": []
  }
 ],
 "metadata": {
  "kernelspec": {
   "display_name": "Python 3 (ipykernel)",
   "language": "python",
   "name": "python3"
  },
  "language_info": {
   "codemirror_mode": {
    "name": "ipython",
    "version": 3
   },
   "file_extension": ".py",
   "mimetype": "text/x-python",
   "name": "python",
   "nbconvert_exporter": "python",
   "pygments_lexer": "ipython3",
   "version": "3.9.7"
  }
 },
 "nbformat": 4,
 "nbformat_minor": 5
}

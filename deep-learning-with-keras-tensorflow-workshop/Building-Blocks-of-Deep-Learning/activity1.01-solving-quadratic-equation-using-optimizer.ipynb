{
 "cells": [
  {
   "cell_type": "markdown",
   "id": "c72f6a16-cb5f-4bb6-b9d9-07f7019fdd03",
   "metadata": {},
   "source": [
    "In this activity we will use optimizer to solve the following quadratic equation:\n",
    "- x<sup>2</sup>-10x+25=0"
   ]
  },
  {
   "cell_type": "code",
   "execution_count": 1,
   "id": "31366b76-e2f3-4a02-b78c-7dd1325bc5d5",
   "metadata": {},
   "outputs": [],
   "source": [
    "import tensorflow as tf"
   ]
  },
  {
   "cell_type": "code",
   "execution_count": 6,
   "id": "da750f56-239c-4cf0-9cb6-2905346cc0e1",
   "metadata": {},
   "outputs": [],
   "source": [
    "# initialize variable x to a value of 0\n",
    "x = tf.Variable(0.0)"
   ]
  },
  {
   "cell_type": "code",
   "execution_count": 3,
   "id": "185ccaf8-13d5-4327-a056-f558b643a46f",
   "metadata": {},
   "outputs": [],
   "source": [
    "# construct loss function using the quadratic equation we are trying to solve\n",
    "loss = lambda:x*x-10*x+25"
   ]
  },
  {
   "cell_type": "code",
   "execution_count": 4,
   "id": "5d6be8a6-4378-4539-b731-4f6a5bae537b",
   "metadata": {},
   "outputs": [],
   "source": [
    "# use Adam optimizer with learning rate of 0.1\n",
    "optimizer = tf.optimizers.Adam(0.1)"
   ]
  },
  {
   "cell_type": "code",
   "execution_count": 7,
   "id": "c40299a8-5229-4fc6-b6cc-82f6919c4e29",
   "metadata": {},
   "outputs": [],
   "source": [
    "# run the optimizer for different iterations and minimize loss. Start with 1000.\n",
    "for i in range(1000):\n",
    "    optimizer.minimize(loss,[x])"
   ]
  },
  {
   "cell_type": "code",
   "execution_count": 8,
   "id": "a0069a9e-9a21-46d7-bf9c-8dd62ecabd24",
   "metadata": {},
   "outputs": [
    {
     "name": "stdout",
     "output_type": "stream",
     "text": [
      "5.00000095\n"
     ]
    }
   ],
   "source": [
    "tf.print(x)"
   ]
  },
  {
   "cell_type": "code",
   "execution_count": 9,
   "id": "455d0845-3208-4bd8-9ead-0dde3dfb1e81",
   "metadata": {},
   "outputs": [
    {
     "name": "stdout",
     "output_type": "stream",
     "text": [
      "5\n"
     ]
    }
   ],
   "source": [
    "# running optimizer with 2000 iterations\n",
    "for i in range(2000):\n",
    "    optimizer.minimize(loss,[x])\n",
    "tf.print(x)"
   ]
  },
  {
   "cell_type": "code",
   "execution_count": null,
   "id": "97bac49a-9641-45d7-b25c-78c41610ce06",
   "metadata": {},
   "outputs": [],
   "source": []
  }
 ],
 "metadata": {
  "kernelspec": {
   "display_name": "Python 3 (ipykernel)",
   "language": "python",
   "name": "python3"
  },
  "language_info": {
   "codemirror_mode": {
    "name": "ipython",
    "version": 3
   },
   "file_extension": ".py",
   "mimetype": "text/x-python",
   "name": "python",
   "nbconvert_exporter": "python",
   "pygments_lexer": "ipython3",
   "version": "3.9.7"
  }
 },
 "nbformat": 4,
 "nbformat_minor": 5
}

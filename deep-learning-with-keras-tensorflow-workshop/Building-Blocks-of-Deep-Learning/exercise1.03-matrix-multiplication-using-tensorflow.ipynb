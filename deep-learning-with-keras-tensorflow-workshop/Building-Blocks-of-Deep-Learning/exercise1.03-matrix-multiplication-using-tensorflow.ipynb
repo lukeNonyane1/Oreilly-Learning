{
 "cells": [
  {
   "cell_type": "code",
   "execution_count": 1,
   "id": "9f60e0f9-894f-4a1f-bd62-53cd6c348ffb",
   "metadata": {},
   "outputs": [
    {
     "name": "stderr",
     "output_type": "stream",
     "text": [
      "2022-05-13 06:44:53.800165: I tensorflow/core/platform/cpu_feature_guard.cc:151] This TensorFlow binary is optimized with oneAPI Deep Neural Network Library (oneDNN) to use the following CPU instructions in performance-critical operations:  AVX2 FMA\n",
      "To enable them in other operations, rebuild TensorFlow with the appropriate compiler flags.\n"
     ]
    },
    {
     "data": {
      "text/plain": [
       "'\\nmatrix multiplication is possible due to C = R. That is the number of columns (C) in the first matrix should be equal to the number\\nof rows (R) in the second matrix. In this case we have 2 = 2.\\n'"
      ]
     },
     "execution_count": 1,
     "metadata": {},
     "output_type": "execute_result"
    }
   ],
   "source": [
    "# import tensorflow library and create two variables, X & Y, as matrices\n",
    "import tensorflow as tf\n",
    "X = tf.Variable([[1,2,3],[4,5,6]]) # 2x3\n",
    "Y = tf.Variable([[7,8], [9,10],[11,12]]) # 3x2\n",
    "\n",
    "\"\"\"\n",
    "matrix multiplication is possible due to C = R. That is the number of columns (C) in the first matrix should be equal to the number\n",
    "of rows (R) in the second matrix. In this case we have 2 = 2.\n",
    "\"\"\""
   ]
  },
  {
   "cell_type": "code",
   "execution_count": 2,
   "id": "d35387bc-1762-4ca0-a6db-f30deaa66bda",
   "metadata": {},
   "outputs": [
    {
     "name": "stdout",
     "output_type": "stream",
     "text": [
      "[[1 2 3]\n",
      " [4 5 6]]\n"
     ]
    }
   ],
   "source": [
    "# print the values of the matrices\n",
    "tf.print(X)"
   ]
  },
  {
   "cell_type": "code",
   "execution_count": 3,
   "id": "5b1eddba-9310-4bae-949b-986074e87426",
   "metadata": {},
   "outputs": [
    {
     "name": "stdout",
     "output_type": "stream",
     "text": [
      "[[7 8]\n",
      " [9 10]\n",
      " [11 12]]\n"
     ]
    }
   ],
   "source": [
    "tf.print(Y)"
   ]
  },
  {
   "cell_type": "code",
   "execution_count": 4,
   "id": "361840f9-edb6-4348-bd28-75ca978f6da6",
   "metadata": {},
   "outputs": [
    {
     "name": "stdout",
     "output_type": "stream",
     "text": [
      "[[58 64]\n",
      " [139 154]]\n"
     ]
    }
   ],
   "source": [
    "# perform matrix multiplication by calling tf.matmul() and passing X,Y as parameters\n",
    "c1 = tf.matmul(X,Y)\n",
    "tf.print(c1)"
   ]
  },
  {
   "cell_type": "code",
   "execution_count": 7,
   "id": "5d733852-7ad0-47c8-88dc-9a02b049da3c",
   "metadata": {},
   "outputs": [
    {
     "name": "stdout",
     "output_type": "stream",
     "text": [
      "[[39 54 69]\n",
      " [49 68 87]\n",
      " [59 82 105]]\n"
     ]
    }
   ],
   "source": [
    "# perform matrix multiplication by changing the order of the matrices\n",
    "c2 = tf.matmul(Y,X)\n",
    "tf.print(c2)"
   ]
  },
  {
   "cell_type": "code",
   "execution_count": null,
   "id": "6ced7a82-fea5-4fe3-b3e4-5fc2f64751c2",
   "metadata": {},
   "outputs": [],
   "source": []
  }
 ],
 "metadata": {
  "kernelspec": {
   "display_name": "Python 3 (ipykernel)",
   "language": "python",
   "name": "python3"
  },
  "language_info": {
   "codemirror_mode": {
    "name": "ipython",
    "version": 3
   },
   "file_extension": ".py",
   "mimetype": "text/x-python",
   "name": "python",
   "nbconvert_exporter": "python",
   "pygments_lexer": "ipython3",
   "version": "3.9.7"
  }
 },
 "nbformat": 4,
 "nbformat_minor": 5
}

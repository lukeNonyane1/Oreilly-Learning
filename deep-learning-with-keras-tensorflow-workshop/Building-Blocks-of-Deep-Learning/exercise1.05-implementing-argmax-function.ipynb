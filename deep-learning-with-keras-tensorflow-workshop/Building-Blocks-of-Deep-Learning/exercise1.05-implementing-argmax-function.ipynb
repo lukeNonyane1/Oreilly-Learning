{
 "cells": [
  {
   "cell_type": "code",
   "execution_count": 2,
   "id": "9e7d2226-0f5e-4976-a987-66c90758f193",
   "metadata": {},
   "outputs": [
    {
     "data": {
      "text/plain": [
       "'\\n in this exercise, we are going to use the argmax() function to find the position of the maximum value in a given matrix along the axes 0 and 1\\n'"
      ]
     },
     "execution_count": 2,
     "metadata": {},
     "output_type": "execute_result"
    }
   ],
   "source": [
    "\"\"\"\n",
    " in this exercise, we are going to use the argmax() function to find the position of the maximum value in a given matrix along the axes 0 and 1\n",
    "\"\"\""
   ]
  },
  {
   "cell_type": "code",
   "execution_count": 3,
   "id": "07fbba7a-00f9-4a98-ad66-6f6309caff38",
   "metadata": {},
   "outputs": [
    {
     "name": "stdout",
     "output_type": "stream",
     "text": [
      "[[91 12 15]\n",
      " [11 88 21]\n",
      " [90 87 75]]\n"
     ]
    },
    {
     "name": "stderr",
     "output_type": "stream",
     "text": [
      "2022-05-13 07:35:07.257614: I tensorflow/core/platform/cpu_feature_guard.cc:151] This TensorFlow binary is optimized with oneAPI Deep Neural Network Library (oneDNN) to use the following CPU instructions in performance-critical operations:  AVX2 FMA\n",
      "To enable them in other operations, rebuild TensorFlow with the appropriate compiler flags.\n"
     ]
    }
   ],
   "source": [
    "import tensorflow as tf\n",
    "X = tf.Variable([[91,12,15],\n",
    "                [11,88,21],\n",
    "                [90,87,75]])\n",
    "tf.print(X)"
   ]
  },
  {
   "cell_type": "code",
   "execution_count": 4,
   "id": "fce8022c-17ef-4d6f-8afe-7226d2449999",
   "metadata": {},
   "outputs": [
    {
     "data": {
      "text/plain": [
       "TensorShape([3, 3])"
      ]
     },
     "execution_count": 4,
     "metadata": {},
     "output_type": "execute_result"
    }
   ],
   "source": [
    "# print shape of X\n",
    "X.shape"
   ]
  },
  {
   "cell_type": "code",
   "execution_count": 5,
   "id": "ab85b9f0-d196-4b88-8c61-541bd2365083",
   "metadata": {},
   "outputs": [
    {
     "name": "stdout",
     "output_type": "stream",
     "text": [
      "[0 1 2]\n"
     ]
    }
   ],
   "source": [
    "# use argmax() to find the positions of the max values while keeping axis as 0\n",
    "tf.print(tf.argmax(X, axis=0))"
   ]
  },
  {
   "cell_type": "code",
   "execution_count": 6,
   "id": "acad147e-38a2-4d78-8e2a-06decbc59970",
   "metadata": {},
   "outputs": [
    {
     "name": "stdout",
     "output_type": "stream",
     "text": [
      "[0 1 0]\n"
     ]
    }
   ],
   "source": [
    "# use argmax() to find the positions of the max values while keeping axis as 1\n",
    "tf.print(tf.argmax(X, axis=1))"
   ]
  },
  {
   "cell_type": "code",
   "execution_count": null,
   "id": "b4687e42-a3b7-4a3b-84e7-0f397ad5c441",
   "metadata": {},
   "outputs": [],
   "source": []
  }
 ],
 "metadata": {
  "kernelspec": {
   "display_name": "Python 3 (ipykernel)",
   "language": "python",
   "name": "python3"
  },
  "language_info": {
   "codemirror_mode": {
    "name": "ipython",
    "version": 3
   },
   "file_extension": ".py",
   "mimetype": "text/x-python",
   "name": "python",
   "nbconvert_exporter": "python",
   "pygments_lexer": "ipython3",
   "version": "3.9.7"
  }
 },
 "nbformat": 4,
 "nbformat_minor": 5
}

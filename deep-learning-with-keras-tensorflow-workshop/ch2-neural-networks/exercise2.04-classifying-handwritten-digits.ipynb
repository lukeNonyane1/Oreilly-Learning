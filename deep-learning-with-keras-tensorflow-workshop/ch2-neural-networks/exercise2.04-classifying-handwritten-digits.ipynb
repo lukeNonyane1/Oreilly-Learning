{
 "cells": [
  {
   "cell_type": "raw",
   "id": "bcd1e0d1-69a8-4b3d-a161-57dd6dce712c",
   "metadata": {},
   "source": [
    "In this exercise, we will build a single-layer 10-class classifier consisting of 10 neurons with the Softmax activation function. It will have an input layer of 784 pixels"
   ]
  },
  {
   "cell_type": "code",
   "execution_count": 1,
   "id": "4284127e-c0d1-4469-8515-257594d84654",
   "metadata": {},
   "outputs": [],
   "source": [
    "# import required libraries\n",
    "import tensorflow as tf\n",
    "\n",
    "import pandas as pd\n",
    "\n",
    "from sklearn.metrics import confusion_matrix, accuracy_score\n",
    "\n",
    "import matplotlib.pyplot as plt\n",
    "\n",
    "%matplotlib inline\n",
    "\n",
    "from pandas import get_dummies"
   ]
  },
  {
   "cell_type": "code",
   "execution_count": 2,
   "id": "12a540d5-a7ad-4d29-ad4f-f7e9ed081b0f",
   "metadata": {},
   "outputs": [],
   "source": [
    "# create an instance of the MNIST dataset\n",
    "mnist = tf.keras.datasets.mnist"
   ]
  },
  {
   "cell_type": "code",
   "execution_count": 3,
   "id": "4617c610-4cfd-48c3-a073-c1ad4d6ab350",
   "metadata": {},
   "outputs": [],
   "source": [
    "# load MNIST dataset's train and test data\n",
    "(train_features, train_labels), (test_features, test_labels) = mnist.load_data()"
   ]
  },
  {
   "cell_type": "code",
   "execution_count": 4,
   "id": "a1ccf20d-e82c-444c-a9c8-47a177fd911f",
   "metadata": {},
   "outputs": [],
   "source": [
    "# normalize the data\n",
    "train_features, test_features = train_features/255.0, test_features/255.0"
   ]
  },
  {
   "cell_type": "code",
   "execution_count": 5,
   "id": "90bed6fd-5e33-4f70-b54b-9643331152d6",
   "metadata": {},
   "outputs": [
    {
     "name": "stderr",
     "output_type": "stream",
     "text": [
      "2022-05-15 08:02:59.286349: I tensorflow/core/platform/cpu_feature_guard.cc:151] This TensorFlow binary is optimized with oneAPI Deep Neural Network Library (oneDNN) to use the following CPU instructions in performance-critical operations:  AVX2 FMA\n",
      "To enable them in other operations, rebuild TensorFlow with the appropriate compiler flags.\n"
     ]
    }
   ],
   "source": [
    "# flatten the 2D images into row matrices\n",
    "# So, a 28 × 28 pixel gets flattened to 784 using the reshape function\n",
    "x = tf.reshape(train_features, [60000, 784]) # 60000 is the number of observations in the train set"
   ]
  },
  {
   "cell_type": "code",
   "execution_count": 6,
   "id": "9aaa74fe-aee1-4a83-b554-1ba6a9579d21",
   "metadata": {},
   "outputs": [],
   "source": [
    "# create a variable with the features and type cast into float32\n",
    "x = tf.Variable(x)\n",
    "x = tf.cast(x, tf.float32)"
   ]
  },
  {
   "cell_type": "code",
   "execution_count": 7,
   "id": "80719250-2617-4c84-a7ae-fb28c930e45c",
   "metadata": {},
   "outputs": [],
   "source": [
    "# create a one-hot encoding of the labels and transform into a matrix\n",
    "y_hot = get_dummies(train_labels)\n",
    "y = y_hot.values"
   ]
  },
  {
   "cell_type": "code",
   "execution_count": 8,
   "id": "2067c2ac-b3c9-4d8d-881e-93bf9e805965",
   "metadata": {},
   "outputs": [],
   "source": [
    "# create single-layer neural network with 10 neurons and train for 1000 iterations\n",
    "number_of_features = 784\n",
    "number_of_units = 10 # nuerons equals to classes\n",
    "\n",
    "# weights and bias\n",
    "weight = tf.Variable(tf.zeros([number_of_features, number_of_units]))\n",
    "bias = tf.Variable(tf.zeros([number_of_units]))\n",
    "\n",
    "# define perceptron\n",
    "def perceptron(x):\n",
    "    z = tf.add(tf.matmul(x, weight), bias) # input function\n",
    "    output = tf.nn.softmax(z) # activation function\n",
    "    return output\n",
    "\n",
    "# optimizer\n",
    "optimizer = tf.optimizers.Adam(.01)\n",
    "\n",
    "# define training\n",
    "def train(i):\n",
    "    for n in range(i):\n",
    "        loss = lambda:abs(tf.reduce_mean(tf.nn.softmax_cross_entropy_with_logits(labels=y, logits=perceptron(x))))\n",
    "        optimizer.minimize(loss, [weight, bias])\n",
    "        \n",
    "# train perceptron\n",
    "train(1000)"
   ]
  },
  {
   "cell_type": "code",
   "execution_count": 9,
   "id": "dc403e4e-97ef-4eb1-a791-8e32bab1806a",
   "metadata": {},
   "outputs": [
    {
     "name": "stdout",
     "output_type": "stream",
     "text": [
      "[[0 0 0 ... 0 0 0]\n",
      " [0 0 0 ... 0 0 0]\n",
      " [0 0 0 ... 0 0 0]\n",
      " ...\n",
      " [0 0 0 ... 0 0 0]\n",
      " [0 0 0 ... 0 0 0]\n",
      " [0 0 0 ... 0 0 0]]\n"
     ]
    }
   ],
   "source": [
    "tf.print(weight)"
   ]
  },
  {
   "cell_type": "code",
   "execution_count": 10,
   "id": "c6c19c0f-125c-4861-b909-204fc781e5fc",
   "metadata": {},
   "outputs": [],
   "source": [
    "# prepare the test data to measure the accuracy\n",
    "test = tf.reshape(test_features, [10000, 784]) # 10000 is the number of observations provided for testing set, 784 is flattend 28x28 image\n",
    "test = tf.Variable(test)\n",
    "test = tf.cast(test, tf.float32)\n",
    "test_hot = get_dummies(test_labels)\n",
    "test_matrix = test_hot.values"
   ]
  },
  {
   "cell_type": "code",
   "execution_count": 11,
   "id": "476c3f54-4542-4e8f-bc22-69b0c91da0f6",
   "metadata": {},
   "outputs": [
    {
     "data": {
      "text/plain": [
       "0.9304"
      ]
     },
     "execution_count": 11,
     "metadata": {},
     "output_type": "execute_result"
    }
   ],
   "source": [
    "# run the predictions by passing the test data through the network\n",
    "ypred = perceptron(test)\n",
    "ypred = tf.round(ypred)\n",
    "\n",
    "# calculate accuracy \n",
    "accuracy_score(test_hot, ypred)"
   ]
  },
  {
   "cell_type": "raw",
   "id": "25d8a31a-2c4d-49e9-8f7e-8b59f2c7f0e9",
   "metadata": {},
   "source": [
    "In this exercise, we saw how to create a single-layer multi-neuron neural network and train it as a multiclass classifier."
   ]
  },
  {
   "cell_type": "code",
   "execution_count": null,
   "id": "b60c793f-c43e-4f3a-ba47-fb424d3c152e",
   "metadata": {},
   "outputs": [],
   "source": []
  }
 ],
 "metadata": {
  "kernelspec": {
   "display_name": "Python 3 (ipykernel)",
   "language": "python",
   "name": "python3"
  },
  "language_info": {
   "codemirror_mode": {
    "name": "ipython",
    "version": 3
   },
   "file_extension": ".py",
   "mimetype": "text/x-python",
   "name": "python",
   "nbconvert_exporter": "python",
   "pygments_lexer": "ipython3",
   "version": "3.9.7"
  }
 },
 "nbformat": 4,
 "nbformat_minor": 5
}

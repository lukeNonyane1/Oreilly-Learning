{
 "cells": [
  {
   "cell_type": "raw",
   "id": "fa4c12c4-7767-428c-85fd-1ff2c99b6d44",
   "metadata": {},
   "source": [
    "You will build a neural network-based classifier to classify between sonar signals bounced off a metal cylinder (the Mine class), and those bounced off a roughly cylindrical rock (the Rock class). We recommend using the Keras API to make your code more readable and modular, which will allow you to experiment with different parameters easily"
   ]
  },
  {
   "cell_type": "code",
   "execution_count": 1,
   "id": "5894e5ea-9d69-4320-9f06-c515b1946455",
   "metadata": {},
   "outputs": [],
   "source": [
    "import tensorflow as tf\n",
    "\n",
    "import pandas as pd\n",
    "\n",
    "import matplotlib.pyplot as plt\n",
    "\n",
    "%matplotlib inline\n",
    "\n",
    "# Import Keras libraries\n",
    "\n",
    "from tensorflow.keras.models import Sequential\n",
    "\n",
    "from tensorflow.keras.layers import Dense, Flatten\n",
    "from pandas import get_dummies\n",
    "from sklearn.preprocessing import LabelEncoder"
   ]
  },
  {
   "cell_type": "raw",
   "id": "ab79d606-c602-4696-92ee-a7fc3e97ca08",
   "metadata": {},
   "source": [
    "The first step is to understand the data so that you can figure out whether this is a binary classification problem or a multiclass classification problem."
   ]
  },
  {
   "cell_type": "code",
   "execution_count": 2,
   "id": "c9713454-47df-44c9-862f-e44b73310fc3",
   "metadata": {},
   "outputs": [
    {
     "data": {
      "text/html": [
       "<div>\n",
       "<style scoped>\n",
       "    .dataframe tbody tr th:only-of-type {\n",
       "        vertical-align: middle;\n",
       "    }\n",
       "\n",
       "    .dataframe tbody tr th {\n",
       "        vertical-align: top;\n",
       "    }\n",
       "\n",
       "    .dataframe thead th {\n",
       "        text-align: right;\n",
       "    }\n",
       "</style>\n",
       "<table border=\"1\" class=\"dataframe\">\n",
       "  <thead>\n",
       "    <tr style=\"text-align: right;\">\n",
       "      <th></th>\n",
       "      <th>attribute_1</th>\n",
       "      <th>attribute_2</th>\n",
       "      <th>attribute_3</th>\n",
       "      <th>attribute_4</th>\n",
       "      <th>attribute_5</th>\n",
       "      <th>attribute_6</th>\n",
       "      <th>attribute_7</th>\n",
       "      <th>attribute_8</th>\n",
       "      <th>attribute_9</th>\n",
       "      <th>attribute_10</th>\n",
       "      <th>...</th>\n",
       "      <th>attribute_52</th>\n",
       "      <th>attribute_53</th>\n",
       "      <th>attribute_54</th>\n",
       "      <th>attribute_55</th>\n",
       "      <th>attribute_56</th>\n",
       "      <th>attribute_57</th>\n",
       "      <th>attribute_58</th>\n",
       "      <th>attribute_59</th>\n",
       "      <th>attribute_60</th>\n",
       "      <th>Class</th>\n",
       "    </tr>\n",
       "  </thead>\n",
       "  <tbody>\n",
       "    <tr>\n",
       "      <th>0</th>\n",
       "      <td>0.0200</td>\n",
       "      <td>0.0371</td>\n",
       "      <td>0.0428</td>\n",
       "      <td>0.0207</td>\n",
       "      <td>0.0954</td>\n",
       "      <td>0.0986</td>\n",
       "      <td>0.1539</td>\n",
       "      <td>0.1601</td>\n",
       "      <td>0.3109</td>\n",
       "      <td>0.2111</td>\n",
       "      <td>...</td>\n",
       "      <td>0.0027</td>\n",
       "      <td>0.0065</td>\n",
       "      <td>0.0159</td>\n",
       "      <td>0.0072</td>\n",
       "      <td>0.0167</td>\n",
       "      <td>0.0180</td>\n",
       "      <td>0.0084</td>\n",
       "      <td>0.0090</td>\n",
       "      <td>0.0032</td>\n",
       "      <td>Rock</td>\n",
       "    </tr>\n",
       "    <tr>\n",
       "      <th>1</th>\n",
       "      <td>0.0453</td>\n",
       "      <td>0.0523</td>\n",
       "      <td>0.0843</td>\n",
       "      <td>0.0689</td>\n",
       "      <td>0.1183</td>\n",
       "      <td>0.2583</td>\n",
       "      <td>0.2156</td>\n",
       "      <td>0.3481</td>\n",
       "      <td>0.3337</td>\n",
       "      <td>0.2872</td>\n",
       "      <td>...</td>\n",
       "      <td>0.0084</td>\n",
       "      <td>0.0089</td>\n",
       "      <td>0.0048</td>\n",
       "      <td>0.0094</td>\n",
       "      <td>0.0191</td>\n",
       "      <td>0.0140</td>\n",
       "      <td>0.0049</td>\n",
       "      <td>0.0052</td>\n",
       "      <td>0.0044</td>\n",
       "      <td>Rock</td>\n",
       "    </tr>\n",
       "    <tr>\n",
       "      <th>2</th>\n",
       "      <td>0.0262</td>\n",
       "      <td>0.0582</td>\n",
       "      <td>0.1099</td>\n",
       "      <td>0.1083</td>\n",
       "      <td>0.0974</td>\n",
       "      <td>0.2280</td>\n",
       "      <td>0.2431</td>\n",
       "      <td>0.3771</td>\n",
       "      <td>0.5598</td>\n",
       "      <td>0.6194</td>\n",
       "      <td>...</td>\n",
       "      <td>0.0232</td>\n",
       "      <td>0.0166</td>\n",
       "      <td>0.0095</td>\n",
       "      <td>0.0180</td>\n",
       "      <td>0.0244</td>\n",
       "      <td>0.0316</td>\n",
       "      <td>0.0164</td>\n",
       "      <td>0.0095</td>\n",
       "      <td>0.0078</td>\n",
       "      <td>Rock</td>\n",
       "    </tr>\n",
       "    <tr>\n",
       "      <th>3</th>\n",
       "      <td>0.0100</td>\n",
       "      <td>0.0171</td>\n",
       "      <td>0.0623</td>\n",
       "      <td>0.0205</td>\n",
       "      <td>0.0205</td>\n",
       "      <td>0.0368</td>\n",
       "      <td>0.1098</td>\n",
       "      <td>0.1276</td>\n",
       "      <td>0.0598</td>\n",
       "      <td>0.1264</td>\n",
       "      <td>...</td>\n",
       "      <td>0.0121</td>\n",
       "      <td>0.0036</td>\n",
       "      <td>0.0150</td>\n",
       "      <td>0.0085</td>\n",
       "      <td>0.0073</td>\n",
       "      <td>0.0050</td>\n",
       "      <td>0.0044</td>\n",
       "      <td>0.0040</td>\n",
       "      <td>0.0117</td>\n",
       "      <td>Rock</td>\n",
       "    </tr>\n",
       "    <tr>\n",
       "      <th>4</th>\n",
       "      <td>0.0762</td>\n",
       "      <td>0.0666</td>\n",
       "      <td>0.0481</td>\n",
       "      <td>0.0394</td>\n",
       "      <td>0.0590</td>\n",
       "      <td>0.0649</td>\n",
       "      <td>0.1209</td>\n",
       "      <td>0.2467</td>\n",
       "      <td>0.3564</td>\n",
       "      <td>0.4459</td>\n",
       "      <td>...</td>\n",
       "      <td>0.0031</td>\n",
       "      <td>0.0054</td>\n",
       "      <td>0.0105</td>\n",
       "      <td>0.0110</td>\n",
       "      <td>0.0015</td>\n",
       "      <td>0.0072</td>\n",
       "      <td>0.0048</td>\n",
       "      <td>0.0107</td>\n",
       "      <td>0.0094</td>\n",
       "      <td>Rock</td>\n",
       "    </tr>\n",
       "  </tbody>\n",
       "</table>\n",
       "<p>5 rows × 61 columns</p>\n",
       "</div>"
      ],
      "text/plain": [
       "   attribute_1  attribute_2  attribute_3  attribute_4  attribute_5  \\\n",
       "0       0.0200       0.0371       0.0428       0.0207       0.0954   \n",
       "1       0.0453       0.0523       0.0843       0.0689       0.1183   \n",
       "2       0.0262       0.0582       0.1099       0.1083       0.0974   \n",
       "3       0.0100       0.0171       0.0623       0.0205       0.0205   \n",
       "4       0.0762       0.0666       0.0481       0.0394       0.0590   \n",
       "\n",
       "   attribute_6  attribute_7  attribute_8  attribute_9  attribute_10  ...  \\\n",
       "0       0.0986       0.1539       0.1601       0.3109        0.2111  ...   \n",
       "1       0.2583       0.2156       0.3481       0.3337        0.2872  ...   \n",
       "2       0.2280       0.2431       0.3771       0.5598        0.6194  ...   \n",
       "3       0.0368       0.1098       0.1276       0.0598        0.1264  ...   \n",
       "4       0.0649       0.1209       0.2467       0.3564        0.4459  ...   \n",
       "\n",
       "   attribute_52  attribute_53  attribute_54  attribute_55  attribute_56  \\\n",
       "0        0.0027        0.0065        0.0159        0.0072        0.0167   \n",
       "1        0.0084        0.0089        0.0048        0.0094        0.0191   \n",
       "2        0.0232        0.0166        0.0095        0.0180        0.0244   \n",
       "3        0.0121        0.0036        0.0150        0.0085        0.0073   \n",
       "4        0.0031        0.0054        0.0105        0.0110        0.0015   \n",
       "\n",
       "   attribute_57  attribute_58  attribute_59  attribute_60  Class  \n",
       "0        0.0180        0.0084        0.0090        0.0032   Rock  \n",
       "1        0.0140        0.0049        0.0052        0.0044   Rock  \n",
       "2        0.0316        0.0164        0.0095        0.0078   Rock  \n",
       "3        0.0050        0.0044        0.0040        0.0117   Rock  \n",
       "4        0.0072        0.0048        0.0107        0.0094   Rock  \n",
       "\n",
       "[5 rows x 61 columns]"
      ]
     },
     "execution_count": 2,
     "metadata": {},
     "output_type": "execute_result"
    }
   ],
   "source": [
    "# load & inspect data\n",
    "df = pd.read_csv('sonar.csv')\n",
    "df.head()"
   ]
  },
  {
   "cell_type": "raw",
   "id": "aa350221-9a9c-488b-9433-a4902d511fdd",
   "metadata": {},
   "source": [
    "Open the sonar.csv file to explore the dataset and see what the target variables are."
   ]
  },
  {
   "cell_type": "code",
   "execution_count": 3,
   "id": "8acf858e-c8f8-443e-9070-6cd26cf04dae",
   "metadata": {},
   "outputs": [
    {
     "data": {
      "text/plain": [
       "array(['Rock', 'Mine'], dtype=object)"
      ]
     },
     "execution_count": 3,
     "metadata": {},
     "output_type": "execute_result"
    }
   ],
   "source": [
    "df['Class'].unique()"
   ]
  },
  {
   "cell_type": "raw",
   "id": "a06fafee-7e6b-42c4-a2ba-ab7dc0b276ee",
   "metadata": {},
   "source": [
    "As we can see from the output this is a binary classification problem."
   ]
  },
  {
   "cell_type": "raw",
   "id": "abc58794-cda3-4d13-a8e1-e9f520907800",
   "metadata": {},
   "source": [
    "Once you understand the data and the type of classification that needs to be done, the next step is network configuration: the number of neurons, the number of hidden layers, which activation function to use, and so on.\n",
    "\n",
    "Recall the network configuration steps that we've covered so far. Let's just reiterate a crucial point, the activation function part: for the output (the last) layer, we use sigmoid to do binary classification and Softmax to do multiclass classification."
   ]
  },
  {
   "cell_type": "raw",
   "id": "ee235c06-d003-4f1e-a1dd-9c2c85f6f0bf",
   "metadata": {},
   "source": [
    "Separate the input features and the target variables."
   ]
  },
  {
   "cell_type": "code",
   "execution_count": 4,
   "id": "5fdd35e8-0a09-4d73-9ed5-bc62f297ab7c",
   "metadata": {},
   "outputs": [],
   "source": [
    "# prepare the data into features and labels\n",
    "x_input = df.drop(columns=['Class'])\n",
    "y_label = df['Class'].values"
   ]
  },
  {
   "cell_type": "raw",
   "id": "24ad7bd7-67da-4fe9-ada8-5a651747fe7e",
   "metadata": {},
   "source": [
    "Preprocess the data to make it neural network-compatible. Hint: one-hot encoding."
   ]
  },
  {
   "cell_type": "code",
   "execution_count": 5,
   "id": "652995d8-8446-4741-9fb9-aa18667c6deb",
   "metadata": {},
   "outputs": [],
   "source": [
    "# prepare the data by doing one-hot encoding on the classes; \n",
    "\"\"\"\n",
    "As we have two different classes, Rock and Mine, \n",
    "we need to encode the class labels into a format that we can work with more easily\n",
    "\"\"\"\n",
    "labelencoder_Y = LabelEncoder() \n",
    "y_label = labelencoder_Y.fit_transform(y_label)\n",
    "y_label = y_label.reshape([208, 1])"
   ]
  },
  {
   "cell_type": "raw",
   "id": "8755a428-6427-4c4c-ae87-138485a27e79",
   "metadata": {},
   "source": [
    "Define a neural network using Keras and compile it with the right loss function."
   ]
  },
  {
   "cell_type": "code",
   "execution_count": 6,
   "id": "c39f8c59-a274-49c4-a6b5-9452389366fe",
   "metadata": {},
   "outputs": [
    {
     "name": "stderr",
     "output_type": "stream",
     "text": [
      "2022-05-16 07:58:45.848403: I tensorflow/core/platform/cpu_feature_guard.cc:151] This TensorFlow binary is optimized with oneAPI Deep Neural Network Library (oneDNN) to use the following CPU instructions in performance-critical operations:  AVX2 FMA\n",
      "To enable them in other operations, rebuild TensorFlow with the appropriate compiler flags.\n"
     ]
    }
   ],
   "source": [
    "# build the Sequential model\n",
    "model = Sequential()\n",
    "model.add(Dense(units=80, input_dim=60, activation='relu'))\n",
    "model.add(Dense(units=50, input_dim=60, activation='relu'))\n",
    "model.add(Dense(units=20, input_dim=60, activation='relu'))\n",
    "model.add(Dense(units=1, input_dim=60, activation='sigmoid'))\n",
    "\n",
    "# use compile method to provide training parameters\n",
    "model.compile(optimizer='adam', loss='binary_crossentropy', metrics=['accuracy'])"
   ]
  },
  {
   "cell_type": "code",
   "execution_count": 7,
   "id": "3cdd1144-cf68-49e6-bafc-e7c809ef111b",
   "metadata": {},
   "outputs": [
    {
     "name": "stdout",
     "output_type": "stream",
     "text": [
      "Model: \"sequential\"\n",
      "_________________________________________________________________\n",
      " Layer (type)                Output Shape              Param #   \n",
      "=================================================================\n",
      " dense (Dense)               (None, 80)                4880      \n",
      "                                                                 \n",
      " dense_1 (Dense)             (None, 50)                4050      \n",
      "                                                                 \n",
      " dense_2 (Dense)             (None, 20)                1020      \n",
      "                                                                 \n",
      " dense_3 (Dense)             (None, 1)                 21        \n",
      "                                                                 \n",
      "=================================================================\n",
      "Total params: 9,971\n",
      "Trainable params: 9,971\n",
      "Non-trainable params: 0\n",
      "_________________________________________________________________\n"
     ]
    }
   ],
   "source": [
    "# inspect model\n",
    "model.summary()"
   ]
  },
  {
   "cell_type": "code",
   "execution_count": 8,
   "id": "3a913f5c-d015-49eb-83c6-2c927fbe7a36",
   "metadata": {
    "collapsed": true,
    "jupyter": {
     "outputs_hidden": true
    },
    "tags": []
   },
   "outputs": [
    {
     "name": "stdout",
     "output_type": "stream",
     "text": [
      "Epoch 1/50\n",
      "7/7 [==============================] - 0s 2ms/step - loss: 0.7302 - accuracy: 0.4663\n",
      "Epoch 2/50\n",
      "7/7 [==============================] - 0s 1ms/step - loss: 0.6840 - accuracy: 0.5337\n",
      "Epoch 3/50\n",
      "7/7 [==============================] - 0s 1ms/step - loss: 0.6699 - accuracy: 0.6538\n",
      "Epoch 4/50\n",
      "7/7 [==============================] - 0s 1ms/step - loss: 0.6535 - accuracy: 0.7260\n",
      "Epoch 5/50\n",
      "7/7 [==============================] - 0s 1ms/step - loss: 0.6361 - accuracy: 0.7740\n",
      "Epoch 6/50\n",
      "7/7 [==============================] - 0s 1ms/step - loss: 0.6169 - accuracy: 0.7452\n",
      "Epoch 7/50\n",
      "7/7 [==============================] - 0s 1ms/step - loss: 0.5886 - accuracy: 0.7933\n",
      "Epoch 8/50\n",
      "7/7 [==============================] - 0s 993us/step - loss: 0.5602 - accuracy: 0.7981\n",
      "Epoch 9/50\n",
      "7/7 [==============================] - 0s 982us/step - loss: 0.5296 - accuracy: 0.8125\n",
      "Epoch 10/50\n",
      "7/7 [==============================] - 0s 944us/step - loss: 0.5077 - accuracy: 0.7788\n",
      "Epoch 11/50\n",
      "7/7 [==============================] - 0s 1ms/step - loss: 0.4775 - accuracy: 0.8077\n",
      "Epoch 12/50\n",
      "7/7 [==============================] - 0s 1ms/step - loss: 0.4512 - accuracy: 0.7933\n",
      "Epoch 13/50\n",
      "7/7 [==============================] - 0s 1ms/step - loss: 0.4327 - accuracy: 0.8221\n",
      "Epoch 14/50\n",
      "7/7 [==============================] - 0s 952us/step - loss: 0.4254 - accuracy: 0.8125\n",
      "Epoch 15/50\n",
      "7/7 [==============================] - 0s 983us/step - loss: 0.4022 - accuracy: 0.8413\n",
      "Epoch 16/50\n",
      "7/7 [==============================] - 0s 988us/step - loss: 0.3892 - accuracy: 0.8221\n",
      "Epoch 17/50\n",
      "7/7 [==============================] - 0s 983us/step - loss: 0.3674 - accuracy: 0.8606\n",
      "Epoch 18/50\n",
      "7/7 [==============================] - 0s 1ms/step - loss: 0.3555 - accuracy: 0.8750\n",
      "Epoch 19/50\n",
      "7/7 [==============================] - 0s 982us/step - loss: 0.3453 - accuracy: 0.8846\n",
      "Epoch 20/50\n",
      "7/7 [==============================] - 0s 989us/step - loss: 0.3349 - accuracy: 0.8798\n",
      "Epoch 21/50\n",
      "7/7 [==============================] - 0s 1ms/step - loss: 0.3283 - accuracy: 0.8750\n",
      "Epoch 22/50\n",
      "7/7 [==============================] - 0s 1ms/step - loss: 0.3206 - accuracy: 0.8654\n",
      "Epoch 23/50\n",
      "7/7 [==============================] - 0s 1ms/step - loss: 0.3081 - accuracy: 0.8798\n",
      "Epoch 24/50\n",
      "7/7 [==============================] - 0s 1ms/step - loss: 0.2963 - accuracy: 0.8942\n",
      "Epoch 25/50\n",
      "7/7 [==============================] - 0s 1ms/step - loss: 0.2907 - accuracy: 0.8990\n",
      "Epoch 26/50\n",
      "7/7 [==============================] - 0s 997us/step - loss: 0.2870 - accuracy: 0.8798\n",
      "Epoch 27/50\n",
      "7/7 [==============================] - 0s 1ms/step - loss: 0.2930 - accuracy: 0.8750\n",
      "Epoch 28/50\n",
      "7/7 [==============================] - 0s 992us/step - loss: 0.2787 - accuracy: 0.8990\n",
      "Epoch 29/50\n",
      "7/7 [==============================] - 0s 1ms/step - loss: 0.2713 - accuracy: 0.8846\n",
      "Epoch 30/50\n",
      "7/7 [==============================] - 0s 1ms/step - loss: 0.2654 - accuracy: 0.9183\n",
      "Epoch 31/50\n",
      "7/7 [==============================] - 0s 1ms/step - loss: 0.2611 - accuracy: 0.8942\n",
      "Epoch 32/50\n",
      "7/7 [==============================] - 0s 993us/step - loss: 0.2363 - accuracy: 0.9279\n",
      "Epoch 33/50\n",
      "7/7 [==============================] - 0s 1ms/step - loss: 0.2271 - accuracy: 0.9183\n",
      "Epoch 34/50\n",
      "7/7 [==============================] - 0s 977us/step - loss: 0.2164 - accuracy: 0.9279\n",
      "Epoch 35/50\n",
      "7/7 [==============================] - 0s 1ms/step - loss: 0.2307 - accuracy: 0.9183\n",
      "Epoch 36/50\n",
      "7/7 [==============================] - 0s 964us/step - loss: 0.2139 - accuracy: 0.9135\n",
      "Epoch 37/50\n",
      "7/7 [==============================] - 0s 1ms/step - loss: 0.1946 - accuracy: 0.9471\n",
      "Epoch 38/50\n",
      "7/7 [==============================] - 0s 982us/step - loss: 0.1868 - accuracy: 0.9471\n",
      "Epoch 39/50\n",
      "7/7 [==============================] - 0s 998us/step - loss: 0.1867 - accuracy: 0.9423\n",
      "Epoch 40/50\n",
      "7/7 [==============================] - 0s 991us/step - loss: 0.1736 - accuracy: 0.9423\n",
      "Epoch 41/50\n",
      "7/7 [==============================] - 0s 998us/step - loss: 0.1822 - accuracy: 0.9327\n",
      "Epoch 42/50\n",
      "7/7 [==============================] - 0s 1000us/step - loss: 0.2380 - accuracy: 0.8846\n",
      "Epoch 43/50\n",
      "7/7 [==============================] - 0s 981us/step - loss: 0.2070 - accuracy: 0.9279\n",
      "Epoch 44/50\n",
      "7/7 [==============================] - 0s 1ms/step - loss: 0.1726 - accuracy: 0.9471\n",
      "Epoch 45/50\n",
      "7/7 [==============================] - 0s 1ms/step - loss: 0.1569 - accuracy: 0.9423\n",
      "Epoch 46/50\n",
      "7/7 [==============================] - 0s 999us/step - loss: 0.1458 - accuracy: 0.9663\n",
      "Epoch 47/50\n",
      "7/7 [==============================] - 0s 1ms/step - loss: 0.1414 - accuracy: 0.9567\n",
      "Epoch 48/50\n",
      "7/7 [==============================] - 0s 1ms/step - loss: 0.1369 - accuracy: 0.9760\n",
      "Epoch 49/50\n",
      "7/7 [==============================] - 0s 973us/step - loss: 0.1269 - accuracy: 0.9712\n",
      "Epoch 50/50\n",
      "7/7 [==============================] - 0s 987us/step - loss: 0.1193 - accuracy: 0.9808\n"
     ]
    },
    {
     "data": {
      "text/plain": [
       "<keras.callbacks.History at 0x7fa2e0e8b9d0>"
      ]
     },
     "execution_count": 8,
     "metadata": {},
     "output_type": "execute_result"
    }
   ],
   "source": [
    "# train model\n",
    "model.fit(x_input, y_label, epochs=50)"
   ]
  },
  {
   "cell_type": "raw",
   "id": "893e83b5-7144-4a57-a199-5a307ab4eaa4",
   "metadata": {},
   "source": [
    "You are expected to get an accuracy value above 95% by designing a proper multilayer neural network using these steps."
   ]
  },
  {
   "cell_type": "code",
   "execution_count": 10,
   "id": "867d71bc-d3cb-4eff-8b5a-df1188f175ec",
   "metadata": {},
   "outputs": [
    {
     "name": "stdout",
     "output_type": "stream",
     "text": [
      "7/7 [==============================] - 0s 852us/step - loss: 0.1122 - accuracy: 0.9712\n"
     ]
    },
    {
     "data": {
      "text/plain": [
       "[0.1122346967458725, 0.9711538553237915]"
      ]
     },
     "execution_count": 10,
     "metadata": {},
     "output_type": "execute_result"
    }
   ],
   "source": [
    "model.evaluate(x_input, y_label)"
   ]
  },
  {
   "cell_type": "code",
   "execution_count": null,
   "id": "5c5c6ea5-4408-40e1-814f-3afd4b774f16",
   "metadata": {},
   "outputs": [],
   "source": []
  }
 ],
 "metadata": {
  "kernelspec": {
   "display_name": "Python 3 (ipykernel)",
   "language": "python",
   "name": "python3"
  },
  "language_info": {
   "codemirror_mode": {
    "name": "ipython",
    "version": 3
   },
   "file_extension": ".py",
   "mimetype": "text/x-python",
   "name": "python",
   "nbconvert_exporter": "python",
   "pygments_lexer": "ipython3",
   "version": "3.9.7"
  }
 },
 "nbformat": 4,
 "nbformat_minor": 5
}

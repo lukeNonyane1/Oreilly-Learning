{
 "cells": [
  {
   "cell_type": "raw",
   "id": "cf3dd217-9162-40c3-b7b4-0422113af604",
   "metadata": {},
   "source": [
    "In this exercise, we will perform a multiclass classification by implementing a deep neural network (multi-layer) for the MNIST dataset where our input layer comprises 28 × 28 pixel images flattened to 784 input nodes followed by 2 hidden layers, the first with 50 neurons and the second with 20 neurons. Lastly, there will be a Softmax layer consisting of 10 neurons since we are classifying the handwritten digits into 10 classes"
   ]
  },
  {
   "cell_type": "code",
   "execution_count": 1,
   "id": "2d12ff15-1e13-4229-a12f-92fd04e34b55",
   "metadata": {},
   "outputs": [],
   "source": [
    "import tensorflow as tf\n",
    "\n",
    "import pandas as pd\n",
    "\n",
    "import matplotlib.pyplot as plt\n",
    "\n",
    "%matplotlib inline\n",
    "\n",
    "# Import Keras libraries\n",
    "\n",
    "from tensorflow.keras.models import Sequential\n",
    "\n",
    "from tensorflow.keras.layers import Dense, Flatten"
   ]
  },
  {
   "cell_type": "code",
   "execution_count": 3,
   "id": "938c62e0-3cc6-4f56-bfd2-85e32cf1b801",
   "metadata": {},
   "outputs": [],
   "source": [
    "# load mnist data\n",
    "mnist = tf.keras.datasets.mnist\n",
    "(train_features, train_labels), (test_features, test_labels) = mnist.load_data()"
   ]
  },
  {
   "cell_type": "raw",
   "id": "12db334c-0953-4bc2-9c74-67ca6319975e",
   "metadata": {},
   "source": [
    "train_features has the training images in the form of 28 x 28 pixel values.\n",
    "\n",
    "train_labels has the training labels. Similarly, test_features has the test images in the form of 28 x 28 pixel values. test_labels has the test labels."
   ]
  },
  {
   "cell_type": "code",
   "execution_count": 4,
   "id": "d318ce69-1365-4900-a31a-1c37585004fb",
   "metadata": {},
   "outputs": [],
   "source": [
    "# normalize the data\n",
    "train_features, test_features = train_features/255.0, test_features/255.0"
   ]
  },
  {
   "cell_type": "raw",
   "id": "3e951766-4fca-4f17-8ab4-da382e072248",
   "metadata": {},
   "source": [
    "The pixel values of the images range from 0-255. We need to normalize the values by dividing them by 255 so that the range goes from 0 to 1."
   ]
  },
  {
   "cell_type": "code",
   "execution_count": 5,
   "id": "18a5d0e9-5349-4554-baab-1ffd6dd2d4da",
   "metadata": {},
   "outputs": [
    {
     "name": "stderr",
     "output_type": "stream",
     "text": [
      "2022-05-16 05:54:35.992876: I tensorflow/core/platform/cpu_feature_guard.cc:151] This TensorFlow binary is optimized with oneAPI Deep Neural Network Library (oneDNN) to use the following CPU instructions in performance-critical operations:  AVX2 FMA\n",
      "To enable them in other operations, rebuild TensorFlow with the appropriate compiler flags.\n"
     ]
    }
   ],
   "source": [
    "# build the sequential model\n",
    "model = Sequential()\n",
    "model.add(Flatten(input_shape=(28,28)))\n",
    "model.add(Dense(units=50, activation='relu'))\n",
    "model.add(Dense(units=20, activation='relu'))\n",
    "model.add(Dense(units=10, activation='softmax'))"
   ]
  },
  {
   "cell_type": "raw",
   "id": "fd4b82f0-8865-49f5-8c3a-8b45109be6b7",
   "metadata": {},
   "source": [
    "There are couple of points to note. The first layer in this case is not actually a layer of neurons but a Flatten function. This flattens the 28 x 28 image into a single array of 784, which is fed to the first hidden layer of 50 neurons. The last layer has 10 neurons corresponding to the 10 classes with a softmax activation function."
   ]
  },
  {
   "cell_type": "code",
   "execution_count": 7,
   "id": "5ed19e97-52a0-47c5-965a-a07965305b29",
   "metadata": {},
   "outputs": [],
   "source": [
    "# provide training parameters\n",
    "model.compile(optimizer='adam', loss='sparse_categorical_crossentropy', metrics=['accuracy'])"
   ]
  },
  {
   "cell_type": "code",
   "execution_count": 8,
   "id": "bfcee3be-ffe3-47cc-8a50-60c6a3270f9d",
   "metadata": {},
   "outputs": [
    {
     "name": "stdout",
     "output_type": "stream",
     "text": [
      "Model: \"sequential\"\n",
      "_________________________________________________________________\n",
      " Layer (type)                Output Shape              Param #   \n",
      "=================================================================\n",
      " flatten (Flatten)           (None, 784)               0         \n",
      "                                                                 \n",
      " dense (Dense)               (None, 50)                39250     \n",
      "                                                                 \n",
      " dense_1 (Dense)             (None, 20)                1020      \n",
      "                                                                 \n",
      " dense_2 (Dense)             (None, 10)                210       \n",
      "                                                                 \n",
      "=================================================================\n",
      "Total params: 40,480\n",
      "Trainable params: 40,480\n",
      "Non-trainable params: 0\n",
      "_________________________________________________________________\n"
     ]
    }
   ],
   "source": [
    "model.summary()"
   ]
  },
  {
   "cell_type": "raw",
   "id": "62b7fd2d-f1a0-4b17-88cd-debbe092c30b",
   "metadata": {},
   "source": [
    "The loss function used here is different from the binary classifier. For a multiclass classifier, the following loss functions are used: sparse_categorical_crossentropy, which is used when the labels are not one-hot encoded, as in this case; and, categorical_crossentropy, which is used when the labels are one-hot encoded."
   ]
  },
  {
   "cell_type": "raw",
   "id": "c07cde9f-fca8-493e-9c5a-8f135567992a",
   "metadata": {},
   "source": [
    "In the model summary, we can see that there are a total of 40,480 parameters—weights and biases—to learn across the hidden layers to the output layer."
   ]
  },
  {
   "cell_type": "code",
   "execution_count": 9,
   "id": "e295927e-e018-4620-b2d9-c1c2305a13b6",
   "metadata": {},
   "outputs": [
    {
     "name": "stdout",
     "output_type": "stream",
     "text": [
      "Epoch 1/50\n",
      "1875/1875 [==============================] - 2s 943us/step - loss: 0.3441 - accuracy: 0.8998\n",
      "Epoch 2/50\n",
      "1875/1875 [==============================] - 2s 926us/step - loss: 0.1604 - accuracy: 0.9522\n",
      "Epoch 3/50\n",
      "1875/1875 [==============================] - 2s 921us/step - loss: 0.1162 - accuracy: 0.9650\n",
      "Epoch 4/50\n",
      "1875/1875 [==============================] - 2s 918us/step - loss: 0.0934 - accuracy: 0.9714\n",
      "Epoch 5/50\n",
      "1875/1875 [==============================] - 2s 917us/step - loss: 0.0775 - accuracy: 0.9760\n",
      "Epoch 6/50\n",
      "1875/1875 [==============================] - 2s 897us/step - loss: 0.0672 - accuracy: 0.9789\n",
      "Epoch 7/50\n",
      "1875/1875 [==============================] - 2s 883us/step - loss: 0.0581 - accuracy: 0.9811\n",
      "Epoch 8/50\n",
      "1875/1875 [==============================] - 2s 885us/step - loss: 0.0512 - accuracy: 0.9838\n",
      "Epoch 9/50\n",
      "1875/1875 [==============================] - 2s 889us/step - loss: 0.0458 - accuracy: 0.9855\n",
      "Epoch 10/50\n",
      "1875/1875 [==============================] - 2s 880us/step - loss: 0.0410 - accuracy: 0.9870\n",
      "Epoch 11/50\n",
      "1875/1875 [==============================] - 2s 880us/step - loss: 0.0370 - accuracy: 0.9880\n",
      "Epoch 12/50\n",
      "1875/1875 [==============================] - 2s 926us/step - loss: 0.0335 - accuracy: 0.9890\n",
      "Epoch 13/50\n",
      "1875/1875 [==============================] - 2s 916us/step - loss: 0.0301 - accuracy: 0.9901\n",
      "Epoch 14/50\n",
      "1875/1875 [==============================] - 2s 911us/step - loss: 0.0278 - accuracy: 0.9909\n",
      "Epoch 15/50\n",
      "1875/1875 [==============================] - 2s 909us/step - loss: 0.0251 - accuracy: 0.9917\n",
      "Epoch 16/50\n",
      "1875/1875 [==============================] - 2s 920us/step - loss: 0.0236 - accuracy: 0.9924\n",
      "Epoch 17/50\n",
      "1875/1875 [==============================] - 2s 921us/step - loss: 0.0213 - accuracy: 0.9929\n",
      "Epoch 18/50\n",
      "1875/1875 [==============================] - 2s 931us/step - loss: 0.0221 - accuracy: 0.9930\n",
      "Epoch 19/50\n",
      "1875/1875 [==============================] - 2s 934us/step - loss: 0.0179 - accuracy: 0.9939\n",
      "Epoch 20/50\n",
      "1875/1875 [==============================] - 2s 927us/step - loss: 0.0178 - accuracy: 0.9940\n",
      "Epoch 21/50\n",
      "1875/1875 [==============================] - 2s 926us/step - loss: 0.0170 - accuracy: 0.9941\n",
      "Epoch 22/50\n",
      "1875/1875 [==============================] - 2s 926us/step - loss: 0.0161 - accuracy: 0.9948\n",
      "Epoch 23/50\n",
      "1875/1875 [==============================] - 2s 922us/step - loss: 0.0140 - accuracy: 0.9949\n",
      "Epoch 24/50\n",
      "1875/1875 [==============================] - 2s 930us/step - loss: 0.0143 - accuracy: 0.9951\n",
      "Epoch 25/50\n",
      "1875/1875 [==============================] - 2s 910us/step - loss: 0.0129 - accuracy: 0.9956\n",
      "Epoch 26/50\n",
      "1875/1875 [==============================] - 2s 904us/step - loss: 0.0125 - accuracy: 0.9958\n",
      "Epoch 27/50\n",
      "1875/1875 [==============================] - 2s 904us/step - loss: 0.0116 - accuracy: 0.9962\n",
      "Epoch 28/50\n",
      "1875/1875 [==============================] - 2s 902us/step - loss: 0.0120 - accuracy: 0.9957\n",
      "Epoch 29/50\n",
      "1875/1875 [==============================] - 2s 899us/step - loss: 0.0109 - accuracy: 0.9963\n",
      "Epoch 30/50\n",
      "1875/1875 [==============================] - 2s 906us/step - loss: 0.0108 - accuracy: 0.9960\n",
      "Epoch 31/50\n",
      "1875/1875 [==============================] - 2s 892us/step - loss: 0.0111 - accuracy: 0.9960\n",
      "Epoch 32/50\n",
      "1875/1875 [==============================] - 2s 886us/step - loss: 0.0100 - accuracy: 0.9968\n",
      "Epoch 33/50\n",
      "1875/1875 [==============================] - 2s 888us/step - loss: 0.0110 - accuracy: 0.9965\n",
      "Epoch 34/50\n",
      "1875/1875 [==============================] - 2s 885us/step - loss: 0.0083 - accuracy: 0.9969\n",
      "Epoch 35/50\n",
      "1875/1875 [==============================] - 2s 899us/step - loss: 0.0097 - accuracy: 0.9966\n",
      "Epoch 36/50\n",
      "1875/1875 [==============================] - 2s 896us/step - loss: 0.0089 - accuracy: 0.9968\n",
      "Epoch 37/50\n",
      "1875/1875 [==============================] - 2s 886us/step - loss: 0.0088 - accuracy: 0.9971\n",
      "Epoch 38/50\n",
      "1875/1875 [==============================] - 2s 888us/step - loss: 0.0089 - accuracy: 0.9971\n",
      "Epoch 39/50\n",
      "1875/1875 [==============================] - 2s 882us/step - loss: 0.0100 - accuracy: 0.9969\n",
      "Epoch 40/50\n",
      "1875/1875 [==============================] - 2s 881us/step - loss: 0.0080 - accuracy: 0.9973\n",
      "Epoch 41/50\n",
      "1875/1875 [==============================] - 2s 887us/step - loss: 0.0097 - accuracy: 0.9967\n",
      "Epoch 42/50\n",
      "1875/1875 [==============================] - 2s 902us/step - loss: 0.0086 - accuracy: 0.9973\n",
      "Epoch 43/50\n",
      "1875/1875 [==============================] - 2s 886us/step - loss: 0.0090 - accuracy: 0.9971\n",
      "Epoch 44/50\n",
      "1875/1875 [==============================] - 2s 893us/step - loss: 0.0077 - accuracy: 0.9976\n",
      "Epoch 45/50\n",
      "1875/1875 [==============================] - 2s 898us/step - loss: 0.0086 - accuracy: 0.9973\n",
      "Epoch 46/50\n",
      "1875/1875 [==============================] - 2s 895us/step - loss: 0.0085 - accuracy: 0.9974\n",
      "Epoch 47/50\n",
      "1875/1875 [==============================] - 2s 882us/step - loss: 0.0076 - accuracy: 0.9976\n",
      "Epoch 48/50\n",
      "1875/1875 [==============================] - 2s 893us/step - loss: 0.0083 - accuracy: 0.9975\n",
      "Epoch 49/50\n",
      "1875/1875 [==============================] - 2s 873us/step - loss: 0.0074 - accuracy: 0.9977\n",
      "Epoch 50/50\n",
      "1875/1875 [==============================] - 2s 872us/step - loss: 0.0075 - accuracy: 0.9975\n"
     ]
    },
    {
     "data": {
      "text/plain": [
       "<keras.callbacks.History at 0x7fbb28d142b0>"
      ]
     },
     "execution_count": 9,
     "metadata": {},
     "output_type": "execute_result"
    }
   ],
   "source": [
    "# train model\n",
    "model.fit(train_features, train_labels, epochs=50)"
   ]
  },
  {
   "cell_type": "code",
   "execution_count": 10,
   "id": "b4e38c3b-5615-459b-a3a1-5550e773f86c",
   "metadata": {},
   "outputs": [
    {
     "name": "stdout",
     "output_type": "stream",
     "text": [
      "313/313 [==============================] - 0s 672us/step - loss: 0.2242 - accuracy: 0.9715\n"
     ]
    },
    {
     "data": {
      "text/plain": [
       "[0.22421348094940186, 0.9714999794960022]"
      ]
     },
     "execution_count": 10,
     "metadata": {},
     "output_type": "execute_result"
    }
   ],
   "source": [
    "# test model by calling evaluate()\n",
    "model.evaluate(test_features, test_labels)"
   ]
  },
  {
   "cell_type": "raw",
   "id": "9699e7e9-bee5-4178-8dca-cd74453d51c5",
   "metadata": {},
   "source": [
    "Now that the model is trained and tested, in the next few steps, we will run the prediction with some images selected randomly."
   ]
  },
  {
   "cell_type": "code",
   "execution_count": 11,
   "id": "79e944a7-596f-4baf-bf9b-70461444e5b0",
   "metadata": {},
   "outputs": [],
   "source": [
    "# load a random image from test dataset; 200th image\n",
    "loc = 200\n",
    "test_image = test_features[loc]"
   ]
  },
  {
   "cell_type": "code",
   "execution_count": 12,
   "id": "c4637cbb-bb2e-4d08-af0c-c3f8fb057aff",
   "metadata": {},
   "outputs": [
    {
     "data": {
      "text/plain": [
       "(28, 28)"
      ]
     },
     "execution_count": 12,
     "metadata": {},
     "output_type": "execute_result"
    }
   ],
   "source": [
    "# view shape of image\n",
    "test_image.shape"
   ]
  },
  {
   "cell_type": "raw",
   "id": "0650dbd6-97c3-4194-9cdd-ebbcffa5af07",
   "metadata": {},
   "source": [
    "We can see that the shape of the image is 28 x 28. However, the model expects 3-dimensional input. We need to reshape the image accordingly."
   ]
  },
  {
   "cell_type": "code",
   "execution_count": 13,
   "id": "e15defe4-7000-46ef-b669-9799e20ad5df",
   "metadata": {},
   "outputs": [],
   "source": [
    "# reshape image\n",
    "test_image = test_image.reshape(1, 28, 28)"
   ]
  },
  {
   "cell_type": "code",
   "execution_count": 14,
   "id": "e7ed7cc6-5484-406c-8f55-8fffa0a0d1be",
   "metadata": {},
   "outputs": [
    {
     "name": "stdout",
     "output_type": "stream",
     "text": [
      "[[1.3243749e-23 9.2226690e-22 3.5045666e-10 9.9999976e-01 0.0000000e+00\n",
      "  4.7475019e-08 9.7370665e-37 3.8477758e-16 2.3680171e-07 4.0813560e-22]]\n"
     ]
    }
   ],
   "source": [
    "# call predict() and store output in variable called result\n",
    "result = model.predict(test_image)\n",
    "print(result)"
   ]
  },
  {
   "cell_type": "raw",
   "id": "e01985fe-b4d8-4735-ba39-6adb99cc89dc",
   "metadata": {},
   "source": [
    "result has the output in the form of 10 probability values"
   ]
  },
  {
   "cell_type": "raw",
   "id": "0bc04598-5f1b-4241-8b97-d581cefb0e48",
   "metadata": {},
   "source": [
    "The position of the highest value will be the prediction"
   ]
  },
  {
   "cell_type": "code",
   "execution_count": 15,
   "id": "2d4de5d0-0328-409f-b432-d025049c4532",
   "metadata": {},
   "outputs": [
    {
     "data": {
      "text/plain": [
       "3"
      ]
     },
     "execution_count": 15,
     "metadata": {},
     "output_type": "execute_result"
    }
   ],
   "source": [
    "# use argmax() to find out prediction\n",
    "result.argmax()"
   ]
  },
  {
   "cell_type": "raw",
   "id": "45550eb0-a229-465f-8081-a1945a6f2759",
   "metadata": {},
   "source": [
    "In order to check whether the prediction is correct, we check the label of the corresponding image"
   ]
  },
  {
   "cell_type": "code",
   "execution_count": 16,
   "id": "8e830aae-d90e-45f3-b29e-15c01337e721",
   "metadata": {},
   "outputs": [
    {
     "data": {
      "text/plain": [
       "3"
      ]
     },
     "execution_count": 16,
     "metadata": {},
     "output_type": "execute_result"
    }
   ],
   "source": [
    "test_labels[loc]"
   ]
  },
  {
   "cell_type": "raw",
   "id": "cc5ca9dd-0b9d-49e7-9d52-03361f59fc77",
   "metadata": {},
   "source": [
    "We can also visualize the image using pyplot"
   ]
  },
  {
   "cell_type": "code",
   "execution_count": 17,
   "id": "42d00e4d-8d99-4db7-812f-cc1f8330bd10",
   "metadata": {},
   "outputs": [
    {
     "data": {
      "text/plain": [
       "<matplotlib.image.AxesImage at 0x7fbb0a711c70>"
      ]
     },
     "execution_count": 17,
     "metadata": {},
     "output_type": "execute_result"
    },
    {
     "data": {
      "image/png": "[encoded data removed]",
      "text/plain": [
       "<Figure size 432x288 with 1 Axes>"
      ]
     },
     "metadata": {
      "needs_background": "light"
     },
     "output_type": "display_data"
    }
   ],
   "source": [
    "plt.imshow(test_features[loc])"
   ]
  },
  {
   "cell_type": "raw",
   "id": "606167d1-382e-4397-8c05-2d1ea3920b08",
   "metadata": {},
   "source": [
    "And this shows that the prediction is correct."
   ]
  },
  {
   "cell_type": "code",
   "execution_count": null,
   "id": "f573a53d-3f65-4626-8ca2-ab899a566c12",
   "metadata": {},
   "outputs": [],
   "source": []
  }
 ],
 "metadata": {
  "kernelspec": {
   "display_name": "Python 3 (ipykernel)",
   "language": "python",
   "name": "python3"
  },
  "language_info": {
   "codemirror_mode": {
    "name": "ipython",
    "version": 3
   },
   "file_extension": ".py",
   "mimetype": "text/x-python",
   "name": "python",
   "nbconvert_exporter": "python",
   "pygments_lexer": "ipython3",
   "version": "3.9.7"
  }
 },
 "nbformat": 4,
 "nbformat_minor": 5
}

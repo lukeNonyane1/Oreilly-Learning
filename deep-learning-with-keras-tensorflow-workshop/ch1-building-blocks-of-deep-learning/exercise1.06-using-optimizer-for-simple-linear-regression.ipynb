{
 "cells": [
  {
   "cell_type": "code",
   "execution_count": 1,
   "id": "ab4882c2-9c0c-4003-bace-a9fd99fd708f",
   "metadata": {},
   "outputs": [],
   "source": [
    "import tensorflow as tf"
   ]
  },
  {
   "cell_type": "code",
   "execution_count": 2,
   "id": "4eca750a-0f56-4367-a9e8-6676e3545d6b",
   "metadata": {},
   "outputs": [
    {
     "name": "stderr",
     "output_type": "stream",
     "text": [
      "2022-05-13 07:46:41.278604: I tensorflow/core/platform/cpu_feature_guard.cc:151] This TensorFlow binary is optimized with oneAPI Deep Neural Network Library (oneDNN) to use the following CPU instructions in performance-critical operations:  AVX2 FMA\n",
      "To enable them in other operations, rebuild TensorFlow with the appropriate compiler flags.\n"
     ]
    }
   ],
   "source": [
    "# create variables and initialize them to 0. These will be our assumed values\n",
    "w = tf.Variable(0.0)\n",
    "b = tf.Variable(0.0)"
   ]
  },
  {
   "cell_type": "code",
   "execution_count": 3,
   "id": "bac8d1ec-6943-47fb-8bd6-2f96f1f4a1bc",
   "metadata": {},
   "outputs": [],
   "source": [
    "# define a function for linear regressin model\n",
    "def regression(x):\n",
    "    model = w * x + b\n",
    "    return model"
   ]
  },
  {
   "cell_type": "code",
   "execution_count": 4,
   "id": "6f4aa17f-4540-492b-9af9-5ff9b05ad4bf",
   "metadata": {},
   "outputs": [],
   "source": [
    "# prepare the data in the form of features (x) and labels (y).\n",
    "x = [1,2,3,4]\n",
    "y = [0,-1,-2,-3]"
   ]
  },
  {
   "cell_type": "code",
   "execution_count": 5,
   "id": "bed24d04-02c7-4a2a-9692-73f6eedab633",
   "metadata": {},
   "outputs": [],
   "source": [
    "# define the loss function. This is the absolute value of the difference between the predicted value and the label, in this case.\n",
    "loss = lambda:abs(regression(x)-y)"
   ]
  },
  {
   "cell_type": "code",
   "execution_count": 6,
   "id": "ab4adfdb-8cd9-4033-99fc-15af411296de",
   "metadata": {},
   "outputs": [],
   "source": [
    "# create an adam optimier instance with a learning rate of 0.1. The learning rate\n",
    "# defines at what rate the optimizer should change the assumed parameters.\n",
    "optimizer = tf.optimizers.Adam(0.1)"
   ]
  },
  {
   "cell_type": "code",
   "execution_count": 7,
   "id": "c96e6cd9-6444-4800-b627-629848e5e33a",
   "metadata": {},
   "outputs": [],
   "source": [
    "# Train the model to run for 1000 iterations to minimize the loss\n",
    "for i in range(1000):\n",
    "    optimizer.minimize(loss,[w,b])"
   ]
  },
  {
   "cell_type": "code",
   "execution_count": 8,
   "id": "618e46ff-d2de-45bd-be44-36548277611c",
   "metadata": {},
   "outputs": [
    {
     "name": "stdout",
     "output_type": "stream",
     "text": [
      "-1.02598631 0.970646918\n"
     ]
    }
   ],
   "source": [
    "tf.print(w,b)"
   ]
  },
  {
   "cell_type": "raw",
   "id": "df17d73f-01b9-4c42-8432-1075a78832ed",
   "metadata": {},
   "source": [
    "We can see that the values of the w and b parameters have been changed from their original values of 0, which were assumed. This is what is done during the optimizing process. These updated parameter values will be used for predicting the values of Y."
   ]
  },
  {
   "cell_type": "code",
   "execution_count": 9,
   "id": "c0b2eb2e-9379-4aca-97f2-8d053dd162d5",
   "metadata": {},
   "outputs": [
    {
     "name": "stdout",
     "output_type": "stream",
     "text": [
      "[-0.055339396 -1.08132577 -2.1073122 -3.1332984]\n"
     ]
    }
   ],
   "source": [
    "# use trained model to predict the values of y\n",
    "tf.print(regression([1,2,3,4]))"
   ]
  },
  {
   "cell_type": "raw",
   "id": "f3e127d3-92f0-4c88-8868-028da5af6d61",
   "metadata": {},
   "source": [
    "The model predicts the values, which are very close to the label values (y), which means the model was trained to a high level of accuracy"
   ]
  },
  {
   "cell_type": "code",
   "execution_count": null,
   "id": "30712709-586b-4e93-84f2-ad864f73119f",
   "metadata": {},
   "outputs": [],
   "source": []
  }
 ],
 "metadata": {
  "kernelspec": {
   "display_name": "Python 3 (ipykernel)",
   "language": "python",
   "name": "python3"
  },
  "language_info": {
   "codemirror_mode": {
    "name": "ipython",
    "version": 3
   },
   "file_extension": ".py",
   "mimetype": "text/x-python",
   "name": "python",
   "nbconvert_exporter": "python",
   "pygments_lexer": "ipython3",
   "version": "3.9.7"
  }
 },
 "nbformat": 4,
 "nbformat_minor": 5
}

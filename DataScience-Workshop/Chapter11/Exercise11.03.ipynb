{
 "cells": [
  {
   "cell_type": "markdown",
   "metadata": {},
   "source": [
    "## Fixing Incorrect Values in the State Column\n",
    "In this exercise, you will clean the State variable in a modified version of a dataset by listing all the finance officers in the USA. We are doing this because the dataset contains some incorrect values. Let's get started"
   ]
  },
  {
   "cell_type": "code",
   "execution_count": 1,
   "metadata": {},
   "outputs": [],
   "source": [
    "import pandas as pd"
   ]
  },
  {
   "cell_type": "code",
   "execution_count": 2,
   "metadata": {},
   "outputs": [],
   "source": [
    "file_url = ('https://raw.githubusercontent.com/PacktWorkshops/'\\\n",
    "            'The-Data-Science-Workshop/master/Chapter11/dataset/officers.csv')"
   ]
  },
  {
   "cell_type": "code",
   "execution_count": 3,
   "metadata": {},
   "outputs": [],
   "source": [
    "df = pd.read_csv(file_url)"
   ]
  },
  {
   "cell_type": "code",
   "execution_count": 4,
   "metadata": {},
   "outputs": [
    {
     "data": {
      "text/html": [
       "<div>\n",
       "<style scoped>\n",
       "    .dataframe tbody tr th:only-of-type {\n",
       "        vertical-align: middle;\n",
       "    }\n",
       "\n",
       "    .dataframe tbody tr th {\n",
       "        vertical-align: top;\n",
       "    }\n",
       "\n",
       "    .dataframe thead th {\n",
       "        text-align: right;\n",
       "    }\n",
       "</style>\n",
       "<table border=\"1\" class=\"dataframe\">\n",
       "  <thead>\n",
       "    <tr style=\"text-align: right;\">\n",
       "      <th></th>\n",
       "      <th>ID</th>\n",
       "      <th>City</th>\n",
       "      <th>State</th>\n",
       "      <th>Zip</th>\n",
       "      <th>Title</th>\n",
       "      <th>RedactionRequested</th>\n",
       "    </tr>\n",
       "  </thead>\n",
       "  <tbody>\n",
       "    <tr>\n",
       "      <th>0</th>\n",
       "      <td>804</td>\n",
       "      <td>Glenview</td>\n",
       "      <td>IL</td>\n",
       "      <td>60025</td>\n",
       "      <td>Treasurer</td>\n",
       "      <td>False</td>\n",
       "    </tr>\n",
       "    <tr>\n",
       "      <th>1</th>\n",
       "      <td>9177</td>\n",
       "      <td>Harrisburg</td>\n",
       "      <td>IL</td>\n",
       "      <td>62946</td>\n",
       "      <td>Treasurer</td>\n",
       "      <td>False</td>\n",
       "    </tr>\n",
       "    <tr>\n",
       "      <th>2</th>\n",
       "      <td>53011</td>\n",
       "      <td>Chicago</td>\n",
       "      <td>IL</td>\n",
       "      <td>60606</td>\n",
       "      <td>Treasurer</td>\n",
       "      <td>False</td>\n",
       "    </tr>\n",
       "    <tr>\n",
       "      <th>3</th>\n",
       "      <td>9176</td>\n",
       "      <td>Harrisburg</td>\n",
       "      <td>IL</td>\n",
       "      <td>62946</td>\n",
       "      <td>Chairman</td>\n",
       "      <td>False</td>\n",
       "    </tr>\n",
       "    <tr>\n",
       "      <th>4</th>\n",
       "      <td>33020</td>\n",
       "      <td>Mechanicsburg</td>\n",
       "      <td>IL</td>\n",
       "      <td>62545</td>\n",
       "      <td>Chairman</td>\n",
       "      <td>False</td>\n",
       "    </tr>\n",
       "  </tbody>\n",
       "</table>\n",
       "</div>"
      ],
      "text/plain": [
       "      ID           City State    Zip      Title  RedactionRequested\n",
       "0    804       Glenview    IL  60025  Treasurer               False\n",
       "1   9177     Harrisburg    IL  62946  Treasurer               False\n",
       "2  53011        Chicago    IL  60606  Treasurer               False\n",
       "3   9176     Harrisburg    IL  62946   Chairman               False\n",
       "4  33020  Mechanicsburg    IL  62545   Chairman               False"
      ]
     },
     "execution_count": 4,
     "metadata": {},
     "output_type": "execute_result"
    }
   ],
   "source": [
    "df.head()"
   ]
  },
  {
   "cell_type": "code",
   "execution_count": 5,
   "metadata": {},
   "outputs": [
    {
     "data": {
      "text/plain": [
       "array(['IL', 'PA', 'DC', 'Il', nan, 'WI', 'CA', 'MO', 'NC', 'IA', 'MA',\n",
       "       'IN', 'MI', 'TN', 'NY', 'ng', 'TX', 'CO', 'NV', 'il', 'WA', '8I',\n",
       "       'In', 'iL', 'OH', 'SC', 'VA', 'NM', 'FL', 'LA', 'GA', 'II', 'NJ',\n",
       "       'MD', 'I', 'AR', 'KS', 'DE', '60', 'SD', 'MN', 'VT', 'OK', 'KY',\n",
       "       'CT', 'NH', 'AZ', 'OR', 'PR', 'RI'], dtype=object)"
      ]
     },
     "execution_count": 5,
     "metadata": {},
     "output_type": "execute_result"
    }
   ],
   "source": [
    "# unique values of State variable\n",
    "df['State'].unique()"
   ]
  },
  {
   "cell_type": "markdown",
   "metadata": {},
   "source": [
    "All the states have been encoded into a two-capitalized character format. As you can see, there are some incorrect values with non-capitalized characters, such as il and iL (they look like spelling errors for Illinois), and unexpected values such as 8I, I, and 60. In the next few steps, you are going to fix these issues."
   ]
  },
  {
   "cell_type": "markdown",
   "metadata": {},
   "source": [
    "Print out the rows that have the il value in the State column using the pandas .str.contains() method and the subsetting API, that is, DataFrame [condition]. You will also have to set the na parameter to False in str.contains() in order to exclude observations with missing values:"
   ]
  },
  {
   "cell_type": "code",
   "execution_count": 6,
   "metadata": {},
   "outputs": [
    {
     "data": {
      "text/plain": [
       "0        False\n",
       "1        False\n",
       "2        False\n",
       "3        False\n",
       "4        False\n",
       "         ...  \n",
       "55209    False\n",
       "55210    False\n",
       "55211    False\n",
       "55212    False\n",
       "55213    False\n",
       "Name: State, Length: 55214, dtype: bool"
      ]
     },
     "execution_count": 6,
     "metadata": {},
     "output_type": "execute_result"
    }
   ],
   "source": [
    "df['State'].str.contains('il', na=False)"
   ]
  },
  {
   "cell_type": "code",
   "execution_count": 7,
   "metadata": {},
   "outputs": [
    {
     "data": {
      "text/html": [
       "<div>\n",
       "<style scoped>\n",
       "    .dataframe tbody tr th:only-of-type {\n",
       "        vertical-align: middle;\n",
       "    }\n",
       "\n",
       "    .dataframe tbody tr th {\n",
       "        vertical-align: top;\n",
       "    }\n",
       "\n",
       "    .dataframe thead th {\n",
       "        text-align: right;\n",
       "    }\n",
       "</style>\n",
       "<table border=\"1\" class=\"dataframe\">\n",
       "  <thead>\n",
       "    <tr style=\"text-align: right;\">\n",
       "      <th></th>\n",
       "      <th>ID</th>\n",
       "      <th>City</th>\n",
       "      <th>State</th>\n",
       "      <th>Zip</th>\n",
       "      <th>Title</th>\n",
       "      <th>RedactionRequested</th>\n",
       "    </tr>\n",
       "  </thead>\n",
       "  <tbody>\n",
       "    <tr>\n",
       "      <th>4245</th>\n",
       "      <td>47448</td>\n",
       "      <td>Chicago</td>\n",
       "      <td>il</td>\n",
       "      <td>60619</td>\n",
       "      <td>Treasurer</td>\n",
       "      <td>False</td>\n",
       "    </tr>\n",
       "    <tr>\n",
       "      <th>4651</th>\n",
       "      <td>47447</td>\n",
       "      <td>Chicago</td>\n",
       "      <td>il</td>\n",
       "      <td>60623-1614</td>\n",
       "      <td>Chairman</td>\n",
       "      <td>False</td>\n",
       "    </tr>\n",
       "    <tr>\n",
       "      <th>4652</th>\n",
       "      <td>54025</td>\n",
       "      <td>Chicago</td>\n",
       "      <td>il</td>\n",
       "      <td>60623-1614</td>\n",
       "      <td>Chairman</td>\n",
       "      <td>False</td>\n",
       "    </tr>\n",
       "    <tr>\n",
       "      <th>18939</th>\n",
       "      <td>39418</td>\n",
       "      <td>Kingston</td>\n",
       "      <td>il</td>\n",
       "      <td>60145</td>\n",
       "      <td>Chairman</td>\n",
       "      <td>False</td>\n",
       "    </tr>\n",
       "    <tr>\n",
       "      <th>29699</th>\n",
       "      <td>27124</td>\n",
       "      <td>Hampshire</td>\n",
       "      <td>il</td>\n",
       "      <td>60140</td>\n",
       "      <td>Chairman</td>\n",
       "      <td>False</td>\n",
       "    </tr>\n",
       "    <tr>\n",
       "      <th>43761</th>\n",
       "      <td>29179</td>\n",
       "      <td>McHenry</td>\n",
       "      <td>il</td>\n",
       "      <td>60050</td>\n",
       "      <td>Admin Asst</td>\n",
       "      <td>False</td>\n",
       "    </tr>\n",
       "  </tbody>\n",
       "</table>\n",
       "</div>"
      ],
      "text/plain": [
       "          ID       City State         Zip       Title  RedactionRequested\n",
       "4245   47448    Chicago    il       60619   Treasurer               False\n",
       "4651   47447    Chicago    il  60623-1614    Chairman               False\n",
       "4652   54025    Chicago    il  60623-1614    Chairman               False\n",
       "18939  39418   Kingston    il       60145    Chairman               False\n",
       "29699  27124  Hampshire    il       60140    Chairman               False\n",
       "43761  29179    McHenry    il       60050  Admin Asst               False"
      ]
     },
     "execution_count": 7,
     "metadata": {},
     "output_type": "execute_result"
    }
   ],
   "source": [
    "df[df['State'].str.contains('il', na=False)]"
   ]
  },
  {
   "cell_type": "markdown",
   "metadata": {},
   "source": [
    "Now, create a for loop that will iterate through the following values in the State column: Il, iL, Il. Then, print out the values of the City and State variables using the pandas method for subsetting, that is, .loc(): DataFrame.loc[row_condition, column condition]"
   ]
  },
  {
   "cell_type": "code",
   "execution_count": 8,
   "metadata": {},
   "outputs": [
    {
     "name": "stdout",
     "output_type": "stream",
     "text": [
      "            City State\n",
      "4245     Chicago    il\n",
      "4651     Chicago    il\n",
      "4652     Chicago    il\n",
      "18939   Kingston    il\n",
      "29699  Hampshire    il\n",
      "43761    McHenry    il\n",
      "            City State\n",
      "43        Ottawa    Il\n",
      "44        Ottawa    Il\n",
      "493    Galesburg    Il\n",
      "613      Chicago    Il\n",
      "614      Chicago    Il\n",
      "...          ...   ...\n",
      "54915    Chicago    Il\n",
      "54916    Chicago    Il\n",
      "54918    Chicago    Il\n",
      "54919    Chicago    Il\n",
      "54921    Chicago    Il\n",
      "\n",
      "[665 rows x 2 columns]\n",
      "         City State\n",
      "7052  Wheaton    iL\n",
      "            City State\n",
      "43        Ottawa    Il\n",
      "44        Ottawa    Il\n",
      "493    Galesburg    Il\n",
      "613      Chicago    Il\n",
      "614      Chicago    Il\n",
      "...          ...   ...\n",
      "54915    Chicago    Il\n",
      "54916    Chicago    Il\n",
      "54918    Chicago    Il\n",
      "54919    Chicago    Il\n",
      "54921    Chicago    Il\n",
      "\n",
      "[665 rows x 2 columns]\n"
     ]
    }
   ],
   "source": [
    "for state in ['il', 'Il', 'iL', 'Il']:\n",
    "    print(df.loc[df['State'] == state, ['City', 'State']])"
   ]
  },
  {
   "cell_type": "markdown",
   "metadata": {},
   "source": [
    "Create a condition mask (**il_mask**) to subset all the rows that contain the four incorrect values (**il, Il, iL, and II**) by using the isin() method and a list of these values as a parameter. Then, save the result into a variable called il_mask"
   ]
  },
  {
   "cell_type": "code",
   "execution_count": 9,
   "metadata": {},
   "outputs": [],
   "source": [
    "il_mask = df['State'].isin(['il', 'Il', 'iL', 'Il'])"
   ]
  },
  {
   "cell_type": "markdown",
   "metadata": {},
   "source": [
    "Print the number of rows that match the condition we set in il_mask using the .sum() method. This will sum all the rows that have a value of True (they match the condition)"
   ]
  },
  {
   "cell_type": "code",
   "execution_count": 10,
   "metadata": {},
   "outputs": [
    {
     "data": {
      "text/plain": [
       "672"
      ]
     },
     "execution_count": 10,
     "metadata": {},
     "output_type": "execute_result"
    }
   ],
   "source": [
    "il_mask.sum()"
   ]
  },
  {
   "cell_type": "markdown",
   "metadata": {},
   "source": [
    "Using the pandas .loc() method, subset the rows with the il_mask condition mask and replace the value of the State column with IL"
   ]
  },
  {
   "cell_type": "code",
   "execution_count": 11,
   "metadata": {},
   "outputs": [],
   "source": [
    "df.loc[il_mask, 'State'] = 'IL'"
   ]
  },
  {
   "cell_type": "code",
   "execution_count": 12,
   "metadata": {},
   "outputs": [
    {
     "data": {
      "text/plain": [
       "array(['IL', 'PA', 'DC', nan, 'WI', 'CA', 'MO', 'NC', 'IA', 'MA', 'IN',\n",
       "       'MI', 'TN', 'NY', 'ng', 'TX', 'CO', 'NV', 'WA', '8I', 'In', 'OH',\n",
       "       'SC', 'VA', 'NM', 'FL', 'LA', 'GA', 'II', 'NJ', 'MD', 'I', 'AR',\n",
       "       'KS', 'DE', '60', 'SD', 'MN', 'VT', 'OK', 'KY', 'CT', 'NH', 'AZ',\n",
       "       'OR', 'PR', 'RI'], dtype=object)"
      ]
     },
     "execution_count": 12,
     "metadata": {},
     "output_type": "execute_result"
    }
   ],
   "source": [
    "df['State'].unique()"
   ]
  },
  {
   "cell_type": "markdown",
   "metadata": {},
   "source": [
    "As you can see, the four incorrect values are not present anymore. Let's have a look at the other remaining incorrect values: II, I, 8I, and 60. We will look at dealing II in the next step.\n",
    "\n",
    "Print out the rows that have a value of **II** into the State column using the pandas subsetting API, that is, DataFrame.loc[row_condition, column_condition]"
   ]
  },
  {
   "cell_type": "code",
   "execution_count": 13,
   "metadata": {},
   "outputs": [
    {
     "data": {
      "text/html": [
       "<div>\n",
       "<style scoped>\n",
       "    .dataframe tbody tr th:only-of-type {\n",
       "        vertical-align: middle;\n",
       "    }\n",
       "\n",
       "    .dataframe tbody tr th {\n",
       "        vertical-align: top;\n",
       "    }\n",
       "\n",
       "    .dataframe thead th {\n",
       "        text-align: right;\n",
       "    }\n",
       "</style>\n",
       "<table border=\"1\" class=\"dataframe\">\n",
       "  <thead>\n",
       "    <tr style=\"text-align: right;\">\n",
       "      <th></th>\n",
       "      <th>ID</th>\n",
       "      <th>City</th>\n",
       "      <th>State</th>\n",
       "      <th>Zip</th>\n",
       "      <th>Title</th>\n",
       "      <th>RedactionRequested</th>\n",
       "    </tr>\n",
       "  </thead>\n",
       "  <tbody>\n",
       "    <tr>\n",
       "      <th>14340</th>\n",
       "      <td>28039</td>\n",
       "      <td>Bloomington</td>\n",
       "      <td>II</td>\n",
       "      <td>61704</td>\n",
       "      <td>Co-Chairman</td>\n",
       "      <td>False</td>\n",
       "    </tr>\n",
       "    <tr>\n",
       "      <th>14341</th>\n",
       "      <td>31994</td>\n",
       "      <td>Bloomington</td>\n",
       "      <td>II</td>\n",
       "      <td>61704</td>\n",
       "      <td>Chairman</td>\n",
       "      <td>False</td>\n",
       "    </tr>\n",
       "  </tbody>\n",
       "</table>\n",
       "</div>"
      ],
      "text/plain": [
       "          ID         City State    Zip        Title  RedactionRequested\n",
       "14340  28039  Bloomington    II  61704  Co-Chairman               False\n",
       "14341  31994  Bloomington    II  61704     Chairman               False"
      ]
     },
     "execution_count": 13,
     "metadata": {},
     "output_type": "execute_result"
    }
   ],
   "source": [
    "df.loc[df['State'] == 'II']"
   ]
  },
  {
   "cell_type": "markdown",
   "metadata": {},
   "source": [
    "Now, create a for loop that iterates through the three incorrect values (I, 8I, and 60) and print out the subsetted rows using the same logic that we used in Step 12. Only display the City and State"
   ]
  },
  {
   "cell_type": "code",
   "execution_count": 19,
   "metadata": {},
   "outputs": [
    {
     "name": "stdout",
     "output_type": "stream",
     "text": [
      "\n",
      "              City State\n",
      "17596  Bloomington     I\n",
      "\n",
      "             City State\n",
      "5513  Springfield    8I\n",
      "\n",
      "          City State\n",
      "28060  Chicago    60\n"
     ]
    }
   ],
   "source": [
    "for state in ['I', '8I', '60']:\n",
    "    print('\\n{}'.format(df.loc[df['State'] == state, ['City', 'State']]))"
   ]
  },
  {
   "cell_type": "markdown",
   "metadata": {},
   "source": [
    "Create a for loop that iterates through the four incorrect values (II, I, 8I, and 60) and reuse the subsetting logic from Step 12 to replace the value in State with IL:"
   ]
  },
  {
   "cell_type": "code",
   "execution_count": 20,
   "metadata": {},
   "outputs": [],
   "source": [
    "for val in ['I', '8I', '60', 'II']:\n",
    "    df.loc[df['State'] == val, 'State'] = 'IL'"
   ]
  },
  {
   "cell_type": "code",
   "execution_count": 21,
   "metadata": {},
   "outputs": [
    {
     "data": {
      "text/plain": [
       "array(['IL', 'PA', 'DC', nan, 'WI', 'CA', 'MO', 'NC', 'IA', 'MA', 'IN',\n",
       "       'MI', 'TN', 'NY', 'ng', 'TX', 'CO', 'NV', 'WA', 'In', 'OH', 'SC',\n",
       "       'VA', 'NM', 'FL', 'LA', 'GA', 'NJ', 'MD', 'AR', 'KS', 'DE', 'SD',\n",
       "       'MN', 'VT', 'OK', 'KY', 'CT', 'NH', 'AZ', 'OR', 'PR', 'RI'],\n",
       "      dtype=object)"
      ]
     },
     "execution_count": 21,
     "metadata": {},
     "output_type": "execute_result"
    }
   ],
   "source": [
    "df['State'].unique()"
   ]
  },
  {
   "cell_type": "code",
   "execution_count": 23,
   "metadata": {},
   "outputs": [
    {
     "name": "stdout",
     "output_type": "stream",
     "text": [
      "\n",
      "           City State\n",
      "5733  Sherville    In\n",
      "\n",
      "            City State\n",
      "2428  none given    ng\n",
      "2961  none given    ng\n"
     ]
    }
   ],
   "source": [
    "# fix the remaining incorrect values\n",
    "for state in ['In', 'ng']:\n",
    "    print('\\n{}'.format(df.loc[df['State'] == state, ['City', 'State']]))"
   ]
  },
  {
   "cell_type": "code",
   "execution_count": 24,
   "metadata": {},
   "outputs": [],
   "source": [
    "# correct Sherville to IN\n",
    "df.loc[df['State'] == 'In', 'State'] = 'IN'"
   ]
  },
  {
   "cell_type": "code",
   "execution_count": 25,
   "metadata": {},
   "outputs": [
    {
     "data": {
      "text/plain": [
       "array(['IL', 'PA', 'DC', nan, 'WI', 'CA', 'MO', 'NC', 'IA', 'MA', 'IN',\n",
       "       'MI', 'TN', 'NY', 'ng', 'TX', 'CO', 'NV', 'WA', 'OH', 'SC', 'VA',\n",
       "       'NM', 'FL', 'LA', 'GA', 'NJ', 'MD', 'AR', 'KS', 'DE', 'SD', 'MN',\n",
       "       'VT', 'OK', 'KY', 'CT', 'NH', 'AZ', 'OR', 'PR', 'RI'], dtype=object)"
      ]
     },
     "execution_count": 25,
     "metadata": {},
     "output_type": "execute_result"
    }
   ],
   "source": [
    "df['State'].unique()"
   ]
  },
  {
   "cell_type": "code",
   "execution_count": null,
   "metadata": {},
   "outputs": [],
   "source": []
  }
 ],
 "metadata": {
  "kernelspec": {
   "display_name": "Python 3",
   "language": "python",
   "name": "python3"
  },
  "language_info": {
   "codemirror_mode": {
    "name": "ipython",
    "version": 3
   },
   "file_extension": ".py",
   "mimetype": "text/x-python",
   "name": "python",
   "nbconvert_exporter": "python",
   "pygments_lexer": "ipython3",
   "version": "3.8.5"
  }
 },
 "nbformat": 4,
 "nbformat_minor": 4
}

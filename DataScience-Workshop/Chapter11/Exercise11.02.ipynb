{
 "cells": [
  {
   "cell_type": "markdown",
   "metadata": {},
   "source": [
    "## Converting Data Types for the Ames Housing Dataset"
   ]
  },
  {
   "cell_type": "code",
   "execution_count": 1,
   "metadata": {},
   "outputs": [],
   "source": [
    "import pandas as pd"
   ]
  },
  {
   "cell_type": "code",
   "execution_count": 2,
   "metadata": {},
   "outputs": [],
   "source": [
    "file_url = ('https://raw.githubusercontent.com/PacktWorkshops/The-Data-Science-Workshop/master/Chapter10/dataset/ames_iowa_housing.csv')"
   ]
  },
  {
   "cell_type": "code",
   "execution_count": 3,
   "metadata": {},
   "outputs": [
    {
     "data": {
      "text/plain": [
       "(1460, 81)"
      ]
     },
     "execution_count": 3,
     "metadata": {},
     "output_type": "execute_result"
    }
   ],
   "source": [
    "df = pd.read_csv(file_url)\n",
    "df.shape"
   ]
  },
  {
   "cell_type": "code",
   "execution_count": 4,
   "metadata": {},
   "outputs": [
    {
     "data": {
      "text/plain": [
       "Id                 int64\n",
       "MSSubClass         int64\n",
       "MSZoning          object\n",
       "LotFrontage      float64\n",
       "LotArea            int64\n",
       "                  ...   \n",
       "MoSold             int64\n",
       "YrSold             int64\n",
       "SaleType          object\n",
       "SaleCondition     object\n",
       "SalePrice          int64\n",
       "Length: 81, dtype: object"
      ]
     },
     "execution_count": 4,
     "metadata": {},
     "output_type": "execute_result"
    }
   ],
   "source": [
    "# print the data type of each column\n",
    "df.dtypes"
   ]
  },
  {
   "cell_type": "code",
   "execution_count": 5,
   "metadata": {},
   "outputs": [],
   "source": [
    "# convert columns to categorical dtypes\n",
    "df['Id'] = df['Id'].astype('category')\n",
    "df['MSSubClass'] = df['MSSubClass'].astype('category')\n",
    "df['OverallQual'] = df['OverallQual'].astype('category')\n",
    "df['OverallCond'] = df['OverallCond'].astype('category')"
   ]
  },
  {
   "cell_type": "code",
   "execution_count": 6,
   "metadata": {},
   "outputs": [
    {
     "data": {
      "text/plain": [
       "'Id'"
      ]
     },
     "execution_count": 6,
     "metadata": {},
     "output_type": "execute_result"
    }
   ],
   "source": [
    "df['Id'].name"
   ]
  },
  {
   "cell_type": "code",
   "execution_count": 7,
   "metadata": {},
   "outputs": [
    {
     "name": "stdout",
     "output_type": "stream",
     "text": [
      "\n",
      "Id\n",
      "Int64Index([   1,    2,    3,    4,    5,    6,    7,    8,    9,   10,\n",
      "            ...\n",
      "            1451, 1452, 1453, 1454, 1455, 1456, 1457, 1458, 1459, 1460],\n",
      "           dtype='int64', length=1460)\n",
      "\n",
      "MSSubClass\n",
      "Int64Index([20, 30, 40, 45, 50, 60, 70, 75, 80, 85, 90, 120, 160, 180, 190], dtype='int64')\n",
      "\n",
      "OverallQual\n",
      "Int64Index([1, 2, 3, 4, 5, 6, 7, 8, 9, 10], dtype='int64')\n",
      "\n",
      "OverallCond\n",
      "Int64Index([1, 2, 3, 4, 5, 6, 7, 8, 9], dtype='int64')\n"
     ]
    }
   ],
   "source": [
    "# for loop to print the four categorical variables names and categories\n",
    "for col in ['Id', 'MSSubClass', 'OverallQual', 'OverallCond']:\n",
    "    print('\\n{}'.format(col))\n",
    "    print(df[col].cat.categories)"
   ]
  },
  {
   "cell_type": "code",
   "execution_count": 8,
   "metadata": {},
   "outputs": [
    {
     "name": "stdout",
     "output_type": "stream",
     "text": [
      "<class 'pandas.core.frame.DataFrame'>\n",
      "RangeIndex: 1460 entries, 0 to 1459\n",
      "Data columns (total 81 columns):\n",
      " #   Column         Non-Null Count  Dtype   \n",
      "---  ------         --------------  -----   \n",
      " 0   Id             1460 non-null   category\n",
      " 1   MSSubClass     1460 non-null   category\n",
      " 2   MSZoning       1460 non-null   object  \n",
      " 3   LotFrontage    1201 non-null   float64 \n",
      " 4   LotArea        1460 non-null   int64   \n",
      " 5   Street         1460 non-null   object  \n",
      " 6   Alley          91 non-null     object  \n",
      " 7   LotShape       1460 non-null   object  \n",
      " 8   LandContour    1460 non-null   object  \n",
      " 9   Utilities      1460 non-null   object  \n",
      " 10  LotConfig      1460 non-null   object  \n",
      " 11  LandSlope      1460 non-null   object  \n",
      " 12  Neighborhood   1460 non-null   object  \n",
      " 13  Condition1     1460 non-null   object  \n",
      " 14  Condition2     1460 non-null   object  \n",
      " 15  BldgType       1460 non-null   object  \n",
      " 16  HouseStyle     1460 non-null   object  \n",
      " 17  OverallQual    1460 non-null   category\n",
      " 18  OverallCond    1460 non-null   category\n",
      " 19  YearBuilt      1460 non-null   int64   \n",
      " 20  YearRemodAdd   1460 non-null   int64   \n",
      " 21  RoofStyle      1460 non-null   object  \n",
      " 22  RoofMatl       1460 non-null   object  \n",
      " 23  Exterior1st    1460 non-null   object  \n",
      " 24  Exterior2nd    1460 non-null   object  \n",
      " 25  MasVnrType     1452 non-null   object  \n",
      " 26  MasVnrArea     1452 non-null   float64 \n",
      " 27  ExterQual      1460 non-null   object  \n",
      " 28  ExterCond      1460 non-null   object  \n",
      " 29  Foundation     1460 non-null   object  \n",
      " 30  BsmtQual       1423 non-null   object  \n",
      " 31  BsmtCond       1423 non-null   object  \n",
      " 32  BsmtExposure   1422 non-null   object  \n",
      " 33  BsmtFinType1   1423 non-null   object  \n",
      " 34  BsmtFinSF1     1460 non-null   int64   \n",
      " 35  BsmtFinType2   1422 non-null   object  \n",
      " 36  BsmtFinSF2     1460 non-null   int64   \n",
      " 37  BsmtUnfSF      1460 non-null   int64   \n",
      " 38  TotalBsmtSF    1460 non-null   int64   \n",
      " 39  Heating        1460 non-null   object  \n",
      " 40  HeatingQC      1460 non-null   object  \n",
      " 41  CentralAir     1460 non-null   object  \n",
      " 42  Electrical     1459 non-null   object  \n",
      " 43  1stFlrSF       1460 non-null   int64   \n",
      " 44  2ndFlrSF       1460 non-null   int64   \n",
      " 45  LowQualFinSF   1460 non-null   int64   \n",
      " 46  GrLivArea      1460 non-null   int64   \n",
      " 47  BsmtFullBath   1460 non-null   int64   \n",
      " 48  BsmtHalfBath   1460 non-null   int64   \n",
      " 49  FullBath       1460 non-null   int64   \n",
      " 50  HalfBath       1460 non-null   int64   \n",
      " 51  BedroomAbvGr   1460 non-null   int64   \n",
      " 52  KitchenAbvGr   1460 non-null   int64   \n",
      " 53  KitchenQual    1460 non-null   object  \n",
      " 54  TotRmsAbvGrd   1460 non-null   int64   \n",
      " 55  Functional     1460 non-null   object  \n",
      " 56  Fireplaces     1460 non-null   int64   \n",
      " 57  FireplaceQu    770 non-null    object  \n",
      " 58  GarageType     1379 non-null   object  \n",
      " 59  GarageYrBlt    1379 non-null   float64 \n",
      " 60  GarageFinish   1379 non-null   object  \n",
      " 61  GarageCars     1460 non-null   int64   \n",
      " 62  GarageArea     1460 non-null   int64   \n",
      " 63  GarageQual     1379 non-null   object  \n",
      " 64  GarageCond     1379 non-null   object  \n",
      " 65  PavedDrive     1460 non-null   object  \n",
      " 66  WoodDeckSF     1460 non-null   int64   \n",
      " 67  OpenPorchSF    1460 non-null   int64   \n",
      " 68  EnclosedPorch  1460 non-null   int64   \n",
      " 69  3SsnPorch      1460 non-null   int64   \n",
      " 70  ScreenPorch    1460 non-null   int64   \n",
      " 71  PoolArea       1460 non-null   int64   \n",
      " 72  PoolQC         7 non-null      object  \n",
      " 73  Fence          281 non-null    object  \n",
      " 74  MiscFeature    54 non-null     object  \n",
      " 75  MiscVal        1460 non-null   int64   \n",
      " 76  MoSold         1460 non-null   int64   \n",
      " 77  YrSold         1460 non-null   int64   \n",
      " 78  SaleType       1460 non-null   object  \n",
      " 79  SaleCondition  1460 non-null   object  \n",
      " 80  SalePrice      1460 non-null   int64   \n",
      "dtypes: category(4), float64(3), int64(31), object(43)\n",
      "memory usage: 938.5+ KB\n"
     ]
    }
   ],
   "source": [
    "df.info()"
   ]
  },
  {
   "cell_type": "code",
   "execution_count": 9,
   "metadata": {},
   "outputs": [],
   "source": [
    "# from the output we can see a lot of variables of object type; Have a closer look if they need to be converted\n",
    "obj_df = df.select_dtypes(include='object')"
   ]
  },
  {
   "cell_type": "code",
   "execution_count": 10,
   "metadata": {},
   "outputs": [
    {
     "data": {
      "text/plain": [
       "Index(['MSZoning', 'Street', 'Alley', 'LotShape', 'LandContour', 'Utilities',\n",
       "       'LotConfig', 'LandSlope', 'Neighborhood', 'Condition1', 'Condition2',\n",
       "       'BldgType', 'HouseStyle', 'RoofStyle', 'RoofMatl', 'Exterior1st',\n",
       "       'Exterior2nd', 'MasVnrType', 'ExterQual', 'ExterCond', 'Foundation',\n",
       "       'BsmtQual', 'BsmtCond', 'BsmtExposure', 'BsmtFinType1', 'BsmtFinType2',\n",
       "       'Heating', 'HeatingQC', 'CentralAir', 'Electrical', 'KitchenQual',\n",
       "       'Functional', 'FireplaceQu', 'GarageType', 'GarageFinish', 'GarageQual',\n",
       "       'GarageCond', 'PavedDrive', 'PoolQC', 'Fence', 'MiscFeature',\n",
       "       'SaleType', 'SaleCondition'],\n",
       "      dtype='object')"
      ]
     },
     "execution_count": 10,
     "metadata": {},
     "output_type": "execute_result"
    }
   ],
   "source": [
    "obj_cols = obj_df.columns\n",
    "obj_cols"
   ]
  },
  {
   "cell_type": "code",
   "execution_count": 11,
   "metadata": {},
   "outputs": [
    {
     "name": "stdout",
     "output_type": "stream",
     "text": [
      "\n",
      "MSZoning\n",
      "['RL' 'RM' 'C (all)' 'FV' 'RH']\n",
      "\n",
      "Street\n",
      "['Pave' 'Grvl']\n",
      "\n",
      "Alley\n",
      "[nan 'Grvl' 'Pave']\n",
      "\n",
      "LotShape\n",
      "['Reg' 'IR1' 'IR2' 'IR3']\n",
      "\n",
      "LandContour\n",
      "['Lvl' 'Bnk' 'Low' 'HLS']\n",
      "\n",
      "Utilities\n",
      "['AllPub' 'NoSeWa']\n",
      "\n",
      "LotConfig\n",
      "['Inside' 'FR2' 'Corner' 'CulDSac' 'FR3']\n",
      "\n",
      "LandSlope\n",
      "['Gtl' 'Mod' 'Sev']\n",
      "\n",
      "Neighborhood\n",
      "['CollgCr' 'Veenker' 'Crawfor' 'NoRidge' 'Mitchel' 'Somerst' 'NWAmes'\n",
      " 'OldTown' 'BrkSide' 'Sawyer' 'NridgHt' 'NAmes' 'SawyerW' 'IDOTRR'\n",
      " 'MeadowV' 'Edwards' 'Timber' 'Gilbert' 'StoneBr' 'ClearCr' 'NPkVill'\n",
      " 'Blmngtn' 'BrDale' 'SWISU' 'Blueste']\n",
      "\n",
      "Condition1\n",
      "['Norm' 'Feedr' 'PosN' 'Artery' 'RRAe' 'RRNn' 'RRAn' 'PosA' 'RRNe']\n",
      "\n",
      "Condition2\n",
      "['Norm' 'Artery' 'RRNn' 'Feedr' 'PosN' 'PosA' 'RRAn' 'RRAe']\n",
      "\n",
      "BldgType\n",
      "['1Fam' '2fmCon' 'Duplex' 'TwnhsE' 'Twnhs']\n",
      "\n",
      "HouseStyle\n",
      "['2Story' '1Story' '1.5Fin' '1.5Unf' 'SFoyer' 'SLvl' '2.5Unf' '2.5Fin']\n",
      "\n",
      "RoofStyle\n",
      "['Gable' 'Hip' 'Gambrel' 'Mansard' 'Flat' 'Shed']\n",
      "\n",
      "RoofMatl\n",
      "['CompShg' 'WdShngl' 'Metal' 'WdShake' 'Membran' 'Tar&Grv' 'Roll'\n",
      " 'ClyTile']\n",
      "\n",
      "Exterior1st\n",
      "['VinylSd' 'MetalSd' 'Wd Sdng' 'HdBoard' 'BrkFace' 'WdShing' 'CemntBd'\n",
      " 'Plywood' 'AsbShng' 'Stucco' 'BrkComm' 'AsphShn' 'Stone' 'ImStucc'\n",
      " 'CBlock']\n",
      "\n",
      "Exterior2nd\n",
      "['VinylSd' 'MetalSd' 'Wd Shng' 'HdBoard' 'Plywood' 'Wd Sdng' 'CmentBd'\n",
      " 'BrkFace' 'Stucco' 'AsbShng' 'Brk Cmn' 'ImStucc' 'AsphShn' 'Stone'\n",
      " 'Other' 'CBlock']\n",
      "\n",
      "MasVnrType\n",
      "['BrkFace' 'None' 'Stone' 'BrkCmn' nan]\n",
      "\n",
      "ExterQual\n",
      "['Gd' 'TA' 'Ex' 'Fa']\n",
      "\n",
      "ExterCond\n",
      "['TA' 'Gd' 'Fa' 'Po' 'Ex']\n",
      "\n",
      "Foundation\n",
      "['PConc' 'CBlock' 'BrkTil' 'Wood' 'Slab' 'Stone']\n",
      "\n",
      "BsmtQual\n",
      "['Gd' 'TA' 'Ex' nan 'Fa']\n",
      "\n",
      "BsmtCond\n",
      "['TA' 'Gd' nan 'Fa' 'Po']\n",
      "\n",
      "BsmtExposure\n",
      "['No' 'Gd' 'Mn' 'Av' nan]\n",
      "\n",
      "BsmtFinType1\n",
      "['GLQ' 'ALQ' 'Unf' 'Rec' 'BLQ' nan 'LwQ']\n",
      "\n",
      "BsmtFinType2\n",
      "['Unf' 'BLQ' nan 'ALQ' 'Rec' 'LwQ' 'GLQ']\n",
      "\n",
      "Heating\n",
      "['GasA' 'GasW' 'Grav' 'Wall' 'OthW' 'Floor']\n",
      "\n",
      "HeatingQC\n",
      "['Ex' 'Gd' 'TA' 'Fa' 'Po']\n",
      "\n",
      "CentralAir\n",
      "['Y' 'N']\n",
      "\n",
      "Electrical\n",
      "['SBrkr' 'FuseF' 'FuseA' 'FuseP' 'Mix' nan]\n",
      "\n",
      "KitchenQual\n",
      "['Gd' 'TA' 'Ex' 'Fa']\n",
      "\n",
      "Functional\n",
      "['Typ' 'Min1' 'Maj1' 'Min2' 'Mod' 'Maj2' 'Sev']\n",
      "\n",
      "FireplaceQu\n",
      "[nan 'TA' 'Gd' 'Fa' 'Ex' 'Po']\n",
      "\n",
      "GarageType\n",
      "['Attchd' 'Detchd' 'BuiltIn' 'CarPort' nan 'Basment' '2Types']\n",
      "\n",
      "GarageFinish\n",
      "['RFn' 'Unf' 'Fin' nan]\n",
      "\n",
      "GarageQual\n",
      "['TA' 'Fa' 'Gd' nan 'Ex' 'Po']\n",
      "\n",
      "GarageCond\n",
      "['TA' 'Fa' nan 'Gd' 'Po' 'Ex']\n",
      "\n",
      "PavedDrive\n",
      "['Y' 'N' 'P']\n",
      "\n",
      "PoolQC\n",
      "[nan 'Ex' 'Fa' 'Gd']\n",
      "\n",
      "Fence\n",
      "[nan 'MnPrv' 'GdWo' 'GdPrv' 'MnWw']\n",
      "\n",
      "MiscFeature\n",
      "[nan 'Shed' 'Gar2' 'Othr' 'TenC']\n",
      "\n",
      "SaleType\n",
      "['WD' 'New' 'COD' 'ConLD' 'ConLI' 'CWD' 'ConLw' 'Con' 'Oth']\n",
      "\n",
      "SaleCondition\n",
      "['Normal' 'Abnorml' 'Partial' 'AdjLand' 'Alloca' 'Family']\n"
     ]
    }
   ],
   "source": [
    "# print names and unique values of variables in obj_df\n",
    "for col_name in obj_df:\n",
    "    print('\\n{}'.format(obj_df[col_name].name))\n",
    "    print(obj_df[col_name].unique())"
   ]
  },
  {
   "cell_type": "code",
   "execution_count": 12,
   "metadata": {},
   "outputs": [
    {
     "data": {
      "text/plain": [
       "dtype('O')"
      ]
     },
     "execution_count": 12,
     "metadata": {},
     "output_type": "execute_result"
    }
   ],
   "source": [
    "obj_df['SaleType'].dtype"
   ]
  },
  {
   "cell_type": "code",
   "execution_count": 13,
   "metadata": {},
   "outputs": [
    {
     "name": "stdout",
     "output_type": "stream",
     "text": [
      "\n",
      " Before change MSZoning: object\n",
      "After change MSZoning: category\n",
      "\n",
      " Before change Street: object\n",
      "After change Street: category\n",
      "\n",
      " Before change Alley: object\n",
      "After change Alley: category\n",
      "\n",
      " Before change LotShape: object\n",
      "After change LotShape: category\n",
      "\n",
      " Before change LandContour: object\n",
      "After change LandContour: category\n",
      "\n",
      " Before change Utilities: object\n",
      "After change Utilities: category\n",
      "\n",
      " Before change LotConfig: object\n",
      "After change LotConfig: category\n",
      "\n",
      " Before change LandSlope: object\n",
      "After change LandSlope: category\n",
      "\n",
      " Before change Neighborhood: object\n",
      "After change Neighborhood: category\n",
      "\n",
      " Before change Condition1: object\n",
      "After change Condition1: category\n",
      "\n",
      " Before change Condition2: object\n",
      "After change Condition2: category\n",
      "\n",
      " Before change BldgType: object\n",
      "After change BldgType: category\n",
      "\n",
      " Before change HouseStyle: object\n",
      "After change HouseStyle: category\n",
      "\n",
      " Before change RoofStyle: object\n",
      "After change RoofStyle: category\n",
      "\n",
      " Before change RoofMatl: object\n",
      "After change RoofMatl: category\n",
      "\n",
      " Before change Exterior1st: object\n",
      "After change Exterior1st: category\n",
      "\n",
      " Before change Exterior2nd: object\n",
      "After change Exterior2nd: category\n",
      "\n",
      " Before change MasVnrType: object\n",
      "After change MasVnrType: category\n",
      "\n",
      " Before change ExterQual: object\n",
      "After change ExterQual: category\n",
      "\n",
      " Before change ExterCond: object\n",
      "After change ExterCond: category\n",
      "\n",
      " Before change Foundation: object\n",
      "After change Foundation: category\n",
      "\n",
      " Before change BsmtQual: object\n",
      "After change BsmtQual: category\n",
      "\n",
      " Before change BsmtCond: object\n",
      "After change BsmtCond: category\n",
      "\n",
      " Before change BsmtExposure: object\n",
      "After change BsmtExposure: category\n",
      "\n",
      " Before change BsmtFinType1: object\n",
      "After change BsmtFinType1: category\n",
      "\n",
      " Before change BsmtFinType2: object\n",
      "After change BsmtFinType2: category\n",
      "\n",
      " Before change Heating: object\n",
      "After change Heating: category\n",
      "\n",
      " Before change HeatingQC: object\n",
      "After change HeatingQC: category\n",
      "\n",
      " Before change CentralAir: object\n",
      "After change CentralAir: category\n",
      "\n",
      " Before change Electrical: object\n",
      "After change Electrical: category\n",
      "\n",
      " Before change KitchenQual: object\n",
      "After change KitchenQual: category\n",
      "\n",
      " Before change Functional: object\n",
      "After change Functional: category\n",
      "\n",
      " Before change FireplaceQu: object\n",
      "After change FireplaceQu: category\n",
      "\n",
      " Before change GarageType: object\n",
      "After change GarageType: category\n",
      "\n",
      " Before change GarageFinish: object\n",
      "After change GarageFinish: category\n",
      "\n",
      " Before change GarageQual: object\n",
      "After change GarageQual: category\n",
      "\n",
      " Before change GarageCond: object\n",
      "After change GarageCond: category\n",
      "\n",
      " Before change PavedDrive: object\n",
      "After change PavedDrive: category\n",
      "\n",
      " Before change PoolQC: object\n",
      "After change PoolQC: category\n",
      "\n",
      " Before change Fence: object\n",
      "After change Fence: category\n",
      "\n",
      " Before change MiscFeature: object\n",
      "After change MiscFeature: category\n",
      "\n",
      " Before change SaleType: object\n",
      "After change SaleType: category\n",
      "\n",
      " Before change SaleCondition: object\n",
      "After change SaleCondition: category\n"
     ]
    }
   ],
   "source": [
    "# the output shows that each variable has a finite number of \n",
    "# values which means they have to be converted to categorical.\n",
    "for col_name in obj_cols:\n",
    "    print('\\n Before change {}: {}'.format(df[col_name].name, df[col_name].dtype))\n",
    "    df[col_name] = df[col_name].astype('category')\n",
    "    print('After change {}: {}'.format(df[col_name].name, df[col_name].dtype))"
   ]
  },
  {
   "cell_type": "code",
   "execution_count": 14,
   "metadata": {},
   "outputs": [
    {
     "data": {
      "text/plain": [
       "Id               category\n",
       "MSSubClass       category\n",
       "MSZoning         category\n",
       "LotFrontage       float64\n",
       "LotArea             int64\n",
       "                   ...   \n",
       "MoSold              int64\n",
       "YrSold              int64\n",
       "SaleType         category\n",
       "SaleCondition    category\n",
       "SalePrice           int64\n",
       "Length: 81, dtype: object"
      ]
     },
     "execution_count": 14,
     "metadata": {},
     "output_type": "execute_result"
    }
   ],
   "source": [
    "df.dtypes"
   ]
  },
  {
   "cell_type": "code",
   "execution_count": null,
   "metadata": {},
   "outputs": [],
   "source": []
  }
 ],
 "metadata": {
  "kernelspec": {
   "display_name": "Python 3",
   "language": "python",
   "name": "python3"
  },
  "language_info": {
   "codemirror_mode": {
    "name": "ipython",
    "version": 3
   },
   "file_extension": ".py",
   "mimetype": "text/x-python",
   "name": "python",
   "nbconvert_exporter": "python",
   "pygments_lexer": "ipython3",
   "version": "3.8.5"
  }
 },
 "nbformat": 4,
 "nbformat_minor": 4
}

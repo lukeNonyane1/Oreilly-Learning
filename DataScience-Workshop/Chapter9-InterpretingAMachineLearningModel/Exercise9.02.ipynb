{
 "cells": [
  {
   "cell_type": "markdown",
   "metadata": {},
   "source": [
    "## Extracting RandomForest Feature Importance\n",
    "In this exercise, we will extract the feature importance of a Random Forest classifier model trained to predict the customer drop-out ratio."
   ]
  },
  {
   "cell_type": "code",
   "execution_count": 1,
   "metadata": {},
   "outputs": [],
   "source": [
    "import pandas as pd\n",
    "from sklearn.model_selection import train_test_split\n",
    "from sklearn.ensemble import RandomForestRegressor\n",
    "from sklearn.metrics import mean_squared_error\n",
    "import altair as alt"
   ]
  },
  {
   "cell_type": "code",
   "execution_count": 2,
   "metadata": {},
   "outputs": [],
   "source": [
    "file_url = 'https://raw.githubusercontent.com/PacktWorkshops/The-Data-Science-Workshop/master/Chapter09/Dataset/phpYYZ4Qc.csv'"
   ]
  },
  {
   "cell_type": "code",
   "execution_count": 3,
   "metadata": {},
   "outputs": [],
   "source": [
    "df = pd.read_csv(file_url)\n",
    "y = df.pop('rej')\n",
    "\n",
    "#split data\n",
    "X_train, X_test, y_train, y_test = train_test_split(df, y, test_size=0.3, random_state=1)"
   ]
  },
  {
   "cell_type": "code",
   "execution_count": 4,
   "metadata": {},
   "outputs": [
    {
     "data": {
      "text/plain": [
       "RandomForestRegressor(max_depth=6, min_samples_leaf=60, n_estimators=50,\n",
       "                      random_state=1)"
      ]
     },
     "execution_count": 4,
     "metadata": {},
     "output_type": "execute_result"
    }
   ],
   "source": [
    "# RandomForestRegressor\n",
    "rf_model = RandomForestRegressor(random_state=1, \n",
    "                                n_estimators=50, \n",
    "                                max_depth=6, \n",
    "                                min_samples_leaf=60)\n",
    "rf_model.fit(X_train, y_train)"
   ]
  },
  {
   "cell_type": "code",
   "execution_count": 5,
   "metadata": {},
   "outputs": [
    {
     "name": "stdout",
     "output_type": "stream",
     "text": [
      "Train MSE: 0.007315982781336234\n",
      "Test MSE: 0.007489642004973965\n"
     ]
    }
   ],
   "source": [
    "# predictions on train and test sets\n",
    "preds_train = rf_model.predict(X_train)\n",
    "preds_test = rf_model.predict(X_test)\n",
    "\n",
    "# MSE of train and test sets\n",
    "train_mse = mean_squared_error(y_train, preds_train)\n",
    "test_mse = mean_squared_error(y_test, preds_test)\n",
    "\n",
    "print('Train MSE: {}'.format(train_mse))\n",
    "print('Test MSE: {}'.format(test_mse))"
   ]
  },
  {
   "cell_type": "markdown",
   "metadata": {},
   "source": [
    "We also have a low MSE score on the testing set that is very similar to the training one. So, our model is not overfitting."
   ]
  },
  {
   "cell_type": "code",
   "execution_count": 6,
   "metadata": {},
   "outputs": [
    {
     "data": {
      "text/plain": [
       "array([0.00000000e+00, 7.56405224e-04, 8.89442010e-05, 9.46275333e-04,\n",
       "       4.08153931e-05, 1.97210546e-01, 5.03587073e-04, 2.31999967e-04,\n",
       "       6.15222081e-03, 3.52461267e-03, 0.00000000e+00, 5.69504288e-01,\n",
       "       1.13616416e-04, 4.90638284e-04, 1.87909452e-04, 3.20591202e-04,\n",
       "       2.12958787e-04, 1.90764978e-01, 5.75581836e-03, 4.67864791e-04,\n",
       "       0.00000000e+00, 0.00000000e+00, 1.75187909e-02, 3.51906210e-04,\n",
       "       4.85916389e-04, 2.89740583e-05, 1.27170564e-03, 1.12059338e-03,\n",
       "       1.97954549e-04, 3.01220348e-04, 0.00000000e+00, 1.44886927e-03])"
      ]
     },
     "execution_count": 6,
     "metadata": {},
     "output_type": "execute_result"
    }
   ],
   "source": [
    "# print variable importance using .feature_importances_\n",
    "rf_model.feature_importances_"
   ]
  },
  {
   "cell_type": "code",
   "execution_count": 7,
   "metadata": {},
   "outputs": [
    {
     "data": {
      "text/html": [
       "<div>\n",
       "<style scoped>\n",
       "    .dataframe tbody tr th:only-of-type {\n",
       "        vertical-align: middle;\n",
       "    }\n",
       "\n",
       "    .dataframe tbody tr th {\n",
       "        vertical-align: top;\n",
       "    }\n",
       "\n",
       "    .dataframe thead th {\n",
       "        text-align: right;\n",
       "    }\n",
       "</style>\n",
       "<table border=\"1\" class=\"dataframe\">\n",
       "  <thead>\n",
       "    <tr style=\"text-align: right;\">\n",
       "      <th></th>\n",
       "      <th>features</th>\n",
       "      <th>importance</th>\n",
       "    </tr>\n",
       "  </thead>\n",
       "  <tbody>\n",
       "    <tr>\n",
       "      <th>0</th>\n",
       "      <td>a1cx</td>\n",
       "      <td>0.000000</td>\n",
       "    </tr>\n",
       "    <tr>\n",
       "      <th>1</th>\n",
       "      <td>a1cy</td>\n",
       "      <td>0.000756</td>\n",
       "    </tr>\n",
       "    <tr>\n",
       "      <th>2</th>\n",
       "      <td>a1sx</td>\n",
       "      <td>0.000089</td>\n",
       "    </tr>\n",
       "    <tr>\n",
       "      <th>3</th>\n",
       "      <td>a1sy</td>\n",
       "      <td>0.000946</td>\n",
       "    </tr>\n",
       "    <tr>\n",
       "      <th>4</th>\n",
       "      <td>a1rho</td>\n",
       "      <td>0.000041</td>\n",
       "    </tr>\n",
       "  </tbody>\n",
       "</table>\n",
       "</div>"
      ],
      "text/plain": [
       "  features  importance\n",
       "0     a1cx    0.000000\n",
       "1     a1cy    0.000756\n",
       "2     a1sx    0.000089\n",
       "3     a1sy    0.000946\n",
       "4    a1rho    0.000041"
      ]
     },
     "execution_count": 7,
     "metadata": {},
     "output_type": "execute_result"
    }
   ],
   "source": [
    "# create dataframe for feature importances\n",
    "df_feature_imp = pd.DataFrame()\n",
    "df_feature_imp['features'] = df.columns\n",
    "df_feature_imp['importance'] = rf_model.feature_importances_\n",
    "df_feature_imp.head()"
   ]
  },
  {
   "cell_type": "markdown",
   "metadata": {},
   "source": [
    "From this output, we can see the variables a1cy and a1sy have the highest value, so they are more important for predicting the target variable than the three other variables shown here."
   ]
  },
  {
   "cell_type": "code",
   "execution_count": 8,
   "metadata": {},
   "outputs": [
    {
     "data": {
      "text/html": [
       "\n",
       "<div id=\"altair-viz-7701b31fc6904ce58313fbdf11ed3370\"></div>\n",
       "<script type=\"text/javascript\">\n",
       "  (function(spec, embedOpt){\n",
       "    let outputDiv = document.currentScript.previousElementSibling;\n",
       "    if (outputDiv.id !== \"altair-viz-7701b31fc6904ce58313fbdf11ed3370\") {\n",
       "      outputDiv = document.getElementById(\"altair-viz-7701b31fc6904ce58313fbdf11ed3370\");\n",
       "    }\n",
       "    const paths = {\n",
       "      \"vega\": \"https://cdn.jsdelivr.net/npm//vega@5?noext\",\n",
       "      \"vega-lib\": \"https://cdn.jsdelivr.net/npm//vega-lib?noext\",\n",
       "      \"vega-lite\": \"https://cdn.jsdelivr.net/npm//vega-lite@4.8.1?noext\",\n",
       "      \"vega-embed\": \"https://cdn.jsdelivr.net/npm//vega-embed@6?noext\",\n",
       "    };\n",
       "\n",
       "    function loadScript(lib) {\n",
       "      return new Promise(function(resolve, reject) {\n",
       "        var s = document.createElement('script');\n",
       "        s.src = paths[lib];\n",
       "        s.async = true;\n",
       "        s.onload = () => resolve(paths[lib]);\n",
       "        s.onerror = () => reject(`Error loading script: ${paths[lib]}`);\n",
       "        document.getElementsByTagName(\"head\")[0].appendChild(s);\n",
       "      });\n",
       "    }\n",
       "\n",
       "    function showError(err) {\n",
       "      outputDiv.innerHTML = `<div class=\"error\" style=\"color:red;\">${err}</div>`;\n",
       "      throw err;\n",
       "    }\n",
       "\n",
       "    function displayChart(vegaEmbed) {\n",
       "      vegaEmbed(outputDiv, spec, embedOpt)\n",
       "        .catch(err => showError(`Javascript Error: ${err.message}<br>This usually means there's a typo in your chart specification. See the javascript console for the full traceback.`));\n",
       "    }\n",
       "\n",
       "    if(typeof define === \"function\" && define.amd) {\n",
       "      requirejs.config({paths});\n",
       "      require([\"vega-embed\"], displayChart, err => showError(`Error loading script: ${err.message}`));\n",
       "    } else if (typeof vegaEmbed === \"function\") {\n",
       "      displayChart(vegaEmbed);\n",
       "    } else {\n",
       "      loadScript(\"vega\")\n",
       "        .then(() => loadScript(\"vega-lite\"))\n",
       "        .then(() => loadScript(\"vega-embed\"))\n",
       "        .catch(showError)\n",
       "        .then(() => displayChart(vegaEmbed));\n",
       "    }\n",
       "  })({\"config\": {\"view\": {\"continuousWidth\": 400, \"continuousHeight\": 300}}, \"data\": {\"name\": \"data-54f2cc016be19e36973a4fc50747331c\"}, \"mark\": \"bar\", \"encoding\": {\"x\": {\"type\": \"quantitative\", \"field\": \"importance\"}, \"y\": {\"type\": \"nominal\", \"field\": \"features\"}}, \"$schema\": \"https://vega.github.io/schema/vega-lite/v4.8.1.json\", \"datasets\": {\"data-54f2cc016be19e36973a4fc50747331c\": [{\"features\": \"a1cx\", \"importance\": 0.0}, {\"features\": \"a1cy\", \"importance\": 0.0007564052241573511}, {\"features\": \"a1sx\", \"importance\": 8.894420096625837e-05}, {\"features\": \"a1sy\", \"importance\": 0.0009462753334456257}, {\"features\": \"a1rho\", \"importance\": 4.08153930761718e-05}, {\"features\": \"a1pop\", \"importance\": 0.19721054551154402}, {\"features\": \"a2cx\", \"importance\": 0.000503587072705345}, {\"features\": \"a2cy\", \"importance\": 0.0002319999670387911}, {\"features\": \"a2sx\", \"importance\": 0.006152220814060049}, {\"features\": \"a2sy\", \"importance\": 0.0035246126659989685}, {\"features\": \"a2rho\", \"importance\": 0.0}, {\"features\": \"a2pop\", \"importance\": 0.569504287927844}, {\"features\": \"a3cx\", \"importance\": 0.00011361641631930248}, {\"features\": \"a3cy\", \"importance\": 0.0004906382843375957}, {\"features\": \"a3sx\", \"importance\": 0.00018790945231091075}, {\"features\": \"a3sy\", \"importance\": 0.00032059120191548385}, {\"features\": \"a3rho\", \"importance\": 0.00021295878713505428}, {\"features\": \"a3pop\", \"importance\": 0.19076497781296203}, {\"features\": \"temp\", \"importance\": 0.005755818360771725}, {\"features\": \"b1x\", \"importance\": 0.0004678647911192705}, {\"features\": \"b1y\", \"importance\": 0.0}, {\"features\": \"b1call\", \"importance\": 0.0}, {\"features\": \"b1eff\", \"importance\": 0.01751879093190768}, {\"features\": \"b2x\", \"importance\": 0.00035190621049656346}, {\"features\": \"b2y\", \"importance\": 0.000485916389194531}, {\"features\": \"b2call\", \"importance\": 2.8974058342280785e-05}, {\"features\": \"b2eff\", \"importance\": 0.001271705640560893}, {\"features\": \"b3x\", \"importance\": 0.0011205933834715627}, {\"features\": \"b3y\", \"importance\": 0.00019795454912549952}, {\"features\": \"b3call\", \"importance\": 0.0003012203478116383}, {\"features\": \"b3eff\", \"importance\": 0.0}, {\"features\": \"mxql\", \"importance\": 0.001448869271381517}]}}, {\"mode\": \"vega-lite\"});\n",
       "</script>"
      ],
      "text/plain": [
       "alt.Chart(...)"
      ]
     },
     "execution_count": 8,
     "metadata": {},
     "output_type": "execute_result"
    }
   ],
   "source": [
    "# plot bar chart using altair of feature importance\n",
    "alt.Chart(df_feature_imp).mark_bar().encode(x='importance', y='features')"
   ]
  },
  {
   "cell_type": "markdown",
   "metadata": {},
   "source": [
    "As a1pop, a2pop, and a3pop increase positively they increase the value of the target variable which increases likelyhood of customer drop-out."
   ]
  },
  {
   "cell_type": "code",
   "execution_count": null,
   "metadata": {},
   "outputs": [],
   "source": []
  }
 ],
 "metadata": {
  "kernelspec": {
   "display_name": "Python 3",
   "language": "python",
   "name": "python3"
  },
  "language_info": {
   "codemirror_mode": {
    "name": "ipython",
    "version": 3
   },
   "file_extension": ".py",
   "mimetype": "text/x-python",
   "name": "python",
   "nbconvert_exporter": "python",
   "pygments_lexer": "ipython3",
   "version": "3.8.5"
  }
 },
 "nbformat": 4,
 "nbformat_minor": 4
}

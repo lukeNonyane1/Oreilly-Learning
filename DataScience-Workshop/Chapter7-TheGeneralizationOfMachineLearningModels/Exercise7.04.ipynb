{
 "cells": [
  {
   "cell_type": "markdown",
   "metadata": {},
   "source": [
    "## Creating a Five-Fold Cross-Validation Dataset Using a Loop for Calls\n",
    "The goal of this exercise is to create a five-fold cross-validation dataset from the data that you imported in Exercise 7.01, Importing and Splitting Data. You will make use of a loop for calls to the generator function."
   ]
  },
  {
   "cell_type": "code",
   "execution_count": 4,
   "metadata": {},
   "outputs": [],
   "source": [
    "# import libraries\n",
    "import pandas as pd\n",
    "from sklearn.model_selection import train_test_split\n",
    "from sklearn.model_selection import KFold"
   ]
  },
  {
   "cell_type": "code",
   "execution_count": 2,
   "metadata": {},
   "outputs": [],
   "source": [
    "# create headers for data\n",
    "_headers = ['buying', 'maint', 'doors', 'persons', 'lug_boot', 'safety', 'car']"
   ]
  },
  {
   "cell_type": "code",
   "execution_count": 3,
   "metadata": {},
   "outputs": [
    {
     "name": "stdout",
     "output_type": "stream",
     "text": [
      "(1728, 7)\n"
     ]
    },
    {
     "data": {
      "text/html": [
       "<div>\n",
       "<style scoped>\n",
       "    .dataframe tbody tr th:only-of-type {\n",
       "        vertical-align: middle;\n",
       "    }\n",
       "\n",
       "    .dataframe tbody tr th {\n",
       "        vertical-align: top;\n",
       "    }\n",
       "\n",
       "    .dataframe thead th {\n",
       "        text-align: right;\n",
       "    }\n",
       "</style>\n",
       "<table border=\"1\" class=\"dataframe\">\n",
       "  <thead>\n",
       "    <tr style=\"text-align: right;\">\n",
       "      <th></th>\n",
       "      <th>buying</th>\n",
       "      <th>maint</th>\n",
       "      <th>doors</th>\n",
       "      <th>persons</th>\n",
       "      <th>lug_boot</th>\n",
       "      <th>safety</th>\n",
       "      <th>car</th>\n",
       "    </tr>\n",
       "  </thead>\n",
       "  <tbody>\n",
       "    <tr>\n",
       "      <th>0</th>\n",
       "      <td>vhigh</td>\n",
       "      <td>vhigh</td>\n",
       "      <td>2</td>\n",
       "      <td>2</td>\n",
       "      <td>small</td>\n",
       "      <td>low</td>\n",
       "      <td>unacc</td>\n",
       "    </tr>\n",
       "    <tr>\n",
       "      <th>1</th>\n",
       "      <td>vhigh</td>\n",
       "      <td>vhigh</td>\n",
       "      <td>2</td>\n",
       "      <td>2</td>\n",
       "      <td>small</td>\n",
       "      <td>med</td>\n",
       "      <td>unacc</td>\n",
       "    </tr>\n",
       "    <tr>\n",
       "      <th>2</th>\n",
       "      <td>vhigh</td>\n",
       "      <td>vhigh</td>\n",
       "      <td>2</td>\n",
       "      <td>2</td>\n",
       "      <td>small</td>\n",
       "      <td>high</td>\n",
       "      <td>unacc</td>\n",
       "    </tr>\n",
       "    <tr>\n",
       "      <th>3</th>\n",
       "      <td>vhigh</td>\n",
       "      <td>vhigh</td>\n",
       "      <td>2</td>\n",
       "      <td>2</td>\n",
       "      <td>med</td>\n",
       "      <td>low</td>\n",
       "      <td>unacc</td>\n",
       "    </tr>\n",
       "    <tr>\n",
       "      <th>4</th>\n",
       "      <td>vhigh</td>\n",
       "      <td>vhigh</td>\n",
       "      <td>2</td>\n",
       "      <td>2</td>\n",
       "      <td>med</td>\n",
       "      <td>med</td>\n",
       "      <td>unacc</td>\n",
       "    </tr>\n",
       "  </tbody>\n",
       "</table>\n",
       "</div>"
      ],
      "text/plain": [
       "  buying  maint doors persons lug_boot safety    car\n",
       "0  vhigh  vhigh     2       2    small    low  unacc\n",
       "1  vhigh  vhigh     2       2    small    med  unacc\n",
       "2  vhigh  vhigh     2       2    small   high  unacc\n",
       "3  vhigh  vhigh     2       2      med    low  unacc\n",
       "4  vhigh  vhigh     2       2      med    med  unacc"
      ]
     },
     "execution_count": 3,
     "metadata": {},
     "output_type": "execute_result"
    }
   ],
   "source": [
    "# read in cars dataset\n",
    "df = pd.read_csv('https://raw.githubusercontent.com/'\\\n",
    "                 'PacktWorkshops/The-Data-Science-Workshop/'\\\n",
    "                 'master/Chapter07/Dataset/car.data', names=_headers, index_col=None)\n",
    "print(df.shape)\n",
    "df.head()"
   ]
  },
  {
   "cell_type": "code",
   "execution_count": 5,
   "metadata": {},
   "outputs": [],
   "source": [
    "# define number of splits\n",
    "n_splits = 5"
   ]
  },
  {
   "cell_type": "code",
   "execution_count": 6,
   "metadata": {},
   "outputs": [],
   "source": [
    "# create an instance of KFold\n",
    "_kf = KFold(n_splits=n_splits)"
   ]
  },
  {
   "cell_type": "code",
   "execution_count": 7,
   "metadata": {},
   "outputs": [],
   "source": [
    "# generate the split indices\n",
    "_indices = _kf.split(df)"
   ]
  },
  {
   "cell_type": "code",
   "execution_count": 8,
   "metadata": {},
   "outputs": [],
   "source": [
    "# create two python lists\n",
    "_t, _v = [], []"
   ]
  },
  {
   "cell_type": "code",
   "execution_count": 9,
   "metadata": {},
   "outputs": [],
   "source": [
    "# iterate over _indices\n",
    "for i in range(n_splits):\n",
    "    train_idx, val_idx = next(_indices)\n",
    "    _train_df = df.drop(val_idx)\n",
    "    _t.append(_train_df)\n",
    "    _val_df = df.drop(train_idx)\n",
    "    _v.append(_val_df)"
   ]
  },
  {
   "cell_type": "markdown",
   "metadata": {},
   "source": [
    "In this step, you create a loop using range to determine the number of iterations. You specify the number of iterations by providing n_splits as a parameter to range(). On every iteration, you execute next() on the _indices generator and store the results in train_idx and val_idx. You then proceed to create _train_df by dropping the validation indices, val_idx, from df. You also create _val_df by dropping the training indices from df."
   ]
  },
  {
   "cell_type": "code",
   "execution_count": 10,
   "metadata": {},
   "outputs": [
    {
     "name": "stdout",
     "output_type": "stream",
     "text": [
      "<class 'pandas.core.frame.DataFrame'>\n",
      "Int64Index: 1382 entries, 346 to 1727\n",
      "Data columns (total 7 columns):\n",
      " #   Column    Non-Null Count  Dtype \n",
      "---  ------    --------------  ----- \n",
      " 0   buying    1382 non-null   object\n",
      " 1   maint     1382 non-null   object\n",
      " 2   doors     1382 non-null   object\n",
      " 3   persons   1382 non-null   object\n",
      " 4   lug_boot  1382 non-null   object\n",
      " 5   safety    1382 non-null   object\n",
      " 6   car       1382 non-null   object\n",
      "dtypes: object(7)\n",
      "memory usage: 86.4+ KB\n",
      "None\n",
      "<class 'pandas.core.frame.DataFrame'>\n",
      "Int64Index: 1382 entries, 0 to 1727\n",
      "Data columns (total 7 columns):\n",
      " #   Column    Non-Null Count  Dtype \n",
      "---  ------    --------------  ----- \n",
      " 0   buying    1382 non-null   object\n",
      " 1   maint     1382 non-null   object\n",
      " 2   doors     1382 non-null   object\n",
      " 3   persons   1382 non-null   object\n",
      " 4   lug_boot  1382 non-null   object\n",
      " 5   safety    1382 non-null   object\n",
      " 6   car       1382 non-null   object\n",
      "dtypes: object(7)\n",
      "memory usage: 86.4+ KB\n",
      "None\n",
      "<class 'pandas.core.frame.DataFrame'>\n",
      "Int64Index: 1382 entries, 0 to 1727\n",
      "Data columns (total 7 columns):\n",
      " #   Column    Non-Null Count  Dtype \n",
      "---  ------    --------------  ----- \n",
      " 0   buying    1382 non-null   object\n",
      " 1   maint     1382 non-null   object\n",
      " 2   doors     1382 non-null   object\n",
      " 3   persons   1382 non-null   object\n",
      " 4   lug_boot  1382 non-null   object\n",
      " 5   safety    1382 non-null   object\n",
      " 6   car       1382 non-null   object\n",
      "dtypes: object(7)\n",
      "memory usage: 86.4+ KB\n",
      "None\n",
      "<class 'pandas.core.frame.DataFrame'>\n",
      "Int64Index: 1383 entries, 0 to 1727\n",
      "Data columns (total 7 columns):\n",
      " #   Column    Non-Null Count  Dtype \n",
      "---  ------    --------------  ----- \n",
      " 0   buying    1383 non-null   object\n",
      " 1   maint     1383 non-null   object\n",
      " 2   doors     1383 non-null   object\n",
      " 3   persons   1383 non-null   object\n",
      " 4   lug_boot  1383 non-null   object\n",
      " 5   safety    1383 non-null   object\n",
      " 6   car       1383 non-null   object\n",
      "dtypes: object(7)\n",
      "memory usage: 86.4+ KB\n",
      "None\n",
      "<class 'pandas.core.frame.DataFrame'>\n",
      "Int64Index: 1383 entries, 0 to 1382\n",
      "Data columns (total 7 columns):\n",
      " #   Column    Non-Null Count  Dtype \n",
      "---  ------    --------------  ----- \n",
      " 0   buying    1383 non-null   object\n",
      " 1   maint     1383 non-null   object\n",
      " 2   doors     1383 non-null   object\n",
      " 3   persons   1383 non-null   object\n",
      " 4   lug_boot  1383 non-null   object\n",
      " 5   safety    1383 non-null   object\n",
      " 6   car       1383 non-null   object\n",
      "dtypes: object(7)\n",
      "memory usage: 86.4+ KB\n",
      "None\n"
     ]
    }
   ],
   "source": [
    "# iterate over the training list\n",
    "for d in _t:\n",
    "    print(d.info())"
   ]
  },
  {
   "cell_type": "code",
   "execution_count": 11,
   "metadata": {},
   "outputs": [
    {
     "name": "stdout",
     "output_type": "stream",
     "text": [
      "<class 'pandas.core.frame.DataFrame'>\n",
      "Int64Index: 346 entries, 0 to 345\n",
      "Data columns (total 7 columns):\n",
      " #   Column    Non-Null Count  Dtype \n",
      "---  ------    --------------  ----- \n",
      " 0   buying    346 non-null    object\n",
      " 1   maint     346 non-null    object\n",
      " 2   doors     346 non-null    object\n",
      " 3   persons   346 non-null    object\n",
      " 4   lug_boot  346 non-null    object\n",
      " 5   safety    346 non-null    object\n",
      " 6   car       346 non-null    object\n",
      "dtypes: object(7)\n",
      "memory usage: 21.6+ KB\n",
      "None\n",
      "<class 'pandas.core.frame.DataFrame'>\n",
      "Int64Index: 346 entries, 346 to 691\n",
      "Data columns (total 7 columns):\n",
      " #   Column    Non-Null Count  Dtype \n",
      "---  ------    --------------  ----- \n",
      " 0   buying    346 non-null    object\n",
      " 1   maint     346 non-null    object\n",
      " 2   doors     346 non-null    object\n",
      " 3   persons   346 non-null    object\n",
      " 4   lug_boot  346 non-null    object\n",
      " 5   safety    346 non-null    object\n",
      " 6   car       346 non-null    object\n",
      "dtypes: object(7)\n",
      "memory usage: 21.6+ KB\n",
      "None\n",
      "<class 'pandas.core.frame.DataFrame'>\n",
      "Int64Index: 346 entries, 692 to 1037\n",
      "Data columns (total 7 columns):\n",
      " #   Column    Non-Null Count  Dtype \n",
      "---  ------    --------------  ----- \n",
      " 0   buying    346 non-null    object\n",
      " 1   maint     346 non-null    object\n",
      " 2   doors     346 non-null    object\n",
      " 3   persons   346 non-null    object\n",
      " 4   lug_boot  346 non-null    object\n",
      " 5   safety    346 non-null    object\n",
      " 6   car       346 non-null    object\n",
      "dtypes: object(7)\n",
      "memory usage: 21.6+ KB\n",
      "None\n",
      "<class 'pandas.core.frame.DataFrame'>\n",
      "Int64Index: 345 entries, 1038 to 1382\n",
      "Data columns (total 7 columns):\n",
      " #   Column    Non-Null Count  Dtype \n",
      "---  ------    --------------  ----- \n",
      " 0   buying    345 non-null    object\n",
      " 1   maint     345 non-null    object\n",
      " 2   doors     345 non-null    object\n",
      " 3   persons   345 non-null    object\n",
      " 4   lug_boot  345 non-null    object\n",
      " 5   safety    345 non-null    object\n",
      " 6   car       345 non-null    object\n",
      "dtypes: object(7)\n",
      "memory usage: 21.6+ KB\n",
      "None\n",
      "<class 'pandas.core.frame.DataFrame'>\n",
      "Int64Index: 345 entries, 1383 to 1727\n",
      "Data columns (total 7 columns):\n",
      " #   Column    Non-Null Count  Dtype \n",
      "---  ------    --------------  ----- \n",
      " 0   buying    345 non-null    object\n",
      " 1   maint     345 non-null    object\n",
      " 2   doors     345 non-null    object\n",
      " 3   persons   345 non-null    object\n",
      " 4   lug_boot  345 non-null    object\n",
      " 5   safety    345 non-null    object\n",
      " 6   car       345 non-null    object\n",
      "dtypes: object(7)\n",
      "memory usage: 21.6+ KB\n",
      "None\n"
     ]
    }
   ],
   "source": [
    "# iterate over the validation list\n",
    "for d in _v:\n",
    "    print(d.info())"
   ]
  },
  {
   "cell_type": "markdown",
   "metadata": {},
   "source": [
    "### cross_val_score takes care of the following:\n",
    "\n",
    "    Creating cross-validation datasets\n",
    "    Training models by fitting them to the training data\n",
    "    Evaluating the models on the validation data\n",
    "    Returning a list of the R2 score of each model that is trained\n",
    "For all of the preceding actions to happen, you will need to provide the following inputs:\n",
    "\n",
    "    An instance of an estimator (for example, LinearRegression)\n",
    "    The original dataset\n",
    "    The number of splits to create (which is also the number of models that will be trained and evaluated)\n"
   ]
  },
  {
   "cell_type": "code",
   "execution_count": null,
   "metadata": {},
   "outputs": [],
   "source": []
  }
 ],
 "metadata": {
  "kernelspec": {
   "display_name": "Python 3",
   "language": "python",
   "name": "python3"
  },
  "language_info": {
   "codemirror_mode": {
    "name": "ipython",
    "version": 3
   },
   "file_extension": ".py",
   "mimetype": "text/x-python",
   "name": "python",
   "nbconvert_exporter": "python",
   "pygments_lexer": "ipython3",
   "version": "3.8.5"
  }
 },
 "nbformat": 4,
 "nbformat_minor": 4
}

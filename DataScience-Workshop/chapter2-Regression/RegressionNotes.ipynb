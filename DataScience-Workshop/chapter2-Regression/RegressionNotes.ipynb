{
 "cells": [
  {
   "cell_type": "raw",
   "metadata": {},
   "source": [
    "CHAPTER OBJECTIVES\n",
    "\n",
    "identify and import the Python modules required for regression analysis\n",
    "use the pandas module to load a dataset and prepare it for regression analysis\n",
    "create a scatter plot of bivariate data and fit a regression line through it\n",
    "use the methods available in the Python statsmodels module to fit a regression model to a dataset\n",
    "explain the results of simple and multiple linear regression analysis\n",
    "assess the goodness of fit of a linear regression model\n",
    "apply linear regression analysis as a tool for practical problem-solving"
   ]
  },
  {
   "cell_type": "raw",
   "metadata": {},
   "source": [
    "THE METHOD OF LEAST SQUARES\n",
    "\n",
    "The intercept is the value of the dependent variable (Y) when the independent variable (X) has a value of zero (0). The slope is a measure of the rate at which the dependent variable (Y) changes when the independent variable (X) changes by one (1)\n",
    "\n",
    "Calculating the difference between the actual dependent variable value and the predicted dependent variable value gives an error that is commonly termed as the residual (ϵi)\n",
    "\n",
    "CORRELATION COEFFICIENT\n",
    "The correlation coefficient for a sample of bivariate data is commonly represented by r.\n",
    "\n",
    "When r is equal to +1, the relationship between X and Y is such that both X and Y increase or decrease in the same direction perfectly. When r is equal to -1, the relationship between X and Y is such that an increase in X is associated with a decrease in Y perfectly and vice versa. When r is equal to zero (0), there is no linear relationship between X and Y.\n",
    "\n",
    "Having no linear relationship between X and Y does not mean that X and Y are not related; instead, it means that if there is any relationship, it cannot be described by a straight line.\n",
    "\n",
    "CONFIDENCE INTERVAL (CI)\n",
    "\n",
    "A confidence interval gives an estimated range that is likely to contain the true value that you're looking for. So, a 95% confidence interval indicates we can be 95% certain that the true regression coefficients lie in that shaded area.\n",
    "\n",
    "STATSMODELS FORMULA API\n",
    "\n",
    "The statsmodels formula API enables the data scientist to use the formula language to define regression models that can be found in statistics literature and many dedicated statistical computer packages. \n",
    "\n",
    "ASSUMPTIONS OF REGRESSION ANALYSIS\n",
    "\n",
    "Due to the parametric nature of linear regression analysis, the method makes certain assumptions about the data it analyzes. When these assumptions are not met, the results of the regression analysis may be misleading to say the least. It is, therefore, necessary to check any analysis work to ensure the regression assumptions are not violated.\n",
    "\n",
    "Let's review the main assumptions of linear regression analysis that we must ensure are met in order to develop a good model:\n",
    "\n",
    "1) The relationship between the dependent and independent variables must be linear and additive.\n",
    "This means that the relationship must be of the straight-line type, and if there are many independent variables involved, thus multiple linear regression, the weighted sum of these independent variables must be able to explain the variability in the dependent variable. \n",
    "\n",
    "2) The residual terms (ϵi) must be normally distributed. This is so that the standard error of estimate is calculated correctly. This standard error of estimate statistic is used to calculate t-values, which, in turn, are used to make statistical significance decisions. So, if the standard error of estimate is wrong, the t-values will be wrong and so are the statistical significance decisions that follow on from the p-values. The t-values that are calculated using the standard error of estimate are also used to construct confidence intervals for the population regression parameters. If the standard error is wrong, then the confidence intervals will be wrong as well.\n",
    "\n",
    "3) The residual terms (ϵi) must have constant variance (homoskedasticity). When this is not the case, we have the heteroskedasticity problem. This point refers to the variance of the residual terms. It is assumed to be constant. We assume that each data point in our regression analysis contributes equal explanation to the variability we are seeking to model. If some data points contribute more explanation than others, our regression line will be pulled toward the points with more information. The data points will not be equally scattered around our regression line. The error (variance) about the regression line, in that case, will not be constant.\n",
    "\n",
    "4) The residual terms (ϵi) must not be correlated. When there is correlation in the residual terms, we have the problem known as autocorrelation. Knowing one residual term, must not give us any information about what the next residual term will be. Residual terms that are autocorrelated are unlikely to have a normal distribution.\n",
    "\n",
    "5) There must not be correlation among the independent variables. When the independent variables are correlated among themselves, we have a problem called multicollinearity. This would lead to developing a model with coefficients that have values that depend on the presence of other independent variables. In other words, we will have a model that will change drastically should a particular independent variable be dropped from the model for example. A model like that will be inaccurate. \n",
    "\n",
    "EXPLAINING THE RESULTS OF REGRESSION ANALYSIS\n",
    "\n",
    "TSS gives us a measure of the total variance found in the dependent variable from its mean value.\n",
    "RSS gives us a measure of the amount of variability in the dependent variable that our model explains.\n",
    "The missing amount by which RSS falls short of TSS is the amount of variability in the dependent variable that our regression model is not able to explain. That quantity is the Error Sum of Squares (ESS), which is essentially the sum of the residual terms of our model.\n",
    "\n",
    "Once a good model has been developed, the next step is to validate the model statistically before it can be used for making a prediction or acquiring insight for decision making. Next, let's discuss what validating the model statistically means\n",
    "\n",
    "REGRESSION ANALYSIS CHECKS AND BALANCES\n",
    "\n",
    "We compare the p-value to our chosen α-risk, and if the p-value is less than the agreed α-risk, we reject the idea that the nonzero coefficient (β) was found by chance.\n",
    "\n",
    "F-TEST\n",
    "\n",
    "The F-test is what validates the overall statistical significance of the strength of the relationship between a model and its dependent variables. If the p-value for the F-test is less than the chosen α-level (0.05, in our case), we reject the null hypothesis and conclude that the model is statistically significant overall. \n",
    "A good F-value is expected to be larger than one.\n",
    "\n",
    "T-TEST\n",
    "If an independent variable has a p-value of less than 0.05, the independent variable is statistically significant in our model in explaining the variability in the dependent variable.\n",
    "If the p-value is 0.05 or higher, the particular independent variable (or term) in our model is not statistically significant. What this means is that that term in our model does not contribute toward explaining the variability in our dependent variable statistically. To improve this model, those terms will have to be dropped and a new model tried. \n",
    "\n",
    "SUMMARY\n",
    "\n"
   ]
  },
  {
   "cell_type": "code",
   "execution_count": null,
   "metadata": {},
   "outputs": [],
   "source": []
  }
 ],
 "metadata": {
  "kernelspec": {
   "display_name": "Python 3",
   "language": "python",
   "name": "python3"
  },
  "language_info": {
   "codemirror_mode": {
    "name": "ipython",
    "version": 3
   },
   "file_extension": ".py",
   "mimetype": "text/x-python",
   "name": "python",
   "nbconvert_exporter": "python",
   "pygments_lexer": "ipython3",
   "version": "3.8.5"
  }
 },
 "nbformat": 4,
 "nbformat_minor": 4
}

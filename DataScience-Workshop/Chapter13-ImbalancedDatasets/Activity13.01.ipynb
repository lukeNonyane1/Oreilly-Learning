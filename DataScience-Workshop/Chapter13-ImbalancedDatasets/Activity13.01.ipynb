{
 "cells": [
  {
   "cell_type": "markdown",
   "metadata": {},
   "source": [
    "## Finding the Best Balancing Technique by Fitting a Classifier on the Telecom Churn Dataset\n",
    "You are working as a data scientist for a telecom company. You have encountered a dataset that is highly imbalanced, and you want to correct the class imbalance before fitting the classifier to analyze the churn. You know different methods for correcting the imbalance in datasets and you want to compare them to find the best method before fitting the model.\n",
    "\n",
    "In this activity, you need to implement all of the three methods that you have come across so far and compare the results. "
   ]
  },
  {
   "cell_type": "markdown",
   "metadata": {},
   "source": [
    "Solution set | https://github.com/PacktWorkshops/The-Data-Science-Workshop/blob/master/Activity_Solutions/B15019_Solution_Final.pdf"
   ]
  },
  {
   "cell_type": "code",
   "execution_count": 1,
   "metadata": {},
   "outputs": [
    {
     "name": "stdout",
     "output_type": "stream",
     "text": [
      "Requirement already satisfied: smote-variants in /opt/anaconda3/lib/python3.8/site-packages (0.4.0)\n",
      "Requirement already satisfied: scikit-learn in /opt/anaconda3/lib/python3.8/site-packages (from smote-variants) (0.23.2)\n",
      "Requirement already satisfied: pandas in /opt/anaconda3/lib/python3.8/site-packages (from smote-variants) (1.1.3)\n",
      "Requirement already satisfied: joblib in /opt/anaconda3/lib/python3.8/site-packages (from smote-variants) (0.17.0)\n",
      "Requirement already satisfied: tensorflow in /opt/anaconda3/lib/python3.8/site-packages (from smote-variants) (2.6.0)\n",
      "Requirement already satisfied: keras in /opt/anaconda3/lib/python3.8/site-packages (from smote-variants) (2.6.0)\n",
      "Requirement already satisfied: statistics in /opt/anaconda3/lib/python3.8/site-packages (from smote-variants) (1.0.3.5)\n",
      "Requirement already satisfied: numpy>=1.13.0 in /opt/anaconda3/lib/python3.8/site-packages (from smote-variants) (1.19.2)\n",
      "Requirement already satisfied: minisom in /opt/anaconda3/lib/python3.8/site-packages (from smote-variants) (2.2.9)\n",
      "Requirement already satisfied: mkl in /opt/anaconda3/lib/python3.8/site-packages (from smote-variants) (2021.4.0)\n",
      "Requirement already satisfied: scipy in /opt/anaconda3/lib/python3.8/site-packages (from smote-variants) (1.5.2)\n",
      "Requirement already satisfied: threadpoolctl>=2.0.0 in /opt/anaconda3/lib/python3.8/site-packages (from scikit-learn->smote-variants) (2.1.0)\n",
      "Requirement already satisfied: python-dateutil>=2.7.3 in /opt/anaconda3/lib/python3.8/site-packages (from pandas->smote-variants) (2.8.1)\n",
      "Requirement already satisfied: pytz>=2017.2 in /opt/anaconda3/lib/python3.8/site-packages (from pandas->smote-variants) (2020.1)\n",
      "Requirement already satisfied: typing-extensions~=3.7.4 in /opt/anaconda3/lib/python3.8/site-packages (from tensorflow->smote-variants) (3.7.4.3)\n",
      "Requirement already satisfied: gast==0.4.0 in /opt/anaconda3/lib/python3.8/site-packages (from tensorflow->smote-variants) (0.4.0)\n",
      "Requirement already satisfied: astunparse~=1.6.3 in /opt/anaconda3/lib/python3.8/site-packages (from tensorflow->smote-variants) (1.6.3)\n",
      "Requirement already satisfied: google-pasta~=0.2 in /opt/anaconda3/lib/python3.8/site-packages (from tensorflow->smote-variants) (0.2.0)\n",
      "Requirement already satisfied: six~=1.15.0 in /opt/anaconda3/lib/python3.8/site-packages (from tensorflow->smote-variants) (1.15.0)\n",
      "Requirement already satisfied: tensorflow-estimator~=2.6 in /opt/anaconda3/lib/python3.8/site-packages (from tensorflow->smote-variants) (2.6.0)\n",
      "Requirement already satisfied: keras-preprocessing~=1.1.2 in /opt/anaconda3/lib/python3.8/site-packages (from tensorflow->smote-variants) (1.1.2)\n",
      "Requirement already satisfied: wheel~=0.35 in /opt/anaconda3/lib/python3.8/site-packages (from tensorflow->smote-variants) (0.35.1)\n",
      "Requirement already satisfied: wrapt~=1.12.1 in /opt/anaconda3/lib/python3.8/site-packages (from tensorflow->smote-variants) (1.12.1)\n",
      "Requirement already satisfied: protobuf>=3.9.2 in /opt/anaconda3/lib/python3.8/site-packages (from tensorflow->smote-variants) (3.19.0)\n",
      "Requirement already satisfied: flatbuffers~=1.12.0 in /opt/anaconda3/lib/python3.8/site-packages (from tensorflow->smote-variants) (1.12)\n",
      "Requirement already satisfied: termcolor~=1.1.0 in /opt/anaconda3/lib/python3.8/site-packages (from tensorflow->smote-variants) (1.1.0)\n",
      "Requirement already satisfied: grpcio<2.0,>=1.37.0 in /opt/anaconda3/lib/python3.8/site-packages (from tensorflow->smote-variants) (1.41.0)\n",
      "Requirement already satisfied: clang~=5.0 in /opt/anaconda3/lib/python3.8/site-packages (from tensorflow->smote-variants) (5.0)\n",
      "Requirement already satisfied: h5py~=3.1.0 in /opt/anaconda3/lib/python3.8/site-packages (from tensorflow->smote-variants) (3.1.0)\n",
      "Requirement already satisfied: absl-py~=0.10 in /opt/anaconda3/lib/python3.8/site-packages (from tensorflow->smote-variants) (0.15.0)\n",
      "Requirement already satisfied: opt-einsum~=3.3.0 in /opt/anaconda3/lib/python3.8/site-packages (from tensorflow->smote-variants) (3.3.0)\n",
      "Requirement already satisfied: tensorboard~=2.6 in /opt/anaconda3/lib/python3.8/site-packages (from tensorflow->smote-variants) (2.7.0)\n",
      "Requirement already satisfied: docutils>=0.3 in /opt/anaconda3/lib/python3.8/site-packages (from statistics->smote-variants) (0.16)\n",
      "Requirement already satisfied: tbb==2021.* in /opt/anaconda3/lib/python3.8/site-packages (from mkl->smote-variants) (2021.4.0)\n",
      "Requirement already satisfied: intel-openmp==2021.* in /opt/anaconda3/lib/python3.8/site-packages (from mkl->smote-variants) (2021.4.0)\n",
      "Requirement already satisfied: werkzeug>=0.11.15 in /opt/anaconda3/lib/python3.8/site-packages (from tensorboard~=2.6->tensorflow->smote-variants) (1.0.1)\n",
      "Requirement already satisfied: google-auth-oauthlib<0.5,>=0.4.1 in /opt/anaconda3/lib/python3.8/site-packages (from tensorboard~=2.6->tensorflow->smote-variants) (0.4.6)\n",
      "Requirement already satisfied: tensorboard-plugin-wit>=1.6.0 in /opt/anaconda3/lib/python3.8/site-packages (from tensorboard~=2.6->tensorflow->smote-variants) (1.8.0)\n",
      "Requirement already satisfied: markdown>=2.6.8 in /opt/anaconda3/lib/python3.8/site-packages (from tensorboard~=2.6->tensorflow->smote-variants) (3.3.4)\n",
      "Requirement already satisfied: google-auth<3,>=1.6.3 in /opt/anaconda3/lib/python3.8/site-packages (from tensorboard~=2.6->tensorflow->smote-variants) (2.3.0)\n",
      "Requirement already satisfied: setuptools>=41.0.0 in /opt/anaconda3/lib/python3.8/site-packages (from tensorboard~=2.6->tensorflow->smote-variants) (50.3.1.post20201107)\n",
      "Requirement already satisfied: tensorboard-data-server<0.7.0,>=0.6.0 in /opt/anaconda3/lib/python3.8/site-packages (from tensorboard~=2.6->tensorflow->smote-variants) (0.6.1)\n",
      "Requirement already satisfied: requests<3,>=2.21.0 in /opt/anaconda3/lib/python3.8/site-packages (from tensorboard~=2.6->tensorflow->smote-variants) (2.24.0)\n",
      "Requirement already satisfied: requests-oauthlib>=0.7.0 in /opt/anaconda3/lib/python3.8/site-packages (from google-auth-oauthlib<0.5,>=0.4.1->tensorboard~=2.6->tensorflow->smote-variants) (1.3.0)\n",
      "Requirement already satisfied: pyasn1-modules>=0.2.1 in /opt/anaconda3/lib/python3.8/site-packages (from google-auth<3,>=1.6.3->tensorboard~=2.6->tensorflow->smote-variants) (0.2.8)\n",
      "Requirement already satisfied: rsa<5,>=3.1.4 in /opt/anaconda3/lib/python3.8/site-packages (from google-auth<3,>=1.6.3->tensorboard~=2.6->tensorflow->smote-variants) (4.7.2)\n",
      "Requirement already satisfied: cachetools<5.0,>=2.0.0 in /opt/anaconda3/lib/python3.8/site-packages (from google-auth<3,>=1.6.3->tensorboard~=2.6->tensorflow->smote-variants) (4.2.4)\n",
      "Requirement already satisfied: urllib3!=1.25.0,!=1.25.1,<1.26,>=1.21.1 in /opt/anaconda3/lib/python3.8/site-packages (from requests<3,>=2.21.0->tensorboard~=2.6->tensorflow->smote-variants) (1.25.11)\n",
      "Requirement already satisfied: certifi>=2017.4.17 in /opt/anaconda3/lib/python3.8/site-packages (from requests<3,>=2.21.0->tensorboard~=2.6->tensorflow->smote-variants) (2020.6.20)\n",
      "Requirement already satisfied: chardet<4,>=3.0.2 in /opt/anaconda3/lib/python3.8/site-packages (from requests<3,>=2.21.0->tensorboard~=2.6->tensorflow->smote-variants) (3.0.4)\n",
      "Requirement already satisfied: idna<3,>=2.5 in /opt/anaconda3/lib/python3.8/site-packages (from requests<3,>=2.21.0->tensorboard~=2.6->tensorflow->smote-variants) (2.10)\n",
      "Requirement already satisfied: oauthlib>=3.0.0 in /opt/anaconda3/lib/python3.8/site-packages (from requests-oauthlib>=0.7.0->google-auth-oauthlib<0.5,>=0.4.1->tensorboard~=2.6->tensorflow->smote-variants) (3.1.1)\n",
      "Requirement already satisfied: pyasn1<0.5.0,>=0.4.6 in /opt/anaconda3/lib/python3.8/site-packages (from pyasn1-modules>=0.2.1->google-auth<3,>=1.6.3->tensorboard~=2.6->tensorflow->smote-variants) (0.4.8)\n"
     ]
    }
   ],
   "source": [
    "!pip install smote-variants"
   ]
  },
  {
   "cell_type": "code",
   "execution_count": 2,
   "metadata": {},
   "outputs": [],
   "source": [
    "import pandas as pd\n",
    "from sklearn.preprocessing import MinMaxScaler\n",
    "from sklearn.model_selection import train_test_split\n",
    "from sklearn.linear_model import LogisticRegression\n",
    "import smote_variants as sv\n",
    "import numpy as np\n",
    "from sklearn.metrics import confusion_matrix\n",
    "from sklearn.metrics import classification_report"
   ]
  },
  {
   "cell_type": "code",
   "execution_count": 3,
   "metadata": {},
   "outputs": [],
   "source": [
    "file_url = ('https://raw.githubusercontent.com/PacktWorkshops/'\n",
    "            'The-Data-Science-Workshop/master/Chapter13/Dataset/churn.csv')"
   ]
  },
  {
   "cell_type": "code",
   "execution_count": 4,
   "metadata": {},
   "outputs": [],
   "source": [
    "df = pd.read_csv(file_url)"
   ]
  },
  {
   "cell_type": "code",
   "execution_count": 5,
   "metadata": {},
   "outputs": [
    {
     "name": "stdout",
     "output_type": "stream",
     "text": [
      "(5000, 18)\n"
     ]
    },
    {
     "data": {
      "text/html": [
       "<div>\n",
       "<style scoped>\n",
       "    .dataframe tbody tr th:only-of-type {\n",
       "        vertical-align: middle;\n",
       "    }\n",
       "\n",
       "    .dataframe tbody tr th {\n",
       "        vertical-align: top;\n",
       "    }\n",
       "\n",
       "    .dataframe thead th {\n",
       "        text-align: right;\n",
       "    }\n",
       "</style>\n",
       "<table border=\"1\" class=\"dataframe\">\n",
       "  <thead>\n",
       "    <tr style=\"text-align: right;\">\n",
       "      <th></th>\n",
       "      <th>churn</th>\n",
       "      <th>accountlength</th>\n",
       "      <th>internationalplan</th>\n",
       "      <th>voicemailplan</th>\n",
       "      <th>numbervmailmessages</th>\n",
       "      <th>totaldayminutes</th>\n",
       "      <th>totaldaycalls</th>\n",
       "      <th>totaldaycharge</th>\n",
       "      <th>totaleveminutes</th>\n",
       "      <th>totalevecalls</th>\n",
       "      <th>totalevecharge</th>\n",
       "      <th>totalnightminutes</th>\n",
       "      <th>totalnightcalls</th>\n",
       "      <th>totalnightcharge</th>\n",
       "      <th>totalintlminutes</th>\n",
       "      <th>totalintlcalls</th>\n",
       "      <th>totalintlcharge</th>\n",
       "      <th>numbercustomerservicecalls</th>\n",
       "    </tr>\n",
       "  </thead>\n",
       "  <tbody>\n",
       "    <tr>\n",
       "      <th>0</th>\n",
       "      <td>No</td>\n",
       "      <td>128</td>\n",
       "      <td>no</td>\n",
       "      <td>yes</td>\n",
       "      <td>25</td>\n",
       "      <td>265.1</td>\n",
       "      <td>110</td>\n",
       "      <td>45.07</td>\n",
       "      <td>197.4</td>\n",
       "      <td>99</td>\n",
       "      <td>16.78</td>\n",
       "      <td>244.7</td>\n",
       "      <td>91</td>\n",
       "      <td>11.01</td>\n",
       "      <td>10.0</td>\n",
       "      <td>3</td>\n",
       "      <td>2.70</td>\n",
       "      <td>1</td>\n",
       "    </tr>\n",
       "    <tr>\n",
       "      <th>1</th>\n",
       "      <td>No</td>\n",
       "      <td>107</td>\n",
       "      <td>no</td>\n",
       "      <td>yes</td>\n",
       "      <td>26</td>\n",
       "      <td>161.6</td>\n",
       "      <td>123</td>\n",
       "      <td>27.47</td>\n",
       "      <td>195.5</td>\n",
       "      <td>103</td>\n",
       "      <td>16.62</td>\n",
       "      <td>254.4</td>\n",
       "      <td>103</td>\n",
       "      <td>11.45</td>\n",
       "      <td>13.7</td>\n",
       "      <td>3</td>\n",
       "      <td>3.70</td>\n",
       "      <td>1</td>\n",
       "    </tr>\n",
       "    <tr>\n",
       "      <th>2</th>\n",
       "      <td>No</td>\n",
       "      <td>137</td>\n",
       "      <td>no</td>\n",
       "      <td>no</td>\n",
       "      <td>0</td>\n",
       "      <td>243.4</td>\n",
       "      <td>114</td>\n",
       "      <td>41.38</td>\n",
       "      <td>121.2</td>\n",
       "      <td>110</td>\n",
       "      <td>10.30</td>\n",
       "      <td>162.6</td>\n",
       "      <td>104</td>\n",
       "      <td>7.32</td>\n",
       "      <td>12.2</td>\n",
       "      <td>5</td>\n",
       "      <td>3.29</td>\n",
       "      <td>0</td>\n",
       "    </tr>\n",
       "    <tr>\n",
       "      <th>3</th>\n",
       "      <td>No</td>\n",
       "      <td>84</td>\n",
       "      <td>yes</td>\n",
       "      <td>no</td>\n",
       "      <td>0</td>\n",
       "      <td>299.4</td>\n",
       "      <td>71</td>\n",
       "      <td>50.90</td>\n",
       "      <td>61.9</td>\n",
       "      <td>88</td>\n",
       "      <td>5.26</td>\n",
       "      <td>196.9</td>\n",
       "      <td>89</td>\n",
       "      <td>8.86</td>\n",
       "      <td>6.6</td>\n",
       "      <td>7</td>\n",
       "      <td>1.78</td>\n",
       "      <td>2</td>\n",
       "    </tr>\n",
       "    <tr>\n",
       "      <th>4</th>\n",
       "      <td>No</td>\n",
       "      <td>75</td>\n",
       "      <td>yes</td>\n",
       "      <td>no</td>\n",
       "      <td>0</td>\n",
       "      <td>166.7</td>\n",
       "      <td>113</td>\n",
       "      <td>28.34</td>\n",
       "      <td>148.3</td>\n",
       "      <td>122</td>\n",
       "      <td>12.61</td>\n",
       "      <td>186.9</td>\n",
       "      <td>121</td>\n",
       "      <td>8.41</td>\n",
       "      <td>10.1</td>\n",
       "      <td>3</td>\n",
       "      <td>2.73</td>\n",
       "      <td>3</td>\n",
       "    </tr>\n",
       "  </tbody>\n",
       "</table>\n",
       "</div>"
      ],
      "text/plain": [
       "  churn  accountlength internationalplan voicemailplan  numbervmailmessages  \\\n",
       "0    No            128                no           yes                   25   \n",
       "1    No            107                no           yes                   26   \n",
       "2    No            137                no            no                    0   \n",
       "3    No             84               yes            no                    0   \n",
       "4    No             75               yes            no                    0   \n",
       "\n",
       "   totaldayminutes  totaldaycalls  totaldaycharge  totaleveminutes  \\\n",
       "0            265.1            110           45.07            197.4   \n",
       "1            161.6            123           27.47            195.5   \n",
       "2            243.4            114           41.38            121.2   \n",
       "3            299.4             71           50.90             61.9   \n",
       "4            166.7            113           28.34            148.3   \n",
       "\n",
       "   totalevecalls  totalevecharge  totalnightminutes  totalnightcalls  \\\n",
       "0             99           16.78              244.7               91   \n",
       "1            103           16.62              254.4              103   \n",
       "2            110           10.30              162.6              104   \n",
       "3             88            5.26              196.9               89   \n",
       "4            122           12.61              186.9              121   \n",
       "\n",
       "   totalnightcharge  totalintlminutes  totalintlcalls  totalintlcharge  \\\n",
       "0             11.01              10.0               3             2.70   \n",
       "1             11.45              13.7               3             3.70   \n",
       "2              7.32              12.2               5             3.29   \n",
       "3              8.86               6.6               7             1.78   \n",
       "4              8.41              10.1               3             2.73   \n",
       "\n",
       "   numbercustomerservicecalls  \n",
       "0                           1  \n",
       "1                           1  \n",
       "2                           0  \n",
       "3                           2  \n",
       "4                           3  "
      ]
     },
     "execution_count": 5,
     "metadata": {},
     "output_type": "execute_result"
    }
   ],
   "source": [
    "print(df.shape)\n",
    "df.head()"
   ]
  },
  {
   "cell_type": "code",
   "execution_count": 6,
   "metadata": {},
   "outputs": [
    {
     "name": "stdout",
     "output_type": "stream",
     "text": [
      "<class 'pandas.core.frame.DataFrame'>\n",
      "RangeIndex: 5000 entries, 0 to 4999\n",
      "Data columns (total 18 columns):\n",
      " #   Column                      Non-Null Count  Dtype  \n",
      "---  ------                      --------------  -----  \n",
      " 0   churn                       5000 non-null   object \n",
      " 1   accountlength               5000 non-null   int64  \n",
      " 2   internationalplan           5000 non-null   object \n",
      " 3   voicemailplan               5000 non-null   object \n",
      " 4   numbervmailmessages         5000 non-null   int64  \n",
      " 5   totaldayminutes             5000 non-null   float64\n",
      " 6   totaldaycalls               5000 non-null   int64  \n",
      " 7   totaldaycharge              5000 non-null   float64\n",
      " 8   totaleveminutes             5000 non-null   float64\n",
      " 9   totalevecalls               5000 non-null   int64  \n",
      " 10  totalevecharge              5000 non-null   float64\n",
      " 11  totalnightminutes           5000 non-null   float64\n",
      " 12  totalnightcalls             5000 non-null   int64  \n",
      " 13  totalnightcharge            5000 non-null   float64\n",
      " 14  totalintlminutes            5000 non-null   float64\n",
      " 15  totalintlcalls              5000 non-null   int64  \n",
      " 16  totalintlcharge             5000 non-null   float64\n",
      " 17  numbercustomerservicecalls  5000 non-null   int64  \n",
      "dtypes: float64(8), int64(7), object(3)\n",
      "memory usage: 703.2+ KB\n"
     ]
    }
   ],
   "source": [
    "df.info()"
   ]
  },
  {
   "cell_type": "code",
   "execution_count": 7,
   "metadata": {},
   "outputs": [
    {
     "name": "stdout",
     "output_type": "stream",
     "text": [
      "(5000, 33)\n"
     ]
    }
   ],
   "source": [
    "# normalize numerical data using MinMaxScaler\n",
    "minmaxscaler = MinMaxScaler()\n",
    "df['a_length_scaled'] = minmaxscaler.fit_transform(df['accountlength'].values.reshape(-1,1)) # (-1,1) (keep samples the same, infer features)\n",
    "df['num_voicemails_scaled'] = minmaxscaler.fit_transform(df['numbervmailmessages'].values.reshape(-1,1))\n",
    "df['tot_day_mins_scaled'] = minmaxscaler.fit_transform(df['totaldayminutes'].values.reshape(-1,1))\n",
    "df['tot_day_calls_scaled'] = minmaxscaler.fit_transform(df['totaldaycalls'].values.reshape(-1,1))\n",
    "df['tot_day_charge_scaled'] = minmaxscaler.fit_transform(df['totaldaycharge'].values.reshape(-1,1))\n",
    "df['tot_eve_mins_scaled'] = minmaxscaler.fit_transform(df['totaleveminutes'].values.reshape(-1,1))\n",
    "df['tot_eve_calls_scaled'] = minmaxscaler.fit_transform(df['totalevecalls'].values.reshape(-1,1))\n",
    "df['tot_eve_charge_scaled'] = minmaxscaler.fit_transform(df['totalevecharge'].values.reshape(-1,1))\n",
    "df['tot_night_mins_scaled'] = minmaxscaler.fit_transform(df['totalnightminutes'].values.reshape(-1,1))\n",
    "df['tot_night_calls_scaled'] = minmaxscaler.fit_transform(df['totalnightcalls'].values.reshape(-1,1))\n",
    "df['tot_night_charge_scaled'] = minmaxscaler.fit_transform(df['totalnightcharge'].values.reshape(-1,1))\n",
    "df['tot_intl_mins_scaled'] = minmaxscaler.fit_transform(df['totalintlminutes'].values.reshape(-1,1))\n",
    "df['tot_intl_calls_scaled'] = minmaxscaler.fit_transform(df['totalintlcalls'].values.reshape(-1,1))\n",
    "df['tot_intl_charge_scaled'] = minmaxscaler.fit_transform(df['totalintlcharge'].values.reshape(-1,1))\n",
    "df['num_custser_calls_scaled'] = minmaxscaler.fit_transform(df['numbercustomerservicecalls'].values.reshape(-1,1))\n",
    "print(df.shape)"
   ]
  },
  {
   "cell_type": "code",
   "execution_count": 8,
   "metadata": {},
   "outputs": [
    {
     "name": "stdout",
     "output_type": "stream",
     "text": [
      "(5000, 18)\n"
     ]
    },
    {
     "data": {
      "text/html": [
       "<div>\n",
       "<style scoped>\n",
       "    .dataframe tbody tr th:only-of-type {\n",
       "        vertical-align: middle;\n",
       "    }\n",
       "\n",
       "    .dataframe tbody tr th {\n",
       "        vertical-align: top;\n",
       "    }\n",
       "\n",
       "    .dataframe thead th {\n",
       "        text-align: right;\n",
       "    }\n",
       "</style>\n",
       "<table border=\"1\" class=\"dataframe\">\n",
       "  <thead>\n",
       "    <tr style=\"text-align: right;\">\n",
       "      <th></th>\n",
       "      <th>churn</th>\n",
       "      <th>internationalplan</th>\n",
       "      <th>voicemailplan</th>\n",
       "      <th>a_length_scaled</th>\n",
       "      <th>num_voicemails_scaled</th>\n",
       "      <th>tot_day_mins_scaled</th>\n",
       "      <th>tot_day_calls_scaled</th>\n",
       "      <th>tot_day_charge_scaled</th>\n",
       "      <th>tot_eve_mins_scaled</th>\n",
       "      <th>tot_eve_calls_scaled</th>\n",
       "      <th>tot_eve_charge_scaled</th>\n",
       "      <th>tot_night_mins_scaled</th>\n",
       "      <th>tot_night_calls_scaled</th>\n",
       "      <th>tot_night_charge_scaled</th>\n",
       "      <th>tot_intl_mins_scaled</th>\n",
       "      <th>tot_intl_calls_scaled</th>\n",
       "      <th>tot_intl_charge_scaled</th>\n",
       "      <th>num_custser_calls_scaled</th>\n",
       "    </tr>\n",
       "  </thead>\n",
       "  <tbody>\n",
       "    <tr>\n",
       "      <th>0</th>\n",
       "      <td>No</td>\n",
       "      <td>no</td>\n",
       "      <td>yes</td>\n",
       "      <td>0.524793</td>\n",
       "      <td>0.480769</td>\n",
       "      <td>0.754196</td>\n",
       "      <td>0.666667</td>\n",
       "      <td>0.754183</td>\n",
       "      <td>0.542755</td>\n",
       "      <td>0.582353</td>\n",
       "      <td>0.542866</td>\n",
       "      <td>0.619494</td>\n",
       "      <td>0.520000</td>\n",
       "      <td>0.619584</td>\n",
       "      <td>0.500</td>\n",
       "      <td>0.15</td>\n",
       "      <td>0.500000</td>\n",
       "      <td>0.111111</td>\n",
       "    </tr>\n",
       "    <tr>\n",
       "      <th>1</th>\n",
       "      <td>No</td>\n",
       "      <td>no</td>\n",
       "      <td>yes</td>\n",
       "      <td>0.438017</td>\n",
       "      <td>0.500000</td>\n",
       "      <td>0.459744</td>\n",
       "      <td>0.745455</td>\n",
       "      <td>0.459672</td>\n",
       "      <td>0.537531</td>\n",
       "      <td>0.605882</td>\n",
       "      <td>0.537690</td>\n",
       "      <td>0.644051</td>\n",
       "      <td>0.588571</td>\n",
       "      <td>0.644344</td>\n",
       "      <td>0.685</td>\n",
       "      <td>0.15</td>\n",
       "      <td>0.685185</td>\n",
       "      <td>0.111111</td>\n",
       "    </tr>\n",
       "    <tr>\n",
       "      <th>2</th>\n",
       "      <td>No</td>\n",
       "      <td>no</td>\n",
       "      <td>no</td>\n",
       "      <td>0.561983</td>\n",
       "      <td>0.000000</td>\n",
       "      <td>0.692461</td>\n",
       "      <td>0.690909</td>\n",
       "      <td>0.692436</td>\n",
       "      <td>0.333242</td>\n",
       "      <td>0.647059</td>\n",
       "      <td>0.333225</td>\n",
       "      <td>0.411646</td>\n",
       "      <td>0.594286</td>\n",
       "      <td>0.411930</td>\n",
       "      <td>0.610</td>\n",
       "      <td>0.25</td>\n",
       "      <td>0.609259</td>\n",
       "      <td>0.000000</td>\n",
       "    </tr>\n",
       "    <tr>\n",
       "      <th>3</th>\n",
       "      <td>No</td>\n",
       "      <td>yes</td>\n",
       "      <td>no</td>\n",
       "      <td>0.342975</td>\n",
       "      <td>0.000000</td>\n",
       "      <td>0.851778</td>\n",
       "      <td>0.430303</td>\n",
       "      <td>0.851740</td>\n",
       "      <td>0.170195</td>\n",
       "      <td>0.517647</td>\n",
       "      <td>0.170171</td>\n",
       "      <td>0.498481</td>\n",
       "      <td>0.508571</td>\n",
       "      <td>0.498593</td>\n",
       "      <td>0.330</td>\n",
       "      <td>0.35</td>\n",
       "      <td>0.329630</td>\n",
       "      <td>0.222222</td>\n",
       "    </tr>\n",
       "    <tr>\n",
       "      <th>4</th>\n",
       "      <td>No</td>\n",
       "      <td>yes</td>\n",
       "      <td>no</td>\n",
       "      <td>0.305785</td>\n",
       "      <td>0.000000</td>\n",
       "      <td>0.474253</td>\n",
       "      <td>0.684848</td>\n",
       "      <td>0.474230</td>\n",
       "      <td>0.407754</td>\n",
       "      <td>0.717647</td>\n",
       "      <td>0.407959</td>\n",
       "      <td>0.473165</td>\n",
       "      <td>0.691429</td>\n",
       "      <td>0.473270</td>\n",
       "      <td>0.505</td>\n",
       "      <td>0.15</td>\n",
       "      <td>0.505556</td>\n",
       "      <td>0.333333</td>\n",
       "    </tr>\n",
       "  </tbody>\n",
       "</table>\n",
       "</div>"
      ],
      "text/plain": [
       "  churn internationalplan voicemailplan  a_length_scaled  \\\n",
       "0    No                no           yes         0.524793   \n",
       "1    No                no           yes         0.438017   \n",
       "2    No                no            no         0.561983   \n",
       "3    No               yes            no         0.342975   \n",
       "4    No               yes            no         0.305785   \n",
       "\n",
       "   num_voicemails_scaled  tot_day_mins_scaled  tot_day_calls_scaled  \\\n",
       "0               0.480769             0.754196              0.666667   \n",
       "1               0.500000             0.459744              0.745455   \n",
       "2               0.000000             0.692461              0.690909   \n",
       "3               0.000000             0.851778              0.430303   \n",
       "4               0.000000             0.474253              0.684848   \n",
       "\n",
       "   tot_day_charge_scaled  tot_eve_mins_scaled  tot_eve_calls_scaled  \\\n",
       "0               0.754183             0.542755              0.582353   \n",
       "1               0.459672             0.537531              0.605882   \n",
       "2               0.692436             0.333242              0.647059   \n",
       "3               0.851740             0.170195              0.517647   \n",
       "4               0.474230             0.407754              0.717647   \n",
       "\n",
       "   tot_eve_charge_scaled  tot_night_mins_scaled  tot_night_calls_scaled  \\\n",
       "0               0.542866               0.619494                0.520000   \n",
       "1               0.537690               0.644051                0.588571   \n",
       "2               0.333225               0.411646                0.594286   \n",
       "3               0.170171               0.498481                0.508571   \n",
       "4               0.407959               0.473165                0.691429   \n",
       "\n",
       "   tot_night_charge_scaled  tot_intl_mins_scaled  tot_intl_calls_scaled  \\\n",
       "0                 0.619584                 0.500                   0.15   \n",
       "1                 0.644344                 0.685                   0.15   \n",
       "2                 0.411930                 0.610                   0.25   \n",
       "3                 0.498593                 0.330                   0.35   \n",
       "4                 0.473270                 0.505                   0.15   \n",
       "\n",
       "   tot_intl_charge_scaled  num_custser_calls_scaled  \n",
       "0                0.500000                  0.111111  \n",
       "1                0.685185                  0.111111  \n",
       "2                0.609259                  0.000000  \n",
       "3                0.329630                  0.222222  \n",
       "4                0.505556                  0.333333  "
      ]
     },
     "execution_count": 8,
     "metadata": {},
     "output_type": "execute_result"
    }
   ],
   "source": [
    "# Drop original numerical features\n",
    "df.drop(['accountlength', 'numbervmailmessages',\n",
    "        'totaldayminutes', 'totaldaycalls', \n",
    "        'totaldaycharge', 'totaleveminutes', \n",
    "        'totalevecalls', 'totalevecharge', \n",
    "        'totalnightminutes', 'totalnightcalls', \n",
    "        'totalnightcharge', 'totalintlminutes', \n",
    "        'totalintlcalls', 'totalintlcharge', \n",
    "        'numbercustomerservicecalls'], axis=1, inplace=True)\n",
    "print(df.shape)\n",
    "df.head()"
   ]
  },
  {
   "cell_type": "code",
   "execution_count": 9,
   "metadata": {},
   "outputs": [
    {
     "data": {
      "text/plain": [
       "(5000, 4)"
      ]
     },
     "execution_count": 9,
     "metadata": {},
     "output_type": "execute_result"
    }
   ],
   "source": [
    "# convert categorical features into numerical values using dummy values\n",
    "cat_var = pd.get_dummies(df[['internationalplan', 'voicemailplan']])\n",
    "cat_var.shape"
   ]
  },
  {
   "cell_type": "code",
   "execution_count": 10,
   "metadata": {},
   "outputs": [
    {
     "data": {
      "text/plain": [
       "Index(['churn', 'internationalplan', 'voicemailplan', 'a_length_scaled',\n",
       "       'num_voicemails_scaled', 'tot_day_mins_scaled', 'tot_day_calls_scaled',\n",
       "       'tot_day_charge_scaled', 'tot_eve_mins_scaled', 'tot_eve_calls_scaled',\n",
       "       'tot_eve_charge_scaled', 'tot_night_mins_scaled',\n",
       "       'tot_night_calls_scaled', 'tot_night_charge_scaled',\n",
       "       'tot_intl_mins_scaled', 'tot_intl_calls_scaled',\n",
       "       'tot_intl_charge_scaled', 'num_custser_calls_scaled'],\n",
       "      dtype='object')"
      ]
     },
     "execution_count": 10,
     "metadata": {},
     "output_type": "execute_result"
    }
   ],
   "source": [
    "df.columns"
   ]
  },
  {
   "cell_type": "code",
   "execution_count": 11,
   "metadata": {},
   "outputs": [
    {
     "data": {
      "text/plain": [
       "(5000, 15)"
      ]
     },
     "execution_count": 11,
     "metadata": {},
     "output_type": "execute_result"
    }
   ],
   "source": [
    "# seperate numerical data\n",
    "num_var = df[['a_length_scaled', 'num_voicemails_scaled', \n",
    "             'tot_day_mins_scaled', 'tot_day_calls_scaled', \n",
    "             'tot_day_charge_scaled', 'tot_eve_mins_scaled', \n",
    "             'tot_eve_calls_scaled', 'tot_eve_charge_scaled', \n",
    "             'tot_night_mins_scaled', 'tot_night_calls_scaled', \n",
    "             'tot_night_charge_scaled', 'tot_intl_mins_scaled', \n",
    "             'tot_intl_calls_scaled', 'tot_intl_charge_scaled', \n",
    "             'num_custser_calls_scaled']]\n",
    "num_var.shape"
   ]
  },
  {
   "cell_type": "markdown",
   "metadata": {},
   "source": [
    "# 6"
   ]
  },
  {
   "cell_type": "code",
   "execution_count": 12,
   "metadata": {},
   "outputs": [
    {
     "name": "stdout",
     "output_type": "stream",
     "text": [
      "(5000, 19)\n",
      "(5000,)\n"
     ]
    }
   ],
   "source": [
    "# preparing the X variable\n",
    "X = pd.concat([cat_var, num_var], axis=1)\n",
    "print(X.shape)\n",
    "\n",
    "# preparing the Y variable\n",
    "y = df['churn']\n",
    "print(y.shape)"
   ]
  },
  {
   "cell_type": "code",
   "execution_count": 13,
   "metadata": {},
   "outputs": [],
   "source": [
    "# split data into train and test sets\n",
    "X_train, X_test, y_train, y_test = train_test_split(X, y, test_size=.30, random_state=123)"
   ]
  },
  {
   "cell_type": "code",
   "execution_count": 14,
   "metadata": {},
   "outputs": [
    {
     "name": "stdout",
     "output_type": "stream",
     "text": [
      "Before OverSampling count of yes: 490\n",
      "Before OverSampling count of no: 3010\n"
     ]
    }
   ],
   "source": [
    "# shape before oversampling\n",
    "print('Before OverSampling count of yes: {}'.format(sum(y_train=='Yes')))\n",
    "print('Before OverSampling count of no: {}'.format(sum(y_train=='No')))"
   ]
  },
  {
   "cell_type": "markdown",
   "metadata": {},
   "source": [
    "#### Benchmark Logistic Regression Model"
   ]
  },
  {
   "cell_type": "code",
   "execution_count": 15,
   "metadata": {},
   "outputs": [
    {
     "data": {
      "text/plain": [
       "LogisticRegression()"
      ]
     },
     "execution_count": 15,
     "metadata": {},
     "output_type": "execute_result"
    }
   ],
   "source": [
    "# Logistic Regression model\n",
    "lr_model = LogisticRegression()\n",
    "lr_model.fit(X_train, y_train)"
   ]
  },
  {
   "cell_type": "code",
   "execution_count": 16,
   "metadata": {},
   "outputs": [
    {
     "name": "stdout",
     "output_type": "stream",
     "text": [
      "Accuracy of Logistic regression model prediction on test set:0.86\n"
     ]
    }
   ],
   "source": [
    "# predictions on test set\n",
    "test_pred = lr_model.predict(X_test)\n",
    "\n",
    "# accuracy values\n",
    "print('Accuracy of Logistic regression model prediction on test set:'\n",
    "       '{:.2f}'.format(lr_model.score(X_test, y_test)))"
   ]
  },
  {
   "cell_type": "code",
   "execution_count": 17,
   "metadata": {},
   "outputs": [
    {
     "name": "stdout",
     "output_type": "stream",
     "text": [
      "[[1259   24]\n",
      " [ 179   38]]\n",
      "              precision    recall  f1-score   support\n",
      "\n",
      "          No       0.88      0.98      0.93      1283\n",
      "         Yes       0.61      0.18      0.27       217\n",
      "\n",
      "    accuracy                           0.86      1500\n",
      "   macro avg       0.74      0.58      0.60      1500\n",
      "weighted avg       0.84      0.86      0.83      1500\n",
      "\n"
     ]
    }
   ],
   "source": [
    "# confusion matrix\n",
    "confusion_matrix = confusion_matrix(y_test, test_pred)\n",
    "print(confusion_matrix)\n",
    "\n",
    "# classification report\n",
    "print(classification_report(y_test, test_pred))"
   ]
  },
  {
   "cell_type": "markdown",
   "metadata": {},
   "source": [
    "#### Benchmark model analysis\n",
    "Model is biased toward the majority class, 'No', with very low recall value for the 'Yes' cases."
   ]
  },
  {
   "cell_type": "markdown",
   "metadata": {},
   "source": [
    "#### Random undersampling and Classification"
   ]
  },
  {
   "cell_type": "code",
   "execution_count": 18,
   "metadata": {},
   "outputs": [],
   "source": [
    "# separate minority class and majority class to make a balanced dataset.\n",
    "# concatenate training data sets into one dataset for ease of operation\n",
    "trainData = pd.concat([X_train, y_train], axis=1)"
   ]
  },
  {
   "cell_type": "code",
   "execution_count": 19,
   "metadata": {},
   "outputs": [
    {
     "data": {
      "text/plain": [
       "Int64Index([4162, 4640,  509,  354, 1405, 1493, 1263, 2493, 3822, 1334,\n",
       "            ...\n",
       "            4939, 2624, 4202, 1704,  588, 3702, 4309, 2428, 1593, 1346],\n",
       "           dtype='int64', length=490)"
      ]
     },
     "execution_count": 19,
     "metadata": {},
     "output_type": "execute_result"
    }
   ],
   "source": [
    "# identity the indexes where the dataset has 'Yes' using .index() function.\n",
    "ind = trainData[trainData['churn']=='Yes'].index\n",
    "ind"
   ]
  },
  {
   "cell_type": "code",
   "execution_count": 20,
   "metadata": {},
   "outputs": [
    {
     "name": "stdout",
     "output_type": "stream",
     "text": [
      "(490, 20)\n"
     ]
    }
   ],
   "source": [
    "minData = trainData.loc[ind]\n",
    "print(minData.shape)"
   ]
  },
  {
   "cell_type": "code",
   "execution_count": 21,
   "metadata": {},
   "outputs": [
    {
     "data": {
      "text/plain": [
       "Int64Index([4036, 2883, 2430,  449, 4179, 4763,  749, 2525,  275, 1090,\n",
       "            ...\n",
       "            1363, 3481,  111,  942, 4169, 4143,   96, 4060, 3454, 3582],\n",
       "           dtype='int64', length=3010)"
      ]
     },
     "execution_count": 21,
     "metadata": {},
     "output_type": "execute_result"
    }
   ],
   "source": [
    "# indexes of the sample dataset where churn is 'No'\n",
    "ind1 = trainData[trainData['churn']=='No'].index\n",
    "ind1"
   ]
  },
  {
   "cell_type": "code",
   "execution_count": 22,
   "metadata": {},
   "outputs": [
    {
     "name": "stdout",
     "output_type": "stream",
     "text": [
      "(3010, 20)\n"
     ]
    },
    {
     "data": {
      "text/html": [
       "<div>\n",
       "<style scoped>\n",
       "    .dataframe tbody tr th:only-of-type {\n",
       "        vertical-align: middle;\n",
       "    }\n",
       "\n",
       "    .dataframe tbody tr th {\n",
       "        vertical-align: top;\n",
       "    }\n",
       "\n",
       "    .dataframe thead th {\n",
       "        text-align: right;\n",
       "    }\n",
       "</style>\n",
       "<table border=\"1\" class=\"dataframe\">\n",
       "  <thead>\n",
       "    <tr style=\"text-align: right;\">\n",
       "      <th></th>\n",
       "      <th>internationalplan_no</th>\n",
       "      <th>internationalplan_yes</th>\n",
       "      <th>voicemailplan_no</th>\n",
       "      <th>voicemailplan_yes</th>\n",
       "      <th>a_length_scaled</th>\n",
       "      <th>num_voicemails_scaled</th>\n",
       "      <th>tot_day_mins_scaled</th>\n",
       "      <th>tot_day_calls_scaled</th>\n",
       "      <th>tot_day_charge_scaled</th>\n",
       "      <th>tot_eve_mins_scaled</th>\n",
       "      <th>tot_eve_calls_scaled</th>\n",
       "      <th>tot_eve_charge_scaled</th>\n",
       "      <th>tot_night_mins_scaled</th>\n",
       "      <th>tot_night_calls_scaled</th>\n",
       "      <th>tot_night_charge_scaled</th>\n",
       "      <th>tot_intl_mins_scaled</th>\n",
       "      <th>tot_intl_calls_scaled</th>\n",
       "      <th>tot_intl_charge_scaled</th>\n",
       "      <th>num_custser_calls_scaled</th>\n",
       "      <th>churn</th>\n",
       "    </tr>\n",
       "  </thead>\n",
       "  <tbody>\n",
       "    <tr>\n",
       "      <th>4036</th>\n",
       "      <td>1</td>\n",
       "      <td>0</td>\n",
       "      <td>0</td>\n",
       "      <td>1</td>\n",
       "      <td>0.256198</td>\n",
       "      <td>0.500000</td>\n",
       "      <td>0.609388</td>\n",
       "      <td>0.484848</td>\n",
       "      <td>0.609270</td>\n",
       "      <td>0.695628</td>\n",
       "      <td>0.894118</td>\n",
       "      <td>0.695891</td>\n",
       "      <td>0.395949</td>\n",
       "      <td>0.622857</td>\n",
       "      <td>0.396173</td>\n",
       "      <td>0.515</td>\n",
       "      <td>0.10</td>\n",
       "      <td>0.514815</td>\n",
       "      <td>0.222222</td>\n",
       "      <td>No</td>\n",
       "    </tr>\n",
       "    <tr>\n",
       "      <th>2883</th>\n",
       "      <td>1</td>\n",
       "      <td>0</td>\n",
       "      <td>1</td>\n",
       "      <td>0</td>\n",
       "      <td>0.504132</td>\n",
       "      <td>0.000000</td>\n",
       "      <td>0.595733</td>\n",
       "      <td>0.296970</td>\n",
       "      <td>0.595716</td>\n",
       "      <td>0.652736</td>\n",
       "      <td>0.688235</td>\n",
       "      <td>0.652863</td>\n",
       "      <td>0.605570</td>\n",
       "      <td>0.560000</td>\n",
       "      <td>0.605515</td>\n",
       "      <td>0.490</td>\n",
       "      <td>0.55</td>\n",
       "      <td>0.490741</td>\n",
       "      <td>0.111111</td>\n",
       "      <td>No</td>\n",
       "    </tr>\n",
       "    <tr>\n",
       "      <th>2430</th>\n",
       "      <td>1</td>\n",
       "      <td>0</td>\n",
       "      <td>0</td>\n",
       "      <td>1</td>\n",
       "      <td>0.491736</td>\n",
       "      <td>0.769231</td>\n",
       "      <td>0.364438</td>\n",
       "      <td>0.600000</td>\n",
       "      <td>0.364458</td>\n",
       "      <td>0.681056</td>\n",
       "      <td>0.458824</td>\n",
       "      <td>0.681009</td>\n",
       "      <td>0.505570</td>\n",
       "      <td>0.691429</td>\n",
       "      <td>0.505909</td>\n",
       "      <td>0.780</td>\n",
       "      <td>0.15</td>\n",
       "      <td>0.779630</td>\n",
       "      <td>0.000000</td>\n",
       "      <td>No</td>\n",
       "    </tr>\n",
       "    <tr>\n",
       "      <th>449</th>\n",
       "      <td>1</td>\n",
       "      <td>0</td>\n",
       "      <td>0</td>\n",
       "      <td>1</td>\n",
       "      <td>0.322314</td>\n",
       "      <td>0.403846</td>\n",
       "      <td>0.751920</td>\n",
       "      <td>0.478788</td>\n",
       "      <td>0.751841</td>\n",
       "      <td>0.557602</td>\n",
       "      <td>0.694118</td>\n",
       "      <td>0.557748</td>\n",
       "      <td>0.438987</td>\n",
       "      <td>0.525714</td>\n",
       "      <td>0.438942</td>\n",
       "      <td>0.315</td>\n",
       "      <td>0.15</td>\n",
       "      <td>0.314815</td>\n",
       "      <td>0.444444</td>\n",
       "      <td>No</td>\n",
       "    </tr>\n",
       "    <tr>\n",
       "      <th>4179</th>\n",
       "      <td>1</td>\n",
       "      <td>0</td>\n",
       "      <td>1</td>\n",
       "      <td>0</td>\n",
       "      <td>0.578512</td>\n",
       "      <td>0.000000</td>\n",
       "      <td>0.613940</td>\n",
       "      <td>0.478788</td>\n",
       "      <td>0.613956</td>\n",
       "      <td>0.309871</td>\n",
       "      <td>0.500000</td>\n",
       "      <td>0.309932</td>\n",
       "      <td>0.561519</td>\n",
       "      <td>0.622857</td>\n",
       "      <td>0.561621</td>\n",
       "      <td>0.280</td>\n",
       "      <td>0.20</td>\n",
       "      <td>0.279630</td>\n",
       "      <td>0.222222</td>\n",
       "      <td>No</td>\n",
       "    </tr>\n",
       "  </tbody>\n",
       "</table>\n",
       "</div>"
      ],
      "text/plain": [
       "      internationalplan_no  internationalplan_yes  voicemailplan_no  \\\n",
       "4036                     1                      0                 0   \n",
       "2883                     1                      0                 1   \n",
       "2430                     1                      0                 0   \n",
       "449                      1                      0                 0   \n",
       "4179                     1                      0                 1   \n",
       "\n",
       "      voicemailplan_yes  a_length_scaled  num_voicemails_scaled  \\\n",
       "4036                  1         0.256198               0.500000   \n",
       "2883                  0         0.504132               0.000000   \n",
       "2430                  1         0.491736               0.769231   \n",
       "449                   1         0.322314               0.403846   \n",
       "4179                  0         0.578512               0.000000   \n",
       "\n",
       "      tot_day_mins_scaled  tot_day_calls_scaled  tot_day_charge_scaled  \\\n",
       "4036             0.609388              0.484848               0.609270   \n",
       "2883             0.595733              0.296970               0.595716   \n",
       "2430             0.364438              0.600000               0.364458   \n",
       "449              0.751920              0.478788               0.751841   \n",
       "4179             0.613940              0.478788               0.613956   \n",
       "\n",
       "      tot_eve_mins_scaled  tot_eve_calls_scaled  tot_eve_charge_scaled  \\\n",
       "4036             0.695628              0.894118               0.695891   \n",
       "2883             0.652736              0.688235               0.652863   \n",
       "2430             0.681056              0.458824               0.681009   \n",
       "449              0.557602              0.694118               0.557748   \n",
       "4179             0.309871              0.500000               0.309932   \n",
       "\n",
       "      tot_night_mins_scaled  tot_night_calls_scaled  tot_night_charge_scaled  \\\n",
       "4036               0.395949                0.622857                 0.396173   \n",
       "2883               0.605570                0.560000                 0.605515   \n",
       "2430               0.505570                0.691429                 0.505909   \n",
       "449                0.438987                0.525714                 0.438942   \n",
       "4179               0.561519                0.622857                 0.561621   \n",
       "\n",
       "      tot_intl_mins_scaled  tot_intl_calls_scaled  tot_intl_charge_scaled  \\\n",
       "4036                 0.515                   0.10                0.514815   \n",
       "2883                 0.490                   0.55                0.490741   \n",
       "2430                 0.780                   0.15                0.779630   \n",
       "449                  0.315                   0.15                0.314815   \n",
       "4179                 0.280                   0.20                0.279630   \n",
       "\n",
       "      num_custser_calls_scaled churn  \n",
       "4036                  0.222222    No  \n",
       "2883                  0.111111    No  \n",
       "2430                  0.000000    No  \n",
       "449                   0.444444    No  \n",
       "4179                  0.222222    No  "
      ]
     },
     "execution_count": 22,
     "metadata": {},
     "output_type": "execute_result"
    }
   ],
   "source": [
    "majData = trainData.loc[ind1]\n",
    "print(majData.shape)\n",
    "majData.head()"
   ]
  },
  {
   "cell_type": "code",
   "execution_count": 23,
   "metadata": {},
   "outputs": [],
   "source": [
    "# Take a random sample equal to the length of the minority class from the majority class to make the dataset balanced.\n",
    "majSample = majData.sample(n=len(ind), random_state=123)"
   ]
  },
  {
   "cell_type": "code",
   "execution_count": 24,
   "metadata": {},
   "outputs": [
    {
     "name": "stdout",
     "output_type": "stream",
     "text": [
      "(490, 20)\n"
     ]
    },
    {
     "data": {
      "text/html": [
       "<div>\n",
       "<style scoped>\n",
       "    .dataframe tbody tr th:only-of-type {\n",
       "        vertical-align: middle;\n",
       "    }\n",
       "\n",
       "    .dataframe tbody tr th {\n",
       "        vertical-align: top;\n",
       "    }\n",
       "\n",
       "    .dataframe thead th {\n",
       "        text-align: right;\n",
       "    }\n",
       "</style>\n",
       "<table border=\"1\" class=\"dataframe\">\n",
       "  <thead>\n",
       "    <tr style=\"text-align: right;\">\n",
       "      <th></th>\n",
       "      <th>internationalplan_no</th>\n",
       "      <th>internationalplan_yes</th>\n",
       "      <th>voicemailplan_no</th>\n",
       "      <th>voicemailplan_yes</th>\n",
       "      <th>a_length_scaled</th>\n",
       "      <th>num_voicemails_scaled</th>\n",
       "      <th>tot_day_mins_scaled</th>\n",
       "      <th>tot_day_calls_scaled</th>\n",
       "      <th>tot_day_charge_scaled</th>\n",
       "      <th>tot_eve_mins_scaled</th>\n",
       "      <th>tot_eve_calls_scaled</th>\n",
       "      <th>tot_eve_charge_scaled</th>\n",
       "      <th>tot_night_mins_scaled</th>\n",
       "      <th>tot_night_calls_scaled</th>\n",
       "      <th>tot_night_charge_scaled</th>\n",
       "      <th>tot_intl_mins_scaled</th>\n",
       "      <th>tot_intl_calls_scaled</th>\n",
       "      <th>tot_intl_charge_scaled</th>\n",
       "      <th>num_custser_calls_scaled</th>\n",
       "      <th>churn</th>\n",
       "    </tr>\n",
       "  </thead>\n",
       "  <tbody>\n",
       "    <tr>\n",
       "      <th>1807</th>\n",
       "      <td>1</td>\n",
       "      <td>0</td>\n",
       "      <td>1</td>\n",
       "      <td>0</td>\n",
       "      <td>0.450413</td>\n",
       "      <td>0.000000</td>\n",
       "      <td>0.557895</td>\n",
       "      <td>0.624242</td>\n",
       "      <td>0.557898</td>\n",
       "      <td>0.549079</td>\n",
       "      <td>0.723529</td>\n",
       "      <td>0.549013</td>\n",
       "      <td>0.344051</td>\n",
       "      <td>0.405714</td>\n",
       "      <td>0.344401</td>\n",
       "      <td>0.645</td>\n",
       "      <td>0.05</td>\n",
       "      <td>0.644444</td>\n",
       "      <td>0.333333</td>\n",
       "      <td>No</td>\n",
       "    </tr>\n",
       "    <tr>\n",
       "      <th>4578</th>\n",
       "      <td>1</td>\n",
       "      <td>0</td>\n",
       "      <td>1</td>\n",
       "      <td>0</td>\n",
       "      <td>0.475207</td>\n",
       "      <td>0.000000</td>\n",
       "      <td>0.244097</td>\n",
       "      <td>0.533333</td>\n",
       "      <td>0.244143</td>\n",
       "      <td>0.318394</td>\n",
       "      <td>0.658824</td>\n",
       "      <td>0.318344</td>\n",
       "      <td>0.495949</td>\n",
       "      <td>0.520000</td>\n",
       "      <td>0.496342</td>\n",
       "      <td>0.550</td>\n",
       "      <td>0.10</td>\n",
       "      <td>0.550000</td>\n",
       "      <td>0.111111</td>\n",
       "      <td>No</td>\n",
       "    </tr>\n",
       "    <tr>\n",
       "      <th>355</th>\n",
       "      <td>1</td>\n",
       "      <td>0</td>\n",
       "      <td>1</td>\n",
       "      <td>0</td>\n",
       "      <td>0.123967</td>\n",
       "      <td>0.000000</td>\n",
       "      <td>0.472546</td>\n",
       "      <td>0.636364</td>\n",
       "      <td>0.472557</td>\n",
       "      <td>0.218037</td>\n",
       "      <td>0.547059</td>\n",
       "      <td>0.218052</td>\n",
       "      <td>0.541013</td>\n",
       "      <td>0.560000</td>\n",
       "      <td>0.541362</td>\n",
       "      <td>0.635</td>\n",
       "      <td>0.10</td>\n",
       "      <td>0.635185</td>\n",
       "      <td>0.111111</td>\n",
       "      <td>No</td>\n",
       "    </tr>\n",
       "    <tr>\n",
       "      <th>23</th>\n",
       "      <td>1</td>\n",
       "      <td>0</td>\n",
       "      <td>1</td>\n",
       "      <td>0</td>\n",
       "      <td>0.454545</td>\n",
       "      <td>0.000000</td>\n",
       "      <td>0.314083</td>\n",
       "      <td>0.624242</td>\n",
       "      <td>0.314090</td>\n",
       "      <td>0.377509</td>\n",
       "      <td>0.600000</td>\n",
       "      <td>0.377548</td>\n",
       "      <td>0.480000</td>\n",
       "      <td>0.600000</td>\n",
       "      <td>0.480023</td>\n",
       "      <td>0.385</td>\n",
       "      <td>0.30</td>\n",
       "      <td>0.385185</td>\n",
       "      <td>0.222222</td>\n",
       "      <td>No</td>\n",
       "    </tr>\n",
       "    <tr>\n",
       "      <th>1541</th>\n",
       "      <td>1</td>\n",
       "      <td>0</td>\n",
       "      <td>0</td>\n",
       "      <td>1</td>\n",
       "      <td>0.194215</td>\n",
       "      <td>0.692308</td>\n",
       "      <td>0.656899</td>\n",
       "      <td>0.557576</td>\n",
       "      <td>0.656794</td>\n",
       "      <td>0.460819</td>\n",
       "      <td>0.711765</td>\n",
       "      <td>0.461016</td>\n",
       "      <td>0.683544</td>\n",
       "      <td>0.497143</td>\n",
       "      <td>0.683737</td>\n",
       "      <td>0.380</td>\n",
       "      <td>0.20</td>\n",
       "      <td>0.379630</td>\n",
       "      <td>0.333333</td>\n",
       "      <td>No</td>\n",
       "    </tr>\n",
       "  </tbody>\n",
       "</table>\n",
       "</div>"
      ],
      "text/plain": [
       "      internationalplan_no  internationalplan_yes  voicemailplan_no  \\\n",
       "1807                     1                      0                 1   \n",
       "4578                     1                      0                 1   \n",
       "355                      1                      0                 1   \n",
       "23                       1                      0                 1   \n",
       "1541                     1                      0                 0   \n",
       "\n",
       "      voicemailplan_yes  a_length_scaled  num_voicemails_scaled  \\\n",
       "1807                  0         0.450413               0.000000   \n",
       "4578                  0         0.475207               0.000000   \n",
       "355                   0         0.123967               0.000000   \n",
       "23                    0         0.454545               0.000000   \n",
       "1541                  1         0.194215               0.692308   \n",
       "\n",
       "      tot_day_mins_scaled  tot_day_calls_scaled  tot_day_charge_scaled  \\\n",
       "1807             0.557895              0.624242               0.557898   \n",
       "4578             0.244097              0.533333               0.244143   \n",
       "355              0.472546              0.636364               0.472557   \n",
       "23               0.314083              0.624242               0.314090   \n",
       "1541             0.656899              0.557576               0.656794   \n",
       "\n",
       "      tot_eve_mins_scaled  tot_eve_calls_scaled  tot_eve_charge_scaled  \\\n",
       "1807             0.549079              0.723529               0.549013   \n",
       "4578             0.318394              0.658824               0.318344   \n",
       "355              0.218037              0.547059               0.218052   \n",
       "23               0.377509              0.600000               0.377548   \n",
       "1541             0.460819              0.711765               0.461016   \n",
       "\n",
       "      tot_night_mins_scaled  tot_night_calls_scaled  tot_night_charge_scaled  \\\n",
       "1807               0.344051                0.405714                 0.344401   \n",
       "4578               0.495949                0.520000                 0.496342   \n",
       "355                0.541013                0.560000                 0.541362   \n",
       "23                 0.480000                0.600000                 0.480023   \n",
       "1541               0.683544                0.497143                 0.683737   \n",
       "\n",
       "      tot_intl_mins_scaled  tot_intl_calls_scaled  tot_intl_charge_scaled  \\\n",
       "1807                 0.645                   0.05                0.644444   \n",
       "4578                 0.550                   0.10                0.550000   \n",
       "355                  0.635                   0.10                0.635185   \n",
       "23                   0.385                   0.30                0.385185   \n",
       "1541                 0.380                   0.20                0.379630   \n",
       "\n",
       "      num_custser_calls_scaled churn  \n",
       "1807                  0.333333    No  \n",
       "4578                  0.111111    No  \n",
       "355                   0.111111    No  \n",
       "23                    0.222222    No  \n",
       "1541                  0.333333    No  "
      ]
     },
     "execution_count": 24,
     "metadata": {},
     "output_type": "execute_result"
    }
   ],
   "source": [
    "print(majSample.shape)\n",
    "majSample.head()"
   ]
  },
  {
   "cell_type": "code",
   "execution_count": 25,
   "metadata": {},
   "outputs": [
    {
     "name": "stdout",
     "output_type": "stream",
     "text": [
      "(980, 20)\n"
     ]
    },
    {
     "data": {
      "text/html": [
       "<div>\n",
       "<style scoped>\n",
       "    .dataframe tbody tr th:only-of-type {\n",
       "        vertical-align: middle;\n",
       "    }\n",
       "\n",
       "    .dataframe tbody tr th {\n",
       "        vertical-align: top;\n",
       "    }\n",
       "\n",
       "    .dataframe thead th {\n",
       "        text-align: right;\n",
       "    }\n",
       "</style>\n",
       "<table border=\"1\" class=\"dataframe\">\n",
       "  <thead>\n",
       "    <tr style=\"text-align: right;\">\n",
       "      <th></th>\n",
       "      <th>internationalplan_no</th>\n",
       "      <th>internationalplan_yes</th>\n",
       "      <th>voicemailplan_no</th>\n",
       "      <th>voicemailplan_yes</th>\n",
       "      <th>a_length_scaled</th>\n",
       "      <th>num_voicemails_scaled</th>\n",
       "      <th>tot_day_mins_scaled</th>\n",
       "      <th>tot_day_calls_scaled</th>\n",
       "      <th>tot_day_charge_scaled</th>\n",
       "      <th>tot_eve_mins_scaled</th>\n",
       "      <th>tot_eve_calls_scaled</th>\n",
       "      <th>tot_eve_charge_scaled</th>\n",
       "      <th>tot_night_mins_scaled</th>\n",
       "      <th>tot_night_calls_scaled</th>\n",
       "      <th>tot_night_charge_scaled</th>\n",
       "      <th>tot_intl_mins_scaled</th>\n",
       "      <th>tot_intl_calls_scaled</th>\n",
       "      <th>tot_intl_charge_scaled</th>\n",
       "      <th>num_custser_calls_scaled</th>\n",
       "      <th>churn</th>\n",
       "    </tr>\n",
       "  </thead>\n",
       "  <tbody>\n",
       "    <tr>\n",
       "      <th>4162</th>\n",
       "      <td>0</td>\n",
       "      <td>1</td>\n",
       "      <td>1</td>\n",
       "      <td>0</td>\n",
       "      <td>0.012397</td>\n",
       "      <td>0.0</td>\n",
       "      <td>0.482788</td>\n",
       "      <td>0.581818</td>\n",
       "      <td>0.482764</td>\n",
       "      <td>0.362387</td>\n",
       "      <td>0.552941</td>\n",
       "      <td>0.362342</td>\n",
       "      <td>0.620506</td>\n",
       "      <td>0.491429</td>\n",
       "      <td>0.620709</td>\n",
       "      <td>0.710</td>\n",
       "      <td>0.20</td>\n",
       "      <td>0.709259</td>\n",
       "      <td>0.000000</td>\n",
       "      <td>Yes</td>\n",
       "    </tr>\n",
       "    <tr>\n",
       "      <th>4640</th>\n",
       "      <td>1</td>\n",
       "      <td>0</td>\n",
       "      <td>1</td>\n",
       "      <td>0</td>\n",
       "      <td>0.450413</td>\n",
       "      <td>0.0</td>\n",
       "      <td>0.714936</td>\n",
       "      <td>0.551515</td>\n",
       "      <td>0.714859</td>\n",
       "      <td>0.569700</td>\n",
       "      <td>0.558824</td>\n",
       "      <td>0.569719</td>\n",
       "      <td>0.630380</td>\n",
       "      <td>0.400000</td>\n",
       "      <td>0.630838</td>\n",
       "      <td>0.645</td>\n",
       "      <td>0.10</td>\n",
       "      <td>0.644444</td>\n",
       "      <td>0.111111</td>\n",
       "      <td>Yes</td>\n",
       "    </tr>\n",
       "    <tr>\n",
       "      <th>509</th>\n",
       "      <td>1</td>\n",
       "      <td>0</td>\n",
       "      <td>0</td>\n",
       "      <td>1</td>\n",
       "      <td>0.483471</td>\n",
       "      <td>0.5</td>\n",
       "      <td>0.485917</td>\n",
       "      <td>0.690909</td>\n",
       "      <td>0.485944</td>\n",
       "      <td>0.548529</td>\n",
       "      <td>0.735294</td>\n",
       "      <td>0.548690</td>\n",
       "      <td>0.429620</td>\n",
       "      <td>0.560000</td>\n",
       "      <td>0.429938</td>\n",
       "      <td>0.480</td>\n",
       "      <td>0.25</td>\n",
       "      <td>0.479630</td>\n",
       "      <td>0.555556</td>\n",
       "      <td>Yes</td>\n",
       "    </tr>\n",
       "    <tr>\n",
       "      <th>354</th>\n",
       "      <td>0</td>\n",
       "      <td>1</td>\n",
       "      <td>1</td>\n",
       "      <td>0</td>\n",
       "      <td>0.260331</td>\n",
       "      <td>0.0</td>\n",
       "      <td>0.671977</td>\n",
       "      <td>0.466667</td>\n",
       "      <td>0.671854</td>\n",
       "      <td>0.601045</td>\n",
       "      <td>0.500000</td>\n",
       "      <td>0.601100</td>\n",
       "      <td>0.491392</td>\n",
       "      <td>0.554286</td>\n",
       "      <td>0.491277</td>\n",
       "      <td>0.660</td>\n",
       "      <td>0.10</td>\n",
       "      <td>0.659259</td>\n",
       "      <td>0.222222</td>\n",
       "      <td>Yes</td>\n",
       "    </tr>\n",
       "    <tr>\n",
       "      <th>1405</th>\n",
       "      <td>1</td>\n",
       "      <td>0</td>\n",
       "      <td>1</td>\n",
       "      <td>0</td>\n",
       "      <td>0.512397</td>\n",
       "      <td>0.0</td>\n",
       "      <td>0.407397</td>\n",
       "      <td>0.484848</td>\n",
       "      <td>0.407296</td>\n",
       "      <td>0.242233</td>\n",
       "      <td>0.552941</td>\n",
       "      <td>0.242316</td>\n",
       "      <td>0.590380</td>\n",
       "      <td>0.771429</td>\n",
       "      <td>0.590321</td>\n",
       "      <td>0.440</td>\n",
       "      <td>0.35</td>\n",
       "      <td>0.440741</td>\n",
       "      <td>0.444444</td>\n",
       "      <td>Yes</td>\n",
       "    </tr>\n",
       "  </tbody>\n",
       "</table>\n",
       "</div>"
      ],
      "text/plain": [
       "      internationalplan_no  internationalplan_yes  voicemailplan_no  \\\n",
       "4162                     0                      1                 1   \n",
       "4640                     1                      0                 1   \n",
       "509                      1                      0                 0   \n",
       "354                      0                      1                 1   \n",
       "1405                     1                      0                 1   \n",
       "\n",
       "      voicemailplan_yes  a_length_scaled  num_voicemails_scaled  \\\n",
       "4162                  0         0.012397                    0.0   \n",
       "4640                  0         0.450413                    0.0   \n",
       "509                   1         0.483471                    0.5   \n",
       "354                   0         0.260331                    0.0   \n",
       "1405                  0         0.512397                    0.0   \n",
       "\n",
       "      tot_day_mins_scaled  tot_day_calls_scaled  tot_day_charge_scaled  \\\n",
       "4162             0.482788              0.581818               0.482764   \n",
       "4640             0.714936              0.551515               0.714859   \n",
       "509              0.485917              0.690909               0.485944   \n",
       "354              0.671977              0.466667               0.671854   \n",
       "1405             0.407397              0.484848               0.407296   \n",
       "\n",
       "      tot_eve_mins_scaled  tot_eve_calls_scaled  tot_eve_charge_scaled  \\\n",
       "4162             0.362387              0.552941               0.362342   \n",
       "4640             0.569700              0.558824               0.569719   \n",
       "509              0.548529              0.735294               0.548690   \n",
       "354              0.601045              0.500000               0.601100   \n",
       "1405             0.242233              0.552941               0.242316   \n",
       "\n",
       "      tot_night_mins_scaled  tot_night_calls_scaled  tot_night_charge_scaled  \\\n",
       "4162               0.620506                0.491429                 0.620709   \n",
       "4640               0.630380                0.400000                 0.630838   \n",
       "509                0.429620                0.560000                 0.429938   \n",
       "354                0.491392                0.554286                 0.491277   \n",
       "1405               0.590380                0.771429                 0.590321   \n",
       "\n",
       "      tot_intl_mins_scaled  tot_intl_calls_scaled  tot_intl_charge_scaled  \\\n",
       "4162                 0.710                   0.20                0.709259   \n",
       "4640                 0.645                   0.10                0.644444   \n",
       "509                  0.480                   0.25                0.479630   \n",
       "354                  0.660                   0.10                0.659259   \n",
       "1405                 0.440                   0.35                0.440741   \n",
       "\n",
       "      num_custser_calls_scaled churn  \n",
       "4162                  0.000000   Yes  \n",
       "4640                  0.111111   Yes  \n",
       "509                   0.555556   Yes  \n",
       "354                   0.222222   Yes  \n",
       "1405                  0.444444   Yes  "
      ]
     },
     "execution_count": 25,
     "metadata": {},
     "output_type": "execute_result"
    }
   ],
   "source": [
    "# concatenate the minData and majSample using pd.concat() function\n",
    "balData = pd.concat([minData, majSample], axis=0) # in this case we are concatenating in the vertical direction and, therefore, axis=0 is used. The datasets will preserve their indexes\n",
    "print(balData.shape)\n",
    "balData.head()"
   ]
  },
  {
   "cell_type": "code",
   "execution_count": 26,
   "metadata": {},
   "outputs": [
    {
     "data": {
      "text/html": [
       "<div>\n",
       "<style scoped>\n",
       "    .dataframe tbody tr th:only-of-type {\n",
       "        vertical-align: middle;\n",
       "    }\n",
       "\n",
       "    .dataframe tbody tr th {\n",
       "        vertical-align: top;\n",
       "    }\n",
       "\n",
       "    .dataframe thead th {\n",
       "        text-align: right;\n",
       "    }\n",
       "</style>\n",
       "<table border=\"1\" class=\"dataframe\">\n",
       "  <thead>\n",
       "    <tr style=\"text-align: right;\">\n",
       "      <th></th>\n",
       "      <th>internationalplan_no</th>\n",
       "      <th>internationalplan_yes</th>\n",
       "      <th>voicemailplan_no</th>\n",
       "      <th>voicemailplan_yes</th>\n",
       "      <th>a_length_scaled</th>\n",
       "      <th>num_voicemails_scaled</th>\n",
       "      <th>tot_day_mins_scaled</th>\n",
       "      <th>tot_day_calls_scaled</th>\n",
       "      <th>tot_day_charge_scaled</th>\n",
       "      <th>tot_eve_mins_scaled</th>\n",
       "      <th>tot_eve_calls_scaled</th>\n",
       "      <th>tot_eve_charge_scaled</th>\n",
       "      <th>tot_night_mins_scaled</th>\n",
       "      <th>tot_night_calls_scaled</th>\n",
       "      <th>tot_night_charge_scaled</th>\n",
       "      <th>tot_intl_mins_scaled</th>\n",
       "      <th>tot_intl_calls_scaled</th>\n",
       "      <th>tot_intl_charge_scaled</th>\n",
       "      <th>num_custser_calls_scaled</th>\n",
       "      <th>churn</th>\n",
       "    </tr>\n",
       "  </thead>\n",
       "  <tbody>\n",
       "    <tr>\n",
       "      <th>2033</th>\n",
       "      <td>1</td>\n",
       "      <td>0</td>\n",
       "      <td>1</td>\n",
       "      <td>0</td>\n",
       "      <td>0.665289</td>\n",
       "      <td>0.0</td>\n",
       "      <td>0.619061</td>\n",
       "      <td>0.527273</td>\n",
       "      <td>0.618976</td>\n",
       "      <td>0.767116</td>\n",
       "      <td>0.417647</td>\n",
       "      <td>0.767389</td>\n",
       "      <td>0.634684</td>\n",
       "      <td>0.371429</td>\n",
       "      <td>0.634778</td>\n",
       "      <td>0.52</td>\n",
       "      <td>0.20</td>\n",
       "      <td>0.520370</td>\n",
       "      <td>0.222222</td>\n",
       "      <td>Yes</td>\n",
       "    </tr>\n",
       "    <tr>\n",
       "      <th>4087</th>\n",
       "      <td>0</td>\n",
       "      <td>1</td>\n",
       "      <td>1</td>\n",
       "      <td>0</td>\n",
       "      <td>0.582645</td>\n",
       "      <td>0.0</td>\n",
       "      <td>0.456899</td>\n",
       "      <td>0.612121</td>\n",
       "      <td>0.456827</td>\n",
       "      <td>0.555403</td>\n",
       "      <td>0.735294</td>\n",
       "      <td>0.555484</td>\n",
       "      <td>0.561266</td>\n",
       "      <td>0.571429</td>\n",
       "      <td>0.561621</td>\n",
       "      <td>0.44</td>\n",
       "      <td>0.10</td>\n",
       "      <td>0.440741</td>\n",
       "      <td>0.111111</td>\n",
       "      <td>Yes</td>\n",
       "    </tr>\n",
       "    <tr>\n",
       "      <th>2230</th>\n",
       "      <td>0</td>\n",
       "      <td>1</td>\n",
       "      <td>1</td>\n",
       "      <td>0</td>\n",
       "      <td>0.446281</td>\n",
       "      <td>0.0</td>\n",
       "      <td>0.594879</td>\n",
       "      <td>0.854545</td>\n",
       "      <td>0.594880</td>\n",
       "      <td>0.563651</td>\n",
       "      <td>0.547059</td>\n",
       "      <td>0.563895</td>\n",
       "      <td>0.302278</td>\n",
       "      <td>0.634286</td>\n",
       "      <td>0.302195</td>\n",
       "      <td>0.39</td>\n",
       "      <td>0.15</td>\n",
       "      <td>0.390741</td>\n",
       "      <td>0.222222</td>\n",
       "      <td>No</td>\n",
       "    </tr>\n",
       "    <tr>\n",
       "      <th>1350</th>\n",
       "      <td>1</td>\n",
       "      <td>0</td>\n",
       "      <td>1</td>\n",
       "      <td>0</td>\n",
       "      <td>0.223140</td>\n",
       "      <td>0.0</td>\n",
       "      <td>0.812802</td>\n",
       "      <td>0.751515</td>\n",
       "      <td>0.812751</td>\n",
       "      <td>0.634864</td>\n",
       "      <td>0.623529</td>\n",
       "      <td>0.635070</td>\n",
       "      <td>0.584051</td>\n",
       "      <td>0.800000</td>\n",
       "      <td>0.584131</td>\n",
       "      <td>0.74</td>\n",
       "      <td>0.35</td>\n",
       "      <td>0.740741</td>\n",
       "      <td>0.000000</td>\n",
       "      <td>Yes</td>\n",
       "    </tr>\n",
       "    <tr>\n",
       "      <th>3428</th>\n",
       "      <td>0</td>\n",
       "      <td>1</td>\n",
       "      <td>1</td>\n",
       "      <td>0</td>\n",
       "      <td>0.173554</td>\n",
       "      <td>0.0</td>\n",
       "      <td>0.456615</td>\n",
       "      <td>0.557576</td>\n",
       "      <td>0.456660</td>\n",
       "      <td>0.648337</td>\n",
       "      <td>0.711765</td>\n",
       "      <td>0.648334</td>\n",
       "      <td>0.283038</td>\n",
       "      <td>0.542857</td>\n",
       "      <td>0.283061</td>\n",
       "      <td>0.69</td>\n",
       "      <td>0.25</td>\n",
       "      <td>0.690741</td>\n",
       "      <td>0.111111</td>\n",
       "      <td>Yes</td>\n",
       "    </tr>\n",
       "  </tbody>\n",
       "</table>\n",
       "</div>"
      ],
      "text/plain": [
       "      internationalplan_no  internationalplan_yes  voicemailplan_no  \\\n",
       "2033                     1                      0                 1   \n",
       "4087                     0                      1                 1   \n",
       "2230                     0                      1                 1   \n",
       "1350                     1                      0                 1   \n",
       "3428                     0                      1                 1   \n",
       "\n",
       "      voicemailplan_yes  a_length_scaled  num_voicemails_scaled  \\\n",
       "2033                  0         0.665289                    0.0   \n",
       "4087                  0         0.582645                    0.0   \n",
       "2230                  0         0.446281                    0.0   \n",
       "1350                  0         0.223140                    0.0   \n",
       "3428                  0         0.173554                    0.0   \n",
       "\n",
       "      tot_day_mins_scaled  tot_day_calls_scaled  tot_day_charge_scaled  \\\n",
       "2033             0.619061              0.527273               0.618976   \n",
       "4087             0.456899              0.612121               0.456827   \n",
       "2230             0.594879              0.854545               0.594880   \n",
       "1350             0.812802              0.751515               0.812751   \n",
       "3428             0.456615              0.557576               0.456660   \n",
       "\n",
       "      tot_eve_mins_scaled  tot_eve_calls_scaled  tot_eve_charge_scaled  \\\n",
       "2033             0.767116              0.417647               0.767389   \n",
       "4087             0.555403              0.735294               0.555484   \n",
       "2230             0.563651              0.547059               0.563895   \n",
       "1350             0.634864              0.623529               0.635070   \n",
       "3428             0.648337              0.711765               0.648334   \n",
       "\n",
       "      tot_night_mins_scaled  tot_night_calls_scaled  tot_night_charge_scaled  \\\n",
       "2033               0.634684                0.371429                 0.634778   \n",
       "4087               0.561266                0.571429                 0.561621   \n",
       "2230               0.302278                0.634286                 0.302195   \n",
       "1350               0.584051                0.800000                 0.584131   \n",
       "3428               0.283038                0.542857                 0.283061   \n",
       "\n",
       "      tot_intl_mins_scaled  tot_intl_calls_scaled  tot_intl_charge_scaled  \\\n",
       "2033                  0.52                   0.20                0.520370   \n",
       "4087                  0.44                   0.10                0.440741   \n",
       "2230                  0.39                   0.15                0.390741   \n",
       "1350                  0.74                   0.35                0.740741   \n",
       "3428                  0.69                   0.25                0.690741   \n",
       "\n",
       "      num_custser_calls_scaled churn  \n",
       "2033                  0.222222   Yes  \n",
       "4087                  0.111111   Yes  \n",
       "2230                  0.222222    No  \n",
       "1350                  0.000000   Yes  \n",
       "3428                  0.111111   Yes  "
      ]
     },
     "execution_count": 26,
     "metadata": {},
     "output_type": "execute_result"
    }
   ],
   "source": [
    "# shuffle the balanced dataset so that both the minority and majority classes are evenly distributed using the shuffle() function\n",
    "from sklearn.utils import shuffle\n",
    "balData = shuffle(balData)\n",
    "balData.head()"
   ]
  },
  {
   "cell_type": "code",
   "execution_count": 27,
   "metadata": {},
   "outputs": [
    {
     "data": {
      "text/plain": [
       "(980, 20)"
      ]
     },
     "execution_count": 27,
     "metadata": {},
     "output_type": "execute_result"
    }
   ],
   "source": [
    "balData.shape"
   ]
  },
  {
   "cell_type": "code",
   "execution_count": 28,
   "metadata": {},
   "outputs": [
    {
     "name": "stdout",
     "output_type": "stream",
     "text": [
      "<class 'pandas.core.frame.DataFrame'>\n",
      "Int64Index: 980 entries, 2033 to 509\n",
      "Data columns (total 20 columns):\n",
      " #   Column                    Non-Null Count  Dtype  \n",
      "---  ------                    --------------  -----  \n",
      " 0   internationalplan_no      980 non-null    uint8  \n",
      " 1   internationalplan_yes     980 non-null    uint8  \n",
      " 2   voicemailplan_no          980 non-null    uint8  \n",
      " 3   voicemailplan_yes         980 non-null    uint8  \n",
      " 4   a_length_scaled           980 non-null    float64\n",
      " 5   num_voicemails_scaled     980 non-null    float64\n",
      " 6   tot_day_mins_scaled       980 non-null    float64\n",
      " 7   tot_day_calls_scaled      980 non-null    float64\n",
      " 8   tot_day_charge_scaled     980 non-null    float64\n",
      " 9   tot_eve_mins_scaled       980 non-null    float64\n",
      " 10  tot_eve_calls_scaled      980 non-null    float64\n",
      " 11  tot_eve_charge_scaled     980 non-null    float64\n",
      " 12  tot_night_mins_scaled     980 non-null    float64\n",
      " 13  tot_night_calls_scaled    980 non-null    float64\n",
      " 14  tot_night_charge_scaled   980 non-null    float64\n",
      " 15  tot_intl_mins_scaled      980 non-null    float64\n",
      " 16  tot_intl_calls_scaled     980 non-null    float64\n",
      " 17  tot_intl_charge_scaled    980 non-null    float64\n",
      " 18  num_custser_calls_scaled  980 non-null    float64\n",
      " 19  churn                     980 non-null    object \n",
      "dtypes: float64(15), object(1), uint8(4)\n",
      "memory usage: 134.0+ KB\n"
     ]
    }
   ],
   "source": [
    "balData.info()"
   ]
  },
  {
   "cell_type": "code",
   "execution_count": 29,
   "metadata": {},
   "outputs": [
    {
     "name": "stdout",
     "output_type": "stream",
     "text": [
      "      internationalplan_no  internationalplan_yes  voicemailplan_no  \\\n",
      "2033                     1                      0                 1   \n",
      "4087                     0                      1                 1   \n",
      "2230                     0                      1                 1   \n",
      "1350                     1                      0                 1   \n",
      "3428                     0                      1                 1   \n",
      "\n",
      "      voicemailplan_yes  a_length_scaled  num_voicemails_scaled  \\\n",
      "2033                  0         0.665289                    0.0   \n",
      "4087                  0         0.582645                    0.0   \n",
      "2230                  0         0.446281                    0.0   \n",
      "1350                  0         0.223140                    0.0   \n",
      "3428                  0         0.173554                    0.0   \n",
      "\n",
      "      tot_day_mins_scaled  tot_day_calls_scaled  tot_day_charge_scaled  \\\n",
      "2033             0.619061              0.527273               0.618976   \n",
      "4087             0.456899              0.612121               0.456827   \n",
      "2230             0.594879              0.854545               0.594880   \n",
      "1350             0.812802              0.751515               0.812751   \n",
      "3428             0.456615              0.557576               0.456660   \n",
      "\n",
      "      tot_eve_mins_scaled  tot_eve_calls_scaled  tot_eve_charge_scaled  \\\n",
      "2033             0.767116              0.417647               0.767389   \n",
      "4087             0.555403              0.735294               0.555484   \n",
      "2230             0.563651              0.547059               0.563895   \n",
      "1350             0.634864              0.623529               0.635070   \n",
      "3428             0.648337              0.711765               0.648334   \n",
      "\n",
      "      tot_night_mins_scaled  tot_night_calls_scaled  tot_night_charge_scaled  \\\n",
      "2033               0.634684                0.371429                 0.634778   \n",
      "4087               0.561266                0.571429                 0.561621   \n",
      "2230               0.302278                0.634286                 0.302195   \n",
      "1350               0.584051                0.800000                 0.584131   \n",
      "3428               0.283038                0.542857                 0.283061   \n",
      "\n",
      "      tot_intl_mins_scaled  tot_intl_calls_scaled  tot_intl_charge_scaled  \\\n",
      "2033                  0.52                   0.20                0.520370   \n",
      "4087                  0.44                   0.10                0.440741   \n",
      "2230                  0.39                   0.15                0.390741   \n",
      "1350                  0.74                   0.35                0.740741   \n",
      "3428                  0.69                   0.25                0.690741   \n",
      "\n",
      "      num_custser_calls_scaled  \n",
      "2033                  0.222222  \n",
      "4087                  0.111111  \n",
      "2230                  0.222222  \n",
      "1350                  0.000000  \n",
      "3428                  0.111111  \n",
      "2033    Yes\n",
      "4087    Yes\n",
      "2230     No\n",
      "1350    Yes\n",
      "3428    Yes\n",
      "Name: churn, dtype: object\n"
     ]
    }
   ],
   "source": [
    "# separate the shuffled dataset into independant variables, X_train_new, and dependent variables, y_train_new.\n",
    "# The separation is to be done using the index features 0 to 19 for the independent variables using .iloc() funtion.\n",
    "# The dependent variables are separated by sub-setting with the column name 'churn'\n",
    "X_train_new = balData.iloc[:, 0:19] # first:n-1 (does not include feature 19)\n",
    "print(X_train_new.head())\n",
    "y_train_new = balData['churn']\n",
    "print(y_train_new.head())"
   ]
  },
  {
   "cell_type": "code",
   "execution_count": 30,
   "metadata": {},
   "outputs": [
    {
     "data": {
      "text/plain": [
       "LogisticRegression()"
      ]
     },
     "execution_count": 30,
     "metadata": {},
     "output_type": "execute_result"
    }
   ],
   "source": [
    "# fit LogisticRegression model\n",
    "lr_model1 = LogisticRegression()\n",
    "lr_model1.fit(X_train_new, y_train_new)"
   ]
  },
  {
   "cell_type": "code",
   "execution_count": 31,
   "metadata": {},
   "outputs": [
    {
     "name": "stdout",
     "output_type": "stream",
     "text": [
      "Accuracy of Logistic Regression Model prediction on test set for balanced data set: 0.79\n"
     ]
    }
   ],
   "source": [
    "# prediction for test set\n",
    "pred1 = lr_model1.predict(X_test)\n",
    "print('Accuracy of Logistic Regression Model prediction on test set for balanced data set: {:.2f}'\n",
    "     .format(lr_model1.score(X_test, y_test)))"
   ]
  },
  {
   "cell_type": "code",
   "execution_count": 33,
   "metadata": {},
   "outputs": [
    {
     "name": "stdout",
     "output_type": "stream",
     "text": [
      "[[1032  251]\n",
      " [  57  160]]\n",
      "              precision    recall  f1-score   support\n",
      "\n",
      "          No       0.95      0.80      0.87      1283\n",
      "         Yes       0.39      0.74      0.51       217\n",
      "\n",
      "    accuracy                           0.79      1500\n",
      "   macro avg       0.67      0.77      0.69      1500\n",
      "weighted avg       0.87      0.79      0.82      1500\n",
      "\n"
     ]
    }
   ],
   "source": [
    "# confusion matrix\n",
    "from sklearn.metrics import confusion_matrix\n",
    "confusionMatrix = confusion_matrix(y_test, pred1)\n",
    "print(confusionMatrix)\n",
    "\n",
    "# classification report \n",
    "print(classification_report(y_test, pred1))"
   ]
  },
  {
   "cell_type": "markdown",
   "metadata": {},
   "source": [
    "### Random undersampling model analysis\n",
    "The racall of the minority class, 'Yes', has improved from 0.18 to 0.74 now that the dataset has been balanced. This means the classifier has improved its ability to identify positive cases. The overall accuray has taken a hit from 0.86 to 0.79. The accuracy has taken a hit in the number of False Negatives, which are those 'Yes' cases that were wrongly predicted as 'No'. Ideally, we would want quadrant 1 and 3 to come down in favor of the other two because we want to spend time focussing on those customers that are likely to churn."
   ]
  },
  {
   "cell_type": "markdown",
   "metadata": {},
   "source": [
    "### Implementing SMOTE on customer churn dataset to find the optimal result\n",
    "In this section we will generate synthetic samples of the minority class churn 'No' using SMOTE and then make the dataset balanced."
   ]
  },
  {
   "cell_type": "code",
   "execution_count": 34,
   "metadata": {},
   "outputs": [
    {
     "name": "stdout",
     "output_type": "stream",
     "text": [
      "Before OverSampling count of yes: 490\n",
      "Before OverSampling count of no: 3010\n"
     ]
    }
   ],
   "source": [
    "# shape before oversampling\n",
    "print('Before OverSampling count of yes: {}'.format(sum(y_train=='Yes')))\n",
    "print('Before OverSampling count of no: {}'.format(sum(y_train=='No')))"
   ]
  },
  {
   "cell_type": "code",
   "execution_count": 35,
   "metadata": {},
   "outputs": [],
   "source": [
    "# instantiate SMOTE\n",
    "oversampler = sv.SMOTE()"
   ]
  },
  {
   "cell_type": "code",
   "execution_count": 36,
   "metadata": {},
   "outputs": [
    {
     "name": "stderr",
     "output_type": "stream",
     "text": [
      "2021-10-25 06:41:58,253:INFO:SMOTE: Running sampling via ('SMOTE', \"{'proportion': 1.0, 'n_neighbors': 5, 'n_jobs': 1, 'random_state': None}\")\n"
     ]
    }
   ],
   "source": [
    "# creating new training set\n",
    "X_train_os, y_train_os = oversampler.sample(np.array(X_train), np.array(y_train))"
   ]
  },
  {
   "cell_type": "code",
   "execution_count": 37,
   "metadata": {},
   "outputs": [
    {
     "name": "stdout",
     "output_type": "stream",
     "text": [
      "After OverSampling, the shape of X_train: (6020, 19)\n",
      "After OverSampling, the shape of y_train: (6020,)\n",
      "After OverSampling, counts of labels 'Yes': 3010\n",
      "After OverSampling, counts of labels 'No': 3010\n"
     ]
    }
   ],
   "source": [
    "# shape after oversampling\n",
    "print('After OverSampling, the shape of X_train: {}'.format(\n",
    "X_train_os.shape))\n",
    "print('After OverSampling, the shape of y_train: {}'.format(\n",
    "y_train_os.shape))\n",
    "print(\"After OverSampling, counts of labels 'Yes': {}\".format(\n",
    "sum(y_train_os=='Yes')))\n",
    "print(\"After OverSampling, counts of labels 'No': {}\".format(\n",
    "sum(y_train_os=='No')))"
   ]
  },
  {
   "cell_type": "markdown",
   "metadata": {},
   "source": [
    "#### Overall dataset has increased from 5000 to 6020 now that we have generated synthetic points usins SMOTE. Fit logistic regression model on new sample and anaylze results using a confusion matrix and a classification report."
   ]
  },
  {
   "cell_type": "code",
   "execution_count": 38,
   "metadata": {},
   "outputs": [
    {
     "data": {
      "text/plain": [
       "LogisticRegression()"
      ]
     },
     "execution_count": 38,
     "metadata": {},
     "output_type": "execute_result"
    }
   ],
   "source": [
    "# Regression model2\n",
    "lr_model2 = LogisticRegression()\n",
    "lr_model2.fit(X_train_os, y_train_os)"
   ]
  },
  {
   "cell_type": "code",
   "execution_count": 39,
   "metadata": {},
   "outputs": [
    {
     "name": "stdout",
     "output_type": "stream",
     "text": [
      "Accuracy of Logistic regression model prediction on test set for SMOTE balanced data set:0.78\n"
     ]
    }
   ],
   "source": [
    "# predictions on test set\n",
    "pred = lr_model2.predict(X_test)\n",
    "\n",
    "# accuracy values\n",
    "print('Accuracy of Logistic regression model prediction on test set for SMOTE balanced data set:'\n",
    "       '{:.2f}'.format(lr_model2.score(X_test, y_test)))"
   ]
  },
  {
   "cell_type": "code",
   "execution_count": 41,
   "metadata": {},
   "outputs": [
    {
     "name": "stdout",
     "output_type": "stream",
     "text": [
      "[[1007  276]\n",
      " [  54  163]]\n",
      "              precision    recall  f1-score   support\n",
      "\n",
      "          No       0.95      0.78      0.86      1283\n",
      "         Yes       0.37      0.75      0.50       217\n",
      "\n",
      "    accuracy                           0.78      1500\n",
      "   macro avg       0.66      0.77      0.68      1500\n",
      "weighted avg       0.87      0.78      0.81      1500\n",
      "\n"
     ]
    }
   ],
   "source": [
    "# confusion matrix\n",
    "confusionMatrix = confusion_matrix(y_test, pred)\n",
    "print(confusionMatrix)\n",
    "\n",
    "# classification report\n",
    "print(classification_report(y_test, pred))"
   ]
  },
  {
   "cell_type": "markdown",
   "metadata": {},
   "source": [
    "### SMOTE Analysis\n",
    "From the generated metrics, we can see that the results are very similar to the undersampling results, with the exception that the recall value of the 'No' cases has reduced from 0.80 to 0.78. Accuracy has been reduced from 0.79 to 0.78."
   ]
  },
  {
   "cell_type": "markdown",
   "metadata": {},
   "source": [
    "#### Implementing MSMOTE on churn dataset to find optimal result\n",
    "Use MSMOTE to generate synthentic samples of the minority class and make the dataset balanced. Fit a logistic regression model and analyze the results using confusion matrix and classification report"
   ]
  },
  {
   "cell_type": "code",
   "execution_count": 42,
   "metadata": {},
   "outputs": [
    {
     "name": "stdout",
     "output_type": "stream",
     "text": [
      "Before OverSampling count of yes: 490\n",
      "Before OverSampling count of no: 3010\n"
     ]
    }
   ],
   "source": [
    "# shape before oversampling\n",
    "print('Before OverSampling count of yes: {}'.format(sum(y_train=='Yes')))\n",
    "print('Before OverSampling count of no: {}'.format(sum(y_train=='No')))"
   ]
  },
  {
   "cell_type": "code",
   "execution_count": 43,
   "metadata": {},
   "outputs": [],
   "source": [
    "# instantiate SMOTE \n",
    "oversampler = sv.MSMOTE()"
   ]
  },
  {
   "cell_type": "code",
   "execution_count": 44,
   "metadata": {},
   "outputs": [
    {
     "name": "stderr",
     "output_type": "stream",
     "text": [
      "2021-10-25 07:13:03,008:INFO:MSMOTE: Running sampling via ('MSMOTE', \"{'proportion': 1.0, 'n_neighbors': 5, 'n_jobs': 1, 'random_state': None}\")\n"
     ]
    }
   ],
   "source": [
    "# creating new training set\n",
    "X_train_os, y_train_os = oversampler.sample(np.array(X_train), np.array(y_train))"
   ]
  },
  {
   "cell_type": "code",
   "execution_count": 45,
   "metadata": {},
   "outputs": [
    {
     "name": "stdout",
     "output_type": "stream",
     "text": [
      "After OverSampling, the shape of X_train: (6020, 19)\n",
      "After OverSampling, the shape of y_train: (6020,)\n",
      "After OverSampling, counts of labels 'Yes': 3010\n",
      "After OverSampling, counts of labels 'No': 3010\n"
     ]
    }
   ],
   "source": [
    "# shape after oversampling\n",
    "print('After OverSampling, the shape of X_train: {}'.format(\n",
    "X_train_os.shape))\n",
    "print('After OverSampling, the shape of y_train: {}'.format(\n",
    "y_train_os.shape))\n",
    "print(\"After OverSampling, counts of labels 'Yes': {}\".format(\n",
    "sum(y_train_os=='Yes')))\n",
    "print(\"After OverSampling, counts of labels 'No': {}\".format(\n",
    "sum(y_train_os=='No')))"
   ]
  },
  {
   "cell_type": "code",
   "execution_count": 46,
   "metadata": {},
   "outputs": [
    {
     "data": {
      "text/plain": [
       "LogisticRegression()"
      ]
     },
     "execution_count": 46,
     "metadata": {},
     "output_type": "execute_result"
    }
   ],
   "source": [
    "# Regression model3\n",
    "lr_model3 = LogisticRegression()\n",
    "lr_model3.fit(X_train_os, y_train_os)"
   ]
  },
  {
   "cell_type": "code",
   "execution_count": 47,
   "metadata": {},
   "outputs": [
    {
     "name": "stdout",
     "output_type": "stream",
     "text": [
      "Accuracy of Logistic regression model prediction on test set for MSMOTE balanced data set:0.80\n"
     ]
    }
   ],
   "source": [
    "# predictions on test set\n",
    "pred = lr_model3.predict(X_test)\n",
    "\n",
    "# accuracy values\n",
    "print('Accuracy of Logistic regression model prediction on test set for MSMOTE balanced data set:'\n",
    "       '{:.2f}'.format(lr_model3.score(X_test, y_test)))"
   ]
  },
  {
   "cell_type": "code",
   "execution_count": 48,
   "metadata": {},
   "outputs": [
    {
     "name": "stdout",
     "output_type": "stream",
     "text": [
      "[[1034  249]\n",
      " [  53  164]]\n",
      "              precision    recall  f1-score   support\n",
      "\n",
      "          No       0.95      0.81      0.87      1283\n",
      "         Yes       0.40      0.76      0.52       217\n",
      "\n",
      "    accuracy                           0.80      1500\n",
      "   macro avg       0.67      0.78      0.70      1500\n",
      "weighted avg       0.87      0.80      0.82      1500\n",
      "\n"
     ]
    }
   ],
   "source": [
    "# confusion matrix\n",
    "confusionMatrix = confusion_matrix(y_test, pred)\n",
    "print(confusionMatrix)\n",
    "\n",
    "# classification report\n",
    "print(classification_report(y_test, pred))"
   ]
  },
  {
   "cell_type": "markdown",
   "metadata": {},
   "source": [
    "### MSMOTE Analysis\n",
    "Metrics have improved compared to SMOTE implementation. We can then conclude that MSMOTE might be the best method for this use case."
   ]
  },
  {
   "cell_type": "code",
   "execution_count": null,
   "metadata": {},
   "outputs": [],
   "source": []
  }
 ],
 "metadata": {
  "kernelspec": {
   "display_name": "Python 3",
   "language": "python",
   "name": "python3"
  },
  "language_info": {
   "codemirror_mode": {
    "name": "ipython",
    "version": 3
   },
   "file_extension": ".py",
   "mimetype": "text/x-python",
   "name": "python",
   "nbconvert_exporter": "python",
   "pygments_lexer": "ipython3",
   "version": "3.8.5"
  }
 },
 "nbformat": 4,
 "nbformat_minor": 4
}

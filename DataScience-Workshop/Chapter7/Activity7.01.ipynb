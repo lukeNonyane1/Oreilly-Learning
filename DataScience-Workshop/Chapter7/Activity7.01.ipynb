{
 "cells": [
  {
   "cell_type": "markdown",
   "metadata": {},
   "source": [
    "## Find an Optimal Model for Predicting the Critical Temperatures of Superconductors"
   ]
  },
  {
   "cell_type": "markdown",
   "metadata": {},
   "source": [
    "You work as a data scientist for a cable manufacturer. Management has decided to start shipping low-resistance cables to clients around the world. To ensure that the right cables are shipped to the right countries, they would like to predict the critical temperatures of various cables based on certain observed readings.\n",
    "\n",
    "In this activity, you will train a linear regression model and compute the R2 score and the MSE. You will proceed to engineer new features using polynomial features of degree 3. You will compare the R2 score and MSE of this new model to those of the first model to determine overfitting. You will then use regularization to train a model that generalizes to previously unseen data."
   ]
  },
  {
   "cell_type": "code",
   "execution_count": 1,
   "metadata": {},
   "outputs": [],
   "source": [
    "import pandas as pd\n",
    "from sklearn.model_selection import train_test_split\n",
    "from sklearn.linear_model import LinearRegression, Ridge\n",
    "from sklearn.metrics import mean_squared_error\n",
    "from sklearn.pipeline import Pipeline\n",
    "from sklearn.preprocessing import MinMaxScaler, PolynomialFeatures"
   ]
  },
  {
   "cell_type": "code",
   "execution_count": 2,
   "metadata": {},
   "outputs": [
    {
     "name": "stdout",
     "output_type": "stream",
     "text": [
      "<class 'pandas.core.frame.DataFrame'>\n",
      "RangeIndex: 21263 entries, 0 to 21262\n",
      "Data columns (total 82 columns):\n",
      " #   Column                           Non-Null Count  Dtype  \n",
      "---  ------                           --------------  -----  \n",
      " 0   number_of_elements               21263 non-null  int64  \n",
      " 1   mean_atomic_mass                 21263 non-null  float64\n",
      " 2   wtd_mean_atomic_mass             21263 non-null  float64\n",
      " 3   gmean_atomic_mass                21263 non-null  float64\n",
      " 4   wtd_gmean_atomic_mass            21263 non-null  float64\n",
      " 5   entropy_atomic_mass              21263 non-null  float64\n",
      " 6   wtd_entropy_atomic_mass          21263 non-null  float64\n",
      " 7   range_atomic_mass                21263 non-null  float64\n",
      " 8   wtd_range_atomic_mass            21263 non-null  float64\n",
      " 9   std_atomic_mass                  21263 non-null  float64\n",
      " 10  wtd_std_atomic_mass              21263 non-null  float64\n",
      " 11  mean_fie                         21263 non-null  float64\n",
      " 12  wtd_mean_fie                     21263 non-null  float64\n",
      " 13  gmean_fie                        21263 non-null  float64\n",
      " 14  wtd_gmean_fie                    21263 non-null  float64\n",
      " 15  entropy_fie                      21263 non-null  float64\n",
      " 16  wtd_entropy_fie                  21263 non-null  float64\n",
      " 17  range_fie                        21263 non-null  float64\n",
      " 18  wtd_range_fie                    21263 non-null  float64\n",
      " 19  std_fie                          21263 non-null  float64\n",
      " 20  wtd_std_fie                      21263 non-null  float64\n",
      " 21  mean_atomic_radius               21263 non-null  float64\n",
      " 22  wtd_mean_atomic_radius           21263 non-null  float64\n",
      " 23  gmean_atomic_radius              21263 non-null  float64\n",
      " 24  wtd_gmean_atomic_radius          21263 non-null  float64\n",
      " 25  entropy_atomic_radius            21263 non-null  float64\n",
      " 26  wtd_entropy_atomic_radius        21263 non-null  float64\n",
      " 27  range_atomic_radius              21263 non-null  int64  \n",
      " 28  wtd_range_atomic_radius          21263 non-null  float64\n",
      " 29  std_atomic_radius                21263 non-null  float64\n",
      " 30  wtd_std_atomic_radius            21263 non-null  float64\n",
      " 31  mean_Density                     21263 non-null  float64\n",
      " 32  wtd_mean_Density                 21263 non-null  float64\n",
      " 33  gmean_Density                    21263 non-null  float64\n",
      " 34  wtd_gmean_Density                21263 non-null  float64\n",
      " 35  entropy_Density                  21263 non-null  float64\n",
      " 36  wtd_entropy_Density              21263 non-null  float64\n",
      " 37  range_Density                    21263 non-null  float64\n",
      " 38  wtd_range_Density                21263 non-null  float64\n",
      " 39  std_Density                      21263 non-null  float64\n",
      " 40  wtd_std_Density                  21263 non-null  float64\n",
      " 41  mean_ElectronAffinity            21263 non-null  float64\n",
      " 42  wtd_mean_ElectronAffinity        21263 non-null  float64\n",
      " 43  gmean_ElectronAffinity           21263 non-null  float64\n",
      " 44  wtd_gmean_ElectronAffinity       21263 non-null  float64\n",
      " 45  entropy_ElectronAffinity         21263 non-null  float64\n",
      " 46  wtd_entropy_ElectronAffinity     21263 non-null  float64\n",
      " 47  range_ElectronAffinity           21263 non-null  float64\n",
      " 48  wtd_range_ElectronAffinity       21263 non-null  float64\n",
      " 49  std_ElectronAffinity             21263 non-null  float64\n",
      " 50  wtd_std_ElectronAffinity         21263 non-null  float64\n",
      " 51  mean_FusionHeat                  21263 non-null  float64\n",
      " 52  wtd_mean_FusionHeat              21263 non-null  float64\n",
      " 53  gmean_FusionHeat                 21263 non-null  float64\n",
      " 54  wtd_gmean_FusionHeat             21263 non-null  float64\n",
      " 55  entropy_FusionHeat               21263 non-null  float64\n",
      " 56  wtd_entropy_FusionHeat           21263 non-null  float64\n",
      " 57  range_FusionHeat                 21263 non-null  float64\n",
      " 58  wtd_range_FusionHeat             21263 non-null  float64\n",
      " 59  std_FusionHeat                   21263 non-null  float64\n",
      " 60  wtd_std_FusionHeat               21263 non-null  float64\n",
      " 61  mean_ThermalConductivity         21263 non-null  float64\n",
      " 62  wtd_mean_ThermalConductivity     21263 non-null  float64\n",
      " 63  gmean_ThermalConductivity        21263 non-null  float64\n",
      " 64  wtd_gmean_ThermalConductivity    21263 non-null  float64\n",
      " 65  entropy_ThermalConductivity      21263 non-null  float64\n",
      " 66  wtd_entropy_ThermalConductivity  21263 non-null  float64\n",
      " 67  range_ThermalConductivity        21263 non-null  float64\n",
      " 68  wtd_range_ThermalConductivity    21263 non-null  float64\n",
      " 69  std_ThermalConductivity          21263 non-null  float64\n",
      " 70  wtd_std_ThermalConductivity      21263 non-null  float64\n",
      " 71  mean_Valence                     21263 non-null  float64\n",
      " 72  wtd_mean_Valence                 21263 non-null  float64\n",
      " 73  gmean_Valence                    21263 non-null  float64\n",
      " 74  wtd_gmean_Valence                21263 non-null  float64\n",
      " 75  entropy_Valence                  21263 non-null  float64\n",
      " 76  wtd_entropy_Valence              21263 non-null  float64\n",
      " 77  range_Valence                    21263 non-null  int64  \n",
      " 78  wtd_range_Valence                21263 non-null  float64\n",
      " 79  std_Valence                      21263 non-null  float64\n",
      " 80  wtd_std_Valence                  21263 non-null  float64\n",
      " 81  critical_temp                    21263 non-null  float64\n",
      "dtypes: float64(79), int64(3)\n",
      "memory usage: 13.3 MB\n"
     ]
    }
   ],
   "source": [
    "_df = pd.read_csv('https://raw.githubusercontent.com/PacktWorkshops/'\\\n",
    "                 'The-Data-Science-Workshop/master/'\\\n",
    "                 'Chapter07/Dataset/superconduct/train.csv')\n",
    "_df.info()"
   ]
  },
  {
   "cell_type": "code",
   "execution_count": 3,
   "metadata": {},
   "outputs": [],
   "source": [
    "# features and labels\n",
    "X = _df.drop(['critical_temp'], axis=1).values\n",
    "y = _df['critical_temp'].values"
   ]
  },
  {
   "cell_type": "code",
   "execution_count": 4,
   "metadata": {},
   "outputs": [],
   "source": [
    "# split data into training and evaluation sets\n",
    "train_X, eval_X, train_y, eval_y = train_test_split(X, y, train_size=0.8, random_state=0)"
   ]
  },
  {
   "cell_type": "code",
   "execution_count": 5,
   "metadata": {},
   "outputs": [
    {
     "data": {
      "text/plain": [
       "LinearRegression()"
      ]
     },
     "execution_count": 5,
     "metadata": {},
     "output_type": "execute_result"
    }
   ],
   "source": [
    "# instantiate baseline LinearRegression\n",
    "lr_model_1 = LinearRegression()\n",
    "\n",
    "#fit model\n",
    "lr_model_1.fit(train_X, train_y)"
   ]
  },
  {
   "cell_type": "code",
   "execution_count": 6,
   "metadata": {},
   "outputs": [],
   "source": [
    "# make predictions on the evaluation dataset\n",
    "lr_model_1_preds = lr_model_1.predict(eval_X)"
   ]
  },
  {
   "cell_type": "code",
   "execution_count": 7,
   "metadata": {},
   "outputs": [
    {
     "name": "stdout",
     "output_type": "stream",
     "text": [
      "lr_model_1 Score: 0.7350976364618664\n"
     ]
    }
   ],
   "source": [
    "# R2 of the model\n",
    "print('lr_model_1 Score: {}'.format(lr_model_1.score(eval_X, eval_y)))"
   ]
  },
  {
   "cell_type": "code",
   "execution_count": 8,
   "metadata": {},
   "outputs": [
    {
     "name": "stdout",
     "output_type": "stream",
     "text": [
      "lr_model_1 MSE: 308.3212711891406\n"
     ]
    }
   ],
   "source": [
    "# MSE\n",
    "print('lr_model_1 MSE: {}'.format(mean_squared_error(eval_y, lr_model_1_preds)))"
   ]
  },
  {
   "cell_type": "code",
   "execution_count": 9,
   "metadata": {},
   "outputs": [],
   "source": [
    "# create a list of tuples to serve as a pipeline\n",
    "steps = [('scaler', MinMaxScaler()), \n",
    "         ('poly', PolynomialFeatures(degree=3)), \n",
    "        ('lr', Ridge(alpha=0.9))]"
   ]
  },
  {
   "cell_type": "code",
   "execution_count": 10,
   "metadata": {},
   "outputs": [],
   "source": [
    "# create an instance of a pipeline\n",
    "lr_model_2 = Pipeline(steps)"
   ]
  },
  {
   "cell_type": "code",
   "execution_count": null,
   "metadata": {},
   "outputs": [],
   "source": [
    "# train pipeline instance\n",
    "#lr_model_2.fit(train_X, train_y)"
   ]
  },
  {
   "cell_type": "code",
   "execution_count": null,
   "metadata": {},
   "outputs": [],
   "source": [
    "# R2 of model 2\n",
    "print('lr_model_2 R2 score: {}'.format(lr_model_2.score(eval_X, eval_y)))"
   ]
  },
  {
   "cell_type": "code",
   "execution_count": null,
   "metadata": {},
   "outputs": [],
   "source": [
    "# preds of model 2\n",
    "lr_model_2_preds = lr_model_2.predict(eval_X)"
   ]
  },
  {
   "cell_type": "code",
   "execution_count": null,
   "metadata": {},
   "outputs": [],
   "source": [
    "# MSE of model 2\n",
    "print('lr_model_2 MSE: {}'.format(mean_squared_error(eval_y, lr_model_2_preds)))"
   ]
  },
  {
   "cell_type": "code",
   "execution_count": null,
   "metadata": {},
   "outputs": [],
   "source": []
  }
 ],
 "metadata": {
  "kernelspec": {
   "display_name": "Python 3",
   "language": "python",
   "name": "python3"
  },
  "language_info": {
   "codemirror_mode": {
    "name": "ipython",
    "version": 3
   },
   "file_extension": ".py",
   "mimetype": "text/x-python",
   "name": "python",
   "nbconvert_exporter": "python",
   "pygments_lexer": "ipython3",
   "version": "3.8.5"
  }
 },
 "nbformat": 4,
 "nbformat_minor": 4
}

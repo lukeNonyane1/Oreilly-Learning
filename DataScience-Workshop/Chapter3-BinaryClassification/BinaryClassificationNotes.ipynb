{
 "cells": [
  {
   "cell_type": "markdown",
   "metadata": {},
   "source": [
    "### Introduction"
   ]
  },
  {
   "cell_type": "markdown",
   "metadata": {},
   "source": [
    "Use cases where a binary decision is made are called binary classification problems; Multiclass classficiation deals with 2+ categories."
   ]
  },
  {
   "cell_type": "markdown",
   "metadata": {},
   "source": [
    "### Understanding the Business Context"
   ]
  },
  {
   "cell_type": "raw",
   "metadata": {},
   "source": [
    "The marketing team require your help to identify which customers are likely to buy a term deposit plan.\n",
    "Equipped with the historical data, you have set out on the task to identify the customers with the highest propensity (an inclination) to buy term deposits."
   ]
  },
  {
   "cell_type": "markdown",
   "metadata": {},
   "source": [
    "### Business Discovery"
   ]
  },
  {
   "cell_type": "markdown",
   "metadata": {},
   "source": [
    "Let's understand this process in detail from the context of our use case. The problem statement is to identify those customers who have a propensity to buy term deposits. As you might be aware, term deposits are bank instruments where your money will be locked for a certain period, assuring higher interest rates than saving accounts or interest-bearing checking accounts. From an investment propensity perspective, term deposits are generally popular among risk-averse customers. Equipped with the business context, let's look at some questions on business factors influencing a propensity to buy term deposits:\n",
    "\n",
    "\n",
    "    -Would age be a factor, with more propensity shown by the elderly?\n",
    "    -Is there any relationship between employment status and the propensity to buy term deposits?\n",
    "    -Would the asset portfolio of a customer—that is, house, loan, or higher bank balance—influence the propensity to buy?\n",
    "    -Will demographics such as marital status and education influence the propensity to buy term deposits? If so, how are demographics correlated to a          propensity to buy?\n"
   ]
  },
  {
   "cell_type": "markdown",
   "metadata": {},
   "source": [
    "### Visualization for Exploratory Data Analysis"
   ]
  },
  {
   "cell_type": "raw",
   "metadata": {},
   "source": [
    "Line graphs: Line graphs are one of the simplest forms of visualization. Line graphs are the preferred method for revealing trends in the data. These types of graphs are mostly used for continuous data.\n",
    "\n",
    "Histograms: Histograms are plots of the proportion of data along with some specified intervals. They are mostly used for visualizing the distribution of data. Histograms are very effective for identifying whether data distribution is symmetric and for identifying outliers in data.\n",
    "\n",
    "Density plots: Like histograms, density plots are also used for visualizing the distribution of data. However, density plots give a smoother representation of the distribution.\n",
    "\n",
    "Stacked bar charts: A stacked bar chart helps you to visualize the various categories of data, one on top of the other, in order to give you a sense of proportion of the categories; for instance, if you want to plot a bar chart showing the values, Yes and No, on a single bar. This can be done using the stacked bar chart, which cannot be done on the other charts."
   ]
  },
  {
   "cell_type": "markdown",
   "metadata": {},
   "source": [
    "### Stacked bar chart example\n",
    "Let's create some dummy data and generate a stacked bar chart to check the proportion of jobs in different sectors."
   ]
  },
  {
   "cell_type": "code",
   "execution_count": 2,
   "metadata": {},
   "outputs": [
    {
     "data": {
      "image/png": "[encoded data removed]",
      "text/plain": [
       "<Figure size 432x288 with 1 Axes>"
      ]
     },
     "metadata": {
      "needs_background": "light"
     },
     "output_type": "display_data"
    }
   ],
   "source": [
    "# import required libraries\n",
    "import matplotlib.pyplot as plt\n",
    "import numpy as np\n",
    "\n",
    "# create a simple list of categories\n",
    "jobList = ['admin', 'scientist', 'doctor', 'management']\n",
    "\n",
    "# Getting two categories ('yes', 'No') for each job\n",
    "jobYes = [20,60,70,40]\n",
    "jobNo = [80,40,30,60]\n",
    "\n",
    "# Get the length of x axis label and arranging it's indexes\n",
    "xlabels = len(jobList)\n",
    "ind = np.arange(xlabels)\n",
    "\n",
    "# Get width of each bar\n",
    "width = 0.35\n",
    "\n",
    "# Getting the plots\n",
    "p1 = plt.bar(ind, jobYes, width)\n",
    "p2 = plt.bar(ind, jobNo, width, bottom=jobYes)\n",
    "\n",
    "# Getting the labels for the plots\n",
    "plt.ylabel('Proportion of Jobs')\n",
    "plt.title('Job')\n",
    "\n",
    "# Defining the x label indexes and y label indexes\n",
    "plt.xticks(ind, jobList)\n",
    "plt.yticks(np.arange(0, 100, 10))\n",
    "\n",
    "# Defining the legends\n",
    "plt.legend((p1[0], p2[0]), ('Yes', 'No'))\n",
    "\n",
    "# To rotate the axis labels\n",
    "plt.xticks(rotation=90)\n",
    "plt.show()"
   ]
  },
  {
   "cell_type": "markdown",
   "metadata": {},
   "source": [
    "### Feature Engineering "
   ]
  },
  {
   "cell_type": "raw",
   "metadata": {},
   "source": [
    "There are two broad types of feature engineering:\n",
    "\n",
    "\n",
    "    - Here, we transform raw variables based on intuitions from a business perspective. These intuitions are what we build during the exploratory analysis.\n",
    "    - The transformation of raw variables is done from a statistical and data normalization perspective.\n"
   ]
  },
  {
   "cell_type": "markdown",
   "metadata": {},
   "source": [
    "### Data types and a descriptive summary\n",
    "The purpose of a descriptive summary is to get a quick feel of the data with respect to the distribution and some basic statistics such as mean and standard deviation. Getting a perspective on the summary statistics is critical for thinking about what kind of transformations are required for each variable."
   ]
  },
  {
   "cell_type": "markdown",
   "metadata": {},
   "source": [
    "### Standard Scaler & Normalizer\n",
    "Standard scaler standardizes data to a mean of 0 and standard deviation of 1. The mean is the average of the data and the standard deviation is a measure of the spread of data. By standardizing to the same mean and standard deviation, comparison across different distributions of data is enabled.\n",
    "\n",
    "The normalizer function normalizes the length of data. This means that each value in a row is divided by the normalization of the row vector to normalize the row. The normalizer function is applied on the rows while standard scaler is applied columnwise."
   ]
  },
  {
   "cell_type": "markdown",
   "metadata": {},
   "source": [
    "### Building a Binary Classification Model Using the Logistic Regression Function\n",
    "\n",
    "A model is an approximation of the data generation process. During machine learning, we are trying to get as close to the real model that has generated the data we are analyzing.\n",
    "\n",
    "Machine learning models that do not make strong assumptions on the function are called non-parametric models.\n",
    "Some examples of parametric models include:\n",
    "\n",
    "    Linear and logistic regression\n",
    "    Naïve Bayes\n",
    "    Linear support vector machines\n",
    "    Perceptron\n",
    "Non-parametric models generally require a lot of training data to estimate the underlying function. Some examples of non-parametric models include the following:\n",
    "\n",
    "    Decision trees\n",
    "    K –nearest neighbors\n",
    "    Neural networks\n",
    "    Support vector machines with Gaussian kernels\n"
   ]
  },
  {
   "cell_type": "markdown",
   "metadata": {},
   "source": [
    "### Metrics for Evaluating Model Performance\n",
    "\n",
    "#### Confusion Matrix\n",
    "\n",
    "As you will have learned, we evaluate a model based on its performance on a test set. A test set will have its labels, which we call the ground truth, and, using the model, we also generate predictions for the test set. The evaluation of model performance is all about comparison of the ground truth and the predictions\n",
    "\n"
   ]
  },
  {
   "cell_type": "markdown",
   "metadata": {},
   "source": [
    "### Accuracy"
   ]
  },
  {
   "cell_type": "raw",
   "metadata": {},
   "source": [
    "Accuracy =     TP + TN \n",
    "          ------------------\n",
    "           TP + FN + TN + FN\n",
    "           \n",
    "Accuracy is the proportion of correct predictions out of all of the predictions."
   ]
  },
  {
   "cell_type": "markdown",
   "metadata": {},
   "source": [
    "### Classification Report"
   ]
  },
  {
   "cell_type": "raw",
   "metadata": {},
   "source": [
    "A classification report outputs three key metrics: precision, recall, and the F1 score.\n",
    "\n",
    "Precision is the ratio of true positives to the sum of true positives and false positives:\n",
    "     tp\n",
    "  ---------\n",
    "  (tp + fp)\n",
    "  \n",
    "Precision is the indicator that tells you, out of all of the positives that were predicted, how many were true positives.\n",
    "\n",
    "Recall is the ratio of true positives to the sum of true positives and false negatives:\n",
    "     tp\n",
    "  ---------\n",
    "  (tp + fn)\n",
    "  \n",
    "Recall manifests the ability of the model to identify all true positives.\n",
    "\n",
    "The F1 score is a weighted score of both precision and recall. An F1 score of 1 indicates the best performance and 0 indicates the worst performance."
   ]
  },
  {
   "cell_type": "markdown",
   "metadata": {},
   "source": [
    "### Class imbalance:\n",
    "Class imbalance implies use cases where one class outnumbers the other class(es) in the dataset. In the dataset that we used for training, out of the total 31,647 examples, 27,953 or 88% of them belonged to the no class. When there are class imbalances, there is a high likelihood that the classifier overfits to the majority class. This is what we have seen in our example. This is also the reason why we shouldn't draw our conclusions on the performance of our classifier by only looking at the accuracy values."
   ]
  },
  {
   "cell_type": "code",
   "execution_count": null,
   "metadata": {},
   "outputs": [],
   "source": []
  }
 ],
 "metadata": {
  "kernelspec": {
   "display_name": "Python 3",
   "language": "python",
   "name": "python3"
  },
  "language_info": {
   "codemirror_mode": {
    "name": "ipython",
    "version": 3
   },
   "file_extension": ".py",
   "mimetype": "text/x-python",
   "name": "python",
   "nbconvert_exporter": "python",
   "pygments_lexer": "ipython3",
   "version": "3.8.5"
  }
 },
 "nbformat": 4,
 "nbformat_minor": 4
}

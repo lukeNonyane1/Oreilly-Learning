{
 "cells": [
  {
   "cell_type": "markdown",
   "metadata": {},
   "source": [
    "## Is the Mushroom Poisonous?\n",
    "Imagine you are a data scientist working for the biology department at your local university. Your colleague who is a mycologist (a biologist who specializes in fungi) has requested that you help her develop a machine learning model capable of discerning whether a particular mushroom species is poisonous or not given attributes relating to its appearance.\n",
    "\n",
    "The objective of this activity is to employ the grid and randomized search strategies to find an optimal model for this purpose."
   ]
  },
  {
   "cell_type": "code",
   "execution_count": 1,
   "metadata": {},
   "outputs": [],
   "source": [
    "import pandas as pd\n",
    "mushrooms = pd.read_csv('https://raw.githubusercontent.com/PacktWorkshops'\\\n",
    "                        '/The-Data-Science-Workshop/master/Chapter08/Dataset'\\\n",
    "                        '/agaricus-lepiota.data', header=None)"
   ]
  },
  {
   "cell_type": "code",
   "execution_count": 3,
   "metadata": {},
   "outputs": [
    {
     "name": "stdout",
     "output_type": "stream",
     "text": [
      "<class 'pandas.core.frame.DataFrame'>\n",
      "RangeIndex: 8124 entries, 0 to 8123\n",
      "Data columns (total 23 columns):\n",
      " #   Column  Non-Null Count  Dtype \n",
      "---  ------  --------------  ----- \n",
      " 0   0       8124 non-null   object\n",
      " 1   1       8124 non-null   object\n",
      " 2   2       8124 non-null   object\n",
      " 3   3       8124 non-null   object\n",
      " 4   4       8124 non-null   object\n",
      " 5   5       8124 non-null   object\n",
      " 6   6       8124 non-null   object\n",
      " 7   7       8124 non-null   object\n",
      " 8   8       8124 non-null   object\n",
      " 9   9       8124 non-null   object\n",
      " 10  10      8124 non-null   object\n",
      " 11  11      8124 non-null   object\n",
      " 12  12      8124 non-null   object\n",
      " 13  13      8124 non-null   object\n",
      " 14  14      8124 non-null   object\n",
      " 15  15      8124 non-null   object\n",
      " 16  16      8124 non-null   object\n",
      " 17  17      8124 non-null   object\n",
      " 18  18      8124 non-null   object\n",
      " 19  19      8124 non-null   object\n",
      " 20  20      8124 non-null   object\n",
      " 21  21      8124 non-null   object\n",
      " 22  22      8124 non-null   object\n",
      "dtypes: object(23)\n",
      "memory usage: 1.4+ MB\n"
     ]
    }
   ],
   "source": [
    "mushrooms.info()"
   ]
  },
  {
   "cell_type": "code",
   "execution_count": 30,
   "metadata": {},
   "outputs": [
    {
     "name": "stdout",
     "output_type": "stream",
     "text": [
      "(8124,)\n",
      "(8124, 22)\n"
     ]
    }
   ],
   "source": [
    "y_raw = mushrooms.iloc[:,0] # first column\n",
    "X_raw = mushrooms.iloc[:,1:]\n",
    "print(y.shape)\n",
    "print(X.shape)"
   ]
  },
  {
   "cell_type": "code",
   "execution_count": 31,
   "metadata": {},
   "outputs": [],
   "source": [
    "# recode y so that poisonous mushrooms are represented by 1 and edible mushrooms as 0\n",
    "y = (y_raw == 'p') * 1"
   ]
  },
  {
   "cell_type": "code",
   "execution_count": 32,
   "metadata": {},
   "outputs": [
    {
     "data": {
      "text/plain": [
       "0       1\n",
       "1       0\n",
       "2       0\n",
       "3       1\n",
       "4       0\n",
       "       ..\n",
       "8119    0\n",
       "8120    0\n",
       "8121    0\n",
       "8122    1\n",
       "8123    0\n",
       "Name: 0, Length: 8124, dtype: int64"
      ]
     },
     "execution_count": 32,
     "metadata": {},
     "output_type": "execute_result"
    }
   ],
   "source": [
    "y"
   ]
  },
  {
   "cell_type": "code",
   "execution_count": 33,
   "metadata": {},
   "outputs": [],
   "source": [
    "# tranform feature set into numpy array with binary representation; one-hot encoding\n",
    "from sklearn.preprocessing import OneHotEncoder\n",
    "encoder = OneHotEncoder()\n",
    "encoder.fit(X_raw)\n",
    "X = encoder.transform(X_raw).toarray()"
   ]
  },
  {
   "cell_type": "code",
   "execution_count": 36,
   "metadata": {},
   "outputs": [],
   "source": [
    "max_features= X.shape[1]"
   ]
  },
  {
   "cell_type": "markdown",
   "metadata": {},
   "source": [
    "### Random Forest Classifier with Randomized Search"
   ]
  },
  {
   "cell_type": "code",
   "execution_count": 54,
   "metadata": {},
   "outputs": [
    {
     "data": {
      "text/html": [
       "<div>\n",
       "<style scoped>\n",
       "    .dataframe tbody tr th:only-of-type {\n",
       "        vertical-align: middle;\n",
       "    }\n",
       "\n",
       "    .dataframe tbody tr th {\n",
       "        vertical-align: top;\n",
       "    }\n",
       "\n",
       "    .dataframe thead th {\n",
       "        text-align: right;\n",
       "    }\n",
       "</style>\n",
       "<table border=\"1\" class=\"dataframe\">\n",
       "  <thead>\n",
       "    <tr style=\"text-align: right;\">\n",
       "      <th></th>\n",
       "      <th>mean_fit_time</th>\n",
       "      <th>std_fit_time</th>\n",
       "      <th>mean_score_time</th>\n",
       "      <th>std_score_time</th>\n",
       "      <th>param_criterion</th>\n",
       "      <th>param_max_features</th>\n",
       "      <th>params</th>\n",
       "      <th>split0_test_score</th>\n",
       "      <th>split1_test_score</th>\n",
       "      <th>split2_test_score</th>\n",
       "      <th>split3_test_score</th>\n",
       "      <th>split4_test_score</th>\n",
       "      <th>mean_test_score</th>\n",
       "      <th>std_test_score</th>\n",
       "      <th>rank_test_score</th>\n",
       "    </tr>\n",
       "  </thead>\n",
       "  <tbody>\n",
       "    <tr>\n",
       "      <th>6</th>\n",
       "      <td>0.941823</td>\n",
       "      <td>0.109003</td>\n",
       "      <td>0.014981</td>\n",
       "      <td>0.001443</td>\n",
       "      <td>gini</td>\n",
       "      <td>99</td>\n",
       "      <td>{'criterion': 'gini', 'max_features': 99}</td>\n",
       "      <td>1.000000</td>\n",
       "      <td>1.0</td>\n",
       "      <td>0.996308</td>\n",
       "      <td>1.0</td>\n",
       "      <td>0.745074</td>\n",
       "      <td>0.948276</td>\n",
       "      <td>0.101611</td>\n",
       "      <td>1</td>\n",
       "    </tr>\n",
       "    <tr>\n",
       "      <th>25</th>\n",
       "      <td>1.001626</td>\n",
       "      <td>0.120723</td>\n",
       "      <td>0.013692</td>\n",
       "      <td>0.001332</td>\n",
       "      <td>gini</td>\n",
       "      <td>106</td>\n",
       "      <td>{'criterion': 'gini', 'max_features': 106}</td>\n",
       "      <td>1.000000</td>\n",
       "      <td>1.0</td>\n",
       "      <td>0.996308</td>\n",
       "      <td>1.0</td>\n",
       "      <td>0.745074</td>\n",
       "      <td>0.948276</td>\n",
       "      <td>0.101611</td>\n",
       "      <td>1</td>\n",
       "    </tr>\n",
       "    <tr>\n",
       "      <th>29</th>\n",
       "      <td>1.046782</td>\n",
       "      <td>0.143364</td>\n",
       "      <td>0.014730</td>\n",
       "      <td>0.001486</td>\n",
       "      <td>gini</td>\n",
       "      <td>111</td>\n",
       "      <td>{'criterion': 'gini', 'max_features': 111}</td>\n",
       "      <td>1.000000</td>\n",
       "      <td>1.0</td>\n",
       "      <td>0.995692</td>\n",
       "      <td>1.0</td>\n",
       "      <td>0.739532</td>\n",
       "      <td>0.947045</td>\n",
       "      <td>0.103770</td>\n",
       "      <td>3</td>\n",
       "    </tr>\n",
       "    <tr>\n",
       "      <th>41</th>\n",
       "      <td>1.003578</td>\n",
       "      <td>0.121159</td>\n",
       "      <td>0.013658</td>\n",
       "      <td>0.001095</td>\n",
       "      <td>gini</td>\n",
       "      <td>105</td>\n",
       "      <td>{'criterion': 'gini', 'max_features': 105}</td>\n",
       "      <td>1.000000</td>\n",
       "      <td>1.0</td>\n",
       "      <td>0.996308</td>\n",
       "      <td>1.0</td>\n",
       "      <td>0.737685</td>\n",
       "      <td>0.946798</td>\n",
       "      <td>0.104567</td>\n",
       "      <td>4</td>\n",
       "    </tr>\n",
       "    <tr>\n",
       "      <th>10</th>\n",
       "      <td>1.019989</td>\n",
       "      <td>0.135258</td>\n",
       "      <td>0.013787</td>\n",
       "      <td>0.000856</td>\n",
       "      <td>gini</td>\n",
       "      <td>108</td>\n",
       "      <td>{'criterion': 'gini', 'max_features': 108}</td>\n",
       "      <td>1.000000</td>\n",
       "      <td>1.0</td>\n",
       "      <td>0.996308</td>\n",
       "      <td>1.0</td>\n",
       "      <td>0.737685</td>\n",
       "      <td>0.946798</td>\n",
       "      <td>0.104567</td>\n",
       "      <td>4</td>\n",
       "    </tr>\n",
       "    <tr>\n",
       "      <th>18</th>\n",
       "      <td>0.222884</td>\n",
       "      <td>0.005607</td>\n",
       "      <td>0.016287</td>\n",
       "      <td>0.001026</td>\n",
       "      <td>gini</td>\n",
       "      <td>5</td>\n",
       "      <td>{'criterion': 'gini', 'max_features': 5}</td>\n",
       "      <td>0.842462</td>\n",
       "      <td>1.0</td>\n",
       "      <td>1.000000</td>\n",
       "      <td>1.0</td>\n",
       "      <td>0.862685</td>\n",
       "      <td>0.941029</td>\n",
       "      <td>0.072507</td>\n",
       "      <td>6</td>\n",
       "    </tr>\n",
       "    <tr>\n",
       "      <th>15</th>\n",
       "      <td>0.226488</td>\n",
       "      <td>0.004068</td>\n",
       "      <td>0.015621</td>\n",
       "      <td>0.000306</td>\n",
       "      <td>gini</td>\n",
       "      <td>5</td>\n",
       "      <td>{'criterion': 'gini', 'max_features': 5}</td>\n",
       "      <td>0.842462</td>\n",
       "      <td>1.0</td>\n",
       "      <td>1.000000</td>\n",
       "      <td>1.0</td>\n",
       "      <td>0.862685</td>\n",
       "      <td>0.941029</td>\n",
       "      <td>0.072507</td>\n",
       "      <td>6</td>\n",
       "    </tr>\n",
       "    <tr>\n",
       "      <th>46</th>\n",
       "      <td>1.026831</td>\n",
       "      <td>0.143415</td>\n",
       "      <td>0.013759</td>\n",
       "      <td>0.000370</td>\n",
       "      <td>gini</td>\n",
       "      <td>107</td>\n",
       "      <td>{'criterion': 'gini', 'max_features': 107}</td>\n",
       "      <td>1.000000</td>\n",
       "      <td>1.0</td>\n",
       "      <td>0.996308</td>\n",
       "      <td>1.0</td>\n",
       "      <td>0.708128</td>\n",
       "      <td>0.940887</td>\n",
       "      <td>0.116388</td>\n",
       "      <td>8</td>\n",
       "    </tr>\n",
       "    <tr>\n",
       "      <th>49</th>\n",
       "      <td>0.260122</td>\n",
       "      <td>0.008553</td>\n",
       "      <td>0.014541</td>\n",
       "      <td>0.000464</td>\n",
       "      <td>entropy</td>\n",
       "      <td>11</td>\n",
       "      <td>{'criterion': 'entropy', 'max_features': 11}</td>\n",
       "      <td>0.842462</td>\n",
       "      <td>1.0</td>\n",
       "      <td>1.000000</td>\n",
       "      <td>1.0</td>\n",
       "      <td>0.860837</td>\n",
       "      <td>0.940660</td>\n",
       "      <td>0.072909</td>\n",
       "      <td>9</td>\n",
       "    </tr>\n",
       "    <tr>\n",
       "      <th>39</th>\n",
       "      <td>0.314047</td>\n",
       "      <td>0.013898</td>\n",
       "      <td>0.014008</td>\n",
       "      <td>0.000376</td>\n",
       "      <td>gini</td>\n",
       "      <td>18</td>\n",
       "      <td>{'criterion': 'gini', 'max_features': 18}</td>\n",
       "      <td>0.842462</td>\n",
       "      <td>1.0</td>\n",
       "      <td>1.000000</td>\n",
       "      <td>1.0</td>\n",
       "      <td>0.841749</td>\n",
       "      <td>0.936842</td>\n",
       "      <td>0.077353</td>\n",
       "      <td>10</td>\n",
       "    </tr>\n",
       "  </tbody>\n",
       "</table>\n",
       "</div>"
      ],
      "text/plain": [
       "    mean_fit_time  std_fit_time  mean_score_time  std_score_time  \\\n",
       "6        0.941823      0.109003         0.014981        0.001443   \n",
       "25       1.001626      0.120723         0.013692        0.001332   \n",
       "29       1.046782      0.143364         0.014730        0.001486   \n",
       "41       1.003578      0.121159         0.013658        0.001095   \n",
       "10       1.019989      0.135258         0.013787        0.000856   \n",
       "18       0.222884      0.005607         0.016287        0.001026   \n",
       "15       0.226488      0.004068         0.015621        0.000306   \n",
       "46       1.026831      0.143415         0.013759        0.000370   \n",
       "49       0.260122      0.008553         0.014541        0.000464   \n",
       "39       0.314047      0.013898         0.014008        0.000376   \n",
       "\n",
       "   param_criterion param_max_features  \\\n",
       "6             gini                 99   \n",
       "25            gini                106   \n",
       "29            gini                111   \n",
       "41            gini                105   \n",
       "10            gini                108   \n",
       "18            gini                  5   \n",
       "15            gini                  5   \n",
       "46            gini                107   \n",
       "49         entropy                 11   \n",
       "39            gini                 18   \n",
       "\n",
       "                                          params  split0_test_score  \\\n",
       "6      {'criterion': 'gini', 'max_features': 99}           1.000000   \n",
       "25    {'criterion': 'gini', 'max_features': 106}           1.000000   \n",
       "29    {'criterion': 'gini', 'max_features': 111}           1.000000   \n",
       "41    {'criterion': 'gini', 'max_features': 105}           1.000000   \n",
       "10    {'criterion': 'gini', 'max_features': 108}           1.000000   \n",
       "18      {'criterion': 'gini', 'max_features': 5}           0.842462   \n",
       "15      {'criterion': 'gini', 'max_features': 5}           0.842462   \n",
       "46    {'criterion': 'gini', 'max_features': 107}           1.000000   \n",
       "49  {'criterion': 'entropy', 'max_features': 11}           0.842462   \n",
       "39     {'criterion': 'gini', 'max_features': 18}           0.842462   \n",
       "\n",
       "    split1_test_score  split2_test_score  split3_test_score  \\\n",
       "6                 1.0           0.996308                1.0   \n",
       "25                1.0           0.996308                1.0   \n",
       "29                1.0           0.995692                1.0   \n",
       "41                1.0           0.996308                1.0   \n",
       "10                1.0           0.996308                1.0   \n",
       "18                1.0           1.000000                1.0   \n",
       "15                1.0           1.000000                1.0   \n",
       "46                1.0           0.996308                1.0   \n",
       "49                1.0           1.000000                1.0   \n",
       "39                1.0           1.000000                1.0   \n",
       "\n",
       "    split4_test_score  mean_test_score  std_test_score  rank_test_score  \n",
       "6            0.745074         0.948276        0.101611                1  \n",
       "25           0.745074         0.948276        0.101611                1  \n",
       "29           0.739532         0.947045        0.103770                3  \n",
       "41           0.737685         0.946798        0.104567                4  \n",
       "10           0.737685         0.946798        0.104567                4  \n",
       "18           0.862685         0.941029        0.072507                6  \n",
       "15           0.862685         0.941029        0.072507                6  \n",
       "46           0.708128         0.940887        0.116388                8  \n",
       "49           0.860837         0.940660        0.072909                9  \n",
       "39           0.841749         0.936842        0.077353               10  "
      ]
     },
     "execution_count": 54,
     "metadata": {},
     "output_type": "execute_result"
    }
   ],
   "source": [
    "# # Grid Search\n",
    "from sklearn.ensemble import RandomForestClassifier\n",
    "rfc = RandomForestClassifier(n_estimators=100, random_state=100)\n",
    "grid = {'criterion': ['gini', 'entropy'],\n",
    "             'max_features': [2, 4, 6, 8, 10, 12, 14]}\n",
    "\n",
    "from sklearn import model_selection\n",
    "gscv = model_selection.GridSearchCV(estimator=rfc, param_grid=grid,\n",
    "                                      scoring='accuracy', cv=5)\n",
    "gscv.fit(X, y)\n",
    "results = pd.DataFrame(gscv.cv_results_)\n",
    "results.sort_values('rank_test_score', ascending=True).head(10)\n",
    "\n",
    "# Random Search\n",
    "from scipy import stats\n",
    "max_features = X.shape[1]\n",
    "param_dist = {'criterion': ['gini', 'entropy'],\n",
    "             'max_features': stats.randint(low=1, high=max_features)}\n",
    "\n",
    "rscv = model_selection.RandomizedSearchCV(estimator=rfc,\n",
    "                                         param_distributions=param_dist,\n",
    "                                         n_iter=50, cv=5, scoring='accuracy',\n",
    "                                         random_state=100)\n",
    "rscv.fit(X, y)\n",
    "results = pd.DataFrame(rscv.cv_results_)\n",
    "results.sort_values('rank_test_score', ascending=True).head(10)"
   ]
  },
  {
   "cell_type": "code",
   "execution_count": 57,
   "metadata": {},
   "outputs": [
    {
     "data": {
      "text/plain": [
       "<AxesSubplot:ylabel='params'>"
      ]
     },
     "execution_count": 57,
     "metadata": {},
     "output_type": "execute_result"
    },
    {
     "data": {
      "image/png": "[encoded data removed]",
      "text/plain": [
       "<Figure size 432x288 with 1 Axes>"
      ]
     },
     "metadata": {
      "needs_background": "light"
     },
     "output_type": "display_data"
    }
   ],
   "source": [
    "results.loc[:,'params'] = results.loc[:,'params'].astype(str)\n",
    "(results.sort_values('rank_test_score', ascending=False)\n",
    "        .loc[:,['params', 'mean_test_score']]\n",
    "        .drop_duplicates().head(10)\n",
    "        .plot.barh(x='params', xlim=(0.8)))"
   ]
  },
  {
   "cell_type": "code",
   "execution_count": null,
   "metadata": {},
   "outputs": [],
   "source": []
  },
  {
   "cell_type": "code",
   "execution_count": null,
   "metadata": {},
   "outputs": [],
   "source": []
  },
  {
   "cell_type": "code",
   "execution_count": 38,
   "metadata": {},
   "outputs": [],
   "source": [
    "# setting up the random search sampling 50 times and conducting 5-fold cross-validation\n",
    "from sklearn import model_selection\n",
    "rscv = model_selection.RandomizedSearchCV(estimator=rfc,\n",
    "                                         param_distributions=param_dist,\n",
    "                                         n_iter=50, cv=5, scoring='accuracy',\n",
    "                                         random_state=100)"
   ]
  },
  {
   "cell_type": "code",
   "execution_count": 39,
   "metadata": {},
   "outputs": [
    {
     "data": {
      "text/plain": [
       "RandomizedSearchCV(cv=5, estimator=RandomForestClassifier(random_state=100),\n",
       "                   n_iter=50,\n",
       "                   param_distributions={'criterion': ['gini', 'entropy'],\n",
       "                                        'max_features': <scipy.stats._distn_infrastructure.rv_frozen object at 0x7faf09b63430>},\n",
       "                   random_state=100, scoring='accuracy')"
      ]
     },
     "execution_count": 39,
     "metadata": {},
     "output_type": "execute_result"
    }
   ],
   "source": [
    "# start the process\n",
    "rscv.fit(X, y)"
   ]
  },
  {
   "cell_type": "code",
   "execution_count": 45,
   "metadata": {},
   "outputs": [
    {
     "data": {
      "text/html": [
       "<div>\n",
       "<style scoped>\n",
       "    .dataframe tbody tr th:only-of-type {\n",
       "        vertical-align: middle;\n",
       "    }\n",
       "\n",
       "    .dataframe tbody tr th {\n",
       "        vertical-align: top;\n",
       "    }\n",
       "\n",
       "    .dataframe thead th {\n",
       "        text-align: right;\n",
       "    }\n",
       "</style>\n",
       "<table border=\"1\" class=\"dataframe\">\n",
       "  <thead>\n",
       "    <tr style=\"text-align: right;\">\n",
       "      <th></th>\n",
       "      <th>params</th>\n",
       "      <th>mean_test_score</th>\n",
       "    </tr>\n",
       "  </thead>\n",
       "  <tbody>\n",
       "    <tr>\n",
       "      <th>25</th>\n",
       "      <td>{'criterion': 'gini', 'max_features': 106}</td>\n",
       "      <td>0.948276</td>\n",
       "    </tr>\n",
       "    <tr>\n",
       "      <th>6</th>\n",
       "      <td>{'criterion': 'gini', 'max_features': 99}</td>\n",
       "      <td>0.948276</td>\n",
       "    </tr>\n",
       "    <tr>\n",
       "      <th>29</th>\n",
       "      <td>{'criterion': 'gini', 'max_features': 111}</td>\n",
       "      <td>0.947045</td>\n",
       "    </tr>\n",
       "    <tr>\n",
       "      <th>10</th>\n",
       "      <td>{'criterion': 'gini', 'max_features': 108}</td>\n",
       "      <td>0.946798</td>\n",
       "    </tr>\n",
       "    <tr>\n",
       "      <th>41</th>\n",
       "      <td>{'criterion': 'gini', 'max_features': 105}</td>\n",
       "      <td>0.946798</td>\n",
       "    </tr>\n",
       "    <tr>\n",
       "      <th>15</th>\n",
       "      <td>{'criterion': 'gini', 'max_features': 5}</td>\n",
       "      <td>0.941029</td>\n",
       "    </tr>\n",
       "    <tr>\n",
       "      <th>46</th>\n",
       "      <td>{'criterion': 'gini', 'max_features': 107}</td>\n",
       "      <td>0.940887</td>\n",
       "    </tr>\n",
       "    <tr>\n",
       "      <th>49</th>\n",
       "      <td>{'criterion': 'entropy', 'max_features': 11}</td>\n",
       "      <td>0.940660</td>\n",
       "    </tr>\n",
       "    <tr>\n",
       "      <th>39</th>\n",
       "      <td>{'criterion': 'gini', 'max_features': 18}</td>\n",
       "      <td>0.936842</td>\n",
       "    </tr>\n",
       "    <tr>\n",
       "      <th>27</th>\n",
       "      <td>{'criterion': 'gini', 'max_features': 64}</td>\n",
       "      <td>0.935232</td>\n",
       "    </tr>\n",
       "  </tbody>\n",
       "</table>\n",
       "</div>"
      ],
      "text/plain": [
       "                                          params  mean_test_score\n",
       "25    {'criterion': 'gini', 'max_features': 106}         0.948276\n",
       "6      {'criterion': 'gini', 'max_features': 99}         0.948276\n",
       "29    {'criterion': 'gini', 'max_features': 111}         0.947045\n",
       "10    {'criterion': 'gini', 'max_features': 108}         0.946798\n",
       "41    {'criterion': 'gini', 'max_features': 105}         0.946798\n",
       "15      {'criterion': 'gini', 'max_features': 5}         0.941029\n",
       "46    {'criterion': 'gini', 'max_features': 107}         0.940887\n",
       "49  {'criterion': 'entropy', 'max_features': 11}         0.940660\n",
       "39     {'criterion': 'gini', 'max_features': 18}         0.936842\n",
       "27     {'criterion': 'gini', 'max_features': 64}         0.935232"
      ]
     },
     "execution_count": 45,
     "metadata": {},
     "output_type": "execute_result"
    }
   ],
   "source": [
    "# mean_test_score for top 10 models\n",
    "import pandas as pd\n",
    "# convert the dictionary of results to a pandas dataframe\n",
    "results = pd.DataFrame(rscv.cv_results_)\n",
    "\n",
    "# removing duplication\n",
    "distinct_results = results.loc[:,['params', 'mean_test_score']]\n",
    "\n",
    "# convert the params dictionaries to string data types\n",
    "distinct_results.loc[:,'params'] = distinct_results.loc[:,'params'].astype('str')\n",
    "\n",
    "# remove duplicates\n",
    "distinct_results.drop_duplicates(inplace=True)\n",
    "\n",
    "# look at top 10 best hyperparameterizations\n",
    "distinct_results.sort_values('mean_test_score', ascending=False).head(10)"
   ]
  },
  {
   "cell_type": "markdown",
   "metadata": {},
   "source": [
    "Plot the mean test score versus hyperparameterization for the top 10 models found using random search."
   ]
  },
  {
   "cell_type": "code",
   "execution_count": 50,
   "metadata": {},
   "outputs": [
    {
     "data": {
      "text/plain": [
       "<AxesSubplot:ylabel='params'>"
      ]
     },
     "execution_count": 50,
     "metadata": {},
     "output_type": "execute_result"
    },
    {
     "data": {
      "image/png": "[encoded data removed]",
      "text/plain": [
       "<Figure size 432x288 with 1 Axes>"
      ]
     },
     "metadata": {
      "needs_background": "light"
     },
     "output_type": "display_data"
    }
   ],
   "source": [
    "# visualize top performing models\n",
    "#distinct_results.sort_values('mean_test_score', ascending=False).head(10)\n",
    "distinct_results.sort_values('mean_test_score', ascending=False).head(10).plot.barh(x='params', xlim=(0.9))\n",
    "\n",
    "#distinct_results[distinct_results.mean_test_score > 0.93].sort_values(\n",
    "#'mean_test_score').plot.barh(x='params', xlim=(0.9))"
   ]
  },
  {
   "cell_type": "markdown",
   "metadata": {},
   "source": [
    "### Random Forest Classifier with Grid Search"
   ]
  },
  {
   "cell_type": "code",
   "execution_count": 40,
   "metadata": {},
   "outputs": [],
   "source": [
    "grid = {'criterion': ['gini', 'entropy'],\n",
    "             'max_features': [2, 4, 6, 8, 10, 12, 14]}"
   ]
  },
  {
   "cell_type": "code",
   "execution_count": 42,
   "metadata": {},
   "outputs": [],
   "source": [
    "# setting up grid search to score on accuracy and evaluate over 5-fold cross-validation\n",
    "from sklearn import model_selection\n",
    "gscv = model_selection.GridSearchCV(estimator=rfc, param_grid=param_dist,\n",
    "                                      scoring='accuracy', cv=5)"
   ]
  },
  {
   "cell_type": "code",
   "execution_count": 43,
   "metadata": {},
   "outputs": [
    {
     "data": {
      "text/plain": [
       "GridSearchCV(cv=5, estimator=RandomForestClassifier(random_state=100),\n",
       "             param_grid={'criterion': ['gini', 'entropy'],\n",
       "                         'max_features': [2, 4, 6, 8, 10, 12, 14]},\n",
       "             scoring='accuracy')"
      ]
     },
     "execution_count": 43,
     "metadata": {},
     "output_type": "execute_result"
    }
   ],
   "source": [
    "gscv.fit(X, y)"
   ]
  },
  {
   "cell_type": "code",
   "execution_count": null,
   "metadata": {},
   "outputs": [],
   "source": []
  }
 ],
 "metadata": {
  "kernelspec": {
   "display_name": "Python 3",
   "language": "python",
   "name": "python3"
  },
  "language_info": {
   "codemirror_mode": {
    "name": "ipython",
    "version": 3
   },
   "file_extension": ".py",
   "mimetype": "text/x-python",
   "name": "python",
   "nbconvert_exporter": "python",
   "pygments_lexer": "ipython3",
   "version": "3.8.5"
  }
 },
 "nbformat": 4,
 "nbformat_minor": 4
}

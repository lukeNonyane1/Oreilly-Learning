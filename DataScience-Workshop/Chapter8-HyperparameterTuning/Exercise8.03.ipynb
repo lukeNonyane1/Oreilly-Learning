{
 "cells": [
  {
   "cell_type": "markdown",
   "metadata": {},
   "source": [
    "## Random Search Hyperparameter Tuning for a Random Forest Classifier\n",
    "In this exercise, we will revisit the handwritten digit classification problem, this time using a random forest classifier with hyperparameters tuned using a random search strategy. The random forest is a popular method used for both single-class and multi-class classification problems. It learns by growing n simple tree models that each progressively split the dataset into areas that best separate the points of different classes.\n",
    "\n",
    "The final model produced can be thought of as the average of each of the n tree models. In this way, the random forest is an **ensemble** method. The parameters we will tune in this exercise are **criterion** and **max_features**. \n",
    "\n",
    "**criterion** refers to the way in which each split is evaluated from a class purity perspective (the purer the splits, the better) and **max_features** is the maximum number of features the random forest can use when finding the best splits."
   ]
  },
  {
   "cell_type": "code",
   "execution_count": 1,
   "metadata": {},
   "outputs": [],
   "source": [
    "from sklearn import datasets"
   ]
  },
  {
   "cell_type": "code",
   "execution_count": 2,
   "metadata": {},
   "outputs": [],
   "source": [
    "# load data\n",
    "digits = datasets.load_digits()\n",
    "\n",
    "# target\n",
    "y = digits.target\n",
    "\n",
    "# features\n",
    "X = digits.data"
   ]
  },
  {
   "cell_type": "code",
   "execution_count": 12,
   "metadata": {},
   "outputs": [],
   "source": [
    "# initialize random forest classifier with n_estimators=100; Final model will be the average of 100 simple tree models.\n",
    "from sklearn import ensemble\n",
    "rfc = ensemble.RandomForestClassifier(n_estimators=100, random_state=100)"
   ]
  },
  {
   "cell_type": "code",
   "execution_count": 14,
   "metadata": {},
   "outputs": [
    {
     "name": "stdout",
     "output_type": "stream",
     "text": [
      "64\n"
     ]
    }
   ],
   "source": [
    "# how many features in the dataset?\n",
    "n_features = X.shape[1]\n",
    "print(n_features)"
   ]
  },
  {
   "cell_type": "markdown",
   "metadata": {},
   "source": [
    "Set a discrete uniform distribution covering the range 1 to 64. Remember the probability mass function, P(X=x) = 1/n, for this distribution, so P(X=x) = 1/64 in our case. Because criterion has only two discrete options, this will also be sampled as a discrete uniform distribution with P(X=x) = ½:"
   ]
  },
  {
   "cell_type": "code",
   "execution_count": 15,
   "metadata": {},
   "outputs": [],
   "source": [
    "# Sample from distribution and max features as discrete uniform distributions\n",
    "from scipy import stats\n",
    "param_dist = {'criterion': ['gini', 'entropy'],\n",
    "             'max_features': stats.randint(low=1, high=n_features)}"
   ]
  },
  {
   "cell_type": "markdown",
   "metadata": {},
   "source": [
    "We now have everything we need to set up the randomized search process. As before, we will use accuracy as the metric of model evaluation."
   ]
  },
  {
   "cell_type": "code",
   "execution_count": 16,
   "metadata": {},
   "outputs": [],
   "source": [
    "# setting up the random search sampling 50 times and conducting 5-fold cross-validation\n",
    "from sklearn import model_selection\n",
    "rscv = model_selection.RandomizedSearchCV(estimator=rfc,\n",
    "                                         param_distributions=param_dist,\n",
    "                                         n_iter=50, cv=5, scoring='accuracy',\n",
    "                                         random_state=100)"
   ]
  },
  {
   "cell_type": "code",
   "execution_count": 17,
   "metadata": {},
   "outputs": [
    {
     "data": {
      "text/plain": [
       "RandomizedSearchCV(cv=5, estimator=RandomForestClassifier(random_state=100),\n",
       "                   n_iter=50,\n",
       "                   param_distributions={'criterion': ['gini', 'entropy'],\n",
       "                                        'max_features': <scipy.stats._distn_infrastructure.rv_frozen object at 0x7ff7f6005e80>},\n",
       "                   random_state=100, scoring='accuracy')"
      ]
     },
     "execution_count": 17,
     "metadata": {},
     "output_type": "execute_result"
    }
   ],
   "source": [
    "# start the process\n",
    "rscv.fit(X, y)"
   ]
  },
  {
   "cell_type": "markdown",
   "metadata": {},
   "source": [
    "Next, you need to examine the results. Create a pandas DataFrame from the results attribute, order by the rank_test_score, and look at the top five model hyperparameterizations. Note that because the random search draws samples of hyperparameterizations at random, it is possible to have duplication. We remove the duplicate entries from the DataFrame"
   ]
  },
  {
   "cell_type": "code",
   "execution_count": 19,
   "metadata": {},
   "outputs": [
    {
     "data": {
      "text/html": [
       "<div>\n",
       "<style scoped>\n",
       "    .dataframe tbody tr th:only-of-type {\n",
       "        vertical-align: middle;\n",
       "    }\n",
       "\n",
       "    .dataframe tbody tr th {\n",
       "        vertical-align: top;\n",
       "    }\n",
       "\n",
       "    .dataframe thead th {\n",
       "        text-align: right;\n",
       "    }\n",
       "</style>\n",
       "<table border=\"1\" class=\"dataframe\">\n",
       "  <thead>\n",
       "    <tr style=\"text-align: right;\">\n",
       "      <th></th>\n",
       "      <th>params</th>\n",
       "      <th>mean_test_score</th>\n",
       "    </tr>\n",
       "  </thead>\n",
       "  <tbody>\n",
       "    <tr>\n",
       "      <th>3</th>\n",
       "      <td>{'criterion': 'gini', 'max_features': 11}</td>\n",
       "      <td>0.940470</td>\n",
       "    </tr>\n",
       "    <tr>\n",
       "      <th>48</th>\n",
       "      <td>{'criterion': 'gini', 'max_features': 4}</td>\n",
       "      <td>0.939913</td>\n",
       "    </tr>\n",
       "    <tr>\n",
       "      <th>19</th>\n",
       "      <td>{'criterion': 'gini', 'max_features': 5}</td>\n",
       "      <td>0.937700</td>\n",
       "    </tr>\n",
       "    <tr>\n",
       "      <th>14</th>\n",
       "      <td>{'criterion': 'gini', 'max_features': 3}</td>\n",
       "      <td>0.937694</td>\n",
       "    </tr>\n",
       "    <tr>\n",
       "      <th>21</th>\n",
       "      <td>{'criterion': 'entropy', 'max_features': 8}</td>\n",
       "      <td>0.936582</td>\n",
       "    </tr>\n",
       "  </tbody>\n",
       "</table>\n",
       "</div>"
      ],
      "text/plain": [
       "                                         params  mean_test_score\n",
       "3     {'criterion': 'gini', 'max_features': 11}         0.940470\n",
       "48     {'criterion': 'gini', 'max_features': 4}         0.939913\n",
       "19     {'criterion': 'gini', 'max_features': 5}         0.937700\n",
       "14     {'criterion': 'gini', 'max_features': 3}         0.937694\n",
       "21  {'criterion': 'entropy', 'max_features': 8}         0.936582"
      ]
     },
     "execution_count": 19,
     "metadata": {},
     "output_type": "execute_result"
    }
   ],
   "source": [
    "import pandas as pd\n",
    "# convert the dictionary of results to a pandas dataframe\n",
    "results = pd.DataFrame(rscv.cv_results_)\n",
    "\n",
    "# removing duplication\n",
    "distinct_results = results.loc[:,['params', 'mean_test_score']]\n",
    "\n",
    "# convert the params dictionaries to string data types\n",
    "distinct_results.loc[:,'params'] = distinct_results.loc[:,'params'].astype('str')\n",
    "\n",
    "# remove duplicates\n",
    "distinct_results.drop_duplicates(inplace=True)\n",
    "\n",
    "# look at top 5 best hyperparameterizations\n",
    "distinct_results.sort_values('mean_test_score', ascending=False).head(5)"
   ]
  },
  {
   "cell_type": "markdown",
   "metadata": {},
   "source": [
    "The last step is to visualize the result. Including every parameterization will result in a cluttered plot, so we will filter on parameterizations that resulted in a mean test score > 0.93:"
   ]
  },
  {
   "cell_type": "code",
   "execution_count": 20,
   "metadata": {},
   "outputs": [
    {
     "data": {
      "text/plain": [
       "<AxesSubplot:ylabel='params'>"
      ]
     },
     "execution_count": 20,
     "metadata": {},
     "output_type": "execute_result"
    },
    {
     "data": {
      "image/png": "[encoded data removed]",
      "text/plain": [
       "<Figure size 432x288 with 1 Axes>"
      ]
     },
     "metadata": {
      "needs_background": "light"
     },
     "output_type": "display_data"
    }
   ],
   "source": [
    "# visualize top performing models\n",
    "distinct_results[distinct_results.mean_test_score > 0.93].sort_values(\n",
    "'mean_test_score').plot.barh(x='params', xlim=(0.9))"
   ]
  },
  {
   "cell_type": "code",
   "execution_count": null,
   "metadata": {},
   "outputs": [],
   "source": []
  }
 ],
 "metadata": {
  "kernelspec": {
   "display_name": "Python 3",
   "language": "python",
   "name": "python3"
  },
  "language_info": {
   "codemirror_mode": {
    "name": "ipython",
    "version": 3
   },
   "file_extension": ".py",
   "mimetype": "text/x-python",
   "name": "python",
   "nbconvert_exporter": "python",
   "pygments_lexer": "ipython3",
   "version": "3.8.5"
  }
 },
 "nbformat": 4,
 "nbformat_minor": 4
}

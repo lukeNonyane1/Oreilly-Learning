{
 "cells": [
  {
   "cell_type": "markdown",
   "metadata": {},
   "source": [
    "## Data-Driven Feature Engineering\n",
    "\n",
    "### Finding the Correlation in Data to Generate a Correlation Plot Using Bank Data"
   ]
  },
  {
   "cell_type": "code",
   "execution_count": 1,
   "metadata": {},
   "outputs": [],
   "source": [
    "#1\n",
    "import pandas as pd\n",
    "bankData = pd.read_csv('bank-data-set.csv', sep=\";\")\n",
    "#bankData.head()"
   ]
  },
  {
   "cell_type": "code",
   "execution_count": 2,
   "metadata": {},
   "outputs": [],
   "source": [
    "#2\n",
    "# Import the set_option library from pandas\n",
    "from pandas import set_option # used to define the display options for many operations."
   ]
  },
  {
   "cell_type": "code",
   "execution_count": 3,
   "metadata": {},
   "outputs": [],
   "source": [
    "#3\n",
    "# Create a numerical variable that would store numerical variables; Correlation plot can be extracted only with numerical data.\n",
    "bankNumeric = bankData[['age', 'balance', 'duration', 'campaign', 'pdays', 'previous']]"
   ]
  },
  {
   "cell_type": "code",
   "execution_count": 10,
   "metadata": {},
   "outputs": [
    {
     "data": {
      "text/html": [
       "<div>\n",
       "<style scoped>\n",
       "    .dataframe tbody tr th:only-of-type {\n",
       "        vertical-align: middle;\n",
       "    }\n",
       "\n",
       "    .dataframe tbody tr th {\n",
       "        vertical-align: top;\n",
       "    }\n",
       "\n",
       "    .dataframe thead th {\n",
       "        text-align: right;\n",
       "    }\n",
       "</style>\n",
       "<table border=\"1\" class=\"dataframe\">\n",
       "  <thead>\n",
       "    <tr style=\"text-align: right;\">\n",
       "      <th></th>\n",
       "      <th>age</th>\n",
       "      <th>balance</th>\n",
       "      <th>duration</th>\n",
       "      <th>campaign</th>\n",
       "      <th>pdays</th>\n",
       "      <th>previous</th>\n",
       "    </tr>\n",
       "  </thead>\n",
       "  <tbody>\n",
       "    <tr>\n",
       "      <th>age</th>\n",
       "      <td>1.000</td>\n",
       "      <td>0.098</td>\n",
       "      <td>-0.005</td>\n",
       "      <td>0.005</td>\n",
       "      <td>-0.024</td>\n",
       "      <td>0.001</td>\n",
       "    </tr>\n",
       "    <tr>\n",
       "      <th>balance</th>\n",
       "      <td>0.098</td>\n",
       "      <td>1.000</td>\n",
       "      <td>0.022</td>\n",
       "      <td>-0.015</td>\n",
       "      <td>0.003</td>\n",
       "      <td>0.017</td>\n",
       "    </tr>\n",
       "    <tr>\n",
       "      <th>duration</th>\n",
       "      <td>-0.005</td>\n",
       "      <td>0.022</td>\n",
       "      <td>1.000</td>\n",
       "      <td>-0.085</td>\n",
       "      <td>-0.002</td>\n",
       "      <td>0.001</td>\n",
       "    </tr>\n",
       "    <tr>\n",
       "      <th>campaign</th>\n",
       "      <td>0.005</td>\n",
       "      <td>-0.015</td>\n",
       "      <td>-0.085</td>\n",
       "      <td>1.000</td>\n",
       "      <td>-0.089</td>\n",
       "      <td>-0.033</td>\n",
       "    </tr>\n",
       "    <tr>\n",
       "      <th>pdays</th>\n",
       "      <td>-0.024</td>\n",
       "      <td>0.003</td>\n",
       "      <td>-0.002</td>\n",
       "      <td>-0.089</td>\n",
       "      <td>1.000</td>\n",
       "      <td>0.455</td>\n",
       "    </tr>\n",
       "    <tr>\n",
       "      <th>previous</th>\n",
       "      <td>0.001</td>\n",
       "      <td>0.017</td>\n",
       "      <td>0.001</td>\n",
       "      <td>-0.033</td>\n",
       "      <td>0.455</td>\n",
       "      <td>1.000</td>\n",
       "    </tr>\n",
       "  </tbody>\n",
       "</table>\n",
       "</div>"
      ],
      "text/plain": [
       "            age  balance  duration  campaign  pdays  previous\n",
       "age       1.000    0.098    -0.005     0.005 -0.024     0.001\n",
       "balance   0.098    1.000     0.022    -0.015  0.003     0.017\n",
       "duration -0.005    0.022     1.000    -0.085 -0.002     0.001\n",
       "campaign  0.005   -0.015    -0.085     1.000 -0.089    -0.033\n",
       "pdays    -0.024    0.003    -0.002    -0.089  1.000     0.455\n",
       "previous  0.001    0.017     0.001    -0.033  0.455     1.000"
      ]
     },
     "execution_count": 10,
     "metadata": {},
     "output_type": "execute_result"
    }
   ],
   "source": [
    "#4\n",
    "set_option('display.width',150)\n",
    "set_option('precision',3)\n",
    "bankCorr = bankNumeric.corr(method='pearson')\n",
    "bankCorr"
   ]
  },
  {
   "cell_type": "code",
   "execution_count": 16,
   "metadata": {},
   "outputs": [
    {
     "data": {
      "image/png": "[encoded data removed]",
      "text/plain": [
       "<Figure size 432x288 with 2 Axes>"
      ]
     },
     "metadata": {
      "needs_background": "light"
     },
     "output_type": "display_data"
    }
   ],
   "source": [
    "#5\n",
    "from matplotlib import pyplot\n",
    "corFig = pyplot.figure() #instantiate plotting class\n",
    "figAxis = corFig.add_subplot(111) #grid parameter\n",
    "corAx = figAxis.matshow(bankCorr,vmin=-1,vmax=1) #display the plot and normalize data\n",
    "corFig.colorbar(corAx)\n",
    "pyplot.show()"
   ]
  },
  {
   "cell_type": "markdown",
   "metadata": {},
   "source": [
    "### Skewness\n"
   ]
  },
  {
   "cell_type": "code",
   "execution_count": 17,
   "metadata": {},
   "outputs": [
    {
     "data": {
      "text/plain": [
       "age          0.685\n",
       "balance      8.360\n",
       "duration     3.144\n",
       "campaign     4.899\n",
       "pdays        2.616\n",
       "previous    41.846\n",
       "dtype: float64"
      ]
     },
     "execution_count": 17,
     "metadata": {},
     "output_type": "execute_result"
    }
   ],
   "source": [
    "# Skewness of numeric attributes\n",
    "bankNumeric.skew() "
   ]
  },
  {
   "cell_type": "markdown",
   "metadata": {},
   "source": [
    "#### Any value closer to 0 indicates a low degree of skewness.Variables that show higher values of right skew and left skew are candidates for further feature engineering by normalization."
   ]
  },
  {
   "cell_type": "markdown",
   "metadata": {},
   "source": [
    "#### Histograms"
   ]
  },
  {
   "cell_type": "code",
   "execution_count": 18,
   "metadata": {},
   "outputs": [
    {
     "data": {
      "image/png": "[encoded data removed]",
      "text/plain": [
       "<Figure size 432x288 with 2 Axes>"
      ]
     },
     "metadata": {
      "needs_background": "light"
     },
     "output_type": "display_data"
    }
   ],
   "source": [
    "from matplotlib import pyplot as plt\n",
    "fig, axs = plt.subplots(1,2) # number of subplots we want to include; (1,2) in subplots would mean one row and two columns.\n",
    "axs[0].hist(bankNumeric['age'])\n",
    "axs[0].set_title('Distribution of age')\n",
    "axs[1].hist(bankNumeric['balance'])\n",
    "axs[1].set_title('Distribution of balance')\n",
    "\n",
    "# Ensure plts do not overlap\n",
    "plt.tight_layout()"
   ]
  },
  {
   "cell_type": "markdown",
   "metadata": {},
   "source": [
    "#### Density Plots"
   ]
  },
  {
   "cell_type": "code",
   "execution_count": 19,
   "metadata": {},
   "outputs": [
    {
     "data": {
      "image/png": "[encoded data removed]",
      "text/plain": [
       "<Figure size 432x288 with 1 Axes>"
      ]
     },
     "metadata": {
      "needs_background": "light"
     },
     "output_type": "display_data"
    }
   ],
   "source": [
    "bankNumeric['age'].plot(kind='density', subplots=False, layout=(1,1))\n",
    "plt.title('Age Distribution')\n",
    "plt.xlabel('Age')\n",
    "plt.ylabel('Normalised age Distribution')\n",
    "pyplot.show()"
   ]
  },
  {
   "cell_type": "markdown",
   "metadata": {},
   "source": [
    "##### Density plots help in getting a smoother visualization of the distribution of the data."
   ]
  },
  {
   "cell_type": "markdown",
   "metadata": {},
   "source": [
    "#### Standardize data (0 mean, 1 stdev)"
   ]
  },
  {
   "cell_type": "code",
   "execution_count": 20,
   "metadata": {},
   "outputs": [
    {
     "name": "stdout",
     "output_type": "stream",
     "text": [
      "[[ 1.607  0.256  0.011 -0.569 -0.411 -0.252]\n",
      " [ 0.289 -0.438 -0.416 -0.569 -0.411 -0.252]\n",
      " [-0.747 -0.447 -0.707 -0.569 -0.411 -0.252]\n",
      " ...\n",
      " [ 2.925  1.43   3.374  0.722  1.436  1.05 ]\n",
      " [ 1.513 -0.228  0.97   0.399 -0.411 -0.252]\n",
      " [-0.371  0.528  0.399 -0.247  1.476  4.524]]\n"
     ]
    }
   ],
   "source": [
    "from sklearn.preprocessing import StandardScaler\n",
    "from numpy import set_printoptions\n",
    "scaling = StandardScaler().fit(bankNumeric)\n",
    "rescaledNum = scaling.transform(bankNumeric)\n",
    "set_printoptions(precision=3)\n",
    "print(rescaledNum)"
   ]
  },
  {
   "cell_type": "markdown",
   "metadata": {},
   "source": [
    "#### Normalizing Data (Length of 1)"
   ]
  },
  {
   "cell_type": "code",
   "execution_count": 21,
   "metadata": {},
   "outputs": [
    {
     "name": "stdout",
     "output_type": "stream",
     "text": [
      "[[ 2.686e-02  9.923e-01  1.209e-01  4.630e-04 -4.630e-04  0.000e+00]\n",
      " [ 2.751e-01  1.813e-01  9.441e-01  6.252e-03 -6.252e-03  0.000e+00]\n",
      " [ 3.981e-01  2.413e-02  9.169e-01  1.206e-02 -1.206e-02  0.000e+00]\n",
      " ...\n",
      " [ 1.235e-02  9.805e-01  1.934e-01  8.579e-04  3.157e-02  5.147e-04]\n",
      " [ 6.776e-02  7.941e-01  6.039e-01  4.755e-03 -1.189e-03  0.000e+00]\n",
      " [ 1.234e-02  9.907e-01  1.204e-01  6.669e-04  6.269e-02  3.668e-03]]\n"
     ]
    }
   ],
   "source": [
    "from sklearn.preprocessing import Normalizer\n",
    "normaliser = Normalizer().fit(bankNumeric)\n",
    "normalisedNum = normaliser.transform(bankNumeric)\n",
    "set_printoptions(precision=3)\n",
    "print(normalisedNum)"
   ]
  },
  {
   "cell_type": "markdown",
   "metadata": {},
   "source": [
    "If we observe the output, we can see that each value along a column is normalized so as to have a mean of 0 and standard deviation of 1. By transforming data in this way, we can easily compare across columns. \n",
    "\n",
    "For instance, in the age variable, we have data ranging from 18 up to 95. In contrast, for the balance data, we have data ranging from -8,019 to 102,127. We can see that both of these variables have different ranges of data that cannot be compared. The standard scaler function converts these data points at very different scales into a common scale so as to compare the distribution of data. Normalizer rescales each row so as to have a vector with a length of 1."
   ]
  },
  {
   "cell_type": "code",
   "execution_count": null,
   "metadata": {},
   "outputs": [],
   "source": []
  }
 ],
 "metadata": {
  "kernelspec": {
   "display_name": "Python 3",
   "language": "python",
   "name": "python3"
  },
  "language_info": {
   "codemirror_mode": {
    "name": "ipython",
    "version": 3
   },
   "file_extension": ".py",
   "mimetype": "text/x-python",
   "name": "python",
   "nbconvert_exporter": "python",
   "pygments_lexer": "ipython3",
   "version": "3.8.5"
  }
 },
 "nbformat": 4,
 "nbformat_minor": 4
}
